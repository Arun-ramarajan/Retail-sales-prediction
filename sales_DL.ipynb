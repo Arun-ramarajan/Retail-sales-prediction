{
  "cells": [
    {
      "cell_type": "code",
      "execution_count": 1,
      "metadata": {
        "id": "7YZV6SSl-gI7"
      },
      "outputs": [],
      "source": [
        "import pandas as pd\n",
        "import tensorflow as tf\n",
        "from tensorflow.keras.models import Sequential\n",
        "from tensorflow.keras.layers import Dense\n",
        "from sklearn.model_selection import train_test_split\n",
        "from sklearn.preprocessing import StandardScaler\n",
        "from tensorflow.keras.layers import LeakyReLU\n",
        "import matplotlib.pyplot as plt\n",
        "import numpy as np\n",
        "from tensorflow.keras.layers import Dropout\n",
        "from sklearn.preprocessing import MinMaxScaler\n",
        "from keras.models import load_model"
      ]
    },
    {
      "cell_type": "code",
      "execution_count": 2,
      "metadata": {
        "id": "qbSU6NPHDnSx"
      },
      "outputs": [],
      "source": [
        "sales=pd.read_csv('/content/final_project_no_skew.csv')\n"
      ]
    },
    {
      "cell_type": "code",
      "execution_count": 3,
      "metadata": {
        "id": "m2Q6o5djLMgB"
      },
      "outputs": [],
      "source": [
        "x=sales.drop('Weekly_Sales', axis=1)\n",
        "y=sales['Weekly_Sales']"
      ]
    },
    {
      "cell_type": "code",
      "execution_count": 4,
      "metadata": {
        "colab": {
          "base_uri": "https://localhost:8080/"
        },
        "id": "BVxrrQr5k9U4",
        "outputId": "f03d63a4-f3e3-4a6d-a8da-67b594392cf9"
      },
      "outputs": [
        {
          "output_type": "execute_result",
          "data": {
            "text/plain": [
              "(421570, 17)"
            ]
          },
          "metadata": {},
          "execution_count": 4
        }
      ],
      "source": [
        "x.shape"
      ]
    },
    {
      "cell_type": "code",
      "execution_count": 5,
      "metadata": {
        "colab": {
          "base_uri": "https://localhost:8080/",
          "height": 81
        },
        "id": "GAWf-b7lI-i9",
        "outputId": "43e76f0f-3cb2-44c3-9bb8-4b5fe6a57dec"
      },
      "outputs": [
        {
          "output_type": "execute_result",
          "data": {
            "text/plain": [
              "   Store  Dept  Type    Size  Temperature  Fuel_Price  MarkDown1   MarkDown2  \\\n",
              "0      1     1     1  151315        42.31       2.572  4866.2909  24157.0344   \n",
              "\n",
              "   MarkDown3  MarkDown4  MarkDown5         CPI  Unemployment  IsHoliday  Day  \\\n",
              "0   376.8238  1187.4454  4158.9236  211.096358         8.106          0    5   \n",
              "\n",
              "   Month  Year  \n",
              "0      2  2010  "
            ],
            "text/html": [
              "\n",
              "  <div id=\"df-31303c34-70e4-488e-9893-2a031711a097\" class=\"colab-df-container\">\n",
              "    <div>\n",
              "<style scoped>\n",
              "    .dataframe tbody tr th:only-of-type {\n",
              "        vertical-align: middle;\n",
              "    }\n",
              "\n",
              "    .dataframe tbody tr th {\n",
              "        vertical-align: top;\n",
              "    }\n",
              "\n",
              "    .dataframe thead th {\n",
              "        text-align: right;\n",
              "    }\n",
              "</style>\n",
              "<table border=\"1\" class=\"dataframe\">\n",
              "  <thead>\n",
              "    <tr style=\"text-align: right;\">\n",
              "      <th></th>\n",
              "      <th>Store</th>\n",
              "      <th>Dept</th>\n",
              "      <th>Type</th>\n",
              "      <th>Size</th>\n",
              "      <th>Temperature</th>\n",
              "      <th>Fuel_Price</th>\n",
              "      <th>MarkDown1</th>\n",
              "      <th>MarkDown2</th>\n",
              "      <th>MarkDown3</th>\n",
              "      <th>MarkDown4</th>\n",
              "      <th>MarkDown5</th>\n",
              "      <th>CPI</th>\n",
              "      <th>Unemployment</th>\n",
              "      <th>IsHoliday</th>\n",
              "      <th>Day</th>\n",
              "      <th>Month</th>\n",
              "      <th>Year</th>\n",
              "    </tr>\n",
              "  </thead>\n",
              "  <tbody>\n",
              "    <tr>\n",
              "      <th>0</th>\n",
              "      <td>1</td>\n",
              "      <td>1</td>\n",
              "      <td>1</td>\n",
              "      <td>151315</td>\n",
              "      <td>42.31</td>\n",
              "      <td>2.572</td>\n",
              "      <td>4866.2909</td>\n",
              "      <td>24157.0344</td>\n",
              "      <td>376.8238</td>\n",
              "      <td>1187.4454</td>\n",
              "      <td>4158.9236</td>\n",
              "      <td>211.096358</td>\n",
              "      <td>8.106</td>\n",
              "      <td>0</td>\n",
              "      <td>5</td>\n",
              "      <td>2</td>\n",
              "      <td>2010</td>\n",
              "    </tr>\n",
              "  </tbody>\n",
              "</table>\n",
              "</div>\n",
              "    <div class=\"colab-df-buttons\">\n",
              "\n",
              "  <div class=\"colab-df-container\">\n",
              "    <button class=\"colab-df-convert\" onclick=\"convertToInteractive('df-31303c34-70e4-488e-9893-2a031711a097')\"\n",
              "            title=\"Convert this dataframe to an interactive table.\"\n",
              "            style=\"display:none;\">\n",
              "\n",
              "  <svg xmlns=\"http://www.w3.org/2000/svg\" height=\"24px\" viewBox=\"0 -960 960 960\">\n",
              "    <path d=\"M120-120v-720h720v720H120Zm60-500h600v-160H180v160Zm220 220h160v-160H400v160Zm0 220h160v-160H400v160ZM180-400h160v-160H180v160Zm440 0h160v-160H620v160ZM180-180h160v-160H180v160Zm440 0h160v-160H620v160Z\"/>\n",
              "  </svg>\n",
              "    </button>\n",
              "\n",
              "  <style>\n",
              "    .colab-df-container {\n",
              "      display:flex;\n",
              "      gap: 12px;\n",
              "    }\n",
              "\n",
              "    .colab-df-convert {\n",
              "      background-color: #E8F0FE;\n",
              "      border: none;\n",
              "      border-radius: 50%;\n",
              "      cursor: pointer;\n",
              "      display: none;\n",
              "      fill: #1967D2;\n",
              "      height: 32px;\n",
              "      padding: 0 0 0 0;\n",
              "      width: 32px;\n",
              "    }\n",
              "\n",
              "    .colab-df-convert:hover {\n",
              "      background-color: #E2EBFA;\n",
              "      box-shadow: 0px 1px 2px rgba(60, 64, 67, 0.3), 0px 1px 3px 1px rgba(60, 64, 67, 0.15);\n",
              "      fill: #174EA6;\n",
              "    }\n",
              "\n",
              "    .colab-df-buttons div {\n",
              "      margin-bottom: 4px;\n",
              "    }\n",
              "\n",
              "    [theme=dark] .colab-df-convert {\n",
              "      background-color: #3B4455;\n",
              "      fill: #D2E3FC;\n",
              "    }\n",
              "\n",
              "    [theme=dark] .colab-df-convert:hover {\n",
              "      background-color: #434B5C;\n",
              "      box-shadow: 0px 1px 3px 1px rgba(0, 0, 0, 0.15);\n",
              "      filter: drop-shadow(0px 1px 2px rgba(0, 0, 0, 0.3));\n",
              "      fill: #FFFFFF;\n",
              "    }\n",
              "  </style>\n",
              "\n",
              "    <script>\n",
              "      const buttonEl =\n",
              "        document.querySelector('#df-31303c34-70e4-488e-9893-2a031711a097 button.colab-df-convert');\n",
              "      buttonEl.style.display =\n",
              "        google.colab.kernel.accessAllowed ? 'block' : 'none';\n",
              "\n",
              "      async function convertToInteractive(key) {\n",
              "        const element = document.querySelector('#df-31303c34-70e4-488e-9893-2a031711a097');\n",
              "        const dataTable =\n",
              "          await google.colab.kernel.invokeFunction('convertToInteractive',\n",
              "                                                    [key], {});\n",
              "        if (!dataTable) return;\n",
              "\n",
              "        const docLinkHtml = 'Like what you see? Visit the ' +\n",
              "          '<a target=\"_blank\" href=https://colab.research.google.com/notebooks/data_table.ipynb>data table notebook</a>'\n",
              "          + ' to learn more about interactive tables.';\n",
              "        element.innerHTML = '';\n",
              "        dataTable['output_type'] = 'display_data';\n",
              "        await google.colab.output.renderOutput(dataTable, element);\n",
              "        const docLink = document.createElement('div');\n",
              "        docLink.innerHTML = docLinkHtml;\n",
              "        element.appendChild(docLink);\n",
              "      }\n",
              "    </script>\n",
              "  </div>\n",
              "\n",
              "\n",
              "    </div>\n",
              "  </div>\n"
            ],
            "application/vnd.google.colaboratory.intrinsic+json": {
              "type": "dataframe",
              "variable_name": "x"
            }
          },
          "metadata": {},
          "execution_count": 5
        }
      ],
      "source": [
        "x.head(1)"
      ]
    },
    {
      "cell_type": "code",
      "execution_count": 6,
      "metadata": {
        "colab": {
          "base_uri": "https://localhost:8080/",
          "height": 115
        },
        "id": "ayLdhYBkopEK",
        "outputId": "c8b3724d-6684-415f-f57e-c271638c12f7"
      },
      "outputs": [
        {
          "output_type": "execute_result",
          "data": {
            "text/plain": [
              "0    24924.5\n",
              "Name: Weekly_Sales, dtype: float64"
            ],
            "text/html": [
              "<div>\n",
              "<style scoped>\n",
              "    .dataframe tbody tr th:only-of-type {\n",
              "        vertical-align: middle;\n",
              "    }\n",
              "\n",
              "    .dataframe tbody tr th {\n",
              "        vertical-align: top;\n",
              "    }\n",
              "\n",
              "    .dataframe thead th {\n",
              "        text-align: right;\n",
              "    }\n",
              "</style>\n",
              "<table border=\"1\" class=\"dataframe\">\n",
              "  <thead>\n",
              "    <tr style=\"text-align: right;\">\n",
              "      <th></th>\n",
              "      <th>Weekly_Sales</th>\n",
              "    </tr>\n",
              "  </thead>\n",
              "  <tbody>\n",
              "    <tr>\n",
              "      <th>0</th>\n",
              "      <td>24924.5</td>\n",
              "    </tr>\n",
              "  </tbody>\n",
              "</table>\n",
              "</div><br><label><b>dtype:</b> float64</label>"
            ]
          },
          "metadata": {},
          "execution_count": 6
        }
      ],
      "source": [
        "y.head(1)"
      ]
    },
    {
      "cell_type": "code",
      "execution_count": 7,
      "metadata": {
        "id": "gcRuohAsLktw"
      },
      "outputs": [],
      "source": [
        "x_train,x_test,y_train,y_test=train_test_split(x,y,test_size=0.2)"
      ]
    },
    {
      "cell_type": "code",
      "execution_count": 8,
      "metadata": {
        "colab": {
          "base_uri": "https://localhost:8080/"
        },
        "id": "Q0bHpOUzlAnq",
        "outputId": "dcacc622-300e-4967-a31b-6a54794b1487"
      },
      "outputs": [
        {
          "output_type": "execute_result",
          "data": {
            "text/plain": [
              "(337256, 17)"
            ]
          },
          "metadata": {},
          "execution_count": 8
        }
      ],
      "source": [
        "x_train.shape"
      ]
    },
    {
      "cell_type": "code",
      "execution_count": 9,
      "metadata": {
        "id": "P-UToUHNL22N"
      },
      "outputs": [],
      "source": [
        "scaler=StandardScaler().fit(x_train)\n",
        "x_train_ss=scaler.transform(x_train)\n",
        "x_test_ss=scaler.transform(x_test)"
      ]
    },
    {
      "cell_type": "code",
      "execution_count": null,
      "metadata": {
        "id": "7HXw2tVTz6Dt"
      },
      "outputs": [],
      "source": []
    },
    {
      "cell_type": "code",
      "execution_count": 10,
      "metadata": {
        "colab": {
          "base_uri": "https://localhost:8080/"
        },
        "id": "P3xcoXwGhxlv",
        "outputId": "09085387-507d-4589-f2b1-1e33d42f9eaa"
      },
      "outputs": [
        {
          "output_type": "execute_result",
          "data": {
            "text/plain": [
              "array([[ 0.53080221, -0.82741745,  0.61469205, ..., -0.07688401,\n",
              "        -0.13917751,  1.2950631 ],\n",
              "       [ 0.13994851, -0.36827861, -0.88494685, ..., -0.07688401,\n",
              "         0.1692689 ,  0.04005173],\n",
              "       [-0.95444183,  1.76343741,  0.61469205, ...,  1.17997605,\n",
              "         1.09460812,  1.2950631 ],\n",
              "       ...,\n",
              "       [-0.95444183, -0.46666551,  0.61469205, ..., -1.10522406,\n",
              "         0.1692689 ,  1.2950631 ],\n",
              "       [ 0.60897295, -1.41773881,  2.11433095, ...,  0.49441602,\n",
              "         0.1692689 ,  1.2950631 ],\n",
              "       [-0.87627109,  1.17311605, -0.88494685, ..., -0.07688401,\n",
              "        -0.75607032,  0.04005173]])"
            ]
          },
          "metadata": {},
          "execution_count": 10
        }
      ],
      "source": [
        "x_train_ss"
      ]
    },
    {
      "cell_type": "code",
      "execution_count": 11,
      "metadata": {
        "id": "1Hc3ioMtM-xb"
      },
      "outputs": [],
      "source": [
        "x_train_df=pd.DataFrame(x_train_ss,columns=x_train.columns)\n",
        "x_test_df=pd.DataFrame(x_test_ss,columns=x_test.columns)"
      ]
    },
    {
      "cell_type": "code",
      "execution_count": null,
      "metadata": {
        "colab": {
          "base_uri": "https://localhost:8080/"
        },
        "id": "r8MxbawrNQeP",
        "outputId": "5c2757e8-e909-4867-db9d-e702e6514bfb"
      },
      "outputs": [
        {
          "name": "stderr",
          "output_type": "stream",
          "text": [
            "/usr/local/lib/python3.10/dist-packages/keras/src/layers/activations/leaky_relu.py:41: UserWarning: Argument `alpha` is deprecated. Use `negative_slope` instead.\n",
            "  warnings.warn(\n",
            "/usr/local/lib/python3.10/dist-packages/keras/src/layers/core/dense.py:87: UserWarning: Do not pass an `input_shape`/`input_dim` argument to a layer. When using Sequential models, prefer using an `Input(shape)` object as the first layer in the model instead.\n",
            "  super().__init__(activity_regularizer=activity_regularizer, **kwargs)\n"
          ]
        }
      ],
      "source": [
        "model=Sequential()\n",
        "\n",
        "\n",
        "model.add(Dense(64,input_dim=(len(x_train_ss[0])),activation=LeakyReLU(alpha=0.01)))\n",
        "model.add(Dense(32,input_dim=(len(x_train_ss[0])),activation=LeakyReLU(alpha=0.01)))\n",
        "model.add(Dense(32,input_dim=(len(x_train_ss[0])),activation=LeakyReLU(alpha=0.01)))\n",
        "model.add(Dense(32,input_dim=(len(x_train_ss[0])),activation=LeakyReLU(alpha=0.01)))\n",
        "model.add(Dense(32,input_dim=(len(x_train_ss[0])),activation=LeakyReLU(alpha=0.01)))\n",
        "model.add(Dense(16,input_dim=(len(x_train_ss[0])),activation=LeakyReLU(alpha=0.01)))\n",
        "model.add(Dense(16,input_dim=(len(x_train_ss[0])),activation=LeakyReLU(alpha=0.01)))\n",
        "model.add(Dense(8,input_dim=(len(x_train_ss[0])),activation=LeakyReLU(alpha=0.01)))\n",
        "model.add(Dense(8,input_dim=(len(x_train_ss[0])),activation=LeakyReLU(alpha=0.01)))\n",
        "model.add(Dense(1)) #output layer"
      ]
    },
    {
      "cell_type": "code",
      "execution_count": null,
      "metadata": {
        "id": "9_SsYES4NiJC"
      },
      "outputs": [],
      "source": [
        "model.compile(optimizer=\"adam\",loss=\"mean_squared_error\",metrics=[tf.keras.metrics.MeanAbsoluteError(),tf.keras.metrics.MeanAbsolutePercentageError()])"
      ]
    },
    {
      "cell_type": "code",
      "execution_count": null,
      "metadata": {
        "colab": {
          "base_uri": "https://localhost:8080/"
        },
        "id": "sipAZY5sNod_",
        "outputId": "21353f73-7d1f-465d-ddd6-7f23cead667c"
      },
      "outputs": [
        {
          "name": "stdout",
          "output_type": "stream",
          "text": [
            "Epoch 1/50\n",
            "\u001b[1m8432/8432\u001b[0m \u001b[32m━━━━━━━━━━━━━━━━━━━━\u001b[0m\u001b[37m\u001b[0m \u001b[1m144s\u001b[0m 15ms/step - loss: 444501088.0000 - mean_absolute_error: 12811.0576 - mean_absolute_percentage_error: 1516520192.0000 - val_loss: 346654656.0000 - val_mean_absolute_error: 11853.2988 - val_mean_absolute_percentage_error: 1670827392.0000\n",
            "Epoch 2/50\n",
            "\u001b[1m8432/8432\u001b[0m \u001b[32m━━━━━━━━━━━━━━━━━━━━\u001b[0m\u001b[37m\u001b[0m \u001b[1m132s\u001b[0m 16ms/step - loss: 357946752.0000 - mean_absolute_error: 11336.9932 - mean_absolute_percentage_error: 1327801344.0000 - val_loss: 265727520.0000 - val_mean_absolute_error: 10461.1943 - val_mean_absolute_percentage_error: 1634514048.0000\n",
            "Epoch 3/50\n",
            "\u001b[1m8432/8432\u001b[0m \u001b[32m━━━━━━━━━━━━━━━━━━━━\u001b[0m\u001b[37m\u001b[0m \u001b[1m130s\u001b[0m 15ms/step - loss: 279563168.0000 - mean_absolute_error: 9730.4375 - mean_absolute_percentage_error: 1959312384.0000 - val_loss: 227120896.0000 - val_mean_absolute_error: 9256.0664 - val_mean_absolute_percentage_error: 1668388224.0000\n",
            "Epoch 4/50\n",
            "\u001b[1m8432/8432\u001b[0m \u001b[32m━━━━━━━━━━━━━━━━━━━━\u001b[0m\u001b[37m\u001b[0m \u001b[1m139s\u001b[0m 15ms/step - loss: 242807488.0000 - mean_absolute_error: 9098.4307 - mean_absolute_percentage_error: 1606591488.0000 - val_loss: 202732208.0000 - val_mean_absolute_error: 8579.1855 - val_mean_absolute_percentage_error: 1417140992.0000\n",
            "Epoch 5/50\n",
            "\u001b[1m8432/8432\u001b[0m \u001b[32m━━━━━━━━━━━━━━━━━━━━\u001b[0m\u001b[37m\u001b[0m \u001b[1m143s\u001b[0m 15ms/step - loss: 233725920.0000 - mean_absolute_error: 8876.9121 - mean_absolute_percentage_error: 2170456832.0000 - val_loss: 206491408.0000 - val_mean_absolute_error: 8612.3242 - val_mean_absolute_percentage_error: 1355141120.0000\n",
            "Epoch 6/50\n",
            "\u001b[1m8432/8432\u001b[0m \u001b[32m━━━━━━━━━━━━━━━━━━━━\u001b[0m\u001b[37m\u001b[0m \u001b[1m129s\u001b[0m 15ms/step - loss: 226177600.0000 - mean_absolute_error: 8561.0693 - mean_absolute_percentage_error: 1478616192.0000 - val_loss: 193354944.0000 - val_mean_absolute_error: 7870.5479 - val_mean_absolute_percentage_error: 1263592704.0000\n",
            "Epoch 7/50\n",
            "\u001b[1m8432/8432\u001b[0m \u001b[32m━━━━━━━━━━━━━━━━━━━━\u001b[0m\u001b[37m\u001b[0m \u001b[1m142s\u001b[0m 15ms/step - loss: 209069424.0000 - mean_absolute_error: 8306.5771 - mean_absolute_percentage_error: 931763072.0000 - val_loss: 203405792.0000 - val_mean_absolute_error: 7882.4878 - val_mean_absolute_percentage_error: 1213495040.0000\n",
            "Epoch 8/50\n",
            "\u001b[1m8432/8432\u001b[0m \u001b[32m━━━━━━━━━━━━━━━━━━━━\u001b[0m\u001b[37m\u001b[0m \u001b[1m142s\u001b[0m 15ms/step - loss: 213294224.0000 - mean_absolute_error: 8246.7959 - mean_absolute_percentage_error: 1021266048.0000 - val_loss: 186885968.0000 - val_mean_absolute_error: 8130.2271 - val_mean_absolute_percentage_error: 1898589824.0000\n",
            "Epoch 9/50\n",
            "\u001b[1m8432/8432\u001b[0m \u001b[32m━━━━━━━━━━━━━━━━━━━━\u001b[0m\u001b[37m\u001b[0m \u001b[1m142s\u001b[0m 15ms/step - loss: 200524768.0000 - mean_absolute_error: 8053.8955 - mean_absolute_percentage_error: 2066649984.0000 - val_loss: 193810592.0000 - val_mean_absolute_error: 7998.8511 - val_mean_absolute_percentage_error: 964750848.0000\n",
            "Epoch 10/50\n",
            "\u001b[1m8432/8432\u001b[0m \u001b[32m━━━━━━━━━━━━━━━━━━━━\u001b[0m\u001b[37m\u001b[0m \u001b[1m142s\u001b[0m 15ms/step - loss: 193348448.0000 - mean_absolute_error: 7904.5332 - mean_absolute_percentage_error: 1916953984.0000 - val_loss: 205469744.0000 - val_mean_absolute_error: 8389.0898 - val_mean_absolute_percentage_error: 1766767872.0000\n",
            "Epoch 11/50\n",
            "\u001b[1m8432/8432\u001b[0m \u001b[32m━━━━━━━━━━━━━━━━━━━━\u001b[0m\u001b[37m\u001b[0m \u001b[1m144s\u001b[0m 16ms/step - loss: 194921200.0000 - mean_absolute_error: 7831.3477 - mean_absolute_percentage_error: 2423878144.0000 - val_loss: 172423728.0000 - val_mean_absolute_error: 7527.1211 - val_mean_absolute_percentage_error: 1975091328.0000\n",
            "Epoch 12/50\n",
            "\u001b[1m8432/8432\u001b[0m \u001b[32m━━━━━━━━━━━━━━━━━━━━\u001b[0m\u001b[37m\u001b[0m \u001b[1m140s\u001b[0m 15ms/step - loss: 188906800.0000 - mean_absolute_error: 7643.8882 - mean_absolute_percentage_error: 2933286144.0000 - val_loss: 180702768.0000 - val_mean_absolute_error: 7670.5039 - val_mean_absolute_percentage_error: 1847147776.0000\n",
            "Epoch 13/50\n",
            "\u001b[1m8432/8432\u001b[0m \u001b[32m━━━━━━━━━━━━━━━━━━━━\u001b[0m\u001b[37m\u001b[0m \u001b[1m146s\u001b[0m 16ms/step - loss: 185595824.0000 - mean_absolute_error: 7528.3804 - mean_absolute_percentage_error: 1346386688.0000 - val_loss: 237217504.0000 - val_mean_absolute_error: 8244.4092 - val_mean_absolute_percentage_error: 1304053120.0000\n",
            "Epoch 14/50\n",
            "\u001b[1m8432/8432\u001b[0m \u001b[32m━━━━━━━━━━━━━━━━━━━━\u001b[0m\u001b[37m\u001b[0m \u001b[1m131s\u001b[0m 16ms/step - loss: 180764560.0000 - mean_absolute_error: 7440.3032 - mean_absolute_percentage_error: 1648540800.0000 - val_loss: 173115520.0000 - val_mean_absolute_error: 7177.8062 - val_mean_absolute_percentage_error: 963857920.0000\n",
            "Epoch 15/50\n",
            "\u001b[1m8432/8432\u001b[0m \u001b[32m━━━━━━━━━━━━━━━━━━━━\u001b[0m\u001b[37m\u001b[0m \u001b[1m142s\u001b[0m 16ms/step - loss: 170981392.0000 - mean_absolute_error: 7213.1631 - mean_absolute_percentage_error: 1012705408.0000 - val_loss: 183116928.0000 - val_mean_absolute_error: 7787.3867 - val_mean_absolute_percentage_error: 1485348608.0000\n",
            "Epoch 16/50\n",
            "\u001b[1m8432/8432\u001b[0m \u001b[32m━━━━━━━━━━━━━━━━━━━━\u001b[0m\u001b[37m\u001b[0m \u001b[1m131s\u001b[0m 16ms/step - loss: 180065200.0000 - mean_absolute_error: 7362.5742 - mean_absolute_percentage_error: 1800308096.0000 - val_loss: 166748368.0000 - val_mean_absolute_error: 7378.2090 - val_mean_absolute_percentage_error: 1583174016.0000\n",
            "Epoch 17/50\n",
            "\u001b[1m8432/8432\u001b[0m \u001b[32m━━━━━━━━━━━━━━━━━━━━\u001b[0m\u001b[37m\u001b[0m \u001b[1m143s\u001b[0m 16ms/step - loss: 183157984.0000 - mean_absolute_error: 7186.9819 - mean_absolute_percentage_error: 1716752128.0000 - val_loss: 194212224.0000 - val_mean_absolute_error: 8337.3564 - val_mean_absolute_percentage_error: 2238601728.0000\n",
            "Epoch 18/50\n",
            "\u001b[1m8432/8432\u001b[0m \u001b[32m━━━━━━━━━━━━━━━━━━━━\u001b[0m\u001b[37m\u001b[0m \u001b[1m140s\u001b[0m 15ms/step - loss: 171842528.0000 - mean_absolute_error: 7138.6675 - mean_absolute_percentage_error: 1314389504.0000 - val_loss: 145020640.0000 - val_mean_absolute_error: 6647.7090 - val_mean_absolute_percentage_error: 1129638144.0000\n",
            "Epoch 19/50\n",
            "\u001b[1m8432/8432\u001b[0m \u001b[32m━━━━━━━━━━━━━━━━━━━━\u001b[0m\u001b[37m\u001b[0m \u001b[1m130s\u001b[0m 15ms/step - loss: 171104048.0000 - mean_absolute_error: 6988.0674 - mean_absolute_percentage_error: 1014769664.0000 - val_loss: 150516704.0000 - val_mean_absolute_error: 6835.2744 - val_mean_absolute_percentage_error: 1038683008.0000\n",
            "Epoch 20/50\n",
            "\u001b[1m8432/8432\u001b[0m \u001b[32m━━━━━━━━━━━━━━━━━━━━\u001b[0m\u001b[37m\u001b[0m \u001b[1m145s\u001b[0m 16ms/step - loss: 166393024.0000 - mean_absolute_error: 6969.8628 - mean_absolute_percentage_error: 1286034944.0000 - val_loss: 133705920.0000 - val_mean_absolute_error: 6369.7617 - val_mean_absolute_percentage_error: 1149287168.0000\n",
            "Epoch 21/50\n",
            "\u001b[1m8432/8432\u001b[0m \u001b[32m━━━━━━━━━━━━━━━━━━━━\u001b[0m\u001b[37m\u001b[0m \u001b[1m143s\u001b[0m 16ms/step - loss: 162545664.0000 - mean_absolute_error: 6870.9917 - mean_absolute_percentage_error: 1142730496.0000 - val_loss: 158774384.0000 - val_mean_absolute_error: 6786.9639 - val_mean_absolute_percentage_error: 1146576512.0000\n",
            "Epoch 22/50\n",
            "\u001b[1m8432/8432\u001b[0m \u001b[32m━━━━━━━━━━━━━━━━━━━━\u001b[0m\u001b[37m\u001b[0m \u001b[1m142s\u001b[0m 16ms/step - loss: 161937584.0000 - mean_absolute_error: 6846.4263 - mean_absolute_percentage_error: 1496231936.0000 - val_loss: 181758560.0000 - val_mean_absolute_error: 8049.6758 - val_mean_absolute_percentage_error: 1417595264.0000\n",
            "Epoch 23/50\n",
            "\u001b[1m8432/8432\u001b[0m \u001b[32m━━━━━━━━━━━━━━━━━━━━\u001b[0m\u001b[37m\u001b[0m \u001b[1m139s\u001b[0m 16ms/step - loss: 163361712.0000 - mean_absolute_error: 6867.1069 - mean_absolute_percentage_error: 1268190848.0000 - val_loss: 125855584.0000 - val_mean_absolute_error: 6321.4536 - val_mean_absolute_percentage_error: 1217489408.0000\n",
            "Epoch 24/50\n",
            "\u001b[1m8432/8432\u001b[0m \u001b[32m━━━━━━━━━━━━━━━━━━━━\u001b[0m\u001b[37m\u001b[0m \u001b[1m146s\u001b[0m 16ms/step - loss: 158314576.0000 - mean_absolute_error: 6719.5029 - mean_absolute_percentage_error: 1231956352.0000 - val_loss: 168087920.0000 - val_mean_absolute_error: 6772.5693 - val_mean_absolute_percentage_error: 1108973056.0000\n",
            "Epoch 25/50\n",
            "\u001b[1m8432/8432\u001b[0m \u001b[32m━━━━━━━━━━━━━━━━━━━━\u001b[0m\u001b[37m\u001b[0m \u001b[1m143s\u001b[0m 16ms/step - loss: 165805232.0000 - mean_absolute_error: 6833.0801 - mean_absolute_percentage_error: 1513989376.0000 - val_loss: 140743616.0000 - val_mean_absolute_error: 6224.9766 - val_mean_absolute_percentage_error: 1151682688.0000\n",
            "Epoch 26/50\n",
            "\u001b[1m8432/8432\u001b[0m \u001b[32m━━━━━━━━━━━━━━━━━━━━\u001b[0m\u001b[37m\u001b[0m \u001b[1m139s\u001b[0m 16ms/step - loss: 158057216.0000 - mean_absolute_error: 6603.6069 - mean_absolute_percentage_error: 1714877056.0000 - val_loss: 138081424.0000 - val_mean_absolute_error: 6210.4619 - val_mean_absolute_percentage_error: 1815548416.0000\n",
            "Epoch 27/50\n",
            "\u001b[1m8432/8432\u001b[0m \u001b[32m━━━━━━━━━━━━━━━━━━━━\u001b[0m\u001b[37m\u001b[0m \u001b[1m138s\u001b[0m 15ms/step - loss: 149266976.0000 - mean_absolute_error: 6395.6538 - mean_absolute_percentage_error: 1059094400.0000 - val_loss: 134334880.0000 - val_mean_absolute_error: 6191.1108 - val_mean_absolute_percentage_error: 2013252992.0000\n",
            "Epoch 28/50\n",
            "\u001b[1m8432/8432\u001b[0m \u001b[32m━━━━━━━━━━━━━━━━━━━━\u001b[0m\u001b[37m\u001b[0m \u001b[1m144s\u001b[0m 16ms/step - loss: 141330640.0000 - mean_absolute_error: 6200.7476 - mean_absolute_percentage_error: 1002113984.0000 - val_loss: 144866176.0000 - val_mean_absolute_error: 6177.1729 - val_mean_absolute_percentage_error: 1368871168.0000\n",
            "Epoch 29/50\n",
            "\u001b[1m8432/8432\u001b[0m \u001b[32m━━━━━━━━━━━━━━━━━━━━\u001b[0m\u001b[37m\u001b[0m \u001b[1m133s\u001b[0m 16ms/step - loss: 143399824.0000 - mean_absolute_error: 6258.4536 - mean_absolute_percentage_error: 1523410176.0000 - val_loss: 165645408.0000 - val_mean_absolute_error: 6888.0444 - val_mean_absolute_percentage_error: 1164519936.0000\n",
            "Epoch 30/50\n",
            "\u001b[1m8432/8432\u001b[0m \u001b[32m━━━━━━━━━━━━━━━━━━━━\u001b[0m\u001b[37m\u001b[0m \u001b[1m139s\u001b[0m 15ms/step - loss: 154314768.0000 - mean_absolute_error: 6352.6240 - mean_absolute_percentage_error: 1440472960.0000 - val_loss: 168200688.0000 - val_mean_absolute_error: 6918.3862 - val_mean_absolute_percentage_error: 1301525760.0000\n",
            "Epoch 31/50\n",
            "\u001b[1m8432/8432\u001b[0m \u001b[32m━━━━━━━━━━━━━━━━━━━━\u001b[0m\u001b[37m\u001b[0m \u001b[1m145s\u001b[0m 16ms/step - loss: 134358624.0000 - mean_absolute_error: 6104.7568 - mean_absolute_percentage_error: 1499182336.0000 - val_loss: 166174160.0000 - val_mean_absolute_error: 6311.1230 - val_mean_absolute_percentage_error: 1080643200.0000\n",
            "Epoch 32/50\n",
            "\u001b[1m8432/8432\u001b[0m \u001b[32m━━━━━━━━━━━━━━━━━━━━\u001b[0m\u001b[37m\u001b[0m \u001b[1m131s\u001b[0m 16ms/step - loss: 130166040.0000 - mean_absolute_error: 5813.9531 - mean_absolute_percentage_error: 1531004800.0000 - val_loss: 149292240.0000 - val_mean_absolute_error: 6409.8774 - val_mean_absolute_percentage_error: 1693114496.0000\n",
            "Epoch 33/50\n",
            "\u001b[1m8432/8432\u001b[0m \u001b[32m━━━━━━━━━━━━━━━━━━━━\u001b[0m\u001b[37m\u001b[0m \u001b[1m146s\u001b[0m 16ms/step - loss: 137323120.0000 - mean_absolute_error: 6076.3032 - mean_absolute_percentage_error: 1379475072.0000 - val_loss: 117604560.0000 - val_mean_absolute_error: 5818.4165 - val_mean_absolute_percentage_error: 1444531712.0000\n",
            "Epoch 34/50\n",
            "\u001b[1m8432/8432\u001b[0m \u001b[32m━━━━━━━━━━━━━━━━━━━━\u001b[0m\u001b[37m\u001b[0m \u001b[1m139s\u001b[0m 16ms/step - loss: 124218304.0000 - mean_absolute_error: 5643.1772 - mean_absolute_percentage_error: 772880640.0000 - val_loss: 142513168.0000 - val_mean_absolute_error: 6198.2891 - val_mean_absolute_percentage_error: 1425626240.0000\n",
            "Epoch 35/50\n",
            "\u001b[1m8432/8432\u001b[0m \u001b[32m━━━━━━━━━━━━━━━━━━━━\u001b[0m\u001b[37m\u001b[0m \u001b[1m141s\u001b[0m 15ms/step - loss: 124852416.0000 - mean_absolute_error: 5594.4146 - mean_absolute_percentage_error: 1091606400.0000 - val_loss: 83475344.0000 - val_mean_absolute_error: 4779.5830 - val_mean_absolute_percentage_error: 1427265152.0000\n",
            "Epoch 36/50\n",
            "\u001b[1m8432/8432\u001b[0m \u001b[32m━━━━━━━━━━━━━━━━━━━━\u001b[0m\u001b[37m\u001b[0m \u001b[1m131s\u001b[0m 16ms/step - loss: 128896840.0000 - mean_absolute_error: 5748.1255 - mean_absolute_percentage_error: 954968704.0000 - val_loss: 104957336.0000 - val_mean_absolute_error: 5267.9932 - val_mean_absolute_percentage_error: 1009516992.0000\n",
            "Epoch 37/50\n",
            "\u001b[1m8432/8432\u001b[0m \u001b[32m━━━━━━━━━━━━━━━━━━━━\u001b[0m\u001b[37m\u001b[0m \u001b[1m132s\u001b[0m 16ms/step - loss: 125794480.0000 - mean_absolute_error: 5745.0420 - mean_absolute_percentage_error: 1589954688.0000 - val_loss: 118982608.0000 - val_mean_absolute_error: 6017.6641 - val_mean_absolute_percentage_error: 1399458176.0000\n",
            "Epoch 38/50\n",
            "\u001b[1m8432/8432\u001b[0m \u001b[32m━━━━━━━━━━━━━━━━━━━━\u001b[0m\u001b[37m\u001b[0m \u001b[1m143s\u001b[0m 16ms/step - loss: 132762400.0000 - mean_absolute_error: 5865.3403 - mean_absolute_percentage_error: 1451411712.0000 - val_loss: 117405304.0000 - val_mean_absolute_error: 5369.0630 - val_mean_absolute_percentage_error: 1070606464.0000\n",
            "Epoch 39/50\n",
            "\u001b[1m8432/8432\u001b[0m \u001b[32m━━━━━━━━━━━━━━━━━━━━\u001b[0m\u001b[37m\u001b[0m \u001b[1m135s\u001b[0m 16ms/step - loss: 118622144.0000 - mean_absolute_error: 5502.0425 - mean_absolute_percentage_error: 874067968.0000 - val_loss: 78557104.0000 - val_mean_absolute_error: 4627.6963 - val_mean_absolute_percentage_error: 1197874944.0000\n",
            "Epoch 40/50\n",
            "\u001b[1m8432/8432\u001b[0m \u001b[32m━━━━━━━━━━━━━━━━━━━━\u001b[0m\u001b[37m\u001b[0m \u001b[1m139s\u001b[0m 16ms/step - loss: 111271752.0000 - mean_absolute_error: 5358.2319 - mean_absolute_percentage_error: 969541376.0000 - val_loss: 121871592.0000 - val_mean_absolute_error: 5491.4141 - val_mean_absolute_percentage_error: 1272105344.0000\n",
            "Epoch 41/50\n",
            "\u001b[1m8432/8432\u001b[0m \u001b[32m━━━━━━━━━━━━━━━━━━━━\u001b[0m\u001b[37m\u001b[0m \u001b[1m145s\u001b[0m 16ms/step - loss: 112220096.0000 - mean_absolute_error: 5308.7642 - mean_absolute_percentage_error: 1272463488.0000 - val_loss: 90919568.0000 - val_mean_absolute_error: 4842.5127 - val_mean_absolute_percentage_error: 1097072384.0000\n",
            "Epoch 42/50\n",
            "\u001b[1m8432/8432\u001b[0m \u001b[32m━━━━━━━━━━━━━━━━━━━━\u001b[0m\u001b[37m\u001b[0m \u001b[1m133s\u001b[0m 16ms/step - loss: 121673752.0000 - mean_absolute_error: 5473.2866 - mean_absolute_percentage_error: 1288023168.0000 - val_loss: 95787224.0000 - val_mean_absolute_error: 5237.1118 - val_mean_absolute_percentage_error: 1447954944.0000\n",
            "Epoch 43/50\n",
            "\u001b[1m8432/8432\u001b[0m \u001b[32m━━━━━━━━━━━━━━━━━━━━\u001b[0m\u001b[37m\u001b[0m \u001b[1m142s\u001b[0m 16ms/step - loss: 113892504.0000 - mean_absolute_error: 5172.0767 - mean_absolute_percentage_error: 596470144.0000 - val_loss: 72766896.0000 - val_mean_absolute_error: 4232.2275 - val_mean_absolute_percentage_error: 1155078528.0000\n",
            "Epoch 44/50\n",
            "\u001b[1m8432/8432\u001b[0m \u001b[32m━━━━━━━━━━━━━━━━━━━━\u001b[0m\u001b[37m\u001b[0m \u001b[1m145s\u001b[0m 16ms/step - loss: 102404984.0000 - mean_absolute_error: 5052.2158 - mean_absolute_percentage_error: 759538048.0000 - val_loss: 90918480.0000 - val_mean_absolute_error: 4823.7319 - val_mean_absolute_percentage_error: 1112742272.0000\n",
            "Epoch 45/50\n",
            "\u001b[1m8432/8432\u001b[0m \u001b[32m━━━━━━━━━━━━━━━━━━━━\u001b[0m\u001b[37m\u001b[0m \u001b[1m132s\u001b[0m 16ms/step - loss: 107739432.0000 - mean_absolute_error: 5133.6782 - mean_absolute_percentage_error: 1157998336.0000 - val_loss: 89818496.0000 - val_mean_absolute_error: 4802.4375 - val_mean_absolute_percentage_error: 1193583744.0000\n",
            "Epoch 46/50\n",
            "\u001b[1m8432/8432\u001b[0m \u001b[32m━━━━━━━━━━━━━━━━━━━━\u001b[0m\u001b[37m\u001b[0m \u001b[1m143s\u001b[0m 16ms/step - loss: 100662520.0000 - mean_absolute_error: 4967.5254 - mean_absolute_percentage_error: 582406528.0000 - val_loss: 152448560.0000 - val_mean_absolute_error: 6982.1699 - val_mean_absolute_percentage_error: 1406145536.0000\n",
            "Epoch 47/50\n",
            "\u001b[1m8432/8432\u001b[0m \u001b[32m━━━━━━━━━━━━━━━━━━━━\u001b[0m\u001b[37m\u001b[0m \u001b[1m147s\u001b[0m 16ms/step - loss: 120298456.0000 - mean_absolute_error: 5363.3325 - mean_absolute_percentage_error: 1190346880.0000 - val_loss: 75158936.0000 - val_mean_absolute_error: 4500.0020 - val_mean_absolute_percentage_error: 1061720192.0000\n",
            "Epoch 48/50\n",
            "\u001b[1m8432/8432\u001b[0m \u001b[32m━━━━━━━━━━━━━━━━━━━━\u001b[0m\u001b[37m\u001b[0m \u001b[1m136s\u001b[0m 16ms/step - loss: 108072608.0000 - mean_absolute_error: 5179.0464 - mean_absolute_percentage_error: 1191675776.0000 - val_loss: 64995632.0000 - val_mean_absolute_error: 4025.5144 - val_mean_absolute_percentage_error: 1105508736.0000\n",
            "Epoch 49/50\n",
            "\u001b[1m8432/8432\u001b[0m \u001b[32m━━━━━━━━━━━━━━━━━━━━\u001b[0m\u001b[37m\u001b[0m \u001b[1m144s\u001b[0m 16ms/step - loss: 99247768.0000 - mean_absolute_error: 4789.5684 - mean_absolute_percentage_error: 1104737792.0000 - val_loss: 78758648.0000 - val_mean_absolute_error: 4484.6533 - val_mean_absolute_percentage_error: 1052013440.0000\n",
            "Epoch 50/50\n",
            "\u001b[1m8432/8432\u001b[0m \u001b[32m━━━━━━━━━━━━━━━━━━━━\u001b[0m\u001b[37m\u001b[0m \u001b[1m144s\u001b[0m 16ms/step - loss: 100971680.0000 - mean_absolute_error: 5027.1548 - mean_absolute_percentage_error: 663278976.0000 - val_loss: 81410944.0000 - val_mean_absolute_error: 4469.3159 - val_mean_absolute_percentage_error: 824777344.0000\n"
          ]
        }
      ],
      "source": [
        "result=model.fit(x_train_df,y_train,epochs=50,validation_split=0.2,batch_size=32)"
      ]
    },
    {
      "cell_type": "code",
      "execution_count": null,
      "metadata": {
        "id": "zciPWt--NtiP"
      },
      "outputs": [],
      "source": [
        "result_df=pd.DataFrame(result.history)"
      ]
    },
    {
      "cell_type": "code",
      "execution_count": null,
      "metadata": {
        "colab": {
          "base_uri": "https://localhost:8080/",
          "height": 445
        },
        "id": "iqwxMwPNN0Qx",
        "outputId": "28a65062-c436-47fd-853d-73501e296b9d"
      },
      "outputs": [
        {
          "data": {
            "image/png": "[encoded data removed]",
            "text/plain": [
              "<Figure size 640x480 with 1 Axes>"
            ]
          },
          "metadata": {},
          "output_type": "display_data"
        }
      ],
      "source": [
        "plt.plot(range(1,51),result_df['loss'],label=\"train_loss\")\n",
        "plt.plot(range(1,51),result_df['val_loss'],label=\"val_loss\")\n",
        "plt.legend()\n",
        "plt.show()"
      ]
    },
    {
      "cell_type": "code",
      "execution_count": null,
      "metadata": {
        "colab": {
          "base_uri": "https://localhost:8080/",
          "height": 272
        },
        "id": "Wns7727M1jQL",
        "outputId": "584655b8-4933-466f-8b8e-50473fb3f37a"
      },
      "outputs": [
        {
          "data": {
            "text/html": [
              "<div>\n",
              "<style scoped>\n",
              "    .dataframe tbody tr th:only-of-type {\n",
              "        vertical-align: middle;\n",
              "    }\n",
              "\n",
              "    .dataframe tbody tr th {\n",
              "        vertical-align: top;\n",
              "    }\n",
              "\n",
              "    .dataframe thead th {\n",
              "        text-align: right;\n",
              "    }\n",
              "</style>\n",
              "<table border=\"1\" class=\"dataframe\">\n",
              "  <thead>\n",
              "    <tr style=\"text-align: right;\">\n",
              "      <th></th>\n",
              "      <th>49</th>\n",
              "    </tr>\n",
              "  </thead>\n",
              "  <tbody>\n",
              "    <tr>\n",
              "      <th>loss</th>\n",
              "      <td>1.085301e+08</td>\n",
              "    </tr>\n",
              "    <tr>\n",
              "      <th>mean_absolute_error</th>\n",
              "      <td>5.143206e+03</td>\n",
              "    </tr>\n",
              "    <tr>\n",
              "      <th>mean_absolute_percentage_error</th>\n",
              "      <td>9.907093e+08</td>\n",
              "    </tr>\n",
              "    <tr>\n",
              "      <th>val_loss</th>\n",
              "      <td>8.141094e+07</td>\n",
              "    </tr>\n",
              "    <tr>\n",
              "      <th>val_mean_absolute_error</th>\n",
              "      <td>4.469316e+03</td>\n",
              "    </tr>\n",
              "    <tr>\n",
              "      <th>val_mean_absolute_percentage_error</th>\n",
              "      <td>8.247773e+08</td>\n",
              "    </tr>\n",
              "  </tbody>\n",
              "</table>\n",
              "</div><br><label><b>dtype:</b> float64</label>"
            ],
            "text/plain": [
              "loss                                  1.085301e+08\n",
              "mean_absolute_error                   5.143206e+03\n",
              "mean_absolute_percentage_error        9.907093e+08\n",
              "val_loss                              8.141094e+07\n",
              "val_mean_absolute_error               4.469316e+03\n",
              "val_mean_absolute_percentage_error    8.247773e+08\n",
              "Name: 49, dtype: float64"
            ]
          },
          "execution_count": 37,
          "metadata": {},
          "output_type": "execute_result"
        }
      ],
      "source": [
        "result_df.iloc[-1]"
      ]
    },
    {
      "cell_type": "code",
      "execution_count": null,
      "metadata": {
        "colab": {
          "base_uri": "https://localhost:8080/"
        },
        "id": "KAZJfvidXuQu",
        "outputId": "62f4f67c-9a16-4d37-db26-e821cd3eeace"
      },
      "outputs": [
        {
          "name": "stdout",
          "output_type": "stream",
          "text": [
            "\u001b[1m2635/2635\u001b[0m \u001b[32m━━━━━━━━━━━━━━━━━━━━\u001b[0m\u001b[37m\u001b[0m \u001b[1m12s\u001b[0m 4ms/step - loss: 76085928.0000 - mean_absolute_error: 4435.8936 - mean_absolute_percentage_error: 377627328.0000\n"
          ]
        },
        {
          "data": {
            "text/plain": [
              "[87956432.0, 4542.8271484375, 1116695808.0]"
            ]
          },
          "execution_count": 38,
          "metadata": {},
          "output_type": "execute_result"
        }
      ],
      "source": [
        "model.evaluate(x_test_ss, y_test)"
      ]
    },
    {
      "cell_type": "code",
      "execution_count": null,
      "metadata": {
        "id": "BGXa3sH7hcAR"
      },
      "outputs": [],
      "source": [
        "pred=np.array([1,3,2,151320,45,3,4870,24160,380,1190,4158,220,8,0,5,2,2010])"
      ]
    },
    {
      "cell_type": "code",
      "execution_count": null,
      "metadata": {
        "colab": {
          "base_uri": "https://localhost:8080/"
        },
        "id": "b3VGNd2vZ4TW",
        "outputId": "6b5fa453-2f8a-4f41-94f0-7919e0893f97"
      },
      "outputs": [
        {
          "name": "stderr",
          "output_type": "stream",
          "text": [
            "/usr/local/lib/python3.10/dist-packages/sklearn/base.py:465: UserWarning: X does not have valid feature names, but StandardScaler was fitted with feature names\n",
            "  warnings.warn(\n"
          ]
        },
        {
          "name": "stdout",
          "output_type": "stream",
          "text": [
            "\u001b[1m1/1\u001b[0m \u001b[32m━━━━━━━━━━━━━━━━━━━━\u001b[0m\u001b[37m\u001b[0m \u001b[1m1s\u001b[0m 549ms/step\n"
          ]
        },
        {
          "data": {
            "text/plain": [
              "array([[19054.768]], dtype=float32)"
            ]
          },
          "execution_count": 39,
          "metadata": {},
          "output_type": "execute_result"
        }
      ],
      "source": [
        "pred=[1,1,1,151315,42.31,2.572,4866.2909,24157.0344,376.8238,1187.4454,4158.9236,211.096358,8.106,0,5,2,2010]\n",
        "te=pd.DataFrame(pred).T\n",
        "te_ss=scaler.transform(te)\n",
        "te_df=pd.DataFrame(te_ss)\n",
        "model.predict(te_df)"
      ]
    },
    {
      "cell_type": "code",
      "source": [
        "#model4"
      ],
      "metadata": {
        "id": "MgrY6dz8jSAZ"
      },
      "execution_count": null,
      "outputs": []
    },
    {
      "cell_type": "code",
      "execution_count": null,
      "metadata": {
        "colab": {
          "base_uri": "https://localhost:8080/"
        },
        "id": "Etu40VKHEyQ3",
        "outputId": "187e34d1-8071-4393-e3ff-418cf1e0e1e4"
      },
      "outputs": [
        {
          "output_type": "stream",
          "name": "stderr",
          "text": [
            "/usr/local/lib/python3.10/dist-packages/keras/src/layers/activations/leaky_relu.py:41: UserWarning: Argument `alpha` is deprecated. Use `negative_slope` instead.\n",
            "  warnings.warn(\n",
            "/usr/local/lib/python3.10/dist-packages/keras/src/layers/core/dense.py:87: UserWarning: Do not pass an `input_shape`/`input_dim` argument to a layer. When using Sequential models, prefer using an `Input(shape)` object as the first layer in the model instead.\n",
            "  super().__init__(activity_regularizer=activity_regularizer, **kwargs)\n"
          ]
        }
      ],
      "source": [
        "model4=Sequential()\n",
        "\n",
        "model4.add(Dense(64,input_dim=(len(x_train_ss[0])),activation=LeakyReLU(alpha=0.01)))\n",
        "model4.add(Dense(64,input_dim=(len(x_train_ss[0])),activation=LeakyReLU(alpha=0.01)))\n",
        "model4.add(Dense(1))\n",
        "\n",
        "\n",
        "model4.compile(optimizer=\"adam\",loss=\"mean_squared_error\",metrics=[tf.keras.metrics.MeanAbsoluteError(),tf.keras.metrics.MeanAbsolutePercentageError()])\n",
        "\n",
        "\n"
      ]
    },
    {
      "cell_type": "code",
      "execution_count": null,
      "metadata": {
        "colab": {
          "base_uri": "https://localhost:8080/"
        },
        "id": "YtiGmMJ0FWeo",
        "outputId": "e0d67a5a-1c2e-4bff-dbb1-f8c278bf2ccb"
      },
      "outputs": [
        {
          "output_type": "stream",
          "name": "stdout",
          "text": [
            "Epoch 1/100\n",
            "\u001b[1m8432/8432\u001b[0m \u001b[32m━━━━━━━━━━━━━━━━━━━━\u001b[0m\u001b[37m\u001b[0m \u001b[1m20s\u001b[0m 2ms/step - loss: 540600640.0000 - mean_absolute_error: 14363.6230 - mean_absolute_percentage_error: 1897631872.0000 - val_loss: 470353760.0000 - val_mean_absolute_error: 14312.7246 - val_mean_absolute_percentage_error: 2877899776.0000\n",
            "Epoch 2/100\n",
            "\u001b[1m8432/8432\u001b[0m \u001b[32m━━━━━━━━━━━━━━━━━━━━\u001b[0m\u001b[37m\u001b[0m \u001b[1m19s\u001b[0m 2ms/step - loss: 444110560.0000 - mean_absolute_error: 14149.3291 - mean_absolute_percentage_error: 2573954816.0000 - val_loss: 440642176.0000 - val_mean_absolute_error: 13889.4258 - val_mean_absolute_percentage_error: 2692495616.0000\n",
            "Epoch 3/100\n",
            "\u001b[1m8432/8432\u001b[0m \u001b[32m━━━━━━━━━━━━━━━━━━━━\u001b[0m\u001b[37m\u001b[0m \u001b[1m25s\u001b[0m 3ms/step - loss: 419450720.0000 - mean_absolute_error: 13403.8291 - mean_absolute_percentage_error: 2195038464.0000 - val_loss: 421713984.0000 - val_mean_absolute_error: 13176.6758 - val_mean_absolute_percentage_error: 2193063680.0000\n",
            "Epoch 4/100\n",
            "\u001b[1m8432/8432\u001b[0m \u001b[32m━━━━━━━━━━━━━━━━━━━━\u001b[0m\u001b[37m\u001b[0m \u001b[1m24s\u001b[0m 3ms/step - loss: 405930528.0000 - mean_absolute_error: 12849.9453 - mean_absolute_percentage_error: 1695719808.0000 - val_loss: 412832192.0000 - val_mean_absolute_error: 12684.3760 - val_mean_absolute_percentage_error: 2009795968.0000\n",
            "Epoch 5/100\n",
            "\u001b[1m8432/8432\u001b[0m \u001b[32m━━━━━━━━━━━━━━━━━━━━\u001b[0m\u001b[37m\u001b[0m \u001b[1m33s\u001b[0m 4ms/step - loss: 404004256.0000 - mean_absolute_error: 12571.7314 - mean_absolute_percentage_error: 1539482624.0000 - val_loss: 406955872.0000 - val_mean_absolute_error: 12636.0898 - val_mean_absolute_percentage_error: 2068619136.0000\n",
            "Epoch 6/100\n",
            "\u001b[1m8432/8432\u001b[0m \u001b[32m━━━━━━━━━━━━━━━━━━━━\u001b[0m\u001b[37m\u001b[0m \u001b[1m21s\u001b[0m 2ms/step - loss: 397847424.0000 - mean_absolute_error: 12446.4844 - mean_absolute_percentage_error: 2201451776.0000 - val_loss: 403207712.0000 - val_mean_absolute_error: 12496.4951 - val_mean_absolute_percentage_error: 2036672896.0000\n",
            "Epoch 7/100\n",
            "\u001b[1m8432/8432\u001b[0m \u001b[32m━━━━━━━━━━━━━━━━━━━━\u001b[0m\u001b[37m\u001b[0m \u001b[1m17s\u001b[0m 2ms/step - loss: 385935968.0000 - mean_absolute_error: 12318.6104 - mean_absolute_percentage_error: 1634300288.0000 - val_loss: 399922784.0000 - val_mean_absolute_error: 12380.6953 - val_mean_absolute_percentage_error: 2023796480.0000\n",
            "Epoch 8/100\n",
            "\u001b[1m8432/8432\u001b[0m \u001b[32m━━━━━━━━━━━━━━━━━━━━\u001b[0m\u001b[37m\u001b[0m \u001b[1m17s\u001b[0m 2ms/step - loss: 381733120.0000 - mean_absolute_error: 12265.6533 - mean_absolute_percentage_error: 1605486208.0000 - val_loss: 397363840.0000 - val_mean_absolute_error: 12306.3740 - val_mean_absolute_percentage_error: 2002200576.0000\n",
            "Epoch 9/100\n",
            "\u001b[1m8432/8432\u001b[0m \u001b[32m━━━━━━━━━━━━━━━━━━━━\u001b[0m\u001b[37m\u001b[0m \u001b[1m17s\u001b[0m 2ms/step - loss: 372736480.0000 - mean_absolute_error: 12080.3330 - mean_absolute_percentage_error: 1868035072.0000 - val_loss: 395253184.0000 - val_mean_absolute_error: 12156.5137 - val_mean_absolute_percentage_error: 1976997376.0000\n",
            "Epoch 10/100\n",
            "\u001b[1m8432/8432\u001b[0m \u001b[32m━━━━━━━━━━━━━━━━━━━━\u001b[0m\u001b[37m\u001b[0m \u001b[1m21s\u001b[0m 2ms/step - loss: 376899264.0000 - mean_absolute_error: 12100.4971 - mean_absolute_percentage_error: 1644363264.0000 - val_loss: 392957088.0000 - val_mean_absolute_error: 12116.1494 - val_mean_absolute_percentage_error: 2049018752.0000\n",
            "Epoch 11/100\n",
            "\u001b[1m8432/8432\u001b[0m \u001b[32m━━━━━━━━━━━━━━━━━━━━\u001b[0m\u001b[37m\u001b[0m \u001b[1m18s\u001b[0m 2ms/step - loss: 372567744.0000 - mean_absolute_error: 12013.1465 - mean_absolute_percentage_error: 1430027904.0000 - val_loss: 391137824.0000 - val_mean_absolute_error: 12105.0596 - val_mean_absolute_percentage_error: 2049480192.0000\n",
            "Epoch 12/100\n",
            "\u001b[1m8432/8432\u001b[0m \u001b[32m━━━━━━━━━━━━━━━━━━━━\u001b[0m\u001b[37m\u001b[0m \u001b[1m20s\u001b[0m 2ms/step - loss: 368396480.0000 - mean_absolute_error: 11905.3057 - mean_absolute_percentage_error: 1451453312.0000 - val_loss: 389677632.0000 - val_mean_absolute_error: 12138.1562 - val_mean_absolute_percentage_error: 2080587904.0000\n",
            "Epoch 13/100\n",
            "\u001b[1m8432/8432\u001b[0m \u001b[32m━━━━━━━━━━━━━━━━━━━━\u001b[0m\u001b[37m\u001b[0m \u001b[1m20s\u001b[0m 2ms/step - loss: 369101536.0000 - mean_absolute_error: 11950.2676 - mean_absolute_percentage_error: 1531978496.0000 - val_loss: 388303008.0000 - val_mean_absolute_error: 12055.7412 - val_mean_absolute_percentage_error: 2101942784.0000\n",
            "Epoch 14/100\n",
            "\u001b[1m8432/8432\u001b[0m \u001b[32m━━━━━━━━━━━━━━━━━━━━\u001b[0m\u001b[37m\u001b[0m \u001b[1m17s\u001b[0m 2ms/step - loss: 371570688.0000 - mean_absolute_error: 11853.2090 - mean_absolute_percentage_error: 2163952640.0000 - val_loss: 387409888.0000 - val_mean_absolute_error: 11943.8086 - val_mean_absolute_percentage_error: 2088328832.0000\n",
            "Epoch 15/100\n",
            "\u001b[1m8432/8432\u001b[0m \u001b[32m━━━━━━━━━━━━━━━━━━━━\u001b[0m\u001b[37m\u001b[0m \u001b[1m20s\u001b[0m 2ms/step - loss: 367098016.0000 - mean_absolute_error: 11910.5498 - mean_absolute_percentage_error: 2270828800.0000 - val_loss: 385762336.0000 - val_mean_absolute_error: 12001.8271 - val_mean_absolute_percentage_error: 2106506112.0000\n",
            "Epoch 16/100\n",
            "\u001b[1m8432/8432\u001b[0m \u001b[32m━━━━━━━━━━━━━━━━━━━━\u001b[0m\u001b[37m\u001b[0m \u001b[1m19s\u001b[0m 2ms/step - loss: 365275712.0000 - mean_absolute_error: 11802.2012 - mean_absolute_percentage_error: 1366731776.0000 - val_loss: 384607520.0000 - val_mean_absolute_error: 12063.5928 - val_mean_absolute_percentage_error: 2151659008.0000\n",
            "Epoch 17/100\n",
            "\u001b[1m8432/8432\u001b[0m \u001b[32m━━━━━━━━━━━━━━━━━━━━\u001b[0m\u001b[37m\u001b[0m \u001b[1m19s\u001b[0m 2ms/step - loss: 369552544.0000 - mean_absolute_error: 11839.2930 - mean_absolute_percentage_error: 1854058880.0000 - val_loss: 383341280.0000 - val_mean_absolute_error: 11875.4590 - val_mean_absolute_percentage_error: 2109286144.0000\n",
            "Epoch 18/100\n",
            "\u001b[1m8432/8432\u001b[0m \u001b[32m━━━━━━━━━━━━━━━━━━━━\u001b[0m\u001b[37m\u001b[0m \u001b[1m17s\u001b[0m 2ms/step - loss: 370834272.0000 - mean_absolute_error: 11795.8779 - mean_absolute_percentage_error: 1435209344.0000 - val_loss: 381827808.0000 - val_mean_absolute_error: 11843.5654 - val_mean_absolute_percentage_error: 2112718848.0000\n",
            "Epoch 19/100\n",
            "\u001b[1m8432/8432\u001b[0m \u001b[32m━━━━━━━━━━━━━━━━━━━━\u001b[0m\u001b[37m\u001b[0m \u001b[1m18s\u001b[0m 2ms/step - loss: 364348160.0000 - mean_absolute_error: 11812.4824 - mean_absolute_percentage_error: 1299628160.0000 - val_loss: 380088032.0000 - val_mean_absolute_error: 11903.5889 - val_mean_absolute_percentage_error: 2177284608.0000\n",
            "Epoch 20/100\n",
            "\u001b[1m8432/8432\u001b[0m \u001b[32m━━━━━━━━━━━━━━━━━━━━\u001b[0m\u001b[37m\u001b[0m \u001b[1m20s\u001b[0m 2ms/step - loss: 374135936.0000 - mean_absolute_error: 11871.4619 - mean_absolute_percentage_error: 1949877888.0000 - val_loss: 378929760.0000 - val_mean_absolute_error: 11833.1025 - val_mean_absolute_percentage_error: 2122608640.0000\n",
            "Epoch 21/100\n",
            "\u001b[1m8432/8432\u001b[0m \u001b[32m━━━━━━━━━━━━━━━━━━━━\u001b[0m\u001b[37m\u001b[0m \u001b[1m17s\u001b[0m 2ms/step - loss: 357453696.0000 - mean_absolute_error: 11674.4619 - mean_absolute_percentage_error: 1140054784.0000 - val_loss: 377217568.0000 - val_mean_absolute_error: 11868.5977 - val_mean_absolute_percentage_error: 2155488768.0000\n",
            "Epoch 22/100\n",
            "\u001b[1m8432/8432\u001b[0m \u001b[32m━━━━━━━━━━━━━━━━━━━━\u001b[0m\u001b[37m\u001b[0m \u001b[1m18s\u001b[0m 2ms/step - loss: 369371776.0000 - mean_absolute_error: 11738.7051 - mean_absolute_percentage_error: 2059649024.0000 - val_loss: 375413760.0000 - val_mean_absolute_error: 11805.2793 - val_mean_absolute_percentage_error: 2123160576.0000\n",
            "Epoch 23/100\n",
            "\u001b[1m8432/8432\u001b[0m \u001b[32m━━━━━━━━━━━━━━━━━━━━\u001b[0m\u001b[37m\u001b[0m \u001b[1m17s\u001b[0m 2ms/step - loss: 366085824.0000 - mean_absolute_error: 11705.7080 - mean_absolute_percentage_error: 2229015040.0000 - val_loss: 373930496.0000 - val_mean_absolute_error: 11701.3945 - val_mean_absolute_percentage_error: 2014591104.0000\n",
            "Epoch 24/100\n",
            "\u001b[1m8432/8432\u001b[0m \u001b[32m━━━━━━━━━━━━━━━━━━━━\u001b[0m\u001b[37m\u001b[0m \u001b[1m20s\u001b[0m 2ms/step - loss: 360104032.0000 - mean_absolute_error: 11674.1602 - mean_absolute_percentage_error: 1426155264.0000 - val_loss: 372152864.0000 - val_mean_absolute_error: 11662.6230 - val_mean_absolute_percentage_error: 1995848576.0000\n",
            "Epoch 25/100\n",
            "\u001b[1m8432/8432\u001b[0m \u001b[32m━━━━━━━━━━━━━━━━━━━━\u001b[0m\u001b[37m\u001b[0m \u001b[1m22s\u001b[0m 2ms/step - loss: 355377024.0000 - mean_absolute_error: 11612.7969 - mean_absolute_percentage_error: 1613840384.0000 - val_loss: 369448032.0000 - val_mean_absolute_error: 11811.7500 - val_mean_absolute_percentage_error: 2059915904.0000\n",
            "Epoch 26/100\n",
            "\u001b[1m8432/8432\u001b[0m \u001b[32m━━━━━━━━━━━━━━━━━━━━\u001b[0m\u001b[37m\u001b[0m \u001b[1m21s\u001b[0m 2ms/step - loss: 353277600.0000 - mean_absolute_error: 11612.4902 - mean_absolute_percentage_error: 1434883456.0000 - val_loss: 366975008.0000 - val_mean_absolute_error: 11703.5332 - val_mean_absolute_percentage_error: 1998748544.0000\n",
            "Epoch 27/100\n",
            "\u001b[1m8432/8432\u001b[0m \u001b[32m━━━━━━━━━━━━━━━━━━━━\u001b[0m\u001b[37m\u001b[0m \u001b[1m18s\u001b[0m 2ms/step - loss: 360776928.0000 - mean_absolute_error: 11617.5146 - mean_absolute_percentage_error: 1445460096.0000 - val_loss: 365178016.0000 - val_mean_absolute_error: 11661.5078 - val_mean_absolute_percentage_error: 2074147968.0000\n",
            "Epoch 28/100\n",
            "\u001b[1m8432/8432\u001b[0m \u001b[32m━━━━━━━━━━━━━━━━━━━━\u001b[0m\u001b[37m\u001b[0m \u001b[1m19s\u001b[0m 2ms/step - loss: 344868864.0000 - mean_absolute_error: 11504.8848 - mean_absolute_percentage_error: 1115207040.0000 - val_loss: 363267744.0000 - val_mean_absolute_error: 11662.1338 - val_mean_absolute_percentage_error: 1991806336.0000\n",
            "Epoch 29/100\n",
            "\u001b[1m8432/8432\u001b[0m \u001b[32m━━━━━━━━━━━━━━━━━━━━\u001b[0m\u001b[37m\u001b[0m \u001b[1m18s\u001b[0m 2ms/step - loss: 346077568.0000 - mean_absolute_error: 11483.5723 - mean_absolute_percentage_error: 1300095360.0000 - val_loss: 360236608.0000 - val_mean_absolute_error: 11629.3076 - val_mean_absolute_percentage_error: 2040408320.0000\n",
            "Epoch 30/100\n",
            "\u001b[1m8432/8432\u001b[0m \u001b[32m━━━━━━━━━━━━━━━━━━━━\u001b[0m\u001b[37m\u001b[0m \u001b[1m18s\u001b[0m 2ms/step - loss: 347989440.0000 - mean_absolute_error: 11529.8145 - mean_absolute_percentage_error: 1261548672.0000 - val_loss: 359007264.0000 - val_mean_absolute_error: 11494.4189 - val_mean_absolute_percentage_error: 2024564992.0000\n",
            "Epoch 31/100\n",
            "\u001b[1m8432/8432\u001b[0m \u001b[32m━━━━━━━━━━━━━━━━━━━━\u001b[0m\u001b[37m\u001b[0m \u001b[1m21s\u001b[0m 2ms/step - loss: 339878720.0000 - mean_absolute_error: 11414.3398 - mean_absolute_percentage_error: 1459314688.0000 - val_loss: 355834432.0000 - val_mean_absolute_error: 11494.6621 - val_mean_absolute_percentage_error: 2057577856.0000\n",
            "Epoch 32/100\n",
            "\u001b[1m8432/8432\u001b[0m \u001b[32m━━━━━━━━━━━━━━━━━━━━\u001b[0m\u001b[37m\u001b[0m \u001b[1m22s\u001b[0m 2ms/step - loss: 339228320.0000 - mean_absolute_error: 11412.0762 - mean_absolute_percentage_error: 1139676416.0000 - val_loss: 353234016.0000 - val_mean_absolute_error: 11405.4951 - val_mean_absolute_percentage_error: 2022199424.0000\n",
            "Epoch 33/100\n",
            "\u001b[1m8432/8432\u001b[0m \u001b[32m━━━━━━━━━━━━━━━━━━━━\u001b[0m\u001b[37m\u001b[0m \u001b[1m18s\u001b[0m 2ms/step - loss: 335674208.0000 - mean_absolute_error: 11357.2119 - mean_absolute_percentage_error: 1503144704.0000 - val_loss: 350542048.0000 - val_mean_absolute_error: 11511.6709 - val_mean_absolute_percentage_error: 2185042944.0000\n",
            "Epoch 34/100\n",
            "\u001b[1m8432/8432\u001b[0m \u001b[32m━━━━━━━━━━━━━━━━━━━━\u001b[0m\u001b[37m\u001b[0m \u001b[1m21s\u001b[0m 2ms/step - loss: 336682816.0000 - mean_absolute_error: 11353.2588 - mean_absolute_percentage_error: 1347173888.0000 - val_loss: 347950464.0000 - val_mean_absolute_error: 11441.4199 - val_mean_absolute_percentage_error: 2198006016.0000\n",
            "Epoch 35/100\n",
            "\u001b[1m8432/8432\u001b[0m \u001b[32m━━━━━━━━━━━━━━━━━━━━\u001b[0m\u001b[37m\u001b[0m \u001b[1m22s\u001b[0m 2ms/step - loss: 326798464.0000 - mean_absolute_error: 11216.1680 - mean_absolute_percentage_error: 1372857088.0000 - val_loss: 346220896.0000 - val_mean_absolute_error: 11268.3486 - val_mean_absolute_percentage_error: 2059009024.0000\n",
            "Epoch 36/100\n",
            "\u001b[1m8432/8432\u001b[0m \u001b[32m━━━━━━━━━━━━━━━━━━━━\u001b[0m\u001b[37m\u001b[0m \u001b[1m18s\u001b[0m 2ms/step - loss: 330352160.0000 - mean_absolute_error: 11260.6426 - mean_absolute_percentage_error: 1733940096.0000 - val_loss: 344058400.0000 - val_mean_absolute_error: 11186.6416 - val_mean_absolute_percentage_error: 2102945920.0000\n",
            "Epoch 37/100\n",
            "\u001b[1m8432/8432\u001b[0m \u001b[32m━━━━━━━━━━━━━━━━━━━━\u001b[0m\u001b[37m\u001b[0m \u001b[1m18s\u001b[0m 2ms/step - loss: 320913184.0000 - mean_absolute_error: 11126.5703 - mean_absolute_percentage_error: 1205407872.0000 - val_loss: 341879712.0000 - val_mean_absolute_error: 11223.4893 - val_mean_absolute_percentage_error: 2143016448.0000\n",
            "Epoch 38/100\n",
            "\u001b[1m8432/8432\u001b[0m \u001b[32m━━━━━━━━━━━━━━━━━━━━\u001b[0m\u001b[37m\u001b[0m \u001b[1m22s\u001b[0m 3ms/step - loss: 320700512.0000 - mean_absolute_error: 11104.1055 - mean_absolute_percentage_error: 1227952128.0000 - val_loss: 339227616.0000 - val_mean_absolute_error: 11250.7070 - val_mean_absolute_percentage_error: 2155465728.0000\n",
            "Epoch 39/100\n",
            "\u001b[1m8432/8432\u001b[0m \u001b[32m━━━━━━━━━━━━━━━━━━━━\u001b[0m\u001b[37m\u001b[0m \u001b[1m18s\u001b[0m 2ms/step - loss: 325306656.0000 - mean_absolute_error: 11118.2676 - mean_absolute_percentage_error: 1274629120.0000 - val_loss: 336960768.0000 - val_mean_absolute_error: 11154.3281 - val_mean_absolute_percentage_error: 2107235200.0000\n",
            "Epoch 40/100\n",
            "\u001b[1m8432/8432\u001b[0m \u001b[32m━━━━━━━━━━━━━━━━━━━━\u001b[0m\u001b[37m\u001b[0m \u001b[1m18s\u001b[0m 2ms/step - loss: 321801024.0000 - mean_absolute_error: 11059.5957 - mean_absolute_percentage_error: 1423864320.0000 - val_loss: 334527584.0000 - val_mean_absolute_error: 11166.6377 - val_mean_absolute_percentage_error: 2164628480.0000\n",
            "Epoch 41/100\n",
            "\u001b[1m8432/8432\u001b[0m \u001b[32m━━━━━━━━━━━━━━━━━━━━\u001b[0m\u001b[37m\u001b[0m \u001b[1m23s\u001b[0m 2ms/step - loss: 313757600.0000 - mean_absolute_error: 11026.8936 - mean_absolute_percentage_error: 1243777280.0000 - val_loss: 333526272.0000 - val_mean_absolute_error: 11039.1035 - val_mean_absolute_percentage_error: 2100704128.0000\n",
            "Epoch 42/100\n",
            "\u001b[1m8432/8432\u001b[0m \u001b[32m━━━━━━━━━━━━━━━━━━━━\u001b[0m\u001b[37m\u001b[0m \u001b[1m18s\u001b[0m 2ms/step - loss: 315165376.0000 - mean_absolute_error: 11020.0547 - mean_absolute_percentage_error: 1532478464.0000 - val_loss: 330485600.0000 - val_mean_absolute_error: 11145.1514 - val_mean_absolute_percentage_error: 2143986304.0000\n",
            "Epoch 43/100\n",
            "\u001b[1m8432/8432\u001b[0m \u001b[32m━━━━━━━━━━━━━━━━━━━━\u001b[0m\u001b[37m\u001b[0m \u001b[1m21s\u001b[0m 2ms/step - loss: 314682208.0000 - mean_absolute_error: 10959.2900 - mean_absolute_percentage_error: 1312382976.0000 - val_loss: 329460160.0000 - val_mean_absolute_error: 11074.1611 - val_mean_absolute_percentage_error: 2035099392.0000\n",
            "Epoch 44/100\n",
            "\u001b[1m8432/8432\u001b[0m \u001b[32m━━━━━━━━━━━━━━━━━━━━\u001b[0m\u001b[37m\u001b[0m \u001b[1m22s\u001b[0m 3ms/step - loss: 320756000.0000 - mean_absolute_error: 10950.5625 - mean_absolute_percentage_error: 1419217920.0000 - val_loss: 326695296.0000 - val_mean_absolute_error: 11053.0498 - val_mean_absolute_percentage_error: 2121256064.0000\n",
            "Epoch 45/100\n",
            "\u001b[1m8432/8432\u001b[0m \u001b[32m━━━━━━━━━━━━━━━━━━━━\u001b[0m\u001b[37m\u001b[0m \u001b[1m20s\u001b[0m 2ms/step - loss: 308804064.0000 - mean_absolute_error: 10887.7803 - mean_absolute_percentage_error: 1152192000.0000 - val_loss: 323341760.0000 - val_mean_absolute_error: 10955.8311 - val_mean_absolute_percentage_error: 2108708864.0000\n",
            "Epoch 46/100\n",
            "\u001b[1m8432/8432\u001b[0m \u001b[32m━━━━━━━━━━━━━━━━━━━━\u001b[0m\u001b[37m\u001b[0m \u001b[1m19s\u001b[0m 2ms/step - loss: 305216672.0000 - mean_absolute_error: 10847.7471 - mean_absolute_percentage_error: 1188334208.0000 - val_loss: 319216832.0000 - val_mean_absolute_error: 10884.9199 - val_mean_absolute_percentage_error: 2070175104.0000\n",
            "Epoch 47/100\n",
            "\u001b[1m8432/8432\u001b[0m \u001b[32m━━━━━━━━━━━━━━━━━━━━\u001b[0m\u001b[37m\u001b[0m \u001b[1m20s\u001b[0m 2ms/step - loss: 309586080.0000 - mean_absolute_error: 10837.7148 - mean_absolute_percentage_error: 1261887616.0000 - val_loss: 314676064.0000 - val_mean_absolute_error: 10859.8887 - val_mean_absolute_percentage_error: 2095490048.0000\n",
            "Epoch 48/100\n",
            "\u001b[1m8432/8432\u001b[0m \u001b[32m━━━━━━━━━━━━━━━━━━━━\u001b[0m\u001b[37m\u001b[0m \u001b[1m18s\u001b[0m 2ms/step - loss: 296479200.0000 - mean_absolute_error: 10732.2129 - mean_absolute_percentage_error: 1628113408.0000 - val_loss: 311142336.0000 - val_mean_absolute_error: 10651.3184 - val_mean_absolute_percentage_error: 2008162560.0000\n",
            "Epoch 49/100\n",
            "\u001b[1m8432/8432\u001b[0m \u001b[32m━━━━━━━━━━━━━━━━━━━━\u001b[0m\u001b[37m\u001b[0m \u001b[1m22s\u001b[0m 2ms/step - loss: 296116000.0000 - mean_absolute_error: 10688.4150 - mean_absolute_percentage_error: 1516932608.0000 - val_loss: 304857664.0000 - val_mean_absolute_error: 10727.0498 - val_mean_absolute_percentage_error: 2088953472.0000\n",
            "Epoch 50/100\n",
            "\u001b[1m8432/8432\u001b[0m \u001b[32m━━━━━━━━━━━━━━━━━━━━\u001b[0m\u001b[37m\u001b[0m \u001b[1m20s\u001b[0m 2ms/step - loss: 287958656.0000 - mean_absolute_error: 10594.0752 - mean_absolute_percentage_error: 868208320.0000 - val_loss: 301079072.0000 - val_mean_absolute_error: 10796.0566 - val_mean_absolute_percentage_error: 2103383168.0000\n",
            "Epoch 51/100\n",
            "\u001b[1m8432/8432\u001b[0m \u001b[32m━━━━━━━━━━━━━━━━━━━━\u001b[0m\u001b[37m\u001b[0m \u001b[1m18s\u001b[0m 2ms/step - loss: 279851456.0000 - mean_absolute_error: 10489.9688 - mean_absolute_percentage_error: 1663482368.0000 - val_loss: 297237824.0000 - val_mean_absolute_error: 10680.8613 - val_mean_absolute_percentage_error: 2059924608.0000\n",
            "Epoch 52/100\n",
            "\u001b[1m8432/8432\u001b[0m \u001b[32m━━━━━━━━━━━━━━━━━━━━\u001b[0m\u001b[37m\u001b[0m \u001b[1m21s\u001b[0m 2ms/step - loss: 281233536.0000 - mean_absolute_error: 10463.8955 - mean_absolute_percentage_error: 1302292736.0000 - val_loss: 293247136.0000 - val_mean_absolute_error: 10592.4092 - val_mean_absolute_percentage_error: 2038631424.0000\n",
            "Epoch 53/100\n",
            "\u001b[1m8432/8432\u001b[0m \u001b[32m━━━━━━━━━━━━━━━━━━━━\u001b[0m\u001b[37m\u001b[0m \u001b[1m21s\u001b[0m 2ms/step - loss: 278776800.0000 - mean_absolute_error: 10415.6816 - mean_absolute_percentage_error: 1923962240.0000 - val_loss: 289785344.0000 - val_mean_absolute_error: 10545.3867 - val_mean_absolute_percentage_error: 2006219776.0000\n",
            "Epoch 54/100\n",
            "\u001b[1m8432/8432\u001b[0m \u001b[32m━━━━━━━━━━━━━━━━━━━━\u001b[0m\u001b[37m\u001b[0m \u001b[1m20s\u001b[0m 2ms/step - loss: 277024640.0000 - mean_absolute_error: 10376.1562 - mean_absolute_percentage_error: 1365256448.0000 - val_loss: 287135360.0000 - val_mean_absolute_error: 10400.7744 - val_mean_absolute_percentage_error: 2017548160.0000\n",
            "Epoch 55/100\n",
            "\u001b[1m8432/8432\u001b[0m \u001b[32m━━━━━━━━━━━━━━━━━━━━\u001b[0m\u001b[37m\u001b[0m \u001b[1m21s\u001b[0m 3ms/step - loss: 277214272.0000 - mean_absolute_error: 10328.6582 - mean_absolute_percentage_error: 1397717504.0000 - val_loss: 284264480.0000 - val_mean_absolute_error: 10434.0801 - val_mean_absolute_percentage_error: 2020717952.0000\n",
            "Epoch 56/100\n",
            "\u001b[1m8432/8432\u001b[0m \u001b[32m━━━━━━━━━━━━━━━━━━━━\u001b[0m\u001b[37m\u001b[0m \u001b[1m21s\u001b[0m 2ms/step - loss: 269957472.0000 - mean_absolute_error: 10276.1836 - mean_absolute_percentage_error: 1285871744.0000 - val_loss: 281874336.0000 - val_mean_absolute_error: 10312.5664 - val_mean_absolute_percentage_error: 1860801024.0000\n",
            "Epoch 57/100\n",
            "\u001b[1m8432/8432\u001b[0m \u001b[32m━━━━━━━━━━━━━━━━━━━━\u001b[0m\u001b[37m\u001b[0m \u001b[1m40s\u001b[0m 2ms/step - loss: 261468560.0000 - mean_absolute_error: 10130.6094 - mean_absolute_percentage_error: 1412368512.0000 - val_loss: 278321696.0000 - val_mean_absolute_error: 10298.6953 - val_mean_absolute_percentage_error: 1909636096.0000\n",
            "Epoch 58/100\n",
            "\u001b[1m8432/8432\u001b[0m \u001b[32m━━━━━━━━━━━━━━━━━━━━\u001b[0m\u001b[37m\u001b[0m \u001b[1m20s\u001b[0m 2ms/step - loss: 263819040.0000 - mean_absolute_error: 10175.3525 - mean_absolute_percentage_error: 1150328192.0000 - val_loss: 276043104.0000 - val_mean_absolute_error: 10307.3926 - val_mean_absolute_percentage_error: 1899317760.0000\n",
            "Epoch 59/100\n",
            "\u001b[1m8432/8432\u001b[0m \u001b[32m━━━━━━━━━━━━━━━━━━━━\u001b[0m\u001b[37m\u001b[0m \u001b[1m22s\u001b[0m 3ms/step - loss: 259297008.0000 - mean_absolute_error: 10126.4092 - mean_absolute_percentage_error: 1392041984.0000 - val_loss: 273372768.0000 - val_mean_absolute_error: 10235.2832 - val_mean_absolute_percentage_error: 1816393728.0000\n",
            "Epoch 60/100\n",
            "\u001b[1m8432/8432\u001b[0m \u001b[32m━━━━━━━━━━━━━━━━━━━━\u001b[0m\u001b[37m\u001b[0m \u001b[1m41s\u001b[0m 3ms/step - loss: 260275600.0000 - mean_absolute_error: 10054.9717 - mean_absolute_percentage_error: 1477242624.0000 - val_loss: 272370592.0000 - val_mean_absolute_error: 10161.3311 - val_mean_absolute_percentage_error: 1799291136.0000\n",
            "Epoch 61/100\n",
            "\u001b[1m8432/8432\u001b[0m \u001b[32m━━━━━━━━━━━━━━━━━━━━\u001b[0m\u001b[37m\u001b[0m \u001b[1m41s\u001b[0m 3ms/step - loss: 254034240.0000 - mean_absolute_error: 10034.3262 - mean_absolute_percentage_error: 1127770368.0000 - val_loss: 270884608.0000 - val_mean_absolute_error: 10361.1260 - val_mean_absolute_percentage_error: 1963510784.0000\n",
            "Epoch 62/100\n",
            "\u001b[1m8432/8432\u001b[0m \u001b[32m━━━━━━━━━━━━━━━━━━━━\u001b[0m\u001b[37m\u001b[0m \u001b[1m37s\u001b[0m 2ms/step - loss: 256359312.0000 - mean_absolute_error: 9994.5107 - mean_absolute_percentage_error: 1330394752.0000 - val_loss: 267287104.0000 - val_mean_absolute_error: 10170.8115 - val_mean_absolute_percentage_error: 1847621248.0000\n",
            "Epoch 63/100\n",
            "\u001b[1m8432/8432\u001b[0m \u001b[32m━━━━━━━━━━━━━━━━━━━━\u001b[0m\u001b[37m\u001b[0m \u001b[1m21s\u001b[0m 3ms/step - loss: 252613248.0000 - mean_absolute_error: 10003.2871 - mean_absolute_percentage_error: 871168448.0000 - val_loss: 266132080.0000 - val_mean_absolute_error: 10246.7207 - val_mean_absolute_percentage_error: 1907892864.0000\n",
            "Epoch 64/100\n",
            "\u001b[1m8432/8432\u001b[0m \u001b[32m━━━━━━━━━━━━━━━━━━━━\u001b[0m\u001b[37m\u001b[0m \u001b[1m41s\u001b[0m 3ms/step - loss: 248937552.0000 - mean_absolute_error: 9986.2051 - mean_absolute_percentage_error: 1306263168.0000 - val_loss: 264071952.0000 - val_mean_absolute_error: 10140.5361 - val_mean_absolute_percentage_error: 1843120128.0000\n",
            "Epoch 65/100\n",
            "\u001b[1m8432/8432\u001b[0m \u001b[32m━━━━━━━━━━━━━━━━━━━━\u001b[0m\u001b[37m\u001b[0m \u001b[1m41s\u001b[0m 3ms/step - loss: 245015728.0000 - mean_absolute_error: 9928.4453 - mean_absolute_percentage_error: 1372758784.0000 - val_loss: 263335696.0000 - val_mean_absolute_error: 10152.9404 - val_mean_absolute_percentage_error: 1884123904.0000\n",
            "Epoch 66/100\n",
            "\u001b[1m8432/8432\u001b[0m \u001b[32m━━━━━━━━━━━━━━━━━━━━\u001b[0m\u001b[37m\u001b[0m \u001b[1m18s\u001b[0m 2ms/step - loss: 250551840.0000 - mean_absolute_error: 9970.3242 - mean_absolute_percentage_error: 1997846400.0000 - val_loss: 262374816.0000 - val_mean_absolute_error: 10270.2334 - val_mean_absolute_percentage_error: 1966999680.0000\n",
            "Epoch 67/100\n",
            "\u001b[1m8432/8432\u001b[0m \u001b[32m━━━━━━━━━━━━━━━━━━━━\u001b[0m\u001b[37m\u001b[0m \u001b[1m19s\u001b[0m 2ms/step - loss: 255945136.0000 - mean_absolute_error: 9937.3047 - mean_absolute_percentage_error: 1209551104.0000 - val_loss: 259410208.0000 - val_mean_absolute_error: 10047.8486 - val_mean_absolute_percentage_error: 1874588288.0000\n",
            "Epoch 68/100\n",
            "\u001b[1m8432/8432\u001b[0m \u001b[32m━━━━━━━━━━━━━━━━━━━━\u001b[0m\u001b[37m\u001b[0m \u001b[1m23s\u001b[0m 3ms/step - loss: 244599792.0000 - mean_absolute_error: 9913.6074 - mean_absolute_percentage_error: 1066767616.0000 - val_loss: 259554320.0000 - val_mean_absolute_error: 9985.7998 - val_mean_absolute_percentage_error: 1750123008.0000\n",
            "Epoch 69/100\n",
            "\u001b[1m8432/8432\u001b[0m \u001b[32m━━━━━━━━━━━━━━━━━━━━\u001b[0m\u001b[37m\u001b[0m \u001b[1m19s\u001b[0m 2ms/step - loss: 245893376.0000 - mean_absolute_error: 9887.3574 - mean_absolute_percentage_error: 1086083840.0000 - val_loss: 258883600.0000 - val_mean_absolute_error: 10112.5957 - val_mean_absolute_percentage_error: 1789206400.0000\n",
            "Epoch 70/100\n",
            "\u001b[1m8432/8432\u001b[0m \u001b[32m━━━━━━━━━━━━━━━━━━━━\u001b[0m\u001b[37m\u001b[0m \u001b[1m19s\u001b[0m 2ms/step - loss: 253462544.0000 - mean_absolute_error: 9922.4414 - mean_absolute_percentage_error: 1306284288.0000 - val_loss: 257066896.0000 - val_mean_absolute_error: 10024.4619 - val_mean_absolute_percentage_error: 1877979136.0000\n",
            "Epoch 71/100\n",
            "\u001b[1m8432/8432\u001b[0m \u001b[32m━━━━━━━━━━━━━━━━━━━━\u001b[0m\u001b[37m\u001b[0m \u001b[1m23s\u001b[0m 3ms/step - loss: 240421696.0000 - mean_absolute_error: 9829.6543 - mean_absolute_percentage_error: 867987520.0000 - val_loss: 255818928.0000 - val_mean_absolute_error: 10172.1191 - val_mean_absolute_percentage_error: 2036417280.0000\n",
            "Epoch 72/100\n",
            "\u001b[1m8432/8432\u001b[0m \u001b[32m━━━━━━━━━━━━━━━━━━━━\u001b[0m\u001b[37m\u001b[0m \u001b[1m41s\u001b[0m 3ms/step - loss: 238211904.0000 - mean_absolute_error: 9820.4951 - mean_absolute_percentage_error: 1323523712.0000 - val_loss: 253230320.0000 - val_mean_absolute_error: 9976.5713 - val_mean_absolute_percentage_error: 1944244992.0000\n",
            "Epoch 73/100\n",
            "\u001b[1m8432/8432\u001b[0m \u001b[32m━━━━━━━━━━━━━━━━━━━━\u001b[0m\u001b[37m\u001b[0m \u001b[1m19s\u001b[0m 2ms/step - loss: 241231136.0000 - mean_absolute_error: 9826.7578 - mean_absolute_percentage_error: 1669128192.0000 - val_loss: 252312944.0000 - val_mean_absolute_error: 9992.1338 - val_mean_absolute_percentage_error: 2063649920.0000\n",
            "Epoch 74/100\n",
            "\u001b[1m8432/8432\u001b[0m \u001b[32m━━━━━━━━━━━━━━━━━━━━\u001b[0m\u001b[37m\u001b[0m \u001b[1m19s\u001b[0m 2ms/step - loss: 240242688.0000 - mean_absolute_error: 9743.1631 - mean_absolute_percentage_error: 1910914304.0000 - val_loss: 251816448.0000 - val_mean_absolute_error: 9844.7021 - val_mean_absolute_percentage_error: 1895473920.0000\n",
            "Epoch 75/100\n",
            "\u001b[1m8432/8432\u001b[0m \u001b[32m━━━━━━━━━━━━━━━━━━━━\u001b[0m\u001b[37m\u001b[0m \u001b[1m21s\u001b[0m 2ms/step - loss: 242324416.0000 - mean_absolute_error: 9779.6611 - mean_absolute_percentage_error: 1234263040.0000 - val_loss: 250355152.0000 - val_mean_absolute_error: 9866.6768 - val_mean_absolute_percentage_error: 1946034944.0000\n",
            "Epoch 76/100\n",
            "\u001b[1m8432/8432\u001b[0m \u001b[32m━━━━━━━━━━━━━━━━━━━━\u001b[0m\u001b[37m\u001b[0m \u001b[1m42s\u001b[0m 3ms/step - loss: 234477920.0000 - mean_absolute_error: 9719.5908 - mean_absolute_percentage_error: 1351223936.0000 - val_loss: 249092800.0000 - val_mean_absolute_error: 9830.1494 - val_mean_absolute_percentage_error: 1955019264.0000\n",
            "Epoch 77/100\n",
            "\u001b[1m8432/8432\u001b[0m \u001b[32m━━━━━━━━━━━━━━━━━━━━\u001b[0m\u001b[37m\u001b[0m \u001b[1m19s\u001b[0m 2ms/step - loss: 238824592.0000 - mean_absolute_error: 9726.4033 - mean_absolute_percentage_error: 1789297024.0000 - val_loss: 247609648.0000 - val_mean_absolute_error: 9868.6172 - val_mean_absolute_percentage_error: 1976662272.0000\n",
            "Epoch 78/100\n",
            "\u001b[1m8432/8432\u001b[0m \u001b[32m━━━━━━━━━━━━━━━━━━━━\u001b[0m\u001b[37m\u001b[0m \u001b[1m20s\u001b[0m 2ms/step - loss: 235308928.0000 - mean_absolute_error: 9664.2773 - mean_absolute_percentage_error: 1813430784.0000 - val_loss: 247515648.0000 - val_mean_absolute_error: 9840.8047 - val_mean_absolute_percentage_error: 2050735360.0000\n",
            "Epoch 79/100\n",
            "\u001b[1m8432/8432\u001b[0m \u001b[32m━━━━━━━━━━━━━━━━━━━━\u001b[0m\u001b[37m\u001b[0m \u001b[1m21s\u001b[0m 3ms/step - loss: 236634704.0000 - mean_absolute_error: 9644.1055 - mean_absolute_percentage_error: 1325886976.0000 - val_loss: 246878144.0000 - val_mean_absolute_error: 9616.7002 - val_mean_absolute_percentage_error: 1813116032.0000\n",
            "Epoch 80/100\n",
            "\u001b[1m8432/8432\u001b[0m \u001b[32m━━━━━━━━━━━━━━━━━━━━\u001b[0m\u001b[37m\u001b[0m \u001b[1m38s\u001b[0m 2ms/step - loss: 238242368.0000 - mean_absolute_error: 9660.5410 - mean_absolute_percentage_error: 1588154112.0000 - val_loss: 245537168.0000 - val_mean_absolute_error: 9728.1416 - val_mean_absolute_percentage_error: 1893617024.0000\n",
            "Epoch 81/100\n",
            "\u001b[1m8432/8432\u001b[0m \u001b[32m━━━━━━━━━━━━━━━━━━━━\u001b[0m\u001b[37m\u001b[0m \u001b[1m21s\u001b[0m 2ms/step - loss: 238158784.0000 - mean_absolute_error: 9617.5703 - mean_absolute_percentage_error: 1119485952.0000 - val_loss: 243829808.0000 - val_mean_absolute_error: 9777.9766 - val_mean_absolute_percentage_error: 2031899904.0000\n",
            "Epoch 82/100\n",
            "\u001b[1m8432/8432\u001b[0m \u001b[32m━━━━━━━━━━━━━━━━━━━━\u001b[0m\u001b[37m\u001b[0m \u001b[1m20s\u001b[0m 2ms/step - loss: 230617008.0000 - mean_absolute_error: 9596.6338 - mean_absolute_percentage_error: 1593135616.0000 - val_loss: 243258560.0000 - val_mean_absolute_error: 9601.9033 - val_mean_absolute_percentage_error: 1809757696.0000\n",
            "Epoch 83/100\n",
            "\u001b[1m8432/8432\u001b[0m \u001b[32m━━━━━━━━━━━━━━━━━━━━\u001b[0m\u001b[37m\u001b[0m \u001b[1m21s\u001b[0m 2ms/step - loss: 231729392.0000 - mean_absolute_error: 9606.7197 - mean_absolute_percentage_error: 1170296448.0000 - val_loss: 242718848.0000 - val_mean_absolute_error: 9549.9023 - val_mean_absolute_percentage_error: 1842717568.0000\n",
            "Epoch 84/100\n",
            "\u001b[1m8432/8432\u001b[0m \u001b[32m━━━━━━━━━━━━━━━━━━━━\u001b[0m\u001b[37m\u001b[0m \u001b[1m20s\u001b[0m 2ms/step - loss: 229332800.0000 - mean_absolute_error: 9516.5596 - mean_absolute_percentage_error: 1585542144.0000 - val_loss: 241253056.0000 - val_mean_absolute_error: 9610.3379 - val_mean_absolute_percentage_error: 1890134400.0000\n",
            "Epoch 85/100\n",
            "\u001b[1m8432/8432\u001b[0m \u001b[32m━━━━━━━━━━━━━━━━━━━━\u001b[0m\u001b[37m\u001b[0m \u001b[1m21s\u001b[0m 2ms/step - loss: 229268400.0000 - mean_absolute_error: 9531.2842 - mean_absolute_percentage_error: 1541482880.0000 - val_loss: 243153568.0000 - val_mean_absolute_error: 9775.8496 - val_mean_absolute_percentage_error: 2063132288.0000\n",
            "Epoch 86/100\n",
            "\u001b[1m8432/8432\u001b[0m \u001b[32m━━━━━━━━━━━━━━━━━━━━\u001b[0m\u001b[37m\u001b[0m \u001b[1m21s\u001b[0m 3ms/step - loss: 232653040.0000 - mean_absolute_error: 9487.3408 - mean_absolute_percentage_error: 1899868160.0000 - val_loss: 239716464.0000 - val_mean_absolute_error: 9596.5840 - val_mean_absolute_percentage_error: 1949379456.0000\n",
            "Epoch 87/100\n",
            "\u001b[1m8432/8432\u001b[0m \u001b[32m━━━━━━━━━━━━━━━━━━━━\u001b[0m\u001b[37m\u001b[0m \u001b[1m38s\u001b[0m 2ms/step - loss: 223259856.0000 - mean_absolute_error: 9469.7178 - mean_absolute_percentage_error: 1218979584.0000 - val_loss: 240604592.0000 - val_mean_absolute_error: 9707.6934 - val_mean_absolute_percentage_error: 2151486208.0000\n",
            "Epoch 88/100\n",
            "\u001b[1m8432/8432\u001b[0m \u001b[32m━━━━━━━━━━━━━━━━━━━━\u001b[0m\u001b[37m\u001b[0m \u001b[1m22s\u001b[0m 3ms/step - loss: 229154032.0000 - mean_absolute_error: 9425.5830 - mean_absolute_percentage_error: 1268076800.0000 - val_loss: 237567856.0000 - val_mean_absolute_error: 9561.4053 - val_mean_absolute_percentage_error: 1975644928.0000\n",
            "Epoch 89/100\n",
            "\u001b[1m8432/8432\u001b[0m \u001b[32m━━━━━━━━━━━━━━━━━━━━\u001b[0m\u001b[37m\u001b[0m \u001b[1m41s\u001b[0m 3ms/step - loss: 224689856.0000 - mean_absolute_error: 9438.1992 - mean_absolute_percentage_error: 1058002368.0000 - val_loss: 238344816.0000 - val_mean_absolute_error: 9646.2969 - val_mean_absolute_percentage_error: 2044556672.0000\n",
            "Epoch 90/100\n",
            "\u001b[1m8432/8432\u001b[0m \u001b[32m━━━━━━━━━━━━━━━━━━━━\u001b[0m\u001b[37m\u001b[0m \u001b[1m37s\u001b[0m 2ms/step - loss: 228487968.0000 - mean_absolute_error: 9447.7178 - mean_absolute_percentage_error: 1660364800.0000 - val_loss: 236748672.0000 - val_mean_absolute_error: 9424.8369 - val_mean_absolute_percentage_error: 1941897984.0000\n",
            "Epoch 91/100\n",
            "\u001b[1m8432/8432\u001b[0m \u001b[32m━━━━━━━━━━━━━━━━━━━━\u001b[0m\u001b[37m\u001b[0m \u001b[1m21s\u001b[0m 3ms/step - loss: 227401920.0000 - mean_absolute_error: 9378.4443 - mean_absolute_percentage_error: 1144999296.0000 - val_loss: 235432816.0000 - val_mean_absolute_error: 9512.9824 - val_mean_absolute_percentage_error: 2019073536.0000\n",
            "Epoch 92/100\n",
            "\u001b[1m8432/8432\u001b[0m \u001b[32m━━━━━━━━━━━━━━━━━━━━\u001b[0m\u001b[37m\u001b[0m \u001b[1m18s\u001b[0m 2ms/step - loss: 224706512.0000 - mean_absolute_error: 9414.2744 - mean_absolute_percentage_error: 1207493504.0000 - val_loss: 236082928.0000 - val_mean_absolute_error: 9498.2412 - val_mean_absolute_percentage_error: 1991885312.0000\n",
            "Epoch 93/100\n",
            "\u001b[1m8432/8432\u001b[0m \u001b[32m━━━━━━━━━━━━━━━━━━━━\u001b[0m\u001b[37m\u001b[0m \u001b[1m23s\u001b[0m 2ms/step - loss: 222143136.0000 - mean_absolute_error: 9350.6943 - mean_absolute_percentage_error: 1175515904.0000 - val_loss: 234630448.0000 - val_mean_absolute_error: 9467.1914 - val_mean_absolute_percentage_error: 2005403520.0000\n",
            "Epoch 94/100\n",
            "\u001b[1m8432/8432\u001b[0m \u001b[32m━━━━━━━━━━━━━━━━━━━━\u001b[0m\u001b[37m\u001b[0m \u001b[1m20s\u001b[0m 2ms/step - loss: 219530000.0000 - mean_absolute_error: 9324.0938 - mean_absolute_percentage_error: 1773664640.0000 - val_loss: 234053600.0000 - val_mean_absolute_error: 9325.0605 - val_mean_absolute_percentage_error: 1915610624.0000\n",
            "Epoch 95/100\n",
            "\u001b[1m8432/8432\u001b[0m \u001b[32m━━━━━━━━━━━━━━━━━━━━\u001b[0m\u001b[37m\u001b[0m \u001b[1m18s\u001b[0m 2ms/step - loss: 228452752.0000 - mean_absolute_error: 9361.9102 - mean_absolute_percentage_error: 1175356288.0000 - val_loss: 233514128.0000 - val_mean_absolute_error: 9446.8057 - val_mean_absolute_percentage_error: 2069116288.0000\n",
            "Epoch 96/100\n",
            "\u001b[1m8432/8432\u001b[0m \u001b[32m━━━━━━━━━━━━━━━━━━━━\u001b[0m\u001b[37m\u001b[0m \u001b[1m21s\u001b[0m 2ms/step - loss: 220700608.0000 - mean_absolute_error: 9338.5049 - mean_absolute_percentage_error: 1393261568.0000 - val_loss: 232594496.0000 - val_mean_absolute_error: 9451.0918 - val_mean_absolute_percentage_error: 2050441088.0000\n",
            "Epoch 97/100\n",
            "\u001b[1m8432/8432\u001b[0m \u001b[32m━━━━━━━━━━━━━━━━━━━━\u001b[0m\u001b[37m\u001b[0m \u001b[1m21s\u001b[0m 3ms/step - loss: 218728480.0000 - mean_absolute_error: 9302.1602 - mean_absolute_percentage_error: 1373003392.0000 - val_loss: 233411328.0000 - val_mean_absolute_error: 9323.6836 - val_mean_absolute_percentage_error: 1911760640.0000\n",
            "Epoch 98/100\n",
            "\u001b[1m8432/8432\u001b[0m \u001b[32m━━━━━━━━━━━━━━━━━━━━\u001b[0m\u001b[37m\u001b[0m \u001b[1m42s\u001b[0m 3ms/step - loss: 217794848.0000 - mean_absolute_error: 9326.3770 - mean_absolute_percentage_error: 1448367232.0000 - val_loss: 232781536.0000 - val_mean_absolute_error: 9391.3975 - val_mean_absolute_percentage_error: 2001405184.0000\n",
            "Epoch 99/100\n",
            "\u001b[1m8432/8432\u001b[0m \u001b[32m━━━━━━━━━━━━━━━━━━━━\u001b[0m\u001b[37m\u001b[0m \u001b[1m41s\u001b[0m 3ms/step - loss: 217121552.0000 - mean_absolute_error: 9304.6738 - mean_absolute_percentage_error: 1379139840.0000 - val_loss: 231935824.0000 - val_mean_absolute_error: 9269.5264 - val_mean_absolute_percentage_error: 1863699584.0000\n",
            "Epoch 100/100\n",
            "\u001b[1m8432/8432\u001b[0m \u001b[32m━━━━━━━━━━━━━━━━━━━━\u001b[0m\u001b[37m\u001b[0m \u001b[1m19s\u001b[0m 2ms/step - loss: 218055392.0000 - mean_absolute_error: 9257.3379 - mean_absolute_percentage_error: 1561859456.0000 - val_loss: 230817376.0000 - val_mean_absolute_error: 9414.9150 - val_mean_absolute_percentage_error: 2088365952.0000\n"
          ]
        }
      ],
      "source": [
        "result=model4.fit(x_train_df,y_train,epochs=100,validation_split=0.2,batch_size=32)"
      ]
    },
    {
      "cell_type": "code",
      "execution_count": null,
      "metadata": {
        "colab": {
          "base_uri": "https://localhost:8080/",
          "height": 445
        },
        "id": "DXBrnmhqLSUo",
        "outputId": "ba7bb6de-df00-468f-b6f2-49cc8e230acf"
      },
      "outputs": [
        {
          "output_type": "display_data",
          "data": {
            "text/plain": [
              "<Figure size 640x480 with 1 Axes>"
            ],
            "image/png": "[encoded data removed]"
          },
          "metadata": {}
        }
      ],
      "source": [
        "result4=pd.DataFrame(result.history)\n",
        "plt.plot(range(1,101),result4['loss'],label=\"train_loss\")\n",
        "plt.plot(range(1,101),result4['val_loss'],label=\"val_loss\")\n",
        "plt.legend()\n",
        "plt.show()"
      ]
    },
    {
      "cell_type": "code",
      "execution_count": null,
      "metadata": {
        "colab": {
          "base_uri": "https://localhost:8080/",
          "height": 272
        },
        "id": "KQ4Ksz53K7eY",
        "outputId": "adffd4c9-7934-4f8e-d524-ffaac544083d"
      },
      "outputs": [
        {
          "output_type": "execute_result",
          "data": {
            "text/plain": [
              "loss                                  2.200956e+08\n",
              "mean_absolute_error                   9.281344e+03\n",
              "mean_absolute_percentage_error        1.430417e+09\n",
              "val_loss                              2.308174e+08\n",
              "val_mean_absolute_error               9.414915e+03\n",
              "val_mean_absolute_percentage_error    2.088366e+09\n",
              "Name: 99, dtype: float64"
            ],
            "text/html": [
              "<div>\n",
              "<style scoped>\n",
              "    .dataframe tbody tr th:only-of-type {\n",
              "        vertical-align: middle;\n",
              "    }\n",
              "\n",
              "    .dataframe tbody tr th {\n",
              "        vertical-align: top;\n",
              "    }\n",
              "\n",
              "    .dataframe thead th {\n",
              "        text-align: right;\n",
              "    }\n",
              "</style>\n",
              "<table border=\"1\" class=\"dataframe\">\n",
              "  <thead>\n",
              "    <tr style=\"text-align: right;\">\n",
              "      <th></th>\n",
              "      <th>99</th>\n",
              "    </tr>\n",
              "  </thead>\n",
              "  <tbody>\n",
              "    <tr>\n",
              "      <th>loss</th>\n",
              "      <td>2.200956e+08</td>\n",
              "    </tr>\n",
              "    <tr>\n",
              "      <th>mean_absolute_error</th>\n",
              "      <td>9.281344e+03</td>\n",
              "    </tr>\n",
              "    <tr>\n",
              "      <th>mean_absolute_percentage_error</th>\n",
              "      <td>1.430417e+09</td>\n",
              "    </tr>\n",
              "    <tr>\n",
              "      <th>val_loss</th>\n",
              "      <td>2.308174e+08</td>\n",
              "    </tr>\n",
              "    <tr>\n",
              "      <th>val_mean_absolute_error</th>\n",
              "      <td>9.414915e+03</td>\n",
              "    </tr>\n",
              "    <tr>\n",
              "      <th>val_mean_absolute_percentage_error</th>\n",
              "      <td>2.088366e+09</td>\n",
              "    </tr>\n",
              "  </tbody>\n",
              "</table>\n",
              "</div><br><label><b>dtype:</b> float64</label>"
            ]
          },
          "metadata": {},
          "execution_count": 15
        }
      ],
      "source": [
        "result4.iloc[-1]"
      ]
    },
    {
      "cell_type": "code",
      "execution_count": null,
      "metadata": {
        "colab": {
          "base_uri": "https://localhost:8080/"
        },
        "id": "o28r-iw2FXra",
        "outputId": "3395d7c7-a6c0-4b40-d557-f62aff264f70"
      },
      "outputs": [
        {
          "output_type": "stream",
          "name": "stdout",
          "text": [
            "\u001b[1m2635/2635\u001b[0m \u001b[32m━━━━━━━━━━━━━━━━━━━━\u001b[0m\u001b[37m\u001b[0m \u001b[1m4s\u001b[0m 1ms/step - loss: 224814736.0000 - mean_absolute_error: 9441.3057 - mean_absolute_percentage_error: 1489543936.0000\n"
          ]
        },
        {
          "output_type": "execute_result",
          "data": {
            "text/plain": [
              "[227866400.0, 9440.7373046875, 1715397760.0]"
            ]
          },
          "metadata": {},
          "execution_count": 16
        }
      ],
      "source": [
        "model4.evaluate(x_test_ss, y_test)"
      ]
    },
    {
      "cell_type": "code",
      "execution_count": null,
      "metadata": {
        "colab": {
          "base_uri": "https://localhost:8080/"
        },
        "id": "LBBTOMSQFXn9",
        "outputId": "e013c7f5-cce9-429a-fdc4-8a96f7de57c3"
      },
      "outputs": [
        {
          "output_type": "stream",
          "name": "stdout",
          "text": [
            "\u001b[1m1/1\u001b[0m \u001b[32m━━━━━━━━━━━━━━━━━━━━\u001b[0m\u001b[37m\u001b[0m \u001b[1m0s\u001b[0m 27ms/step\n"
          ]
        },
        {
          "output_type": "stream",
          "name": "stderr",
          "text": [
            "/usr/local/lib/python3.10/dist-packages/sklearn/base.py:465: UserWarning: X does not have valid feature names, but StandardScaler was fitted with feature names\n",
            "  warnings.warn(\n"
          ]
        },
        {
          "output_type": "execute_result",
          "data": {
            "text/plain": [
              "array([[27623.043]], dtype=float32)"
            ]
          },
          "metadata": {},
          "execution_count": 22
        }
      ],
      "source": [
        "pred=[1,1,1,151315,42.31,2.572,4866.2909,24157.0344,376.8238,1187.4454,4158.9236,211.096358,8.106,0,5,2,2010]\n",
        "te=pd.DataFrame(pred).T\n",
        "te_ss=scaler.transform(te)\n",
        "te_df=pd.DataFrame(te_ss, columns=x_train_df.columns)\n",
        "model4.predict(te_df)"
      ]
    },
    {
      "cell_type": "code",
      "execution_count": null,
      "metadata": {
        "colab": {
          "base_uri": "https://localhost:8080/"
        },
        "id": "fz1HHzk7Fef2",
        "outputId": "f58aadee-c9b2-466b-d8e6-cf676f59fed3"
      },
      "outputs": [
        {
          "output_type": "stream",
          "name": "stderr",
          "text": [
            "WARNING:absl:You are saving your model as an HDF5 file via `model.save()` or `keras.saving.save_model(model)`. This file format is considered legacy. We recommend using instead the native Keras format, e.g. `model.save('my_model.keras')` or `keras.saving.save_model(model, 'my_model.keras')`. \n"
          ]
        }
      ],
      "source": [
        "model4.save('model_aug_23(100).h5')"
      ]
    },
    {
      "cell_type": "code",
      "source": [
        "pred=[1,1,1,151315,42.31,2.572,4866.2909,24157.0344,376.8238,1187.4454,4158.9236,211.096358,8.106,0,5,2,2010]\n",
        "te=pd.DataFrame(pred).T\n",
        "custom_objects = {'LeakyReLU': LeakyReLU}\n",
        "ch_model=load_model('/content/model_aug_23(100).h5', custom_objects =custom_objects)\n",
        "ch_model.compile(optimizer=\"adam\",loss=\"mean_squared_error\",\n",
        "               metrics=[tf.keras.metrics.MeanAbsoluteError(),tf.keras.metrics.MeanAbsolutePercentageError()])"
      ],
      "metadata": {
        "colab": {
          "base_uri": "https://localhost:8080/"
        },
        "id": "rJoa1iH1ar8x",
        "outputId": "4f7dd1dc-e08d-4bbc-8ad1-2511c7fa7fb6"
      },
      "execution_count": null,
      "outputs": [
        {
          "output_type": "stream",
          "name": "stderr",
          "text": [
            "WARNING:absl:Compiled the loaded model, but the compiled metrics have yet to be built. `model.compile_metrics` will be empty until you train or evaluate the model.\n"
          ]
        }
      ]
    },
    {
      "cell_type": "code",
      "source": [
        "te_ss=scaler.transform(te)\n",
        "te_df=pd.DataFrame(te_ss)\n",
        "ch_model.predict(te_df)\n",
        "ch_model.predict(te_df)"
      ],
      "metadata": {
        "colab": {
          "base_uri": "https://localhost:8080/"
        },
        "id": "RPu_Mon_caHW",
        "outputId": "7a0e472c-10a1-4b5f-a884-25c1ad3635ed"
      },
      "execution_count": null,
      "outputs": [
        {
          "output_type": "stream",
          "name": "stdout",
          "text": [
            "\u001b[1m1/1\u001b[0m \u001b[32m━━━━━━━━━━━━━━━━━━━━\u001b[0m\u001b[37m\u001b[0m \u001b[1m0s\u001b[0m 26ms/step\n",
            "\u001b[1m1/1\u001b[0m \u001b[32m━━━━━━━━━━━━━━━━━━━━\u001b[0m\u001b[37m\u001b[0m \u001b[1m0s\u001b[0m 26ms/step\n"
          ]
        },
        {
          "output_type": "stream",
          "name": "stderr",
          "text": [
            "/usr/local/lib/python3.10/dist-packages/sklearn/base.py:465: UserWarning: X does not have valid feature names, but StandardScaler was fitted with feature names\n",
            "  warnings.warn(\n"
          ]
        },
        {
          "output_type": "execute_result",
          "data": {
            "text/plain": [
              "array([[27623.043]], dtype=float32)"
            ]
          },
          "metadata": {},
          "execution_count": 24
        }
      ]
    },
    {
      "cell_type": "code",
      "source": [
        "#model10"
      ],
      "metadata": {
        "id": "N8VvO1JrZQql"
      },
      "execution_count": null,
      "outputs": []
    },
    {
      "cell_type": "code",
      "source": [
        "model10=Sequential()\n",
        "\n",
        "model10.add(Dense(64,input_dim=(len(x_train_ss[0])),activation=LeakyReLU(alpha=0.01)))\n",
        "model10.add(Dense(32,input_dim=(len(x_train_ss[0])),activation=LeakyReLU(alpha=0.01)))\n",
        "model10.add(Dense(1))\n",
        "\n",
        "\n",
        "model10.compile(optimizer=\"adam\",loss=\"mean_squared_error\",metrics=[tf.keras.metrics.MeanAbsoluteError(),tf.keras.metrics.MeanAbsolutePercentageError()])"
      ],
      "metadata": {
        "colab": {
          "base_uri": "https://localhost:8080/"
        },
        "id": "KTjKor_bZSZn",
        "outputId": "a32e1dc0-23bf-4c38-926f-ed487df8241a"
      },
      "execution_count": 28,
      "outputs": [
        {
          "output_type": "stream",
          "name": "stderr",
          "text": [
            "/usr/local/lib/python3.10/dist-packages/keras/src/layers/activations/leaky_relu.py:41: UserWarning: Argument `alpha` is deprecated. Use `negative_slope` instead.\n",
            "  warnings.warn(\n",
            "/usr/local/lib/python3.10/dist-packages/keras/src/layers/core/dense.py:87: UserWarning: Do not pass an `input_shape`/`input_dim` argument to a layer. When using Sequential models, prefer using an `Input(shape)` object as the first layer in the model instead.\n",
            "  super().__init__(activity_regularizer=activity_regularizer, **kwargs)\n"
          ]
        }
      ]
    },
    {
      "cell_type": "code",
      "source": [
        "result10=model10.fit(x_train_df,y_train,epochs=75,validation_split=0.2,batch_size=32)"
      ],
      "metadata": {
        "colab": {
          "base_uri": "https://localhost:8080/"
        },
        "id": "EV9GAyC6ZbXB",
        "outputId": "15577014-e1a2-4de2-c11a-ffc29c5b9e0b"
      },
      "execution_count": 29,
      "outputs": [
        {
          "output_type": "stream",
          "name": "stdout",
          "text": [
            "Epoch 1/75\n",
            "\u001b[1m8432/8432\u001b[0m \u001b[32m━━━━━━━━━━━━━━━━━━━━\u001b[0m\u001b[37m\u001b[0m \u001b[1m22s\u001b[0m 2ms/step - loss: 564635456.0000 - mean_absolute_error: 14471.0156 - mean_absolute_percentage_error: 2403895552.0000 - val_loss: 464144960.0000 - val_mean_absolute_error: 14478.4131 - val_mean_absolute_percentage_error: 1169419264.0000\n",
            "Epoch 2/75\n",
            "\u001b[1m8432/8432\u001b[0m \u001b[32m━━━━━━━━━━━━━━━━━━━━\u001b[0m\u001b[37m\u001b[0m \u001b[1m18s\u001b[0m 2ms/step - loss: 466311424.0000 - mean_absolute_error: 14403.0215 - mean_absolute_percentage_error: 3909404928.0000 - val_loss: 446778496.0000 - val_mean_absolute_error: 14140.0791 - val_mean_absolute_percentage_error: 1146029440.0000\n",
            "Epoch 3/75\n",
            "\u001b[1m8432/8432\u001b[0m \u001b[32m━━━━━━━━━━━━━━━━━━━━\u001b[0m\u001b[37m\u001b[0m \u001b[1m18s\u001b[0m 2ms/step - loss: 432330752.0000 - mean_absolute_error: 13793.1514 - mean_absolute_percentage_error: 4221377280.0000 - val_loss: 419468096.0000 - val_mean_absolute_error: 13314.1787 - val_mean_absolute_percentage_error: 898285504.0000\n",
            "Epoch 4/75\n",
            "\u001b[1m8432/8432\u001b[0m \u001b[32m━━━━━━━━━━━━━━━━━━━━\u001b[0m\u001b[37m\u001b[0m \u001b[1m18s\u001b[0m 2ms/step - loss: 413262784.0000 - mean_absolute_error: 13119.3564 - mean_absolute_percentage_error: 3100669696.0000 - val_loss: 408093984.0000 - val_mean_absolute_error: 12882.8613 - val_mean_absolute_percentage_error: 700309696.0000\n",
            "Epoch 5/75\n",
            "\u001b[1m8432/8432\u001b[0m \u001b[32m━━━━━━━━━━━━━━━━━━━━\u001b[0m\u001b[37m\u001b[0m \u001b[1m21s\u001b[0m 2ms/step - loss: 402384800.0000 - mean_absolute_error: 12689.7217 - mean_absolute_percentage_error: 2269436416.0000 - val_loss: 401946720.0000 - val_mean_absolute_error: 12681.5459 - val_mean_absolute_percentage_error: 646975552.0000\n",
            "Epoch 6/75\n",
            "\u001b[1m8432/8432\u001b[0m \u001b[32m━━━━━━━━━━━━━━━━━━━━\u001b[0m\u001b[37m\u001b[0m \u001b[1m20s\u001b[0m 2ms/step - loss: 400035296.0000 - mean_absolute_error: 12472.8320 - mean_absolute_percentage_error: 1954771328.0000 - val_loss: 397936384.0000 - val_mean_absolute_error: 12617.7080 - val_mean_absolute_percentage_error: 650896384.0000\n",
            "Epoch 7/75\n",
            "\u001b[1m8432/8432\u001b[0m \u001b[32m━━━━━━━━━━━━━━━━━━━━\u001b[0m\u001b[37m\u001b[0m \u001b[1m18s\u001b[0m 2ms/step - loss: 397704704.0000 - mean_absolute_error: 12505.6016 - mean_absolute_percentage_error: 2485249792.0000 - val_loss: 394955776.0000 - val_mean_absolute_error: 12458.5293 - val_mean_absolute_percentage_error: 660566784.0000\n",
            "Epoch 8/75\n",
            "\u001b[1m8432/8432\u001b[0m \u001b[32m━━━━━━━━━━━━━━━━━━━━\u001b[0m\u001b[37m\u001b[0m \u001b[1m20s\u001b[0m 2ms/step - loss: 393453344.0000 - mean_absolute_error: 12377.9248 - mean_absolute_percentage_error: 2015462016.0000 - val_loss: 392270592.0000 - val_mean_absolute_error: 12461.7500 - val_mean_absolute_percentage_error: 679403008.0000\n",
            "Epoch 9/75\n",
            "\u001b[1m8432/8432\u001b[0m \u001b[32m━━━━━━━━━━━━━━━━━━━━\u001b[0m\u001b[37m\u001b[0m \u001b[1m20s\u001b[0m 2ms/step - loss: 385073504.0000 - mean_absolute_error: 12237.4092 - mean_absolute_percentage_error: 2693294848.0000 - val_loss: 389756000.0000 - val_mean_absolute_error: 12383.2559 - val_mean_absolute_percentage_error: 671749248.0000\n",
            "Epoch 10/75\n",
            "\u001b[1m8432/8432\u001b[0m \u001b[32m━━━━━━━━━━━━━━━━━━━━\u001b[0m\u001b[37m\u001b[0m \u001b[1m18s\u001b[0m 2ms/step - loss: 375575072.0000 - mean_absolute_error: 12118.2109 - mean_absolute_percentage_error: 2105630336.0000 - val_loss: 387730240.0000 - val_mean_absolute_error: 12284.9443 - val_mean_absolute_percentage_error: 667784384.0000\n",
            "Epoch 11/75\n",
            "\u001b[1m8432/8432\u001b[0m \u001b[32m━━━━━━━━━━━━━━━━━━━━\u001b[0m\u001b[37m\u001b[0m \u001b[1m20s\u001b[0m 2ms/step - loss: 384568640.0000 - mean_absolute_error: 12131.6152 - mean_absolute_percentage_error: 2222477312.0000 - val_loss: 386259424.0000 - val_mean_absolute_error: 12213.9453 - val_mean_absolute_percentage_error: 665025344.0000\n",
            "Epoch 12/75\n",
            "\u001b[1m8432/8432\u001b[0m \u001b[32m━━━━━━━━━━━━━━━━━━━━\u001b[0m\u001b[37m\u001b[0m \u001b[1m20s\u001b[0m 2ms/step - loss: 385179424.0000 - mean_absolute_error: 12129.4512 - mean_absolute_percentage_error: 2124693376.0000 - val_loss: 384864736.0000 - val_mean_absolute_error: 12227.7607 - val_mean_absolute_percentage_error: 684446912.0000\n",
            "Epoch 13/75\n",
            "\u001b[1m8432/8432\u001b[0m \u001b[32m━━━━━━━━━━━━━━━━━━━━\u001b[0m\u001b[37m\u001b[0m \u001b[1m21s\u001b[0m 2ms/step - loss: 380811488.0000 - mean_absolute_error: 12064.9238 - mean_absolute_percentage_error: 1762090368.0000 - val_loss: 383938176.0000 - val_mean_absolute_error: 12183.3887 - val_mean_absolute_percentage_error: 679123456.0000\n",
            "Epoch 14/75\n",
            "\u001b[1m8432/8432\u001b[0m \u001b[32m━━━━━━━━━━━━━━━━━━━━\u001b[0m\u001b[37m\u001b[0m \u001b[1m18s\u001b[0m 2ms/step - loss: 376781664.0000 - mean_absolute_error: 12033.2363 - mean_absolute_percentage_error: 2658122496.0000 - val_loss: 383026976.0000 - val_mean_absolute_error: 12171.3828 - val_mean_absolute_percentage_error: 699876352.0000\n",
            "Epoch 15/75\n",
            "\u001b[1m8432/8432\u001b[0m \u001b[32m━━━━━━━━━━━━━━━━━━━━\u001b[0m\u001b[37m\u001b[0m \u001b[1m18s\u001b[0m 2ms/step - loss: 378037248.0000 - mean_absolute_error: 12006.1709 - mean_absolute_percentage_error: 2227258880.0000 - val_loss: 382103552.0000 - val_mean_absolute_error: 12143.4375 - val_mean_absolute_percentage_error: 681580288.0000\n",
            "Epoch 16/75\n",
            "\u001b[1m8432/8432\u001b[0m \u001b[32m━━━━━━━━━━━━━━━━━━━━\u001b[0m\u001b[37m\u001b[0m \u001b[1m23s\u001b[0m 2ms/step - loss: 375208256.0000 - mean_absolute_error: 11958.9238 - mean_absolute_percentage_error: 2806362624.0000 - val_loss: 381562272.0000 - val_mean_absolute_error: 12135.6152 - val_mean_absolute_percentage_error: 676626368.0000\n",
            "Epoch 17/75\n",
            "\u001b[1m8432/8432\u001b[0m \u001b[32m━━━━━━━━━━━━━━━━━━━━\u001b[0m\u001b[37m\u001b[0m \u001b[1m41s\u001b[0m 2ms/step - loss: 375261216.0000 - mean_absolute_error: 11969.2178 - mean_absolute_percentage_error: 2799848960.0000 - val_loss: 381049440.0000 - val_mean_absolute_error: 12007.1787 - val_mean_absolute_percentage_error: 664152128.0000\n",
            "Epoch 18/75\n",
            "\u001b[1m8432/8432\u001b[0m \u001b[32m━━━━━━━━━━━━━━━━━━━━\u001b[0m\u001b[37m\u001b[0m \u001b[1m18s\u001b[0m 2ms/step - loss: 374070624.0000 - mean_absolute_error: 11942.6396 - mean_absolute_percentage_error: 1630198656.0000 - val_loss: 380574624.0000 - val_mean_absolute_error: 12166.9688 - val_mean_absolute_percentage_error: 669400192.0000\n",
            "Epoch 19/75\n",
            "\u001b[1m8432/8432\u001b[0m \u001b[32m━━━━━━━━━━━━━━━━━━━━\u001b[0m\u001b[37m\u001b[0m \u001b[1m18s\u001b[0m 2ms/step - loss: 372323872.0000 - mean_absolute_error: 11910.7031 - mean_absolute_percentage_error: 2554307840.0000 - val_loss: 379956000.0000 - val_mean_absolute_error: 12004.4189 - val_mean_absolute_percentage_error: 670141824.0000\n",
            "Epoch 20/75\n",
            "\u001b[1m8432/8432\u001b[0m \u001b[32m━━━━━━━━━━━━━━━━━━━━\u001b[0m\u001b[37m\u001b[0m \u001b[1m18s\u001b[0m 2ms/step - loss: 385795712.0000 - mean_absolute_error: 11929.7627 - mean_absolute_percentage_error: 2047104256.0000 - val_loss: 379577888.0000 - val_mean_absolute_error: 11992.9766 - val_mean_absolute_percentage_error: 665918080.0000\n",
            "Epoch 21/75\n",
            "\u001b[1m8432/8432\u001b[0m \u001b[32m━━━━━━━━━━━━━━━━━━━━\u001b[0m\u001b[37m\u001b[0m \u001b[1m20s\u001b[0m 2ms/step - loss: 380858560.0000 - mean_absolute_error: 11981.1846 - mean_absolute_percentage_error: 2346717952.0000 - val_loss: 379269472.0000 - val_mean_absolute_error: 12086.6445 - val_mean_absolute_percentage_error: 665806592.0000\n",
            "Epoch 22/75\n",
            "\u001b[1m8432/8432\u001b[0m \u001b[32m━━━━━━━━━━━━━━━━━━━━\u001b[0m\u001b[37m\u001b[0m \u001b[1m20s\u001b[0m 2ms/step - loss: 376868448.0000 - mean_absolute_error: 11946.0986 - mean_absolute_percentage_error: 2036242816.0000 - val_loss: 379378912.0000 - val_mean_absolute_error: 12094.5391 - val_mean_absolute_percentage_error: 699541696.0000\n",
            "Epoch 23/75\n",
            "\u001b[1m8432/8432\u001b[0m \u001b[32m━━━━━━━━━━━━━━━━━━━━\u001b[0m\u001b[37m\u001b[0m \u001b[1m18s\u001b[0m 2ms/step - loss: 370388000.0000 - mean_absolute_error: 11950.4785 - mean_absolute_percentage_error: 2731595776.0000 - val_loss: 378883936.0000 - val_mean_absolute_error: 11927.0615 - val_mean_absolute_percentage_error: 662817664.0000\n",
            "Epoch 24/75\n",
            "\u001b[1m8432/8432\u001b[0m \u001b[32m━━━━━━━━━━━━━━━━━━━━\u001b[0m\u001b[37m\u001b[0m \u001b[1m20s\u001b[0m 2ms/step - loss: 374889920.0000 - mean_absolute_error: 11908.3818 - mean_absolute_percentage_error: 2367898368.0000 - val_loss: 378745824.0000 - val_mean_absolute_error: 12055.6006 - val_mean_absolute_percentage_error: 669291584.0000\n",
            "Epoch 25/75\n",
            "\u001b[1m8432/8432\u001b[0m \u001b[32m━━━━━━━━━━━━━━━━━━━━\u001b[0m\u001b[37m\u001b[0m \u001b[1m18s\u001b[0m 2ms/step - loss: 376402048.0000 - mean_absolute_error: 11894.6426 - mean_absolute_percentage_error: 2927323904.0000 - val_loss: 378118912.0000 - val_mean_absolute_error: 12025.6924 - val_mean_absolute_percentage_error: 669555520.0000\n",
            "Epoch 26/75\n",
            "\u001b[1m8432/8432\u001b[0m \u001b[32m━━━━━━━━━━━━━━━━━━━━\u001b[0m\u001b[37m\u001b[0m \u001b[1m21s\u001b[0m 2ms/step - loss: 377683616.0000 - mean_absolute_error: 11869.6299 - mean_absolute_percentage_error: 2420298240.0000 - val_loss: 377991104.0000 - val_mean_absolute_error: 12123.2041 - val_mean_absolute_percentage_error: 692358592.0000\n",
            "Epoch 27/75\n",
            "\u001b[1m8432/8432\u001b[0m \u001b[32m━━━━━━━━━━━━━━━━━━━━\u001b[0m\u001b[37m\u001b[0m \u001b[1m20s\u001b[0m 2ms/step - loss: 374897472.0000 - mean_absolute_error: 11921.2793 - mean_absolute_percentage_error: 2381498112.0000 - val_loss: 377563296.0000 - val_mean_absolute_error: 11989.2344 - val_mean_absolute_percentage_error: 689489536.0000\n",
            "Epoch 28/75\n",
            "\u001b[1m8432/8432\u001b[0m \u001b[32m━━━━━━━━━━━━━━━━━━━━\u001b[0m\u001b[37m\u001b[0m \u001b[1m26s\u001b[0m 3ms/step - loss: 370705184.0000 - mean_absolute_error: 11868.3281 - mean_absolute_percentage_error: 2370587904.0000 - val_loss: 377784160.0000 - val_mean_absolute_error: 12127.9844 - val_mean_absolute_percentage_error: 698671168.0000\n",
            "Epoch 29/75\n",
            "\u001b[1m8432/8432\u001b[0m \u001b[32m━━━━━━━━━━━━━━━━━━━━\u001b[0m\u001b[37m\u001b[0m \u001b[1m17s\u001b[0m 2ms/step - loss: 370015936.0000 - mean_absolute_error: 11846.5928 - mean_absolute_percentage_error: 1638617856.0000 - val_loss: 377175296.0000 - val_mean_absolute_error: 12002.9189 - val_mean_absolute_percentage_error: 679778560.0000\n",
            "Epoch 30/75\n",
            "\u001b[1m8432/8432\u001b[0m \u001b[32m━━━━━━━━━━━━━━━━━━━━\u001b[0m\u001b[37m\u001b[0m \u001b[1m20s\u001b[0m 2ms/step - loss: 378100544.0000 - mean_absolute_error: 11887.8594 - mean_absolute_percentage_error: 2073157376.0000 - val_loss: 377023936.0000 - val_mean_absolute_error: 11951.8877 - val_mean_absolute_percentage_error: 657266752.0000\n",
            "Epoch 31/75\n",
            "\u001b[1m8432/8432\u001b[0m \u001b[32m━━━━━━━━━━━━━━━━━━━━\u001b[0m\u001b[37m\u001b[0m \u001b[1m21s\u001b[0m 2ms/step - loss: 373345120.0000 - mean_absolute_error: 11859.3984 - mean_absolute_percentage_error: 1863681152.0000 - val_loss: 376556448.0000 - val_mean_absolute_error: 11980.7900 - val_mean_absolute_percentage_error: 675848384.0000\n",
            "Epoch 32/75\n",
            "\u001b[1m8432/8432\u001b[0m \u001b[32m━━━━━━━━━━━━━━━━━━━━\u001b[0m\u001b[37m\u001b[0m \u001b[1m18s\u001b[0m 2ms/step - loss: 366906752.0000 - mean_absolute_error: 11802.8311 - mean_absolute_percentage_error: 2146521472.0000 - val_loss: 376167936.0000 - val_mean_absolute_error: 11938.0957 - val_mean_absolute_percentage_error: 659370176.0000\n",
            "Epoch 33/75\n",
            "\u001b[1m8432/8432\u001b[0m \u001b[32m━━━━━━━━━━━━━━━━━━━━\u001b[0m\u001b[37m\u001b[0m \u001b[1m20s\u001b[0m 2ms/step - loss: 366813696.0000 - mean_absolute_error: 11767.5254 - mean_absolute_percentage_error: 2126377600.0000 - val_loss: 375834432.0000 - val_mean_absolute_error: 11969.3281 - val_mean_absolute_percentage_error: 670731264.0000\n",
            "Epoch 34/75\n",
            "\u001b[1m8432/8432\u001b[0m \u001b[32m━━━━━━━━━━━━━━━━━━━━\u001b[0m\u001b[37m\u001b[0m \u001b[1m20s\u001b[0m 2ms/step - loss: 370874176.0000 - mean_absolute_error: 11818.3975 - mean_absolute_percentage_error: 2546745600.0000 - val_loss: 375841056.0000 - val_mean_absolute_error: 11957.4346 - val_mean_absolute_percentage_error: 656550336.0000\n",
            "Epoch 35/75\n",
            "\u001b[1m8432/8432\u001b[0m \u001b[32m━━━━━━━━━━━━━━━━━━━━\u001b[0m\u001b[37m\u001b[0m \u001b[1m18s\u001b[0m 2ms/step - loss: 367516704.0000 - mean_absolute_error: 11805.3350 - mean_absolute_percentage_error: 2952630528.0000 - val_loss: 375240704.0000 - val_mean_absolute_error: 11914.8096 - val_mean_absolute_percentage_error: 670201024.0000\n",
            "Epoch 36/75\n",
            "\u001b[1m8432/8432\u001b[0m \u001b[32m━━━━━━━━━━━━━━━━━━━━\u001b[0m\u001b[37m\u001b[0m \u001b[1m18s\u001b[0m 2ms/step - loss: 373324864.0000 - mean_absolute_error: 11870.7422 - mean_absolute_percentage_error: 2175664640.0000 - val_loss: 375160320.0000 - val_mean_absolute_error: 11961.1641 - val_mean_absolute_percentage_error: 665509120.0000\n",
            "Epoch 37/75\n",
            "\u001b[1m8432/8432\u001b[0m \u001b[32m━━━━━━━━━━━━━━━━━━━━\u001b[0m\u001b[37m\u001b[0m \u001b[1m19s\u001b[0m 2ms/step - loss: 371883296.0000 - mean_absolute_error: 11825.8926 - mean_absolute_percentage_error: 2881377280.0000 - val_loss: 374843424.0000 - val_mean_absolute_error: 11979.2119 - val_mean_absolute_percentage_error: 684866048.0000\n",
            "Epoch 38/75\n",
            "\u001b[1m8432/8432\u001b[0m \u001b[32m━━━━━━━━━━━━━━━━━━━━\u001b[0m\u001b[37m\u001b[0m \u001b[1m20s\u001b[0m 2ms/step - loss: 371969632.0000 - mean_absolute_error: 11883.5918 - mean_absolute_percentage_error: 2851600128.0000 - val_loss: 374509632.0000 - val_mean_absolute_error: 12000.3594 - val_mean_absolute_percentage_error: 677265920.0000\n",
            "Epoch 39/75\n",
            "\u001b[1m8432/8432\u001b[0m \u001b[32m━━━━━━━━━━━━━━━━━━━━\u001b[0m\u001b[37m\u001b[0m \u001b[1m18s\u001b[0m 2ms/step - loss: 359938080.0000 - mean_absolute_error: 11724.7568 - mean_absolute_percentage_error: 2621931776.0000 - val_loss: 374296992.0000 - val_mean_absolute_error: 12048.8994 - val_mean_absolute_percentage_error: 673868352.0000\n",
            "Epoch 40/75\n",
            "\u001b[1m8432/8432\u001b[0m \u001b[32m━━━━━━━━━━━━━━━━━━━━\u001b[0m\u001b[37m\u001b[0m \u001b[1m23s\u001b[0m 2ms/step - loss: 370774816.0000 - mean_absolute_error: 11843.0576 - mean_absolute_percentage_error: 2244683776.0000 - val_loss: 373968160.0000 - val_mean_absolute_error: 11895.5312 - val_mean_absolute_percentage_error: 681689984.0000\n",
            "Epoch 41/75\n",
            "\u001b[1m8432/8432\u001b[0m \u001b[32m━━━━━━━━━━━━━━━━━━━━\u001b[0m\u001b[37m\u001b[0m \u001b[1m41s\u001b[0m 3ms/step - loss: 362451456.0000 - mean_absolute_error: 11776.6504 - mean_absolute_percentage_error: 2828320768.0000 - val_loss: 373295392.0000 - val_mean_absolute_error: 11862.2246 - val_mean_absolute_percentage_error: 680045504.0000\n",
            "Epoch 42/75\n",
            "\u001b[1m8432/8432\u001b[0m \u001b[32m━━━━━━━━━━━━━━━━━━━━\u001b[0m\u001b[37m\u001b[0m \u001b[1m19s\u001b[0m 2ms/step - loss: 368689184.0000 - mean_absolute_error: 11809.2363 - mean_absolute_percentage_error: 1834531456.0000 - val_loss: 372847456.0000 - val_mean_absolute_error: 11957.8613 - val_mean_absolute_percentage_error: 669491968.0000\n",
            "Epoch 43/75\n",
            "\u001b[1m8432/8432\u001b[0m \u001b[32m━━━━━━━━━━━━━━━━━━━━\u001b[0m\u001b[37m\u001b[0m \u001b[1m20s\u001b[0m 2ms/step - loss: 366169152.0000 - mean_absolute_error: 11738.6045 - mean_absolute_percentage_error: 1882566016.0000 - val_loss: 373192480.0000 - val_mean_absolute_error: 11839.2783 - val_mean_absolute_percentage_error: 677030912.0000\n",
            "Epoch 44/75\n",
            "\u001b[1m8432/8432\u001b[0m \u001b[32m━━━━━━━━━━━━━━━━━━━━\u001b[0m\u001b[37m\u001b[0m \u001b[1m22s\u001b[0m 3ms/step - loss: 371984096.0000 - mean_absolute_error: 11772.2178 - mean_absolute_percentage_error: 2215365376.0000 - val_loss: 372196064.0000 - val_mean_absolute_error: 11873.8018 - val_mean_absolute_percentage_error: 653965632.0000\n",
            "Epoch 45/75\n",
            "\u001b[1m8432/8432\u001b[0m \u001b[32m━━━━━━━━━━━━━━━━━━━━\u001b[0m\u001b[37m\u001b[0m \u001b[1m18s\u001b[0m 2ms/step - loss: 371384000.0000 - mean_absolute_error: 11808.9463 - mean_absolute_percentage_error: 2848827136.0000 - val_loss: 372214144.0000 - val_mean_absolute_error: 12029.3779 - val_mean_absolute_percentage_error: 691558080.0000\n",
            "Epoch 46/75\n",
            "\u001b[1m8432/8432\u001b[0m \u001b[32m━━━━━━━━━━━━━━━━━━━━\u001b[0m\u001b[37m\u001b[0m \u001b[1m21s\u001b[0m 2ms/step - loss: 361549696.0000 - mean_absolute_error: 11726.1953 - mean_absolute_percentage_error: 2546072320.0000 - val_loss: 371580704.0000 - val_mean_absolute_error: 11969.9209 - val_mean_absolute_percentage_error: 667886592.0000\n",
            "Epoch 47/75\n",
            "\u001b[1m8432/8432\u001b[0m \u001b[32m━━━━━━━━━━━━━━━━━━━━\u001b[0m\u001b[37m\u001b[0m \u001b[1m21s\u001b[0m 2ms/step - loss: 367030848.0000 - mean_absolute_error: 11755.3096 - mean_absolute_percentage_error: 2311638528.0000 - val_loss: 370804800.0000 - val_mean_absolute_error: 11920.3936 - val_mean_absolute_percentage_error: 686075648.0000\n",
            "Epoch 48/75\n",
            "\u001b[1m8432/8432\u001b[0m \u001b[32m━━━━━━━━━━━━━━━━━━━━\u001b[0m\u001b[37m\u001b[0m \u001b[1m20s\u001b[0m 2ms/step - loss: 362555392.0000 - mean_absolute_error: 11747.5879 - mean_absolute_percentage_error: 2389437696.0000 - val_loss: 370682240.0000 - val_mean_absolute_error: 11956.0693 - val_mean_absolute_percentage_error: 702791680.0000\n",
            "Epoch 49/75\n",
            "\u001b[1m8432/8432\u001b[0m \u001b[32m━━━━━━━━━━━━━━━━━━━━\u001b[0m\u001b[37m\u001b[0m \u001b[1m24s\u001b[0m 3ms/step - loss: 364358944.0000 - mean_absolute_error: 11759.0215 - mean_absolute_percentage_error: 3088901888.0000 - val_loss: 369940160.0000 - val_mean_absolute_error: 11920.3154 - val_mean_absolute_percentage_error: 679384384.0000\n",
            "Epoch 50/75\n",
            "\u001b[1m8432/8432\u001b[0m \u001b[32m━━━━━━━━━━━━━━━━━━━━\u001b[0m\u001b[37m\u001b[0m \u001b[1m41s\u001b[0m 2ms/step - loss: 370579776.0000 - mean_absolute_error: 11754.7344 - mean_absolute_percentage_error: 1940335872.0000 - val_loss: 369548896.0000 - val_mean_absolute_error: 11949.1924 - val_mean_absolute_percentage_error: 665942528.0000\n",
            "Epoch 51/75\n",
            "\u001b[1m8432/8432\u001b[0m \u001b[32m━━━━━━━━━━━━━━━━━━━━\u001b[0m\u001b[37m\u001b[0m \u001b[1m41s\u001b[0m 2ms/step - loss: 359358624.0000 - mean_absolute_error: 11697.0127 - mean_absolute_percentage_error: 2207317248.0000 - val_loss: 368699808.0000 - val_mean_absolute_error: 11847.0977 - val_mean_absolute_percentage_error: 658694592.0000\n",
            "Epoch 52/75\n",
            "\u001b[1m8432/8432\u001b[0m \u001b[32m━━━━━━━━━━━━━━━━━━━━\u001b[0m\u001b[37m\u001b[0m \u001b[1m19s\u001b[0m 2ms/step - loss: 360548608.0000 - mean_absolute_error: 11703.0049 - mean_absolute_percentage_error: 2072513280.0000 - val_loss: 368464928.0000 - val_mean_absolute_error: 11796.1797 - val_mean_absolute_percentage_error: 672255744.0000\n",
            "Epoch 53/75\n",
            "\u001b[1m8432/8432\u001b[0m \u001b[32m━━━━━━━━━━━━━━━━━━━━\u001b[0m\u001b[37m\u001b[0m \u001b[1m18s\u001b[0m 2ms/step - loss: 362969248.0000 - mean_absolute_error: 11725.4268 - mean_absolute_percentage_error: 2836262656.0000 - val_loss: 368263392.0000 - val_mean_absolute_error: 11824.1631 - val_mean_absolute_percentage_error: 686146240.0000\n",
            "Epoch 54/75\n",
            "\u001b[1m8432/8432\u001b[0m \u001b[32m━━━━━━━━━━━━━━━━━━━━\u001b[0m\u001b[37m\u001b[0m \u001b[1m23s\u001b[0m 2ms/step - loss: 366017696.0000 - mean_absolute_error: 11670.9795 - mean_absolute_percentage_error: 2605807360.0000 - val_loss: 368050304.0000 - val_mean_absolute_error: 11690.1963 - val_mean_absolute_percentage_error: 637952832.0000\n",
            "Epoch 55/75\n",
            "\u001b[1m8432/8432\u001b[0m \u001b[32m━━━━━━━━━━━━━━━━━━━━\u001b[0m\u001b[37m\u001b[0m \u001b[1m18s\u001b[0m 2ms/step - loss: 368547488.0000 - mean_absolute_error: 11710.7979 - mean_absolute_percentage_error: 2564868096.0000 - val_loss: 366827456.0000 - val_mean_absolute_error: 11789.2178 - val_mean_absolute_percentage_error: 641541440.0000\n",
            "Epoch 56/75\n",
            "\u001b[1m8432/8432\u001b[0m \u001b[32m━━━━━━━━━━━━━━━━━━━━\u001b[0m\u001b[37m\u001b[0m \u001b[1m18s\u001b[0m 2ms/step - loss: 359044192.0000 - mean_absolute_error: 11672.8369 - mean_absolute_percentage_error: 1641256064.0000 - val_loss: 366548896.0000 - val_mean_absolute_error: 11791.9648 - val_mean_absolute_percentage_error: 651578368.0000\n",
            "Epoch 57/75\n",
            "\u001b[1m8432/8432\u001b[0m \u001b[32m━━━━━━━━━━━━━━━━━━━━\u001b[0m\u001b[37m\u001b[0m \u001b[1m21s\u001b[0m 3ms/step - loss: 360273472.0000 - mean_absolute_error: 11680.9785 - mean_absolute_percentage_error: 3066262016.0000 - val_loss: 366359488.0000 - val_mean_absolute_error: 11781.4678 - val_mean_absolute_percentage_error: 658308736.0000\n",
            "Epoch 58/75\n",
            "\u001b[1m8432/8432\u001b[0m \u001b[32m━━━━━━━━━━━━━━━━━━━━\u001b[0m\u001b[37m\u001b[0m \u001b[1m19s\u001b[0m 2ms/step - loss: 360259072.0000 - mean_absolute_error: 11646.8184 - mean_absolute_percentage_error: 2932331520.0000 - val_loss: 365606688.0000 - val_mean_absolute_error: 11834.1973 - val_mean_absolute_percentage_error: 661365760.0000\n",
            "Epoch 59/75\n",
            "\u001b[1m8432/8432\u001b[0m \u001b[32m━━━━━━━━━━━━━━━━━━━━\u001b[0m\u001b[37m\u001b[0m \u001b[1m20s\u001b[0m 2ms/step - loss: 355009664.0000 - mean_absolute_error: 11673.7578 - mean_absolute_percentage_error: 2578550784.0000 - val_loss: 365246176.0000 - val_mean_absolute_error: 11827.2979 - val_mean_absolute_percentage_error: 700749184.0000\n",
            "Epoch 60/75\n",
            "\u001b[1m8432/8432\u001b[0m \u001b[32m━━━━━━━━━━━━━━━━━━━━\u001b[0m\u001b[37m\u001b[0m \u001b[1m22s\u001b[0m 3ms/step - loss: 360678304.0000 - mean_absolute_error: 11690.5283 - mean_absolute_percentage_error: 2782944512.0000 - val_loss: 364817024.0000 - val_mean_absolute_error: 11771.6143 - val_mean_absolute_percentage_error: 645439936.0000\n",
            "Epoch 61/75\n",
            "\u001b[1m8432/8432\u001b[0m \u001b[32m━━━━━━━━━━━━━━━━━━━━\u001b[0m\u001b[37m\u001b[0m \u001b[1m18s\u001b[0m 2ms/step - loss: 358111680.0000 - mean_absolute_error: 11597.8340 - mean_absolute_percentage_error: 2218931200.0000 - val_loss: 364311968.0000 - val_mean_absolute_error: 11924.7637 - val_mean_absolute_percentage_error: 688398912.0000\n",
            "Epoch 62/75\n",
            "\u001b[1m8432/8432\u001b[0m \u001b[32m━━━━━━━━━━━━━━━━━━━━\u001b[0m\u001b[37m\u001b[0m \u001b[1m18s\u001b[0m 2ms/step - loss: 364030112.0000 - mean_absolute_error: 11692.6934 - mean_absolute_percentage_error: 2493989632.0000 - val_loss: 363591072.0000 - val_mean_absolute_error: 11757.7344 - val_mean_absolute_percentage_error: 623761024.0000\n",
            "Epoch 63/75\n",
            "\u001b[1m8432/8432\u001b[0m \u001b[32m━━━━━━━━━━━━━━━━━━━━\u001b[0m\u001b[37m\u001b[0m \u001b[1m23s\u001b[0m 3ms/step - loss: 367812608.0000 - mean_absolute_error: 11686.5869 - mean_absolute_percentage_error: 2565282048.0000 - val_loss: 363881600.0000 - val_mean_absolute_error: 11776.5713 - val_mean_absolute_percentage_error: 651593472.0000\n",
            "Epoch 64/75\n",
            "\u001b[1m8432/8432\u001b[0m \u001b[32m━━━━━━━━━━━━━━━━━━━━\u001b[0m\u001b[37m\u001b[0m \u001b[1m41s\u001b[0m 2ms/step - loss: 357396544.0000 - mean_absolute_error: 11638.2949 - mean_absolute_percentage_error: 2640646912.0000 - val_loss: 362836320.0000 - val_mean_absolute_error: 11751.8750 - val_mean_absolute_percentage_error: 662450432.0000\n",
            "Epoch 65/75\n",
            "\u001b[1m8432/8432\u001b[0m \u001b[32m━━━━━━━━━━━━━━━━━━━━\u001b[0m\u001b[37m\u001b[0m \u001b[1m41s\u001b[0m 3ms/step - loss: 359230368.0000 - mean_absolute_error: 11651.3428 - mean_absolute_percentage_error: 2211930880.0000 - val_loss: 362892992.0000 - val_mean_absolute_error: 11613.8652 - val_mean_absolute_percentage_error: 648030912.0000\n",
            "Epoch 66/75\n",
            "\u001b[1m8432/8432\u001b[0m \u001b[32m━━━━━━━━━━━━━━━━━━━━\u001b[0m\u001b[37m\u001b[0m \u001b[1m23s\u001b[0m 3ms/step - loss: 359715680.0000 - mean_absolute_error: 11620.1406 - mean_absolute_percentage_error: 2710659840.0000 - val_loss: 361660576.0000 - val_mean_absolute_error: 11744.4619 - val_mean_absolute_percentage_error: 650697152.0000\n",
            "Epoch 67/75\n",
            "\u001b[1m8432/8432\u001b[0m \u001b[32m━━━━━━━━━━━━━━━━━━━━\u001b[0m\u001b[37m\u001b[0m \u001b[1m37s\u001b[0m 2ms/step - loss: 357014720.0000 - mean_absolute_error: 11612.5840 - mean_absolute_percentage_error: 2183822080.0000 - val_loss: 361289728.0000 - val_mean_absolute_error: 11730.6016 - val_mean_absolute_percentage_error: 632580032.0000\n",
            "Epoch 68/75\n",
            "\u001b[1m8432/8432\u001b[0m \u001b[32m━━━━━━━━━━━━━━━━━━━━\u001b[0m\u001b[37m\u001b[0m \u001b[1m20s\u001b[0m 2ms/step - loss: 350554784.0000 - mean_absolute_error: 11541.3350 - mean_absolute_percentage_error: 2572520960.0000 - val_loss: 360417888.0000 - val_mean_absolute_error: 11751.2285 - val_mean_absolute_percentage_error: 612578688.0000\n",
            "Epoch 69/75\n",
            "\u001b[1m8432/8432\u001b[0m \u001b[32m━━━━━━━━━━━━━━━━━━━━\u001b[0m\u001b[37m\u001b[0m \u001b[1m21s\u001b[0m 3ms/step - loss: 348643680.0000 - mean_absolute_error: 11562.7861 - mean_absolute_percentage_error: 2665324800.0000 - val_loss: 359674080.0000 - val_mean_absolute_error: 11699.5850 - val_mean_absolute_percentage_error: 660950272.0000\n",
            "Epoch 70/75\n",
            "\u001b[1m8432/8432\u001b[0m \u001b[32m━━━━━━━━━━━━━━━━━━━━\u001b[0m\u001b[37m\u001b[0m \u001b[1m41s\u001b[0m 3ms/step - loss: 354002464.0000 - mean_absolute_error: 11510.4961 - mean_absolute_percentage_error: 3015224832.0000 - val_loss: 361219648.0000 - val_mean_absolute_error: 11513.9375 - val_mean_absolute_percentage_error: 587572928.0000\n",
            "Epoch 71/75\n",
            "\u001b[1m8432/8432\u001b[0m \u001b[32m━━━━━━━━━━━━━━━━━━━━\u001b[0m\u001b[37m\u001b[0m \u001b[1m19s\u001b[0m 2ms/step - loss: 352252608.0000 - mean_absolute_error: 11506.1611 - mean_absolute_percentage_error: 1945862656.0000 - val_loss: 358583040.0000 - val_mean_absolute_error: 11529.5332 - val_mean_absolute_percentage_error: 585527104.0000\n",
            "Epoch 72/75\n",
            "\u001b[1m8432/8432\u001b[0m \u001b[32m━━━━━━━━━━━━━━━━━━━━\u001b[0m\u001b[37m\u001b[0m \u001b[1m20s\u001b[0m 2ms/step - loss: 352175392.0000 - mean_absolute_error: 11535.6719 - mean_absolute_percentage_error: 2399273216.0000 - val_loss: 357816384.0000 - val_mean_absolute_error: 11680.9443 - val_mean_absolute_percentage_error: 606719168.0000\n",
            "Epoch 73/75\n",
            "\u001b[1m8432/8432\u001b[0m \u001b[32m━━━━━━━━━━━━━━━━━━━━\u001b[0m\u001b[37m\u001b[0m \u001b[1m20s\u001b[0m 2ms/step - loss: 355085856.0000 - mean_absolute_error: 11515.0615 - mean_absolute_percentage_error: 2384332032.0000 - val_loss: 357168032.0000 - val_mean_absolute_error: 11497.1787 - val_mean_absolute_percentage_error: 592200128.0000\n",
            "Epoch 74/75\n",
            "\u001b[1m8432/8432\u001b[0m \u001b[32m━━━━━━━━━━━━━━━━━━━━\u001b[0m\u001b[37m\u001b[0m \u001b[1m19s\u001b[0m 2ms/step - loss: 345558880.0000 - mean_absolute_error: 11428.9072 - mean_absolute_percentage_error: 2624030976.0000 - val_loss: 357013600.0000 - val_mean_absolute_error: 11503.7656 - val_mean_absolute_percentage_error: 603372096.0000\n",
            "Epoch 75/75\n",
            "\u001b[1m8432/8432\u001b[0m \u001b[32m━━━━━━━━━━━━━━━━━━━━\u001b[0m\u001b[37m\u001b[0m \u001b[1m20s\u001b[0m 2ms/step - loss: 352647712.0000 - mean_absolute_error: 11479.4434 - mean_absolute_percentage_error: 2243314688.0000 - val_loss: 355749216.0000 - val_mean_absolute_error: 11524.7402 - val_mean_absolute_percentage_error: 590593280.0000\n"
          ]
        }
      ]
    },
    {
      "cell_type": "code",
      "source": [
        "result10_df=pd.DataFrame(result10.history)\n",
        "plt.plot(range(1,76),result10_df['loss'],label=\"train_loss\")\n",
        "plt.plot(range(1,76),result10_df['val_loss'],label=\"val_loss\")\n",
        "plt.legend()\n",
        "plt.show()"
      ],
      "metadata": {
        "colab": {
          "base_uri": "https://localhost:8080/",
          "height": 445
        },
        "id": "6afq1cSdZbUk",
        "outputId": "ca393f3e-8b0e-4f42-e580-196e86905511"
      },
      "execution_count": 30,
      "outputs": [
        {
          "output_type": "display_data",
          "data": {
            "text/plain": [
              "<Figure size 640x480 with 1 Axes>"
            ],
            "image/png": "[encoded data removed]"
          },
          "metadata": {}
        }
      ]
    },
    {
      "cell_type": "code",
      "source": [
        "result10_df.iloc[-1]"
      ],
      "metadata": {
        "colab": {
          "base_uri": "https://localhost:8080/",
          "height": 272
        },
        "id": "nd_ZWN2AiqeV",
        "outputId": "98a452fd-1280-4a6d-bc6b-a47a92a684b3"
      },
      "execution_count": 31,
      "outputs": [
        {
          "output_type": "execute_result",
          "data": {
            "text/plain": [
              "loss                                  3.511147e+08\n",
              "mean_absolute_error                   1.146628e+04\n",
              "mean_absolute_percentage_error        2.487973e+09\n",
              "val_loss                              3.557492e+08\n",
              "val_mean_absolute_error               1.152474e+04\n",
              "val_mean_absolute_percentage_error    5.905933e+08\n",
              "Name: 74, dtype: float64"
            ],
            "text/html": [
              "<div>\n",
              "<style scoped>\n",
              "    .dataframe tbody tr th:only-of-type {\n",
              "        vertical-align: middle;\n",
              "    }\n",
              "\n",
              "    .dataframe tbody tr th {\n",
              "        vertical-align: top;\n",
              "    }\n",
              "\n",
              "    .dataframe thead th {\n",
              "        text-align: right;\n",
              "    }\n",
              "</style>\n",
              "<table border=\"1\" class=\"dataframe\">\n",
              "  <thead>\n",
              "    <tr style=\"text-align: right;\">\n",
              "      <th></th>\n",
              "      <th>74</th>\n",
              "    </tr>\n",
              "  </thead>\n",
              "  <tbody>\n",
              "    <tr>\n",
              "      <th>loss</th>\n",
              "      <td>3.511147e+08</td>\n",
              "    </tr>\n",
              "    <tr>\n",
              "      <th>mean_absolute_error</th>\n",
              "      <td>1.146628e+04</td>\n",
              "    </tr>\n",
              "    <tr>\n",
              "      <th>mean_absolute_percentage_error</th>\n",
              "      <td>2.487973e+09</td>\n",
              "    </tr>\n",
              "    <tr>\n",
              "      <th>val_loss</th>\n",
              "      <td>3.557492e+08</td>\n",
              "    </tr>\n",
              "    <tr>\n",
              "      <th>val_mean_absolute_error</th>\n",
              "      <td>1.152474e+04</td>\n",
              "    </tr>\n",
              "    <tr>\n",
              "      <th>val_mean_absolute_percentage_error</th>\n",
              "      <td>5.905933e+08</td>\n",
              "    </tr>\n",
              "  </tbody>\n",
              "</table>\n",
              "</div><br><label><b>dtype:</b> float64</label>"
            ]
          },
          "metadata": {},
          "execution_count": 31
        }
      ]
    },
    {
      "cell_type": "code",
      "source": [
        "model10.evaluate(x_test_ss, y_test)"
      ],
      "metadata": {
        "colab": {
          "base_uri": "https://localhost:8080/"
        },
        "id": "YwEIlF9tiwCV",
        "outputId": "317e967d-2e3e-4b8d-ce9f-19448fd1daa8"
      },
      "execution_count": 32,
      "outputs": [
        {
          "output_type": "stream",
          "name": "stdout",
          "text": [
            "\u001b[1m2635/2635\u001b[0m \u001b[32m━━━━━━━━━━━━━━━━━━━━\u001b[0m\u001b[37m\u001b[0m \u001b[1m3s\u001b[0m 1ms/step - loss: 355439712.0000 - mean_absolute_error: 11498.9375 - mean_absolute_percentage_error: 1562281984.0000\n"
          ]
        },
        {
          "output_type": "execute_result",
          "data": {
            "text/plain": [
              "[356099328.0, 11516.041015625, 1456859648.0]"
            ]
          },
          "metadata": {},
          "execution_count": 32
        }
      ]
    },
    {
      "cell_type": "code",
      "source": [
        "pred=[1,1,1,151315,42.31,2.572,4866.2909,24157.0344,376.8238,1187.4454,4158.9236,211.096358,8.106,0,5,2,2010]\n",
        "te=pd.DataFrame(pred).T\n",
        "te_ss=scaler.transform(te)\n",
        "te_df=pd.DataFrame(te_ss, columns=x_train_df.columns)\n",
        "model10.predict(te_df)"
      ],
      "metadata": {
        "id": "h9KOQNxqZbSO"
      },
      "execution_count": null,
      "outputs": []
    },
    {
      "cell_type": "code",
      "source": [],
      "metadata": {
        "id": "Xd1YI3hzZbPr"
      },
      "execution_count": null,
      "outputs": []
    },
    {
      "cell_type": "code",
      "source": [],
      "metadata": {
        "id": "CgUUUlerZv5U"
      },
      "execution_count": null,
      "outputs": []
    },
    {
      "cell_type": "code",
      "source": [],
      "metadata": {
        "id": "vPBYMsgiZv2c"
      },
      "execution_count": null,
      "outputs": []
    },
    {
      "cell_type": "code",
      "source": [
        "#model8, epoch70"
      ],
      "metadata": {
        "id": "dXeckwxK88rL"
      },
      "execution_count": null,
      "outputs": []
    },
    {
      "cell_type": "code",
      "source": [
        "model8=Sequential()\n",
        "\n",
        "model8.add(Dense(64,input_dim=(len(x_train_ss[0])),activation=LeakyReLU(alpha=0.01)))\n",
        "model8.add(Dense(64,input_dim=(len(x_train_ss[0])),activation=LeakyReLU(alpha=0.01)))\n",
        "model8.add(Dense(1))\n",
        "\n",
        "\n",
        "model8.compile(optimizer=\"adam\",loss=\"mean_squared_error\",metrics=[tf.keras.metrics.MeanAbsoluteError(),tf.keras.metrics.MeanAbsolutePercentageError()])"
      ],
      "metadata": {
        "colab": {
          "base_uri": "https://localhost:8080/"
        },
        "id": "B1ZqGAwe9H9x",
        "outputId": "7e986653-1526-4040-e05a-8fa489e9f2cf"
      },
      "execution_count": 12,
      "outputs": [
        {
          "output_type": "stream",
          "name": "stderr",
          "text": [
            "/usr/local/lib/python3.10/dist-packages/keras/src/layers/activations/leaky_relu.py:41: UserWarning: Argument `alpha` is deprecated. Use `negative_slope` instead.\n",
            "  warnings.warn(\n",
            "/usr/local/lib/python3.10/dist-packages/keras/src/layers/core/dense.py:87: UserWarning: Do not pass an `input_shape`/`input_dim` argument to a layer. When using Sequential models, prefer using an `Input(shape)` object as the first layer in the model instead.\n",
            "  super().__init__(activity_regularizer=activity_regularizer, **kwargs)\n"
          ]
        }
      ]
    },
    {
      "cell_type": "code",
      "source": [
        "result8=model8.fit(x_train_df,y_train,epochs=70,validation_split=0.2,batch_size=32)"
      ],
      "metadata": {
        "colab": {
          "base_uri": "https://localhost:8080/"
        },
        "id": "wh3oOkpK9PEy",
        "outputId": "561a8e97-50f8-451f-f4cd-9dec5bb4c07a"
      },
      "execution_count": null,
      "outputs": [
        {
          "output_type": "stream",
          "name": "stdout",
          "text": [
            "Epoch 1/70\n",
            "\u001b[1m8432/8432\u001b[0m \u001b[32m━━━━━━━━━━━━━━━━━━━━\u001b[0m\u001b[37m\u001b[0m \u001b[1m50s\u001b[0m 6ms/step - loss: 550267712.0000 - mean_absolute_error: 14379.5605 - mean_absolute_percentage_error: 2108762368.0000 - val_loss: 459339840.0000 - val_mean_absolute_error: 14471.6787 - val_mean_absolute_percentage_error: 2732382464.0000\n",
            "Epoch 2/70\n",
            "\u001b[1m8432/8432\u001b[0m \u001b[32m━━━━━━━━━━━━━━━━━━━━\u001b[0m\u001b[37m\u001b[0m \u001b[1m58s\u001b[0m 3ms/step - loss: 452756160.0000 - mean_absolute_error: 14242.9639 - mean_absolute_percentage_error: 3327020800.0000 - val_loss: 429467136.0000 - val_mean_absolute_error: 13740.4834 - val_mean_absolute_percentage_error: 2376318464.0000\n",
            "Epoch 3/70\n",
            "\u001b[1m8432/8432\u001b[0m \u001b[32m━━━━━━━━━━━━━━━━━━━━\u001b[0m\u001b[37m\u001b[0m \u001b[1m27s\u001b[0m 3ms/step - loss: 426532992.0000 - mean_absolute_error: 13455.4395 - mean_absolute_percentage_error: 2623040768.0000 - val_loss: 409519840.0000 - val_mean_absolute_error: 12923.5449 - val_mean_absolute_percentage_error: 1916208000.0000\n",
            "Epoch 4/70\n",
            "\u001b[1m8432/8432\u001b[0m \u001b[32m━━━━━━━━━━━━━━━━━━━━\u001b[0m\u001b[37m\u001b[0m \u001b[1m29s\u001b[0m 3ms/step - loss: 406727008.0000 - mean_absolute_error: 12857.7529 - mean_absolute_percentage_error: 2021982336.0000 - val_loss: 401589440.0000 - val_mean_absolute_error: 12657.0000 - val_mean_absolute_percentage_error: 1782675968.0000\n",
            "Epoch 5/70\n",
            "\u001b[1m8432/8432\u001b[0m \u001b[32m━━━━━━━━━━━━━━━━━━━━\u001b[0m\u001b[37m\u001b[0m \u001b[1m38s\u001b[0m 3ms/step - loss: 402152992.0000 - mean_absolute_error: 12636.9502 - mean_absolute_percentage_error: 1600193152.0000 - val_loss: 395729568.0000 - val_mean_absolute_error: 12544.5391 - val_mean_absolute_percentage_error: 1758884992.0000\n",
            "Epoch 6/70\n",
            "\u001b[1m8432/8432\u001b[0m \u001b[32m━━━━━━━━━━━━━━━━━━━━\u001b[0m\u001b[37m\u001b[0m \u001b[1m39s\u001b[0m 3ms/step - loss: 392385056.0000 - mean_absolute_error: 12349.1543 - mean_absolute_percentage_error: 2222739456.0000 - val_loss: 391501056.0000 - val_mean_absolute_error: 12474.1348 - val_mean_absolute_percentage_error: 1755655808.0000\n",
            "Epoch 7/70\n",
            "\u001b[1m8432/8432\u001b[0m \u001b[32m━━━━━━━━━━━━━━━━━━━━\u001b[0m\u001b[37m\u001b[0m \u001b[1m26s\u001b[0m 3ms/step - loss: 395587424.0000 - mean_absolute_error: 12358.7637 - mean_absolute_percentage_error: 1550696832.0000 - val_loss: 387537728.0000 - val_mean_absolute_error: 12301.9111 - val_mean_absolute_percentage_error: 1691757952.0000\n",
            "Epoch 8/70\n",
            "\u001b[1m8432/8432\u001b[0m \u001b[32m━━━━━━━━━━━━━━━━━━━━\u001b[0m\u001b[37m\u001b[0m \u001b[1m29s\u001b[0m 3ms/step - loss: 383370848.0000 - mean_absolute_error: 12241.8457 - mean_absolute_percentage_error: 1627204992.0000 - val_loss: 384645152.0000 - val_mean_absolute_error: 12297.9463 - val_mean_absolute_percentage_error: 1690477952.0000\n",
            "Epoch 9/70\n",
            "\u001b[1m8432/8432\u001b[0m \u001b[32m━━━━━━━━━━━━━━━━━━━━\u001b[0m\u001b[37m\u001b[0m \u001b[1m26s\u001b[0m 3ms/step - loss: 388264544.0000 - mean_absolute_error: 12167.8242 - mean_absolute_percentage_error: 1937737216.0000 - val_loss: 382594400.0000 - val_mean_absolute_error: 12264.6211 - val_mean_absolute_percentage_error: 1688758528.0000\n",
            "Epoch 10/70\n",
            "\u001b[1m8432/8432\u001b[0m \u001b[32m━━━━━━━━━━━━━━━━━━━━\u001b[0m\u001b[37m\u001b[0m \u001b[1m25s\u001b[0m 3ms/step - loss: 376608416.0000 - mean_absolute_error: 12061.9424 - mean_absolute_percentage_error: 1946665216.0000 - val_loss: 381131488.0000 - val_mean_absolute_error: 12092.7744 - val_mean_absolute_percentage_error: 1613446144.0000\n",
            "Epoch 11/70\n",
            "\u001b[1m8432/8432\u001b[0m \u001b[32m━━━━━━━━━━━━━━━━━━━━\u001b[0m\u001b[37m\u001b[0m \u001b[1m45s\u001b[0m 4ms/step - loss: 383388992.0000 - mean_absolute_error: 12111.0000 - mean_absolute_percentage_error: 2033825920.0000 - val_loss: 380116512.0000 - val_mean_absolute_error: 12209.5156 - val_mean_absolute_percentage_error: 1618127232.0000\n",
            "Epoch 12/70\n",
            "\u001b[1m8432/8432\u001b[0m \u001b[32m━━━━━━━━━━━━━━━━━━━━\u001b[0m\u001b[37m\u001b[0m \u001b[1m36s\u001b[0m 3ms/step - loss: 382890944.0000 - mean_absolute_error: 12063.8203 - mean_absolute_percentage_error: 1889594752.0000 - val_loss: 379398304.0000 - val_mean_absolute_error: 12011.9297 - val_mean_absolute_percentage_error: 1578306048.0000\n",
            "Epoch 13/70\n",
            "\u001b[1m8432/8432\u001b[0m \u001b[32m━━━━━━━━━━━━━━━━━━━━\u001b[0m\u001b[37m\u001b[0m \u001b[1m26s\u001b[0m 3ms/step - loss: 377885408.0000 - mean_absolute_error: 11975.1660 - mean_absolute_percentage_error: 2486354176.0000 - val_loss: 378804576.0000 - val_mean_absolute_error: 12110.7461 - val_mean_absolute_percentage_error: 1619765888.0000\n",
            "Epoch 14/70\n",
            "\u001b[1m8432/8432\u001b[0m \u001b[32m━━━━━━━━━━━━━━━━━━━━\u001b[0m\u001b[37m\u001b[0m \u001b[1m26s\u001b[0m 3ms/step - loss: 379194624.0000 - mean_absolute_error: 12017.6123 - mean_absolute_percentage_error: 2024834688.0000 - val_loss: 378342016.0000 - val_mean_absolute_error: 12133.7080 - val_mean_absolute_percentage_error: 1588624128.0000\n",
            "Epoch 15/70\n",
            "\u001b[1m8432/8432\u001b[0m \u001b[32m━━━━━━━━━━━━━━━━━━━━\u001b[0m\u001b[37m\u001b[0m \u001b[1m25s\u001b[0m 3ms/step - loss: 382733568.0000 - mean_absolute_error: 12017.1396 - mean_absolute_percentage_error: 2432111360.0000 - val_loss: 377582048.0000 - val_mean_absolute_error: 12091.2295 - val_mean_absolute_percentage_error: 1582826624.0000\n",
            "Epoch 16/70\n",
            "\u001b[1m8432/8432\u001b[0m \u001b[32m━━━━━━━━━━━━━━━━━━━━\u001b[0m\u001b[37m\u001b[0m \u001b[1m27s\u001b[0m 3ms/step - loss: 377420224.0000 - mean_absolute_error: 12005.3848 - mean_absolute_percentage_error: 2111773952.0000 - val_loss: 377209344.0000 - val_mean_absolute_error: 12111.6006 - val_mean_absolute_percentage_error: 1669099136.0000\n",
            "Epoch 17/70\n",
            "\u001b[1m8432/8432\u001b[0m \u001b[32m━━━━━━━━━━━━━━━━━━━━\u001b[0m\u001b[37m\u001b[0m \u001b[1m26s\u001b[0m 3ms/step - loss: 375235136.0000 - mean_absolute_error: 11964.1318 - mean_absolute_percentage_error: 1711000832.0000 - val_loss: 376641408.0000 - val_mean_absolute_error: 12013.5322 - val_mean_absolute_percentage_error: 1604636544.0000\n",
            "Epoch 18/70\n",
            "\u001b[1m8432/8432\u001b[0m \u001b[32m━━━━━━━━━━━━━━━━━━━━\u001b[0m\u001b[37m\u001b[0m \u001b[1m42s\u001b[0m 3ms/step - loss: 374969856.0000 - mean_absolute_error: 11908.2871 - mean_absolute_percentage_error: 2094038656.0000 - val_loss: 376254464.0000 - val_mean_absolute_error: 11929.7197 - val_mean_absolute_percentage_error: 1603547392.0000\n",
            "Epoch 19/70\n",
            "\u001b[1m8432/8432\u001b[0m \u001b[32m━━━━━━━━━━━━━━━━━━━━\u001b[0m\u001b[37m\u001b[0m \u001b[1m37s\u001b[0m 3ms/step - loss: 376932416.0000 - mean_absolute_error: 11920.2607 - mean_absolute_percentage_error: 2183047936.0000 - val_loss: 376168448.0000 - val_mean_absolute_error: 11992.0947 - val_mean_absolute_percentage_error: 1655175808.0000\n",
            "Epoch 20/70\n",
            "\u001b[1m8432/8432\u001b[0m \u001b[32m━━━━━━━━━━━━━━━━━━━━\u001b[0m\u001b[37m\u001b[0m \u001b[1m45s\u001b[0m 3ms/step - loss: 373750592.0000 - mean_absolute_error: 11926.3154 - mean_absolute_percentage_error: 1951890688.0000 - val_loss: 376321280.0000 - val_mean_absolute_error: 12069.2246 - val_mean_absolute_percentage_error: 1639733120.0000\n",
            "Epoch 21/70\n",
            "\u001b[1m8432/8432\u001b[0m \u001b[32m━━━━━━━━━━━━━━━━━━━━\u001b[0m\u001b[37m\u001b[0m \u001b[1m37s\u001b[0m 3ms/step - loss: 374406880.0000 - mean_absolute_error: 11926.2930 - mean_absolute_percentage_error: 2556827136.0000 - val_loss: 375336928.0000 - val_mean_absolute_error: 11997.1895 - val_mean_absolute_percentage_error: 1681131648.0000\n",
            "Epoch 22/70\n",
            "\u001b[1m8432/8432\u001b[0m \u001b[32m━━━━━━━━━━━━━━━━━━━━\u001b[0m\u001b[37m\u001b[0m \u001b[1m44s\u001b[0m 3ms/step - loss: 373111392.0000 - mean_absolute_error: 11911.2627 - mean_absolute_percentage_error: 1541049856.0000 - val_loss: 374760288.0000 - val_mean_absolute_error: 12119.5674 - val_mean_absolute_percentage_error: 1725753088.0000\n",
            "Epoch 23/70\n",
            "\u001b[1m8432/8432\u001b[0m \u001b[32m━━━━━━━━━━━━━━━━━━━━\u001b[0m\u001b[37m\u001b[0m \u001b[1m26s\u001b[0m 3ms/step - loss: 374912608.0000 - mean_absolute_error: 11879.1982 - mean_absolute_percentage_error: 2517280768.0000 - val_loss: 374582304.0000 - val_mean_absolute_error: 12011.8867 - val_mean_absolute_percentage_error: 1716382848.0000\n",
            "Epoch 24/70\n",
            "\u001b[1m8432/8432\u001b[0m \u001b[32m━━━━━━━━━━━━━━━━━━━━\u001b[0m\u001b[37m\u001b[0m \u001b[1m26s\u001b[0m 3ms/step - loss: 368324256.0000 - mean_absolute_error: 11885.3311 - mean_absolute_percentage_error: 3012804352.0000 - val_loss: 373945536.0000 - val_mean_absolute_error: 11959.9912 - val_mean_absolute_percentage_error: 1676693504.0000\n",
            "Epoch 25/70\n",
            "\u001b[1m8432/8432\u001b[0m \u001b[32m━━━━━━━━━━━━━━━━━━━━\u001b[0m\u001b[37m\u001b[0m \u001b[1m42s\u001b[0m 3ms/step - loss: 379045088.0000 - mean_absolute_error: 11959.2012 - mean_absolute_percentage_error: 1527825408.0000 - val_loss: 373937696.0000 - val_mean_absolute_error: 11899.5420 - val_mean_absolute_percentage_error: 1658011008.0000\n",
            "Epoch 26/70\n",
            "\u001b[1m8432/8432\u001b[0m \u001b[32m━━━━━━━━━━━━━━━━━━━━\u001b[0m\u001b[37m\u001b[0m \u001b[1m23s\u001b[0m 3ms/step - loss: 371173984.0000 - mean_absolute_error: 11848.5723 - mean_absolute_percentage_error: 2557255936.0000 - val_loss: 373465152.0000 - val_mean_absolute_error: 11940.4072 - val_mean_absolute_percentage_error: 1673661568.0000\n",
            "Epoch 27/70\n",
            "\u001b[1m8432/8432\u001b[0m \u001b[32m━━━━━━━━━━━━━━━━━━━━\u001b[0m\u001b[37m\u001b[0m \u001b[1m41s\u001b[0m 3ms/step - loss: 374903328.0000 - mean_absolute_error: 11929.0742 - mean_absolute_percentage_error: 1695299584.0000 - val_loss: 373278720.0000 - val_mean_absolute_error: 11900.9131 - val_mean_absolute_percentage_error: 1624871680.0000\n",
            "Epoch 28/70\n",
            "\u001b[1m8432/8432\u001b[0m \u001b[32m━━━━━━━━━━━━━━━━━━━━\u001b[0m\u001b[37m\u001b[0m \u001b[1m25s\u001b[0m 3ms/step - loss: 371786848.0000 - mean_absolute_error: 11837.1348 - mean_absolute_percentage_error: 2318333696.0000 - val_loss: 373265856.0000 - val_mean_absolute_error: 11868.1221 - val_mean_absolute_percentage_error: 1657491840.0000\n",
            "Epoch 29/70\n",
            "\u001b[1m8432/8432\u001b[0m \u001b[32m━━━━━━━━━━━━━━━━━━━━\u001b[0m\u001b[37m\u001b[0m \u001b[1m25s\u001b[0m 3ms/step - loss: 369244384.0000 - mean_absolute_error: 11805.4873 - mean_absolute_percentage_error: 1557224320.0000 - val_loss: 372739712.0000 - val_mean_absolute_error: 11950.2305 - val_mean_absolute_percentage_error: 1710708608.0000\n",
            "Epoch 30/70\n",
            "\u001b[1m8432/8432\u001b[0m \u001b[32m━━━━━━━━━━━━━━━━━━━━\u001b[0m\u001b[37m\u001b[0m \u001b[1m39s\u001b[0m 3ms/step - loss: 376512000.0000 - mean_absolute_error: 11990.6924 - mean_absolute_percentage_error: 1592532096.0000 - val_loss: 372518016.0000 - val_mean_absolute_error: 11848.2109 - val_mean_absolute_percentage_error: 1696555776.0000\n",
            "Epoch 31/70\n",
            "\u001b[1m8432/8432\u001b[0m \u001b[32m━━━━━━━━━━━━━━━━━━━━\u001b[0m\u001b[37m\u001b[0m \u001b[1m25s\u001b[0m 3ms/step - loss: 370995808.0000 - mean_absolute_error: 11821.2646 - mean_absolute_percentage_error: 1870084864.0000 - val_loss: 372266944.0000 - val_mean_absolute_error: 11864.1328 - val_mean_absolute_percentage_error: 1661398784.0000\n",
            "Epoch 32/70\n",
            "\u001b[1m8432/8432\u001b[0m \u001b[32m━━━━━━━━━━━━━━━━━━━━\u001b[0m\u001b[37m\u001b[0m \u001b[1m38s\u001b[0m 3ms/step - loss: 372677248.0000 - mean_absolute_error: 11866.1895 - mean_absolute_percentage_error: 2599204864.0000 - val_loss: 371725216.0000 - val_mean_absolute_error: 11982.0947 - val_mean_absolute_percentage_error: 1725713024.0000\n",
            "Epoch 33/70\n",
            "\u001b[1m8432/8432\u001b[0m \u001b[32m━━━━━━━━━━━━━━━━━━━━\u001b[0m\u001b[37m\u001b[0m \u001b[1m44s\u001b[0m 3ms/step - loss: 381699200.0000 - mean_absolute_error: 11883.4707 - mean_absolute_percentage_error: 2118014208.0000 - val_loss: 371722304.0000 - val_mean_absolute_error: 11977.6006 - val_mean_absolute_percentage_error: 1768306304.0000\n",
            "Epoch 34/70\n",
            "\u001b[1m8432/8432\u001b[0m \u001b[32m━━━━━━━━━━━━━━━━━━━━\u001b[0m\u001b[37m\u001b[0m \u001b[1m22s\u001b[0m 3ms/step - loss: 375935776.0000 - mean_absolute_error: 11866.0273 - mean_absolute_percentage_error: 1727926400.0000 - val_loss: 371380320.0000 - val_mean_absolute_error: 11878.4951 - val_mean_absolute_percentage_error: 1675275648.0000\n",
            "Epoch 35/70\n",
            "\u001b[1m8432/8432\u001b[0m \u001b[32m━━━━━━━━━━━━━━━━━━━━\u001b[0m\u001b[37m\u001b[0m \u001b[1m42s\u001b[0m 3ms/step - loss: 368354368.0000 - mean_absolute_error: 11846.0811 - mean_absolute_percentage_error: 2111710208.0000 - val_loss: 370626048.0000 - val_mean_absolute_error: 11935.4131 - val_mean_absolute_percentage_error: 1746819712.0000\n",
            "Epoch 36/70\n",
            "\u001b[1m8432/8432\u001b[0m \u001b[32m━━━━━━━━━━━━━━━━━━━━\u001b[0m\u001b[37m\u001b[0m \u001b[1m43s\u001b[0m 3ms/step - loss: 367023648.0000 - mean_absolute_error: 11769.7900 - mean_absolute_percentage_error: 2344132096.0000 - val_loss: 370752800.0000 - val_mean_absolute_error: 11901.1680 - val_mean_absolute_percentage_error: 1703787136.0000\n",
            "Epoch 37/70\n",
            "\u001b[1m8432/8432\u001b[0m \u001b[32m━━━━━━━━━━━━━━━━━━━━\u001b[0m\u001b[37m\u001b[0m \u001b[1m27s\u001b[0m 3ms/step - loss: 371975968.0000 - mean_absolute_error: 11820.3857 - mean_absolute_percentage_error: 1918259968.0000 - val_loss: 370767520.0000 - val_mean_absolute_error: 11895.1611 - val_mean_absolute_percentage_error: 1702305792.0000\n",
            "Epoch 38/70\n",
            "\u001b[1m8432/8432\u001b[0m \u001b[32m━━━━━━━━━━━━━━━━━━━━\u001b[0m\u001b[37m\u001b[0m \u001b[1m30s\u001b[0m 3ms/step - loss: 369781088.0000 - mean_absolute_error: 11839.8789 - mean_absolute_percentage_error: 2589108224.0000 - val_loss: 370294816.0000 - val_mean_absolute_error: 11909.7988 - val_mean_absolute_percentage_error: 1720030848.0000\n",
            "Epoch 39/70\n",
            "\u001b[1m8432/8432\u001b[0m \u001b[32m━━━━━━━━━━━━━━━━━━━━\u001b[0m\u001b[37m\u001b[0m \u001b[1m33s\u001b[0m 4ms/step - loss: 372411840.0000 - mean_absolute_error: 11812.8350 - mean_absolute_percentage_error: 2176065536.0000 - val_loss: 369590816.0000 - val_mean_absolute_error: 11833.8027 - val_mean_absolute_percentage_error: 1685762560.0000\n",
            "Epoch 40/70\n",
            "\u001b[1m8432/8432\u001b[0m \u001b[32m━━━━━━━━━━━━━━━━━━━━\u001b[0m\u001b[37m\u001b[0m \u001b[1m31s\u001b[0m 4ms/step - loss: 372119712.0000 - mean_absolute_error: 11824.3047 - mean_absolute_percentage_error: 3125401088.0000 - val_loss: 369369984.0000 - val_mean_absolute_error: 11832.0625 - val_mean_absolute_percentage_error: 1719956992.0000\n",
            "Epoch 41/70\n",
            "\u001b[1m8432/8432\u001b[0m \u001b[32m━━━━━━━━━━━━━━━━━━━━\u001b[0m\u001b[37m\u001b[0m \u001b[1m30s\u001b[0m 4ms/step - loss: 372570880.0000 - mean_absolute_error: 11771.5771 - mean_absolute_percentage_error: 2145196672.0000 - val_loss: 368867712.0000 - val_mean_absolute_error: 11897.0713 - val_mean_absolute_percentage_error: 1734348544.0000\n",
            "Epoch 42/70\n",
            "\u001b[1m8432/8432\u001b[0m \u001b[32m━━━━━━━━━━━━━━━━━━━━\u001b[0m\u001b[37m\u001b[0m \u001b[1m36s\u001b[0m 4ms/step - loss: 362739200.0000 - mean_absolute_error: 11770.0176 - mean_absolute_percentage_error: 2002797056.0000 - val_loss: 368783552.0000 - val_mean_absolute_error: 11921.7412 - val_mean_absolute_percentage_error: 1783142016.0000\n",
            "Epoch 43/70\n",
            "\u001b[1m8432/8432\u001b[0m \u001b[32m━━━━━━━━━━━━━━━━━━━━\u001b[0m\u001b[37m\u001b[0m \u001b[1m33s\u001b[0m 4ms/step - loss: 366438336.0000 - mean_absolute_error: 11790.1621 - mean_absolute_percentage_error: 2626444032.0000 - val_loss: 368925504.0000 - val_mean_absolute_error: 12039.7627 - val_mean_absolute_percentage_error: 1816831616.0000\n",
            "Epoch 44/70\n",
            "\u001b[1m8432/8432\u001b[0m \u001b[32m━━━━━━━━━━━━━━━━━━━━\u001b[0m\u001b[37m\u001b[0m \u001b[1m28s\u001b[0m 3ms/step - loss: 366039648.0000 - mean_absolute_error: 11771.5713 - mean_absolute_percentage_error: 2312622592.0000 - val_loss: 368119264.0000 - val_mean_absolute_error: 11864.5322 - val_mean_absolute_percentage_error: 1761287680.0000\n",
            "Epoch 45/70\n",
            "\u001b[1m8432/8432\u001b[0m \u001b[32m━━━━━━━━━━━━━━━━━━━━\u001b[0m\u001b[37m\u001b[0m \u001b[1m30s\u001b[0m 4ms/step - loss: 362556512.0000 - mean_absolute_error: 11752.3291 - mean_absolute_percentage_error: 2387502336.0000 - val_loss: 368174560.0000 - val_mean_absolute_error: 11871.1738 - val_mean_absolute_percentage_error: 1764314112.0000\n",
            "Epoch 46/70\n",
            "\u001b[1m8432/8432\u001b[0m \u001b[32m━━━━━━━━━━━━━━━━━━━━\u001b[0m\u001b[37m\u001b[0m \u001b[1m32s\u001b[0m 4ms/step - loss: 372596928.0000 - mean_absolute_error: 11785.9814 - mean_absolute_percentage_error: 1667749120.0000 - val_loss: 367584096.0000 - val_mean_absolute_error: 11795.5566 - val_mean_absolute_percentage_error: 1767971584.0000\n",
            "Epoch 47/70\n",
            "\u001b[1m8432/8432\u001b[0m \u001b[32m━━━━━━━━━━━━━━━━━━━━\u001b[0m\u001b[37m\u001b[0m \u001b[1m40s\u001b[0m 4ms/step - loss: 369407104.0000 - mean_absolute_error: 11751.4521 - mean_absolute_percentage_error: 2556374272.0000 - val_loss: 367101728.0000 - val_mean_absolute_error: 11749.3936 - val_mean_absolute_percentage_error: 1700890240.0000\n",
            "Epoch 48/70\n",
            "\u001b[1m8432/8432\u001b[0m \u001b[32m━━━━━━━━━━━━━━━━━━━━\u001b[0m\u001b[37m\u001b[0m \u001b[1m49s\u001b[0m 5ms/step - loss: 364342720.0000 - mean_absolute_error: 11739.3721 - mean_absolute_percentage_error: 2074822016.0000 - val_loss: 366887936.0000 - val_mean_absolute_error: 11795.2852 - val_mean_absolute_percentage_error: 1713838080.0000\n",
            "Epoch 49/70\n",
            "\u001b[1m8432/8432\u001b[0m \u001b[32m━━━━━━━━━━━━━━━━━━━━\u001b[0m\u001b[37m\u001b[0m \u001b[1m34s\u001b[0m 4ms/step - loss: 373247520.0000 - mean_absolute_error: 11787.4834 - mean_absolute_percentage_error: 2412267776.0000 - val_loss: 366271360.0000 - val_mean_absolute_error: 11798.4570 - val_mean_absolute_percentage_error: 1809313280.0000\n",
            "Epoch 50/70\n",
            "\u001b[1m8432/8432\u001b[0m \u001b[32m━━━━━━━━━━━━━━━━━━━━\u001b[0m\u001b[37m\u001b[0m \u001b[1m37s\u001b[0m 4ms/step - loss: 366597920.0000 - mean_absolute_error: 11722.9482 - mean_absolute_percentage_error: 1815338496.0000 - val_loss: 365567904.0000 - val_mean_absolute_error: 11839.5078 - val_mean_absolute_percentage_error: 1786435072.0000\n",
            "Epoch 51/70\n",
            "\u001b[1m8432/8432\u001b[0m \u001b[32m━━━━━━━━━━━━━━━━━━━━\u001b[0m\u001b[37m\u001b[0m \u001b[1m41s\u001b[0m 4ms/step - loss: 367526112.0000 - mean_absolute_error: 11747.9707 - mean_absolute_percentage_error: 2206818048.0000 - val_loss: 365739936.0000 - val_mean_absolute_error: 11875.6104 - val_mean_absolute_percentage_error: 1835768576.0000\n",
            "Epoch 52/70\n",
            "\u001b[1m8432/8432\u001b[0m \u001b[32m━━━━━━━━━━━━━━━━━━━━\u001b[0m\u001b[37m\u001b[0m \u001b[1m39s\u001b[0m 3ms/step - loss: 369468928.0000 - mean_absolute_error: 11763.1191 - mean_absolute_percentage_error: 2779311616.0000 - val_loss: 365614272.0000 - val_mean_absolute_error: 11617.1562 - val_mean_absolute_percentage_error: 1685306368.0000\n",
            "Epoch 53/70\n",
            "\u001b[1m8432/8432\u001b[0m \u001b[32m━━━━━━━━━━━━━━━━━━━━\u001b[0m\u001b[37m\u001b[0m \u001b[1m43s\u001b[0m 4ms/step - loss: 365195936.0000 - mean_absolute_error: 11716.6006 - mean_absolute_percentage_error: 2455324416.0000 - val_loss: 364744256.0000 - val_mean_absolute_error: 11705.5176 - val_mean_absolute_percentage_error: 1727553920.0000\n",
            "Epoch 54/70\n",
            "\u001b[1m8432/8432\u001b[0m \u001b[32m━━━━━━━━━━━━━━━━━━━━\u001b[0m\u001b[37m\u001b[0m \u001b[1m38s\u001b[0m 3ms/step - loss: 364987488.0000 - mean_absolute_error: 11749.7705 - mean_absolute_percentage_error: 2501193472.0000 - val_loss: 364227488.0000 - val_mean_absolute_error: 11814.4824 - val_mean_absolute_percentage_error: 1749525760.0000\n",
            "Epoch 55/70\n",
            "\u001b[1m8432/8432\u001b[0m \u001b[32m━━━━━━━━━━━━━━━━━━━━\u001b[0m\u001b[37m\u001b[0m \u001b[1m39s\u001b[0m 3ms/step - loss: 359144000.0000 - mean_absolute_error: 11692.2119 - mean_absolute_percentage_error: 1560742016.0000 - val_loss: 363763008.0000 - val_mean_absolute_error: 11718.2432 - val_mean_absolute_percentage_error: 1756828416.0000\n",
            "Epoch 56/70\n",
            "\u001b[1m8432/8432\u001b[0m \u001b[32m━━━━━━━━━━━━━━━━━━━━\u001b[0m\u001b[37m\u001b[0m \u001b[1m42s\u001b[0m 3ms/step - loss: 353674496.0000 - mean_absolute_error: 11630.6943 - mean_absolute_percentage_error: 2189411072.0000 - val_loss: 363804576.0000 - val_mean_absolute_error: 11800.3281 - val_mean_absolute_percentage_error: 1798124416.0000\n",
            "Epoch 57/70\n",
            "\u001b[1m8432/8432\u001b[0m \u001b[32m━━━━━━━━━━━━━━━━━━━━\u001b[0m\u001b[37m\u001b[0m \u001b[1m27s\u001b[0m 3ms/step - loss: 368276096.0000 - mean_absolute_error: 11704.1172 - mean_absolute_percentage_error: 2278842368.0000 - val_loss: 362670208.0000 - val_mean_absolute_error: 11757.8311 - val_mean_absolute_percentage_error: 1769099776.0000\n",
            "Epoch 58/70\n",
            "\u001b[1m8432/8432\u001b[0m \u001b[32m━━━━━━━━━━━━━━━━━━━━\u001b[0m\u001b[37m\u001b[0m \u001b[1m31s\u001b[0m 4ms/step - loss: 365725856.0000 - mean_absolute_error: 11713.9209 - mean_absolute_percentage_error: 2261516800.0000 - val_loss: 362318144.0000 - val_mean_absolute_error: 11724.7764 - val_mean_absolute_percentage_error: 1790250752.0000\n",
            "Epoch 59/70\n",
            "\u001b[1m8432/8432\u001b[0m \u001b[32m━━━━━━━━━━━━━━━━━━━━\u001b[0m\u001b[37m\u001b[0m \u001b[1m35s\u001b[0m 3ms/step - loss: 363961088.0000 - mean_absolute_error: 11656.6533 - mean_absolute_percentage_error: 2047521024.0000 - val_loss: 361862752.0000 - val_mean_absolute_error: 11740.2666 - val_mean_absolute_percentage_error: 1747756032.0000\n",
            "Epoch 60/70\n",
            "\u001b[1m8432/8432\u001b[0m \u001b[32m━━━━━━━━━━━━━━━━━━━━\u001b[0m\u001b[37m\u001b[0m \u001b[1m49s\u001b[0m 4ms/step - loss: 373255808.0000 - mean_absolute_error: 11687.9482 - mean_absolute_percentage_error: 2072340608.0000 - val_loss: 361628864.0000 - val_mean_absolute_error: 11592.2080 - val_mean_absolute_percentage_error: 1687014400.0000\n",
            "Epoch 61/70\n",
            "\u001b[1m8432/8432\u001b[0m \u001b[32m━━━━━━━━━━━━━━━━━━━━\u001b[0m\u001b[37m\u001b[0m \u001b[1m40s\u001b[0m 4ms/step - loss: 357725536.0000 - mean_absolute_error: 11640.4512 - mean_absolute_percentage_error: 1987858688.0000 - val_loss: 361380736.0000 - val_mean_absolute_error: 11677.8145 - val_mean_absolute_percentage_error: 1692539520.0000\n",
            "Epoch 62/70\n",
            "\u001b[1m8432/8432\u001b[0m \u001b[32m━━━━━━━━━━━━━━━━━━━━\u001b[0m\u001b[37m\u001b[0m \u001b[1m38s\u001b[0m 3ms/step - loss: 358618016.0000 - mean_absolute_error: 11620.9863 - mean_absolute_percentage_error: 2251026688.0000 - val_loss: 360340704.0000 - val_mean_absolute_error: 11697.9531 - val_mean_absolute_percentage_error: 1736632576.0000\n",
            "Epoch 63/70\n",
            "\u001b[1m8432/8432\u001b[0m \u001b[32m━━━━━━━━━━━━━━━━━━━━\u001b[0m\u001b[37m\u001b[0m \u001b[1m31s\u001b[0m 4ms/step - loss: 354800992.0000 - mean_absolute_error: 11601.6094 - mean_absolute_percentage_error: 2215697920.0000 - val_loss: 360308288.0000 - val_mean_absolute_error: 11797.8301 - val_mean_absolute_percentage_error: 1761265792.0000\n",
            "Epoch 64/70\n",
            "\u001b[1m8432/8432\u001b[0m \u001b[32m━━━━━━━━━━━━━━━━━━━━\u001b[0m\u001b[37m\u001b[0m \u001b[1m36s\u001b[0m 3ms/step - loss: 357526464.0000 - mean_absolute_error: 11622.2559 - mean_absolute_percentage_error: 2151395328.0000 - val_loss: 359753408.0000 - val_mean_absolute_error: 11723.4160 - val_mean_absolute_percentage_error: 1764175872.0000\n",
            "Epoch 65/70\n",
            "\u001b[1m8432/8432\u001b[0m \u001b[32m━━━━━━━━━━━━━━━━━━━━\u001b[0m\u001b[37m\u001b[0m \u001b[1m39s\u001b[0m 3ms/step - loss: 354898208.0000 - mean_absolute_error: 11610.9551 - mean_absolute_percentage_error: 2640100864.0000 - val_loss: 359642912.0000 - val_mean_absolute_error: 11778.9229 - val_mean_absolute_percentage_error: 1797433856.0000\n",
            "Epoch 66/70\n",
            "\u001b[1m8432/8432\u001b[0m \u001b[32m━━━━━━━━━━━━━━━━━━━━\u001b[0m\u001b[37m\u001b[0m \u001b[1m26s\u001b[0m 3ms/step - loss: 358917664.0000 - mean_absolute_error: 11628.8350 - mean_absolute_percentage_error: 2548657408.0000 - val_loss: 356993760.0000 - val_mean_absolute_error: 11637.2822 - val_mean_absolute_percentage_error: 1797067264.0000\n",
            "Epoch 67/70\n",
            "\u001b[1m8432/8432\u001b[0m \u001b[32m━━━━━━━━━━━━━━━━━━━━\u001b[0m\u001b[37m\u001b[0m \u001b[1m28s\u001b[0m 3ms/step - loss: 357412000.0000 - mean_absolute_error: 11585.2725 - mean_absolute_percentage_error: 2039333888.0000 - val_loss: 356426560.0000 - val_mean_absolute_error: 11576.8916 - val_mean_absolute_percentage_error: 1749077120.0000\n",
            "Epoch 68/70\n",
            "\u001b[1m8432/8432\u001b[0m \u001b[32m━━━━━━━━━━━━━━━━━━━━\u001b[0m\u001b[37m\u001b[0m \u001b[1m23s\u001b[0m 3ms/step - loss: 354359840.0000 - mean_absolute_error: 11555.5537 - mean_absolute_percentage_error: 1593689856.0000 - val_loss: 356240160.0000 - val_mean_absolute_error: 11674.8984 - val_mean_absolute_percentage_error: 1845951616.0000\n",
            "Epoch 69/70\n",
            "\u001b[1m8432/8432\u001b[0m \u001b[32m━━━━━━━━━━━━━━━━━━━━\u001b[0m\u001b[37m\u001b[0m \u001b[1m43s\u001b[0m 3ms/step - loss: 351330016.0000 - mean_absolute_error: 11566.4717 - mean_absolute_percentage_error: 2096467200.0000 - val_loss: 355204064.0000 - val_mean_absolute_error: 11555.9248 - val_mean_absolute_percentage_error: 1780527232.0000\n",
            "Epoch 70/70\n",
            "\u001b[1m8432/8432\u001b[0m \u001b[32m━━━━━━━━━━━━━━━━━━━━\u001b[0m\u001b[37m\u001b[0m \u001b[1m27s\u001b[0m 3ms/step - loss: 346775136.0000 - mean_absolute_error: 11476.3984 - mean_absolute_percentage_error: 1403235968.0000 - val_loss: 353521504.0000 - val_mean_absolute_error: 11670.2471 - val_mean_absolute_percentage_error: 1803332992.0000\n"
          ]
        }
      ]
    },
    {
      "cell_type": "code",
      "source": [
        "result8_df=pd.DataFrame(result8.history)\n",
        "plt.plot(range(1,71),result8_df['loss'],label=\"train_loss\")\n",
        "plt.plot(range(1,71),result8_df['val_loss'],label=\"val_loss\")\n",
        "plt.legend()\n",
        "plt.show()"
      ],
      "metadata": {
        "colab": {
          "base_uri": "https://localhost:8080/",
          "height": 445
        },
        "id": "eRvg5cO99UnT",
        "outputId": "f23416b9-e39e-4c30-bcad-90db02011645"
      },
      "execution_count": null,
      "outputs": [
        {
          "output_type": "display_data",
          "data": {
            "text/plain": [
              "<Figure size 640x480 with 1 Axes>"
            ],
            "image/png": "[encoded data removed]"
          },
          "metadata": {}
        }
      ]
    },
    {
      "cell_type": "code",
      "source": [
        "result8_df.iloc[-1]"
      ],
      "metadata": {
        "colab": {
          "base_uri": "https://localhost:8080/",
          "height": 272
        },
        "id": "AZUKqGFa9eQp",
        "outputId": "fbc017a9-96fa-471f-d112-2bbb5cb5a3d1"
      },
      "execution_count": null,
      "outputs": [
        {
          "output_type": "execute_result",
          "data": {
            "text/plain": [
              "loss                                  3.535066e+08\n",
              "mean_absolute_error                   1.154414e+04\n",
              "mean_absolute_percentage_error        2.240799e+09\n",
              "val_loss                              3.535215e+08\n",
              "val_mean_absolute_error               1.167025e+04\n",
              "val_mean_absolute_percentage_error    1.803333e+09\n",
              "Name: 69, dtype: float64"
            ],
            "text/html": [
              "<div>\n",
              "<style scoped>\n",
              "    .dataframe tbody tr th:only-of-type {\n",
              "        vertical-align: middle;\n",
              "    }\n",
              "\n",
              "    .dataframe tbody tr th {\n",
              "        vertical-align: top;\n",
              "    }\n",
              "\n",
              "    .dataframe thead th {\n",
              "        text-align: right;\n",
              "    }\n",
              "</style>\n",
              "<table border=\"1\" class=\"dataframe\">\n",
              "  <thead>\n",
              "    <tr style=\"text-align: right;\">\n",
              "      <th></th>\n",
              "      <th>69</th>\n",
              "    </tr>\n",
              "  </thead>\n",
              "  <tbody>\n",
              "    <tr>\n",
              "      <th>loss</th>\n",
              "      <td>3.535066e+08</td>\n",
              "    </tr>\n",
              "    <tr>\n",
              "      <th>mean_absolute_error</th>\n",
              "      <td>1.154414e+04</td>\n",
              "    </tr>\n",
              "    <tr>\n",
              "      <th>mean_absolute_percentage_error</th>\n",
              "      <td>2.240799e+09</td>\n",
              "    </tr>\n",
              "    <tr>\n",
              "      <th>val_loss</th>\n",
              "      <td>3.535215e+08</td>\n",
              "    </tr>\n",
              "    <tr>\n",
              "      <th>val_mean_absolute_error</th>\n",
              "      <td>1.167025e+04</td>\n",
              "    </tr>\n",
              "    <tr>\n",
              "      <th>val_mean_absolute_percentage_error</th>\n",
              "      <td>1.803333e+09</td>\n",
              "    </tr>\n",
              "  </tbody>\n",
              "</table>\n",
              "</div><br><label><b>dtype:</b> float64</label>"
            ]
          },
          "metadata": {},
          "execution_count": 30
        }
      ]
    },
    {
      "cell_type": "code",
      "source": [
        "model8.evaluate(x_test_ss, y_test)"
      ],
      "metadata": {
        "colab": {
          "base_uri": "https://localhost:8080/"
        },
        "id": "aGcYWEKk9nh_",
        "outputId": "cfe62706-0d29-4e97-e898-5c46e8750f53"
      },
      "execution_count": null,
      "outputs": [
        {
          "output_type": "stream",
          "name": "stdout",
          "text": [
            "\u001b[1m2635/2635\u001b[0m \u001b[32m━━━━━━━━━━━━━━━━━━━━\u001b[0m\u001b[37m\u001b[0m \u001b[1m4s\u001b[0m 1ms/step - loss: 360549216.0000 - mean_absolute_error: 11779.1992 - mean_absolute_percentage_error: 1605917312.0000\n"
          ]
        },
        {
          "output_type": "execute_result",
          "data": {
            "text/plain": [
              "[362086016.0, 11741.9912109375, 1378276096.0]"
            ]
          },
          "metadata": {},
          "execution_count": 31
        }
      ]
    },
    {
      "cell_type": "code",
      "source": [
        "pred=[1,1,1,151315,42.31,2.572,4866.2909,24157.0344,376.8238,1187.4454,4158.9236,211.096358,8.106,0,5,2,2010]\n",
        "te=pd.DataFrame(pred).T\n",
        "te_ss=scaler.transform(te)\n",
        "te_df=pd.DataFrame(te_ss)\n",
        "model8.predict(te_df)"
      ],
      "metadata": {
        "colab": {
          "base_uri": "https://localhost:8080/"
        },
        "id": "3K7nHnuo9nfX",
        "outputId": "6fb648f8-3614-4123-fa98-f0a2cec5677a"
      },
      "execution_count": null,
      "outputs": [
        {
          "output_type": "stream",
          "name": "stdout",
          "text": [
            "\u001b[1m1/1\u001b[0m \u001b[32m━━━━━━━━━━━━━━━━━━━━\u001b[0m\u001b[37m\u001b[0m \u001b[1m0s\u001b[0m 47ms/step\n"
          ]
        },
        {
          "output_type": "stream",
          "name": "stderr",
          "text": [
            "/usr/local/lib/python3.10/dist-packages/sklearn/base.py:465: UserWarning: X does not have valid feature names, but StandardScaler was fitted with feature names\n",
            "  warnings.warn(\n"
          ]
        },
        {
          "output_type": "execute_result",
          "data": {
            "text/plain": [
              "array([[27878.305]], dtype=float32)"
            ]
          },
          "metadata": {},
          "execution_count": 49
        }
      ]
    },
    {
      "cell_type": "code",
      "source": [
        "pred=[45,98,2,118221,58.85,3.882,4018.91,58.08,100.0,211.94,858.33,192.308899,8.667,0,26,10,2012]\n",
        "te=pd.DataFrame(pred).T\n",
        "te_ss=scaler.transform(te)\n",
        "te_df=pd.DataFrame(te_ss)\n",
        "model8.predict(te_df)"
      ],
      "metadata": {
        "colab": {
          "base_uri": "https://localhost:8080/"
        },
        "id": "LIM5f-YENCR1",
        "outputId": "c1fe12cb-c22b-4d54-ac10-3def7343713f"
      },
      "execution_count": null,
      "outputs": [
        {
          "output_type": "stream",
          "name": "stderr",
          "text": [
            "/usr/local/lib/python3.10/dist-packages/sklearn/base.py:465: UserWarning: X does not have valid feature names, but StandardScaler was fitted with feature names\n",
            "  warnings.warn(\n"
          ]
        },
        {
          "output_type": "stream",
          "name": "stdout",
          "text": [
            "\u001b[1m1/1\u001b[0m \u001b[32m━━━━━━━━━━━━━━━━━━━━\u001b[0m\u001b[37m\u001b[0m \u001b[1m0s\u001b[0m 109ms/step\n"
          ]
        },
        {
          "output_type": "execute_result",
          "data": {
            "text/plain": [
              "array([[22516.525]], dtype=float32)"
            ]
          },
          "metadata": {},
          "execution_count": 46
        }
      ]
    },
    {
      "cell_type": "code",
      "source": [
        "model8.save('model_aug_23.h5')"
      ],
      "metadata": {
        "colab": {
          "base_uri": "https://localhost:8080/"
        },
        "id": "dAOTUZ5FMV3f",
        "outputId": "905eeb2d-615d-4557-f691-de44f8b69d6c"
      },
      "execution_count": null,
      "outputs": [
        {
          "output_type": "stream",
          "name": "stderr",
          "text": [
            "WARNING:absl:You are saving your model as an HDF5 file via `model.save()` or `keras.saving.save_model(model)`. This file format is considered legacy. We recommend using instead the native Keras format, e.g. `model.save('my_model.keras')` or `keras.saving.save_model(model, 'my_model.keras')`. \n"
          ]
        }
      ]
    },
    {
      "cell_type": "code",
      "source": [
        "# model7, minmax scaler and relu"
      ],
      "metadata": {
        "id": "cDwczPU9AIu0"
      },
      "execution_count": null,
      "outputs": []
    },
    {
      "cell_type": "code",
      "source": [],
      "metadata": {
        "id": "bGqivtnxANpK"
      },
      "execution_count": null,
      "outputs": []
    },
    {
      "cell_type": "code",
      "source": [
        "scaler_mm=MinMaxScaler()\n",
        "scaler_mm.fit(x_train)\n",
        "x_train_scaler_mm=scaler_mm.transform(x_train)\n",
        "x_test_scaler_mm=scaler_mm.transform(x_test)\n",
        "x_train_df_mm=pd.DataFrame(x_train_scaler_mm,columns=x_train.columns)\n",
        "x_test_df_mm=pd.DataFrame(x_test_scaler_mm,columns=x_test.columns)\n",
        "\n",
        "\n",
        "\n",
        "\n",
        "model7=Sequential()\n",
        "\n",
        "model7.add(Dense(64,input_dim=(len(x_train_ss[0])),activation=\"relu\"))\n",
        "model7.add(Dense(64,input_dim=(len(x_train_ss[0])),activation=\"relu\"))\n",
        "model7.add(Dense(1))\n",
        "\n",
        "\n",
        "model7.compile(optimizer=\"adam\",loss=\"mean_squared_error\",metrics=[tf.keras.metrics.MeanAbsoluteError(),tf.keras.metrics.MeanAbsolutePercentageError()])"
      ],
      "metadata": {
        "colab": {
          "base_uri": "https://localhost:8080/"
        },
        "id": "X9XskOTmAIrw",
        "outputId": "0e01d737-ad89-471f-a2df-32dc3049803f"
      },
      "execution_count": null,
      "outputs": [
        {
          "output_type": "stream",
          "name": "stderr",
          "text": [
            "/usr/local/lib/python3.10/dist-packages/keras/src/layers/core/dense.py:87: UserWarning: Do not pass an `input_shape`/`input_dim` argument to a layer. When using Sequential models, prefer using an `Input(shape)` object as the first layer in the model instead.\n",
            "  super().__init__(activity_regularizer=activity_regularizer, **kwargs)\n"
          ]
        }
      ]
    },
    {
      "cell_type": "code",
      "source": [
        "result7=model7.fit(x_train_df_mm,y_train,epochs=200,validation_split=0.2,batch_size=32)"
      ],
      "metadata": {
        "colab": {
          "base_uri": "https://localhost:8080/"
        },
        "id": "IIZ6PLsdAImT",
        "outputId": "05a0e819-49ca-4f4d-ec6d-08364d1dd792"
      },
      "execution_count": null,
      "outputs": [
        {
          "output_type": "stream",
          "name": "stdout",
          "text": [
            "Epoch 1/200\n",
            "\u001b[1m8432/8432\u001b[0m \u001b[32m━━━━━━━━━━━━━━━━━━━━\u001b[0m\u001b[37m\u001b[0m \u001b[1m25s\u001b[0m 3ms/step - loss: 535345344.0000 - mean_absolute_error: 14704.9277 - mean_absolute_percentage_error: 2252851712.0000 - val_loss: 474896288.0000 - val_mean_absolute_error: 14851.8242 - val_mean_absolute_percentage_error: 2659212544.0000\n",
            "Epoch 2/200\n",
            "\u001b[1m8432/8432\u001b[0m \u001b[32m━━━━━━━━━━━━━━━━━━━━\u001b[0m\u001b[37m\u001b[0m \u001b[1m42s\u001b[0m 3ms/step - loss: 476529248.0000 - mean_absolute_error: 14626.7695 - mean_absolute_percentage_error: 2776866560.0000 - val_loss: 471474528.0000 - val_mean_absolute_error: 14570.4023 - val_mean_absolute_percentage_error: 2577320960.0000\n",
            "Epoch 3/200\n",
            "\u001b[1m8432/8432\u001b[0m \u001b[32m━━━━━━━━━━━━━━━━━━━━\u001b[0m\u001b[37m\u001b[0m \u001b[1m41s\u001b[0m 3ms/step - loss: 462615200.0000 - mean_absolute_error: 14431.1221 - mean_absolute_percentage_error: 2703294208.0000 - val_loss: 466165856.0000 - val_mean_absolute_error: 14496.7510 - val_mean_absolute_percentage_error: 2632782592.0000\n",
            "Epoch 4/200\n",
            "\u001b[1m8432/8432\u001b[0m \u001b[32m━━━━━━━━━━━━━━━━━━━━\u001b[0m\u001b[37m\u001b[0m \u001b[1m40s\u001b[0m 3ms/step - loss: 463612960.0000 - mean_absolute_error: 14422.3242 - mean_absolute_percentage_error: 2549772288.0000 - val_loss: 457226848.0000 - val_mean_absolute_error: 14324.8418 - val_mean_absolute_percentage_error: 2590902784.0000\n",
            "Epoch 5/200\n",
            "\u001b[1m8432/8432\u001b[0m \u001b[32m━━━━━━━━━━━━━━━━━━━━\u001b[0m\u001b[37m\u001b[0m \u001b[1m41s\u001b[0m 3ms/step - loss: 449164448.0000 - mean_absolute_error: 14255.5547 - mean_absolute_percentage_error: 2836691456.0000 - val_loss: 444258368.0000 - val_mean_absolute_error: 14244.1494 - val_mean_absolute_percentage_error: 2584440320.0000\n",
            "Epoch 6/200\n",
            "\u001b[1m8432/8432\u001b[0m \u001b[32m━━━━━━━━━━━━━━━━━━━━\u001b[0m\u001b[37m\u001b[0m \u001b[1m38s\u001b[0m 2ms/step - loss: 434449792.0000 - mean_absolute_error: 13974.0605 - mean_absolute_percentage_error: 2481023744.0000 - val_loss: 432283104.0000 - val_mean_absolute_error: 13935.1416 - val_mean_absolute_percentage_error: 2425281792.0000\n",
            "Epoch 7/200\n",
            "\u001b[1m8432/8432\u001b[0m \u001b[32m━━━━━━━━━━━━━━━━━━━━\u001b[0m\u001b[37m\u001b[0m \u001b[1m23s\u001b[0m 3ms/step - loss: 440472544.0000 - mean_absolute_error: 13750.6152 - mean_absolute_percentage_error: 3074421504.0000 - val_loss: 421970368.0000 - val_mean_absolute_error: 13495.8965 - val_mean_absolute_percentage_error: 2249027840.0000\n",
            "Epoch 8/200\n",
            "\u001b[1m8432/8432\u001b[0m \u001b[32m━━━━━━━━━━━━━━━━━━━━\u001b[0m\u001b[37m\u001b[0m \u001b[1m41s\u001b[0m 3ms/step - loss: 419726976.0000 - mean_absolute_error: 13427.5371 - mean_absolute_percentage_error: 3419986944.0000 - val_loss: 408963968.0000 - val_mean_absolute_error: 13222.3711 - val_mean_absolute_percentage_error: 2101294592.0000\n",
            "Epoch 9/200\n",
            "\u001b[1m8432/8432\u001b[0m \u001b[32m━━━━━━━━━━━━━━━━━━━━\u001b[0m\u001b[37m\u001b[0m \u001b[1m39s\u001b[0m 3ms/step - loss: 402068640.0000 - mean_absolute_error: 12959.1787 - mean_absolute_percentage_error: 2251852032.0000 - val_loss: 396927008.0000 - val_mean_absolute_error: 12725.7930 - val_mean_absolute_percentage_error: 1946554240.0000\n",
            "Epoch 10/200\n",
            "\u001b[1m8432/8432\u001b[0m \u001b[32m━━━━━━━━━━━━━━━━━━━━\u001b[0m\u001b[37m\u001b[0m \u001b[1m41s\u001b[0m 3ms/step - loss: 391526144.0000 - mean_absolute_error: 12540.8711 - mean_absolute_percentage_error: 2037218944.0000 - val_loss: 389958400.0000 - val_mean_absolute_error: 12503.1885 - val_mean_absolute_percentage_error: 1862090112.0000\n",
            "Epoch 11/200\n",
            "\u001b[1m8432/8432\u001b[0m \u001b[32m━━━━━━━━━━━━━━━━━━━━\u001b[0m\u001b[37m\u001b[0m \u001b[1m24s\u001b[0m 3ms/step - loss: 385820448.0000 - mean_absolute_error: 12352.7314 - mean_absolute_percentage_error: 2342791680.0000 - val_loss: 387172096.0000 - val_mean_absolute_error: 12346.5684 - val_mean_absolute_percentage_error: 1786779136.0000\n",
            "Epoch 12/200\n",
            "\u001b[1m8432/8432\u001b[0m \u001b[32m━━━━━━━━━━━━━━━━━━━━\u001b[0m\u001b[37m\u001b[0m \u001b[1m21s\u001b[0m 3ms/step - loss: 384584416.0000 - mean_absolute_error: 12265.0039 - mean_absolute_percentage_error: 2165134336.0000 - val_loss: 385605568.0000 - val_mean_absolute_error: 12266.5986 - val_mean_absolute_percentage_error: 1733274496.0000\n",
            "Epoch 13/200\n",
            "\u001b[1m8432/8432\u001b[0m \u001b[32m━━━━━━━━━━━━━━━━━━━━\u001b[0m\u001b[37m\u001b[0m \u001b[1m40s\u001b[0m 2ms/step - loss: 379673216.0000 - mean_absolute_error: 12181.4131 - mean_absolute_percentage_error: 1826759552.0000 - val_loss: 384492992.0000 - val_mean_absolute_error: 12380.5449 - val_mean_absolute_percentage_error: 1775987712.0000\n",
            "Epoch 14/200\n",
            "\u001b[1m8432/8432\u001b[0m \u001b[32m━━━━━━━━━━━━━━━━━━━━\u001b[0m\u001b[37m\u001b[0m \u001b[1m41s\u001b[0m 2ms/step - loss: 380917312.0000 - mean_absolute_error: 12175.3545 - mean_absolute_percentage_error: 2247131392.0000 - val_loss: 383699936.0000 - val_mean_absolute_error: 12452.6318 - val_mean_absolute_percentage_error: 1804481280.0000\n",
            "Epoch 15/200\n",
            "\u001b[1m8432/8432\u001b[0m \u001b[32m━━━━━━━━━━━━━━━━━━━━\u001b[0m\u001b[37m\u001b[0m \u001b[1m25s\u001b[0m 3ms/step - loss: 392147328.0000 - mean_absolute_error: 12196.1631 - mean_absolute_percentage_error: 1970671872.0000 - val_loss: 382729824.0000 - val_mean_absolute_error: 12393.4111 - val_mean_absolute_percentage_error: 1761106304.0000\n",
            "Epoch 16/200\n",
            "\u001b[1m8432/8432\u001b[0m \u001b[32m━━━━━━━━━━━━━━━━━━━━\u001b[0m\u001b[37m\u001b[0m \u001b[1m21s\u001b[0m 2ms/step - loss: 380565568.0000 - mean_absolute_error: 12167.5498 - mean_absolute_percentage_error: 2555901952.0000 - val_loss: 381763072.0000 - val_mean_absolute_error: 12048.2178 - val_mean_absolute_percentage_error: 1627869824.0000\n",
            "Epoch 17/200\n",
            "\u001b[1m8432/8432\u001b[0m \u001b[32m━━━━━━━━━━━━━━━━━━━━\u001b[0m\u001b[37m\u001b[0m \u001b[1m25s\u001b[0m 3ms/step - loss: 380350080.0000 - mean_absolute_error: 12128.8672 - mean_absolute_percentage_error: 2829890048.0000 - val_loss: 381620384.0000 - val_mean_absolute_error: 12492.9570 - val_mean_absolute_percentage_error: 1789136768.0000\n",
            "Epoch 18/200\n",
            "\u001b[1m8432/8432\u001b[0m \u001b[32m━━━━━━━━━━━━━━━━━━━━\u001b[0m\u001b[37m\u001b[0m \u001b[1m40s\u001b[0m 3ms/step - loss: 376377728.0000 - mean_absolute_error: 12068.0732 - mean_absolute_percentage_error: 2640682496.0000 - val_loss: 380125344.0000 - val_mean_absolute_error: 12192.8955 - val_mean_absolute_percentage_error: 1676103808.0000\n",
            "Epoch 19/200\n",
            "\u001b[1m8432/8432\u001b[0m \u001b[32m━━━━━━━━━━━━━━━━━━━━\u001b[0m\u001b[37m\u001b[0m \u001b[1m21s\u001b[0m 3ms/step - loss: 380270112.0000 - mean_absolute_error: 12088.5352 - mean_absolute_percentage_error: 1930110464.0000 - val_loss: 379373824.0000 - val_mean_absolute_error: 12186.3760 - val_mean_absolute_percentage_error: 1677817472.0000\n",
            "Epoch 20/200\n",
            "\u001b[1m8432/8432\u001b[0m \u001b[32m━━━━━━━━━━━━━━━━━━━━\u001b[0m\u001b[37m\u001b[0m \u001b[1m41s\u001b[0m 3ms/step - loss: 385601504.0000 - mean_absolute_error: 12085.6084 - mean_absolute_percentage_error: 2314220800.0000 - val_loss: 378981952.0000 - val_mean_absolute_error: 12257.8018 - val_mean_absolute_percentage_error: 1677116928.0000\n",
            "Epoch 21/200\n",
            "\u001b[1m8432/8432\u001b[0m \u001b[32m━━━━━━━━━━━━━━━━━━━━\u001b[0m\u001b[37m\u001b[0m \u001b[1m24s\u001b[0m 3ms/step - loss: 385919712.0000 - mean_absolute_error: 12111.2129 - mean_absolute_percentage_error: 2399476480.0000 - val_loss: 378268448.0000 - val_mean_absolute_error: 11991.0625 - val_mean_absolute_percentage_error: 1599254016.0000\n",
            "Epoch 22/200\n",
            "\u001b[1m8432/8432\u001b[0m \u001b[32m━━━━━━━━━━━━━━━━━━━━\u001b[0m\u001b[37m\u001b[0m \u001b[1m21s\u001b[0m 2ms/step - loss: 380783232.0000 - mean_absolute_error: 12064.7051 - mean_absolute_percentage_error: 1932829440.0000 - val_loss: 377370400.0000 - val_mean_absolute_error: 12110.9805 - val_mean_absolute_percentage_error: 1639125248.0000\n",
            "Epoch 23/200\n",
            "\u001b[1m8432/8432\u001b[0m \u001b[32m━━━━━━━━━━━━━━━━━━━━\u001b[0m\u001b[37m\u001b[0m \u001b[1m25s\u001b[0m 3ms/step - loss: 372322496.0000 - mean_absolute_error: 12005.4092 - mean_absolute_percentage_error: 2262283008.0000 - val_loss: 377017536.0000 - val_mean_absolute_error: 12151.9463 - val_mean_absolute_percentage_error: 1649147904.0000\n",
            "Epoch 24/200\n",
            "\u001b[1m8432/8432\u001b[0m \u001b[32m━━━━━━━━━━━━━━━━━━━━\u001b[0m\u001b[37m\u001b[0m \u001b[1m21s\u001b[0m 3ms/step - loss: 372037248.0000 - mean_absolute_error: 11988.9668 - mean_absolute_percentage_error: 2047389952.0000 - val_loss: 376503808.0000 - val_mean_absolute_error: 11915.9971 - val_mean_absolute_percentage_error: 1544613120.0000\n",
            "Epoch 25/200\n",
            "\u001b[1m8432/8432\u001b[0m \u001b[32m━━━━━━━━━━━━━━━━━━━━\u001b[0m\u001b[37m\u001b[0m \u001b[1m23s\u001b[0m 3ms/step - loss: 377718592.0000 - mean_absolute_error: 11975.3135 - mean_absolute_percentage_error: 1732149504.0000 - val_loss: 375206976.0000 - val_mean_absolute_error: 11905.0049 - val_mean_absolute_percentage_error: 1545634816.0000\n",
            "Epoch 26/200\n",
            "\u001b[1m8432/8432\u001b[0m \u001b[32m━━━━━━━━━━━━━━━━━━━━\u001b[0m\u001b[37m\u001b[0m \u001b[1m22s\u001b[0m 3ms/step - loss: 372804576.0000 - mean_absolute_error: 11972.8955 - mean_absolute_percentage_error: 2066877184.0000 - val_loss: 374298624.0000 - val_mean_absolute_error: 11977.6465 - val_mean_absolute_percentage_error: 1566776320.0000\n",
            "Epoch 27/200\n",
            "\u001b[1m8432/8432\u001b[0m \u001b[32m━━━━━━━━━━━━━━━━━━━━\u001b[0m\u001b[37m\u001b[0m \u001b[1m43s\u001b[0m 3ms/step - loss: 379359744.0000 - mean_absolute_error: 11958.5771 - mean_absolute_percentage_error: 1889204224.0000 - val_loss: 373175712.0000 - val_mean_absolute_error: 12002.3896 - val_mean_absolute_percentage_error: 1590613504.0000\n",
            "Epoch 28/200\n",
            "\u001b[1m8432/8432\u001b[0m \u001b[32m━━━━━━━━━━━━━━━━━━━━\u001b[0m\u001b[37m\u001b[0m \u001b[1m22s\u001b[0m 3ms/step - loss: 371592384.0000 - mean_absolute_error: 11933.9756 - mean_absolute_percentage_error: 2528553728.0000 - val_loss: 372068640.0000 - val_mean_absolute_error: 12018.9648 - val_mean_absolute_percentage_error: 1584262912.0000\n",
            "Epoch 29/200\n",
            "\u001b[1m8432/8432\u001b[0m \u001b[32m━━━━━━━━━━━━━━━━━━━━\u001b[0m\u001b[37m\u001b[0m \u001b[1m44s\u001b[0m 3ms/step - loss: 368916640.0000 - mean_absolute_error: 11943.8633 - mean_absolute_percentage_error: 2335169536.0000 - val_loss: 371151232.0000 - val_mean_absolute_error: 12000.5938 - val_mean_absolute_percentage_error: 1582958336.0000\n",
            "Epoch 30/200\n",
            "\u001b[1m8432/8432\u001b[0m \u001b[32m━━━━━━━━━━━━━━━━━━━━\u001b[0m\u001b[37m\u001b[0m \u001b[1m21s\u001b[0m 3ms/step - loss: 363388448.0000 - mean_absolute_error: 11832.1104 - mean_absolute_percentage_error: 2802096128.0000 - val_loss: 369881888.0000 - val_mean_absolute_error: 12089.1865 - val_mean_absolute_percentage_error: 1605867008.0000\n",
            "Epoch 31/200\n",
            "\u001b[1m8432/8432\u001b[0m \u001b[32m━━━━━━━━━━━━━━━━━━━━\u001b[0m\u001b[37m\u001b[0m \u001b[1m24s\u001b[0m 3ms/step - loss: 373754912.0000 - mean_absolute_error: 11919.4746 - mean_absolute_percentage_error: 2118131456.0000 - val_loss: 368572448.0000 - val_mean_absolute_error: 11947.4805 - val_mean_absolute_percentage_error: 1576626816.0000\n",
            "Epoch 32/200\n",
            "\u001b[1m8432/8432\u001b[0m \u001b[32m━━━━━━━━━━━━━━━━━━━━\u001b[0m\u001b[37m\u001b[0m \u001b[1m41s\u001b[0m 3ms/step - loss: 369617088.0000 - mean_absolute_error: 11875.0938 - mean_absolute_percentage_error: 2235596800.0000 - val_loss: 366916192.0000 - val_mean_absolute_error: 12043.8750 - val_mean_absolute_percentage_error: 1607883776.0000\n",
            "Epoch 33/200\n",
            "\u001b[1m8432/8432\u001b[0m \u001b[32m━━━━━━━━━━━━━━━━━━━━\u001b[0m\u001b[37m\u001b[0m \u001b[1m22s\u001b[0m 3ms/step - loss: 361765760.0000 - mean_absolute_error: 11840.9922 - mean_absolute_percentage_error: 1828974208.0000 - val_loss: 366539328.0000 - val_mean_absolute_error: 12208.7148 - val_mean_absolute_percentage_error: 1672970112.0000\n",
            "Epoch 34/200\n",
            "\u001b[1m8432/8432\u001b[0m \u001b[32m━━━━━━━━━━━━━━━━━━━━\u001b[0m\u001b[37m\u001b[0m \u001b[1m24s\u001b[0m 3ms/step - loss: 365634400.0000 - mean_absolute_error: 11858.6162 - mean_absolute_percentage_error: 1546958720.0000 - val_loss: 363842976.0000 - val_mean_absolute_error: 11803.8428 - val_mean_absolute_percentage_error: 1514058240.0000\n",
            "Epoch 35/200\n",
            "\u001b[1m8432/8432\u001b[0m \u001b[32m━━━━━━━━━━━━━━━━━━━━\u001b[0m\u001b[37m\u001b[0m \u001b[1m41s\u001b[0m 3ms/step - loss: 362155648.0000 - mean_absolute_error: 11783.4443 - mean_absolute_percentage_error: 1927185536.0000 - val_loss: 362608960.0000 - val_mean_absolute_error: 11789.8418 - val_mean_absolute_percentage_error: 1556616832.0000\n",
            "Epoch 36/200\n",
            "\u001b[1m8432/8432\u001b[0m \u001b[32m━━━━━━━━━━━━━━━━━━━━\u001b[0m\u001b[37m\u001b[0m \u001b[1m38s\u001b[0m 3ms/step - loss: 366841728.0000 - mean_absolute_error: 11837.2812 - mean_absolute_percentage_error: 2307928832.0000 - val_loss: 359916960.0000 - val_mean_absolute_error: 11979.8799 - val_mean_absolute_percentage_error: 1609067136.0000\n",
            "Epoch 37/200\n",
            "\u001b[1m8432/8432\u001b[0m \u001b[32m━━━━━━━━━━━━━━━━━━━━\u001b[0m\u001b[37m\u001b[0m \u001b[1m41s\u001b[0m 3ms/step - loss: 351032896.0000 - mean_absolute_error: 11692.9834 - mean_absolute_percentage_error: 2364315392.0000 - val_loss: 358342048.0000 - val_mean_absolute_error: 11759.6680 - val_mean_absolute_percentage_error: 1513388160.0000\n",
            "Epoch 38/200\n",
            "\u001b[1m8432/8432\u001b[0m \u001b[32m━━━━━━━━━━━━━━━━━━━━\u001b[0m\u001b[37m\u001b[0m \u001b[1m41s\u001b[0m 3ms/step - loss: 355751104.0000 - mean_absolute_error: 11651.3750 - mean_absolute_percentage_error: 1658578304.0000 - val_loss: 356069696.0000 - val_mean_absolute_error: 11695.5322 - val_mean_absolute_percentage_error: 1516783616.0000\n",
            "Epoch 39/200\n",
            "\u001b[1m8432/8432\u001b[0m \u001b[32m━━━━━━━━━━━━━━━━━━━━\u001b[0m\u001b[37m\u001b[0m \u001b[1m25s\u001b[0m 3ms/step - loss: 351553632.0000 - mean_absolute_error: 11644.1309 - mean_absolute_percentage_error: 2417153024.0000 - val_loss: 354657216.0000 - val_mean_absolute_error: 11567.4561 - val_mean_absolute_percentage_error: 1472968064.0000\n",
            "Epoch 40/200\n",
            "\u001b[1m8432/8432\u001b[0m \u001b[32m━━━━━━━━━━━━━━━━━━━━\u001b[0m\u001b[37m\u001b[0m \u001b[1m21s\u001b[0m 2ms/step - loss: 353232672.0000 - mean_absolute_error: 11580.9971 - mean_absolute_percentage_error: 2568796416.0000 - val_loss: 351509376.0000 - val_mean_absolute_error: 11620.4023 - val_mean_absolute_percentage_error: 1478487040.0000\n",
            "Epoch 41/200\n",
            "\u001b[1m8432/8432\u001b[0m \u001b[32m━━━━━━━━━━━━━━━━━━━━\u001b[0m\u001b[37m\u001b[0m \u001b[1m41s\u001b[0m 2ms/step - loss: 347341504.0000 - mean_absolute_error: 11515.7041 - mean_absolute_percentage_error: 2267704064.0000 - val_loss: 349358880.0000 - val_mean_absolute_error: 11483.9521 - val_mean_absolute_percentage_error: 1430828160.0000\n",
            "Epoch 42/200\n",
            "\u001b[1m8432/8432\u001b[0m \u001b[32m━━━━━━━━━━━━━━━━━━━━\u001b[0m\u001b[37m\u001b[0m \u001b[1m25s\u001b[0m 3ms/step - loss: 350123840.0000 - mean_absolute_error: 11563.2461 - mean_absolute_percentage_error: 1997350784.0000 - val_loss: 348795712.0000 - val_mean_absolute_error: 11684.0303 - val_mean_absolute_percentage_error: 1510540288.0000\n",
            "Epoch 43/200\n",
            "\u001b[1m8432/8432\u001b[0m \u001b[32m━━━━━━━━━━━━━━━━━━━━\u001b[0m\u001b[37m\u001b[0m \u001b[1m41s\u001b[0m 3ms/step - loss: 344595424.0000 - mean_absolute_error: 11465.2246 - mean_absolute_percentage_error: 1526404736.0000 - val_loss: 345827680.0000 - val_mean_absolute_error: 11381.4746 - val_mean_absolute_percentage_error: 1428022272.0000\n",
            "Epoch 44/200\n",
            "\u001b[1m8432/8432\u001b[0m \u001b[32m━━━━━━━━━━━━━━━━━━━━\u001b[0m\u001b[37m\u001b[0m \u001b[1m37s\u001b[0m 3ms/step - loss: 341601056.0000 - mean_absolute_error: 11380.9238 - mean_absolute_percentage_error: 1771661568.0000 - val_loss: 343019136.0000 - val_mean_absolute_error: 11527.0303 - val_mean_absolute_percentage_error: 1475597184.0000\n",
            "Epoch 45/200\n",
            "\u001b[1m8432/8432\u001b[0m \u001b[32m━━━━━━━━━━━━━━━━━━━━\u001b[0m\u001b[37m\u001b[0m \u001b[1m44s\u001b[0m 3ms/step - loss: 345036544.0000 - mean_absolute_error: 11431.4717 - mean_absolute_percentage_error: 2034839424.0000 - val_loss: 339482048.0000 - val_mean_absolute_error: 11544.5479 - val_mean_absolute_percentage_error: 1497992448.0000\n",
            "Epoch 46/200\n",
            "\u001b[1m8432/8432\u001b[0m \u001b[32m━━━━━━━━━━━━━━━━━━━━\u001b[0m\u001b[37m\u001b[0m \u001b[1m22s\u001b[0m 3ms/step - loss: 335020544.0000 - mean_absolute_error: 11378.4160 - mean_absolute_percentage_error: 1663998848.0000 - val_loss: 337399392.0000 - val_mean_absolute_error: 11417.8027 - val_mean_absolute_percentage_error: 1439088512.0000\n",
            "Epoch 47/200\n",
            "\u001b[1m8432/8432\u001b[0m \u001b[32m━━━━━━━━━━━━━━━━━━━━\u001b[0m\u001b[37m\u001b[0m \u001b[1m41s\u001b[0m 3ms/step - loss: 334006080.0000 - mean_absolute_error: 11284.0898 - mean_absolute_percentage_error: 1663616640.0000 - val_loss: 337284000.0000 - val_mean_absolute_error: 11383.7842 - val_mean_absolute_percentage_error: 1417652352.0000\n",
            "Epoch 48/200\n",
            "\u001b[1m8432/8432\u001b[0m \u001b[32m━━━━━━━━━━━━━━━━━━━━\u001b[0m\u001b[37m\u001b[0m \u001b[1m24s\u001b[0m 3ms/step - loss: 335350528.0000 - mean_absolute_error: 11267.7529 - mean_absolute_percentage_error: 2418881792.0000 - val_loss: 332284288.0000 - val_mean_absolute_error: 11226.0410 - val_mean_absolute_percentage_error: 1393073920.0000\n",
            "Epoch 49/200\n",
            "\u001b[1m8432/8432\u001b[0m \u001b[32m━━━━━━━━━━━━━━━━━━━━\u001b[0m\u001b[37m\u001b[0m \u001b[1m21s\u001b[0m 3ms/step - loss: 332843424.0000 - mean_absolute_error: 11250.5859 - mean_absolute_percentage_error: 1842398848.0000 - val_loss: 329949120.0000 - val_mean_absolute_error: 11116.3496 - val_mean_absolute_percentage_error: 1373810048.0000\n",
            "Epoch 50/200\n",
            "\u001b[1m8432/8432\u001b[0m \u001b[32m━━━━━━━━━━━━━━━━━━━━\u001b[0m\u001b[37m\u001b[0m \u001b[1m25s\u001b[0m 3ms/step - loss: 326030304.0000 - mean_absolute_error: 11194.3281 - mean_absolute_percentage_error: 2664208384.0000 - val_loss: 329008512.0000 - val_mean_absolute_error: 11561.3906 - val_mean_absolute_percentage_error: 1518560384.0000\n",
            "Epoch 51/200\n",
            "\u001b[1m8432/8432\u001b[0m \u001b[32m━━━━━━━━━━━━━━━━━━━━\u001b[0m\u001b[37m\u001b[0m \u001b[1m21s\u001b[0m 2ms/step - loss: 323913664.0000 - mean_absolute_error: 11133.6943 - mean_absolute_percentage_error: 1582604416.0000 - val_loss: 324767968.0000 - val_mean_absolute_error: 11144.9072 - val_mean_absolute_percentage_error: 1400590592.0000\n",
            "Epoch 52/200\n",
            "\u001b[1m8432/8432\u001b[0m \u001b[32m━━━━━━━━━━━━━━━━━━━━\u001b[0m\u001b[37m\u001b[0m \u001b[1m41s\u001b[0m 3ms/step - loss: 331124736.0000 - mean_absolute_error: 11156.1396 - mean_absolute_percentage_error: 2033740800.0000 - val_loss: 322295744.0000 - val_mean_absolute_error: 10994.4463 - val_mean_absolute_percentage_error: 1353762048.0000\n",
            "Epoch 53/200\n",
            "\u001b[1m8432/8432\u001b[0m \u001b[32m━━━━━━━━━━━━━━━━━━━━\u001b[0m\u001b[37m\u001b[0m \u001b[1m23s\u001b[0m 3ms/step - loss: 322838432.0000 - mean_absolute_error: 11067.8564 - mean_absolute_percentage_error: 1424528896.0000 - val_loss: 320122272.0000 - val_mean_absolute_error: 11102.1855 - val_mean_absolute_percentage_error: 1438298112.0000\n",
            "Epoch 54/200\n",
            "\u001b[1m8432/8432\u001b[0m \u001b[32m━━━━━━━━━━━━━━━━━━━━\u001b[0m\u001b[37m\u001b[0m \u001b[1m22s\u001b[0m 3ms/step - loss: 322978784.0000 - mean_absolute_error: 11089.4150 - mean_absolute_percentage_error: 2543055616.0000 - val_loss: 317902464.0000 - val_mean_absolute_error: 11087.2422 - val_mean_absolute_percentage_error: 1436946688.0000\n",
            "Epoch 55/200\n",
            "\u001b[1m8432/8432\u001b[0m \u001b[32m━━━━━━━━━━━━━━━━━━━━\u001b[0m\u001b[37m\u001b[0m \u001b[1m21s\u001b[0m 2ms/step - loss: 316403360.0000 - mean_absolute_error: 11003.9189 - mean_absolute_percentage_error: 2028044800.0000 - val_loss: 315763328.0000 - val_mean_absolute_error: 11178.7510 - val_mean_absolute_percentage_error: 1506898560.0000\n",
            "Epoch 56/200\n",
            "\u001b[1m8432/8432\u001b[0m \u001b[32m━━━━━━━━━━━━━━━━━━━━\u001b[0m\u001b[37m\u001b[0m \u001b[1m24s\u001b[0m 3ms/step - loss: 319221920.0000 - mean_absolute_error: 11007.8750 - mean_absolute_percentage_error: 2783018240.0000 - val_loss: 314291776.0000 - val_mean_absolute_error: 11087.9043 - val_mean_absolute_percentage_error: 1448215040.0000\n",
            "Epoch 57/200\n",
            "\u001b[1m8432/8432\u001b[0m \u001b[32m━━━━━━━━━━━━━━━━━━━━\u001b[0m\u001b[37m\u001b[0m \u001b[1m21s\u001b[0m 3ms/step - loss: 317282368.0000 - mean_absolute_error: 10923.9844 - mean_absolute_percentage_error: 2284641792.0000 - val_loss: 312266432.0000 - val_mean_absolute_error: 10936.7529 - val_mean_absolute_percentage_error: 1437949952.0000\n",
            "Epoch 58/200\n",
            "\u001b[1m8432/8432\u001b[0m \u001b[32m━━━━━━━━━━━━━━━━━━━━\u001b[0m\u001b[37m\u001b[0m \u001b[1m46s\u001b[0m 3ms/step - loss: 308571104.0000 - mean_absolute_error: 10909.7246 - mean_absolute_percentage_error: 1610579072.0000 - val_loss: 312009760.0000 - val_mean_absolute_error: 11062.5635 - val_mean_absolute_percentage_error: 1506765952.0000\n",
            "Epoch 59/200\n",
            "\u001b[1m8432/8432\u001b[0m \u001b[32m━━━━━━━━━━━━━━━━━━━━\u001b[0m\u001b[37m\u001b[0m \u001b[1m26s\u001b[0m 3ms/step - loss: 318272512.0000 - mean_absolute_error: 10917.1553 - mean_absolute_percentage_error: 2049885824.0000 - val_loss: 309253024.0000 - val_mean_absolute_error: 11076.9258 - val_mean_absolute_percentage_error: 1522117120.0000\n",
            "Epoch 60/200\n",
            "\u001b[1m8432/8432\u001b[0m \u001b[32m━━━━━━━━━━━━━━━━━━━━\u001b[0m\u001b[37m\u001b[0m \u001b[1m31s\u001b[0m 4ms/step - loss: 308123552.0000 - mean_absolute_error: 10870.5371 - mean_absolute_percentage_error: 1724050432.0000 - val_loss: 313923584.0000 - val_mean_absolute_error: 11349.1611 - val_mean_absolute_percentage_error: 1554170240.0000\n",
            "Epoch 61/200\n",
            "\u001b[1m8432/8432\u001b[0m \u001b[32m━━━━━━━━━━━━━━━━━━━━\u001b[0m\u001b[37m\u001b[0m \u001b[1m31s\u001b[0m 4ms/step - loss: 311953472.0000 - mean_absolute_error: 10861.2275 - mean_absolute_percentage_error: 1686387968.0000 - val_loss: 306519904.0000 - val_mean_absolute_error: 10766.0791 - val_mean_absolute_percentage_error: 1410385664.0000\n",
            "Epoch 62/200\n",
            "\u001b[1m8432/8432\u001b[0m \u001b[32m━━━━━━━━━━━━━━━━━━━━\u001b[0m\u001b[37m\u001b[0m \u001b[1m44s\u001b[0m 4ms/step - loss: 313914784.0000 - mean_absolute_error: 10774.6914 - mean_absolute_percentage_error: 1540509056.0000 - val_loss: 306132064.0000 - val_mean_absolute_error: 10767.6816 - val_mean_absolute_percentage_error: 1426146688.0000\n",
            "Epoch 63/200\n",
            "\u001b[1m8432/8432\u001b[0m \u001b[32m━━━━━━━━━━━━━━━━━━━━\u001b[0m\u001b[37m\u001b[0m \u001b[1m41s\u001b[0m 5ms/step - loss: 300736448.0000 - mean_absolute_error: 10737.5586 - mean_absolute_percentage_error: 2163143680.0000 - val_loss: 304578912.0000 - val_mean_absolute_error: 10997.6621 - val_mean_absolute_percentage_error: 1500219904.0000\n",
            "Epoch 64/200\n",
            "\u001b[1m8432/8432\u001b[0m \u001b[32m━━━━━━━━━━━━━━━━━━━━\u001b[0m\u001b[37m\u001b[0m \u001b[1m30s\u001b[0m 4ms/step - loss: 305431776.0000 - mean_absolute_error: 10776.4932 - mean_absolute_percentage_error: 2038214144.0000 - val_loss: 303558496.0000 - val_mean_absolute_error: 10926.3818 - val_mean_absolute_percentage_error: 1452599424.0000\n",
            "Epoch 65/200\n",
            "\u001b[1m8432/8432\u001b[0m \u001b[32m━━━━━━━━━━━━━━━━━━━━\u001b[0m\u001b[37m\u001b[0m \u001b[1m31s\u001b[0m 4ms/step - loss: 308022336.0000 - mean_absolute_error: 10830.2461 - mean_absolute_percentage_error: 1779670272.0000 - val_loss: 302491328.0000 - val_mean_absolute_error: 10585.4863 - val_mean_absolute_percentage_error: 1372475904.0000\n",
            "Epoch 66/200\n",
            "\u001b[1m8432/8432\u001b[0m \u001b[32m━━━━━━━━━━━━━━━━━━━━\u001b[0m\u001b[37m\u001b[0m \u001b[1m29s\u001b[0m 3ms/step - loss: 305087744.0000 - mean_absolute_error: 10731.8125 - mean_absolute_percentage_error: 2322274048.0000 - val_loss: 301371008.0000 - val_mean_absolute_error: 10662.2793 - val_mean_absolute_percentage_error: 1400643328.0000\n",
            "Epoch 67/200\n",
            "\u001b[1m8432/8432\u001b[0m \u001b[32m━━━━━━━━━━━━━━━━━━━━\u001b[0m\u001b[37m\u001b[0m \u001b[1m25s\u001b[0m 3ms/step - loss: 305633088.0000 - mean_absolute_error: 10759.9961 - mean_absolute_percentage_error: 1816655488.0000 - val_loss: 301811264.0000 - val_mean_absolute_error: 10529.2129 - val_mean_absolute_percentage_error: 1355187328.0000\n",
            "Epoch 68/200\n",
            "\u001b[1m8432/8432\u001b[0m \u001b[32m━━━━━━━━━━━━━━━━━━━━\u001b[0m\u001b[37m\u001b[0m \u001b[1m45s\u001b[0m 3ms/step - loss: 296318016.0000 - mean_absolute_error: 10705.1660 - mean_absolute_percentage_error: 1693774848.0000 - val_loss: 300891840.0000 - val_mean_absolute_error: 10888.0068 - val_mean_absolute_percentage_error: 1477661440.0000\n",
            "Epoch 69/200\n",
            "\u001b[1m8432/8432\u001b[0m \u001b[32m━━━━━━━━━━━━━━━━━━━━\u001b[0m\u001b[37m\u001b[0m \u001b[1m40s\u001b[0m 3ms/step - loss: 304864832.0000 - mean_absolute_error: 10754.2988 - mean_absolute_percentage_error: 1645477888.0000 - val_loss: 299554784.0000 - val_mean_absolute_error: 10903.0654 - val_mean_absolute_percentage_error: 1500791680.0000\n",
            "Epoch 70/200\n",
            "\u001b[1m8432/8432\u001b[0m \u001b[32m━━━━━━━━━━━━━━━━━━━━\u001b[0m\u001b[37m\u001b[0m \u001b[1m42s\u001b[0m 3ms/step - loss: 306975552.0000 - mean_absolute_error: 10799.5713 - mean_absolute_percentage_error: 1905429760.0000 - val_loss: 300350944.0000 - val_mean_absolute_error: 10971.7637 - val_mean_absolute_percentage_error: 1521460096.0000\n",
            "Epoch 71/200\n",
            "\u001b[1m8432/8432\u001b[0m \u001b[32m━━━━━━━━━━━━━━━━━━━━\u001b[0m\u001b[37m\u001b[0m \u001b[1m28s\u001b[0m 3ms/step - loss: 302404832.0000 - mean_absolute_error: 10762.3281 - mean_absolute_percentage_error: 1619438336.0000 - val_loss: 298472736.0000 - val_mean_absolute_error: 10871.2314 - val_mean_absolute_percentage_error: 1485130240.0000\n",
            "Epoch 72/200\n",
            "\u001b[1m8432/8432\u001b[0m \u001b[32m━━━━━━━━━━━━━━━━━━━━\u001b[0m\u001b[37m\u001b[0m \u001b[1m39s\u001b[0m 3ms/step - loss: 299046528.0000 - mean_absolute_error: 10754.6504 - mean_absolute_percentage_error: 2417672960.0000 - val_loss: 297600000.0000 - val_mean_absolute_error: 10621.0967 - val_mean_absolute_percentage_error: 1423260032.0000\n",
            "Epoch 73/200\n",
            "\u001b[1m8432/8432\u001b[0m \u001b[32m━━━━━━━━━━━━━━━━━━━━\u001b[0m\u001b[37m\u001b[0m \u001b[1m41s\u001b[0m 3ms/step - loss: 300556064.0000 - mean_absolute_error: 10761.9219 - mean_absolute_percentage_error: 1754902784.0000 - val_loss: 297076736.0000 - val_mean_absolute_error: 10775.8291 - val_mean_absolute_percentage_error: 1499312000.0000\n",
            "Epoch 74/200\n",
            "\u001b[1m8432/8432\u001b[0m \u001b[32m━━━━━━━━━━━━━━━━━━━━\u001b[0m\u001b[37m\u001b[0m \u001b[1m22s\u001b[0m 3ms/step - loss: 302147424.0000 - mean_absolute_error: 10702.5352 - mean_absolute_percentage_error: 2139635456.0000 - val_loss: 296601216.0000 - val_mean_absolute_error: 10601.5771 - val_mean_absolute_percentage_error: 1401786112.0000\n",
            "Epoch 75/200\n",
            "\u001b[1m8432/8432\u001b[0m \u001b[32m━━━━━━━━━━━━━━━━━━━━\u001b[0m\u001b[37m\u001b[0m \u001b[1m43s\u001b[0m 3ms/step - loss: 298904320.0000 - mean_absolute_error: 10710.5762 - mean_absolute_percentage_error: 1760365824.0000 - val_loss: 297344448.0000 - val_mean_absolute_error: 10782.4834 - val_mean_absolute_percentage_error: 1487955968.0000\n",
            "Epoch 76/200\n",
            "\u001b[1m8432/8432\u001b[0m \u001b[32m━━━━━━━━━━━━━━━━━━━━\u001b[0m\u001b[37m\u001b[0m \u001b[1m26s\u001b[0m 3ms/step - loss: 299351264.0000 - mean_absolute_error: 10751.6465 - mean_absolute_percentage_error: 1603658624.0000 - val_loss: 296589024.0000 - val_mean_absolute_error: 10706.6592 - val_mean_absolute_percentage_error: 1454435328.0000\n",
            "Epoch 77/200\n",
            "\u001b[1m8432/8432\u001b[0m \u001b[32m━━━━━━━━━━━━━━━━━━━━\u001b[0m\u001b[37m\u001b[0m \u001b[1m27s\u001b[0m 3ms/step - loss: 306466208.0000 - mean_absolute_error: 10745.8428 - mean_absolute_percentage_error: 2461650432.0000 - val_loss: 298588896.0000 - val_mean_absolute_error: 11095.5576 - val_mean_absolute_percentage_error: 1588720512.0000\n",
            "Epoch 78/200\n",
            "\u001b[1m8432/8432\u001b[0m \u001b[32m━━━━━━━━━━━━━━━━━━━━\u001b[0m\u001b[37m\u001b[0m \u001b[1m23s\u001b[0m 3ms/step - loss: 292954592.0000 - mean_absolute_error: 10713.2910 - mean_absolute_percentage_error: 1736750976.0000 - val_loss: 296516992.0000 - val_mean_absolute_error: 10753.3516 - val_mean_absolute_percentage_error: 1407400960.0000\n",
            "Epoch 79/200\n",
            "\u001b[1m8432/8432\u001b[0m \u001b[32m━━━━━━━━━━━━━━━━━━━━\u001b[0m\u001b[37m\u001b[0m \u001b[1m40s\u001b[0m 3ms/step - loss: 289946208.0000 - mean_absolute_error: 10631.4414 - mean_absolute_percentage_error: 2340602112.0000 - val_loss: 294969184.0000 - val_mean_absolute_error: 10863.8047 - val_mean_absolute_percentage_error: 1505974784.0000\n",
            "Epoch 80/200\n",
            "\u001b[1m8432/8432\u001b[0m \u001b[32m━━━━━━━━━━━━━━━━━━━━\u001b[0m\u001b[37m\u001b[0m \u001b[1m25s\u001b[0m 3ms/step - loss: 298317152.0000 - mean_absolute_error: 10653.2148 - mean_absolute_percentage_error: 1959879424.0000 - val_loss: 294360608.0000 - val_mean_absolute_error: 10646.5781 - val_mean_absolute_percentage_error: 1413795072.0000\n",
            "Epoch 81/200\n",
            "\u001b[1m8432/8432\u001b[0m \u001b[32m━━━━━━━━━━━━━━━━━━━━\u001b[0m\u001b[37m\u001b[0m \u001b[1m22s\u001b[0m 3ms/step - loss: 295908384.0000 - mean_absolute_error: 10697.1260 - mean_absolute_percentage_error: 2177831936.0000 - val_loss: 294786720.0000 - val_mean_absolute_error: 10600.7793 - val_mean_absolute_percentage_error: 1374695936.0000\n",
            "Epoch 82/200\n",
            "\u001b[1m8432/8432\u001b[0m \u001b[32m━━━━━━━━━━━━━━━━━━━━\u001b[0m\u001b[37m\u001b[0m \u001b[1m24s\u001b[0m 3ms/step - loss: 297971680.0000 - mean_absolute_error: 10688.1328 - mean_absolute_percentage_error: 2331311872.0000 - val_loss: 293782784.0000 - val_mean_absolute_error: 10633.9248 - val_mean_absolute_percentage_error: 1432116096.0000\n",
            "Epoch 83/200\n",
            "\u001b[1m8432/8432\u001b[0m \u001b[32m━━━━━━━━━━━━━━━━━━━━\u001b[0m\u001b[37m\u001b[0m \u001b[1m41s\u001b[0m 3ms/step - loss: 300874976.0000 - mean_absolute_error: 10710.4170 - mean_absolute_percentage_error: 1370724352.0000 - val_loss: 292607520.0000 - val_mean_absolute_error: 10776.9990 - val_mean_absolute_percentage_error: 1533490560.0000\n",
            "Epoch 84/200\n",
            "\u001b[1m8432/8432\u001b[0m \u001b[32m━━━━━━━━━━━━━━━━━━━━\u001b[0m\u001b[37m\u001b[0m \u001b[1m42s\u001b[0m 3ms/step - loss: 294331968.0000 - mean_absolute_error: 10673.8115 - mean_absolute_percentage_error: 1659279360.0000 - val_loss: 292173856.0000 - val_mean_absolute_error: 10564.4443 - val_mean_absolute_percentage_error: 1410701056.0000\n",
            "Epoch 85/200\n",
            "\u001b[1m8432/8432\u001b[0m \u001b[32m━━━━━━━━━━━━━━━━━━━━\u001b[0m\u001b[37m\u001b[0m \u001b[1m23s\u001b[0m 3ms/step - loss: 288396704.0000 - mean_absolute_error: 10599.6357 - mean_absolute_percentage_error: 2270941184.0000 - val_loss: 291527968.0000 - val_mean_absolute_error: 10742.5010 - val_mean_absolute_percentage_error: 1476851072.0000\n",
            "Epoch 86/200\n",
            "\u001b[1m8432/8432\u001b[0m \u001b[32m━━━━━━━━━━━━━━━━━━━━\u001b[0m\u001b[37m\u001b[0m \u001b[1m25s\u001b[0m 3ms/step - loss: 299092416.0000 - mean_absolute_error: 10670.2910 - mean_absolute_percentage_error: 2287981568.0000 - val_loss: 291619840.0000 - val_mean_absolute_error: 10664.4678 - val_mean_absolute_percentage_error: 1455288192.0000\n",
            "Epoch 87/200\n",
            "\u001b[1m8432/8432\u001b[0m \u001b[32m━━━━━━━━━━━━━━━━━━━━\u001b[0m\u001b[37m\u001b[0m \u001b[1m43s\u001b[0m 3ms/step - loss: 293191712.0000 - mean_absolute_error: 10662.2939 - mean_absolute_percentage_error: 2237060608.0000 - val_loss: 293027232.0000 - val_mean_absolute_error: 10625.8066 - val_mean_absolute_percentage_error: 1467043584.0000\n",
            "Epoch 88/200\n",
            "\u001b[1m8432/8432\u001b[0m \u001b[32m━━━━━━━━━━━━━━━━━━━━\u001b[0m\u001b[37m\u001b[0m \u001b[1m41s\u001b[0m 3ms/step - loss: 300447808.0000 - mean_absolute_error: 10689.8389 - mean_absolute_percentage_error: 1823607296.0000 - val_loss: 292205120.0000 - val_mean_absolute_error: 10699.6152 - val_mean_absolute_percentage_error: 1478784128.0000\n",
            "Epoch 89/200\n",
            "\u001b[1m8432/8432\u001b[0m \u001b[32m━━━━━━━━━━━━━━━━━━━━\u001b[0m\u001b[37m\u001b[0m \u001b[1m24s\u001b[0m 3ms/step - loss: 293394880.0000 - mean_absolute_error: 10682.0830 - mean_absolute_percentage_error: 1715889536.0000 - val_loss: 290616800.0000 - val_mean_absolute_error: 10807.3750 - val_mean_absolute_percentage_error: 1530891776.0000\n",
            "Epoch 90/200\n",
            "\u001b[1m8432/8432\u001b[0m \u001b[32m━━━━━━━━━━━━━━━━━━━━\u001b[0m\u001b[37m\u001b[0m \u001b[1m43s\u001b[0m 3ms/step - loss: 286578496.0000 - mean_absolute_error: 10613.5557 - mean_absolute_percentage_error: 1823341952.0000 - val_loss: 290843296.0000 - val_mean_absolute_error: 10745.7549 - val_mean_absolute_percentage_error: 1475841664.0000\n",
            "Epoch 91/200\n",
            "\u001b[1m8432/8432\u001b[0m \u001b[32m━━━━━━━━━━━━━━━━━━━━\u001b[0m\u001b[37m\u001b[0m \u001b[1m27s\u001b[0m 3ms/step - loss: 288398944.0000 - mean_absolute_error: 10629.0488 - mean_absolute_percentage_error: 1911989888.0000 - val_loss: 290855520.0000 - val_mean_absolute_error: 10637.8242 - val_mean_absolute_percentage_error: 1432303104.0000\n",
            "Epoch 92/200\n",
            "\u001b[1m8432/8432\u001b[0m \u001b[32m━━━━━━━━━━━━━━━━━━━━\u001b[0m\u001b[37m\u001b[0m \u001b[1m28s\u001b[0m 3ms/step - loss: 290444896.0000 - mean_absolute_error: 10650.2842 - mean_absolute_percentage_error: 2437670656.0000 - val_loss: 289792992.0000 - val_mean_absolute_error: 10874.9502 - val_mean_absolute_percentage_error: 1525421952.0000\n",
            "Epoch 93/200\n",
            "\u001b[1m8432/8432\u001b[0m \u001b[32m━━━━━━━━━━━━━━━━━━━━\u001b[0m\u001b[37m\u001b[0m \u001b[1m23s\u001b[0m 3ms/step - loss: 292396320.0000 - mean_absolute_error: 10671.8174 - mean_absolute_percentage_error: 2452736768.0000 - val_loss: 290899776.0000 - val_mean_absolute_error: 10705.4209 - val_mean_absolute_percentage_error: 1528892032.0000\n",
            "Epoch 94/200\n",
            "\u001b[1m8432/8432\u001b[0m \u001b[32m━━━━━━━━━━━━━━━━━━━━\u001b[0m\u001b[37m\u001b[0m \u001b[1m24s\u001b[0m 3ms/step - loss: 286082880.0000 - mean_absolute_error: 10632.9795 - mean_absolute_percentage_error: 2595525120.0000 - val_loss: 288488000.0000 - val_mean_absolute_error: 10591.7617 - val_mean_absolute_percentage_error: 1476153088.0000\n",
            "Epoch 95/200\n",
            "\u001b[1m8432/8432\u001b[0m \u001b[32m━━━━━━━━━━━━━━━━━━━━\u001b[0m\u001b[37m\u001b[0m \u001b[1m43s\u001b[0m 3ms/step - loss: 290659392.0000 - mean_absolute_error: 10622.7236 - mean_absolute_percentage_error: 2296816384.0000 - val_loss: 290428960.0000 - val_mean_absolute_error: 10550.1143 - val_mean_absolute_percentage_error: 1427576576.0000\n",
            "Epoch 96/200\n",
            "\u001b[1m8432/8432\u001b[0m \u001b[32m━━━━━━━━━━━━━━━━━━━━\u001b[0m\u001b[37m\u001b[0m \u001b[1m24s\u001b[0m 3ms/step - loss: 296650624.0000 - mean_absolute_error: 10646.2021 - mean_absolute_percentage_error: 1514359040.0000 - val_loss: 289284032.0000 - val_mean_absolute_error: 10750.5859 - val_mean_absolute_percentage_error: 1500980352.0000\n",
            "Epoch 97/200\n",
            "\u001b[1m8432/8432\u001b[0m \u001b[32m━━━━━━━━━━━━━━━━━━━━\u001b[0m\u001b[37m\u001b[0m \u001b[1m28s\u001b[0m 3ms/step - loss: 285161344.0000 - mean_absolute_error: 10599.2861 - mean_absolute_percentage_error: 1978681216.0000 - val_loss: 290767680.0000 - val_mean_absolute_error: 11144.3545 - val_mean_absolute_percentage_error: 1651368064.0000\n",
            "Epoch 98/200\n",
            "\u001b[1m8432/8432\u001b[0m \u001b[32m━━━━━━━━━━━━━━━━━━━━\u001b[0m\u001b[37m\u001b[0m \u001b[1m29s\u001b[0m 3ms/step - loss: 280637600.0000 - mean_absolute_error: 10541.6309 - mean_absolute_percentage_error: 1734172288.0000 - val_loss: 287324640.0000 - val_mean_absolute_error: 10812.3223 - val_mean_absolute_percentage_error: 1539908352.0000\n",
            "Epoch 99/200\n",
            "\u001b[1m8432/8432\u001b[0m \u001b[32m━━━━━━━━━━━━━━━━━━━━\u001b[0m\u001b[37m\u001b[0m \u001b[1m41s\u001b[0m 3ms/step - loss: 287403808.0000 - mean_absolute_error: 10584.1855 - mean_absolute_percentage_error: 1629379968.0000 - val_loss: 288846272.0000 - val_mean_absolute_error: 10768.6777 - val_mean_absolute_percentage_error: 1514112512.0000\n",
            "Epoch 100/200\n",
            "\u001b[1m8432/8432\u001b[0m \u001b[32m━━━━━━━━━━━━━━━━━━━━\u001b[0m\u001b[37m\u001b[0m \u001b[1m29s\u001b[0m 3ms/step - loss: 289297568.0000 - mean_absolute_error: 10614.2090 - mean_absolute_percentage_error: 1862694400.0000 - val_loss: 287682144.0000 - val_mean_absolute_error: 10543.4443 - val_mean_absolute_percentage_error: 1400420736.0000\n",
            "Epoch 101/200\n",
            "\u001b[1m8432/8432\u001b[0m \u001b[32m━━━━━━━━━━━━━━━━━━━━\u001b[0m\u001b[37m\u001b[0m \u001b[1m30s\u001b[0m 3ms/step - loss: 281821024.0000 - mean_absolute_error: 10523.1113 - mean_absolute_percentage_error: 1933555584.0000 - val_loss: 290834336.0000 - val_mean_absolute_error: 10648.2246 - val_mean_absolute_percentage_error: 1397560192.0000\n",
            "Epoch 102/200\n",
            "\u001b[1m8432/8432\u001b[0m \u001b[32m━━━━━━━━━━━━━━━━━━━━\u001b[0m\u001b[37m\u001b[0m \u001b[1m39s\u001b[0m 3ms/step - loss: 286402368.0000 - mean_absolute_error: 10610.9922 - mean_absolute_percentage_error: 1416454144.0000 - val_loss: 286239968.0000 - val_mean_absolute_error: 10427.4150 - val_mean_absolute_percentage_error: 1383939328.0000\n",
            "Epoch 103/200\n",
            "\u001b[1m8432/8432\u001b[0m \u001b[32m━━━━━━━━━━━━━━━━━━━━\u001b[0m\u001b[37m\u001b[0m \u001b[1m29s\u001b[0m 3ms/step - loss: 285283232.0000 - mean_absolute_error: 10532.0752 - mean_absolute_percentage_error: 2359763200.0000 - val_loss: 286013728.0000 - val_mean_absolute_error: 10511.9727 - val_mean_absolute_percentage_error: 1418438144.0000\n",
            "Epoch 104/200\n",
            "\u001b[1m8432/8432\u001b[0m \u001b[32m━━━━━━━━━━━━━━━━━━━━\u001b[0m\u001b[37m\u001b[0m \u001b[1m32s\u001b[0m 4ms/step - loss: 284458528.0000 - mean_absolute_error: 10542.8760 - mean_absolute_percentage_error: 1528000640.0000 - val_loss: 285698432.0000 - val_mean_absolute_error: 10672.2432 - val_mean_absolute_percentage_error: 1457095168.0000\n",
            "Epoch 105/200\n",
            "\u001b[1m8432/8432\u001b[0m \u001b[32m━━━━━━━━━━━━━━━━━━━━\u001b[0m\u001b[37m\u001b[0m \u001b[1m37s\u001b[0m 3ms/step - loss: 284935360.0000 - mean_absolute_error: 10570.7842 - mean_absolute_percentage_error: 1841322368.0000 - val_loss: 288011104.0000 - val_mean_absolute_error: 10788.5410 - val_mean_absolute_percentage_error: 1573173632.0000\n",
            "Epoch 106/200\n",
            "\u001b[1m8432/8432\u001b[0m \u001b[32m━━━━━━━━━━━━━━━━━━━━\u001b[0m\u001b[37m\u001b[0m \u001b[1m39s\u001b[0m 3ms/step - loss: 282973216.0000 - mean_absolute_error: 10490.6631 - mean_absolute_percentage_error: 1824086656.0000 - val_loss: 284831232.0000 - val_mean_absolute_error: 10568.3789 - val_mean_absolute_percentage_error: 1449162112.0000\n",
            "Epoch 107/200\n",
            "\u001b[1m8432/8432\u001b[0m \u001b[32m━━━━━━━━━━━━━━━━━━━━\u001b[0m\u001b[37m\u001b[0m \u001b[1m42s\u001b[0m 3ms/step - loss: 285153152.0000 - mean_absolute_error: 10570.9385 - mean_absolute_percentage_error: 1751900800.0000 - val_loss: 284364576.0000 - val_mean_absolute_error: 10580.6367 - val_mean_absolute_percentage_error: 1480088448.0000\n",
            "Epoch 108/200\n",
            "\u001b[1m8432/8432\u001b[0m \u001b[32m━━━━━━━━━━━━━━━━━━━━\u001b[0m\u001b[37m\u001b[0m \u001b[1m26s\u001b[0m 3ms/step - loss: 282461056.0000 - mean_absolute_error: 10509.7012 - mean_absolute_percentage_error: 2033686784.0000 - val_loss: 284354528.0000 - val_mean_absolute_error: 10607.3779 - val_mean_absolute_percentage_error: 1522521344.0000\n",
            "Epoch 109/200\n",
            "\u001b[1m8432/8432\u001b[0m \u001b[32m━━━━━━━━━━━━━━━━━━━━\u001b[0m\u001b[37m\u001b[0m \u001b[1m27s\u001b[0m 3ms/step - loss: 288737888.0000 - mean_absolute_error: 10597.2568 - mean_absolute_percentage_error: 1985973248.0000 - val_loss: 289254240.0000 - val_mean_absolute_error: 10852.1631 - val_mean_absolute_percentage_error: 1571827328.0000\n",
            "Epoch 110/200\n",
            "\u001b[1m8432/8432\u001b[0m \u001b[32m━━━━━━━━━━━━━━━━━━━━\u001b[0m\u001b[37m\u001b[0m \u001b[1m42s\u001b[0m 3ms/step - loss: 288709536.0000 - mean_absolute_error: 10573.5332 - mean_absolute_percentage_error: 1825170432.0000 - val_loss: 283769408.0000 - val_mean_absolute_error: 10521.8877 - val_mean_absolute_percentage_error: 1448340480.0000\n",
            "Epoch 111/200\n",
            "\u001b[1m8432/8432\u001b[0m \u001b[32m━━━━━━━━━━━━━━━━━━━━\u001b[0m\u001b[37m\u001b[0m \u001b[1m25s\u001b[0m 3ms/step - loss: 288147392.0000 - mean_absolute_error: 10537.9883 - mean_absolute_percentage_error: 2206046208.0000 - val_loss: 284038720.0000 - val_mean_absolute_error: 10529.2129 - val_mean_absolute_percentage_error: 1508438016.0000\n",
            "Epoch 112/200\n",
            "\u001b[1m8432/8432\u001b[0m \u001b[32m━━━━━━━━━━━━━━━━━━━━\u001b[0m\u001b[37m\u001b[0m \u001b[1m41s\u001b[0m 3ms/step - loss: 289954272.0000 - mean_absolute_error: 10574.8203 - mean_absolute_percentage_error: 2189006080.0000 - val_loss: 283153696.0000 - val_mean_absolute_error: 10463.2412 - val_mean_absolute_percentage_error: 1433322752.0000\n",
            "Epoch 113/200\n",
            "\u001b[1m8432/8432\u001b[0m \u001b[32m━━━━━━━━━━━━━━━━━━━━\u001b[0m\u001b[37m\u001b[0m \u001b[1m28s\u001b[0m 3ms/step - loss: 283900608.0000 - mean_absolute_error: 10525.1758 - mean_absolute_percentage_error: 1666807296.0000 - val_loss: 283883392.0000 - val_mean_absolute_error: 10720.7236 - val_mean_absolute_percentage_error: 1580249600.0000\n",
            "Epoch 114/200\n",
            "\u001b[1m8432/8432\u001b[0m \u001b[32m━━━━━━━━━━━━━━━━━━━━\u001b[0m\u001b[37m\u001b[0m \u001b[1m28s\u001b[0m 3ms/step - loss: 282066976.0000 - mean_absolute_error: 10511.2324 - mean_absolute_percentage_error: 2793216256.0000 - val_loss: 282724672.0000 - val_mean_absolute_error: 10609.3115 - val_mean_absolute_percentage_error: 1552451200.0000\n",
            "Epoch 115/200\n",
            "\u001b[1m8432/8432\u001b[0m \u001b[32m━━━━━━━━━━━━━━━━━━━━\u001b[0m\u001b[37m\u001b[0m \u001b[1m43s\u001b[0m 4ms/step - loss: 288575456.0000 - mean_absolute_error: 10485.6992 - mean_absolute_percentage_error: 1970336512.0000 - val_loss: 283673120.0000 - val_mean_absolute_error: 10452.4990 - val_mean_absolute_percentage_error: 1437641088.0000\n",
            "Epoch 116/200\n",
            "\u001b[1m8432/8432\u001b[0m \u001b[32m━━━━━━━━━━━━━━━━━━━━\u001b[0m\u001b[37m\u001b[0m \u001b[1m25s\u001b[0m 3ms/step - loss: 282371872.0000 - mean_absolute_error: 10466.6553 - mean_absolute_percentage_error: 2215373824.0000 - val_loss: 281887200.0000 - val_mean_absolute_error: 10684.6465 - val_mean_absolute_percentage_error: 1559143936.0000\n",
            "Epoch 117/200\n",
            "\u001b[1m8432/8432\u001b[0m \u001b[32m━━━━━━━━━━━━━━━━━━━━\u001b[0m\u001b[37m\u001b[0m \u001b[1m27s\u001b[0m 3ms/step - loss: 282579872.0000 - mean_absolute_error: 10486.9111 - mean_absolute_percentage_error: 1942570624.0000 - val_loss: 283130112.0000 - val_mean_absolute_error: 10618.1299 - val_mean_absolute_percentage_error: 1570790912.0000\n",
            "Epoch 118/200\n",
            "\u001b[1m8432/8432\u001b[0m \u001b[32m━━━━━━━━━━━━━━━━━━━━\u001b[0m\u001b[37m\u001b[0m \u001b[1m28s\u001b[0m 3ms/step - loss: 282810752.0000 - mean_absolute_error: 10506.8613 - mean_absolute_percentage_error: 2194245632.0000 - val_loss: 282799008.0000 - val_mean_absolute_error: 10565.7725 - val_mean_absolute_percentage_error: 1583675392.0000\n",
            "Epoch 119/200\n",
            "\u001b[1m8432/8432\u001b[0m \u001b[32m━━━━━━━━━━━━━━━━━━━━\u001b[0m\u001b[37m\u001b[0m \u001b[1m32s\u001b[0m 4ms/step - loss: 289515520.0000 - mean_absolute_error: 10535.5693 - mean_absolute_percentage_error: 1931929728.0000 - val_loss: 280904192.0000 - val_mean_absolute_error: 10558.1758 - val_mean_absolute_percentage_error: 1519416960.0000\n",
            "Epoch 120/200\n",
            "\u001b[1m8432/8432\u001b[0m \u001b[32m━━━━━━━━━━━━━━━━━━━━\u001b[0m\u001b[37m\u001b[0m \u001b[1m43s\u001b[0m 4ms/step - loss: 284226528.0000 - mean_absolute_error: 10507.1328 - mean_absolute_percentage_error: 2915906560.0000 - val_loss: 281358784.0000 - val_mean_absolute_error: 10342.3486 - val_mean_absolute_percentage_error: 1446758528.0000\n",
            "Epoch 121/200\n",
            "\u001b[1m8432/8432\u001b[0m \u001b[32m━━━━━━━━━━━━━━━━━━━━\u001b[0m\u001b[37m\u001b[0m \u001b[1m36s\u001b[0m 3ms/step - loss: 279725024.0000 - mean_absolute_error: 10476.5273 - mean_absolute_percentage_error: 2515318016.0000 - val_loss: 280863904.0000 - val_mean_absolute_error: 10515.8096 - val_mean_absolute_percentage_error: 1461121664.0000\n",
            "Epoch 122/200\n",
            "\u001b[1m8432/8432\u001b[0m \u001b[32m━━━━━━━━━━━━━━━━━━━━\u001b[0m\u001b[37m\u001b[0m \u001b[1m30s\u001b[0m 4ms/step - loss: 287396224.0000 - mean_absolute_error: 10513.8965 - mean_absolute_percentage_error: 1427564416.0000 - val_loss: 280525472.0000 - val_mean_absolute_error: 10462.4668 - val_mean_absolute_percentage_error: 1509657728.0000\n",
            "Epoch 123/200\n",
            "\u001b[1m8432/8432\u001b[0m \u001b[32m━━━━━━━━━━━━━━━━━━━━\u001b[0m\u001b[37m\u001b[0m \u001b[1m37s\u001b[0m 3ms/step - loss: 282276352.0000 - mean_absolute_error: 10522.4248 - mean_absolute_percentage_error: 2183226368.0000 - val_loss: 280294080.0000 - val_mean_absolute_error: 10548.5244 - val_mean_absolute_percentage_error: 1553157760.0000\n",
            "Epoch 124/200\n",
            "\u001b[1m8432/8432\u001b[0m \u001b[32m━━━━━━━━━━━━━━━━━━━━\u001b[0m\u001b[37m\u001b[0m \u001b[1m28s\u001b[0m 3ms/step - loss: 286911840.0000 - mean_absolute_error: 10504.8945 - mean_absolute_percentage_error: 1948370816.0000 - val_loss: 281504576.0000 - val_mean_absolute_error: 10470.6064 - val_mean_absolute_percentage_error: 1512272128.0000\n",
            "Epoch 125/200\n",
            "\u001b[1m8432/8432\u001b[0m \u001b[32m━━━━━━━━━━━━━━━━━━━━\u001b[0m\u001b[37m\u001b[0m \u001b[1m41s\u001b[0m 3ms/step - loss: 287326752.0000 - mean_absolute_error: 10478.4834 - mean_absolute_percentage_error: 2183850752.0000 - val_loss: 281180256.0000 - val_mean_absolute_error: 10470.6006 - val_mean_absolute_percentage_error: 1520475648.0000\n",
            "Epoch 126/200\n",
            "\u001b[1m8432/8432\u001b[0m \u001b[32m━━━━━━━━━━━━━━━━━━━━\u001b[0m\u001b[37m\u001b[0m \u001b[1m25s\u001b[0m 3ms/step - loss: 278568032.0000 - mean_absolute_error: 10431.3105 - mean_absolute_percentage_error: 2423712768.0000 - val_loss: 279390592.0000 - val_mean_absolute_error: 10346.8311 - val_mean_absolute_percentage_error: 1469536000.0000\n",
            "Epoch 127/200\n",
            "\u001b[1m8432/8432\u001b[0m \u001b[32m━━━━━━━━━━━━━━━━━━━━\u001b[0m\u001b[37m\u001b[0m \u001b[1m27s\u001b[0m 3ms/step - loss: 286439136.0000 - mean_absolute_error: 10519.8213 - mean_absolute_percentage_error: 2148561664.0000 - val_loss: 280413216.0000 - val_mean_absolute_error: 10297.7705 - val_mean_absolute_percentage_error: 1472896000.0000\n",
            "Epoch 128/200\n",
            "\u001b[1m8432/8432\u001b[0m \u001b[32m━━━━━━━━━━━━━━━━━━━━\u001b[0m\u001b[37m\u001b[0m \u001b[1m41s\u001b[0m 3ms/step - loss: 276640896.0000 - mean_absolute_error: 10397.6904 - mean_absolute_percentage_error: 1775495552.0000 - val_loss: 281094240.0000 - val_mean_absolute_error: 10128.3184 - val_mean_absolute_percentage_error: 1317318400.0000\n",
            "Epoch 129/200\n",
            "\u001b[1m8432/8432\u001b[0m \u001b[32m━━━━━━━━━━━━━━━━━━━━\u001b[0m\u001b[37m\u001b[0m \u001b[1m24s\u001b[0m 3ms/step - loss: 280801152.0000 - mean_absolute_error: 10431.4834 - mean_absolute_percentage_error: 2025303424.0000 - val_loss: 279864512.0000 - val_mean_absolute_error: 10294.3203 - val_mean_absolute_percentage_error: 1462115712.0000\n",
            "Epoch 130/200\n",
            "\u001b[1m8432/8432\u001b[0m \u001b[32m━━━━━━━━━━━━━━━━━━━━\u001b[0m\u001b[37m\u001b[0m \u001b[1m27s\u001b[0m 3ms/step - loss: 282777120.0000 - mean_absolute_error: 10458.0713 - mean_absolute_percentage_error: 1606953728.0000 - val_loss: 285717792.0000 - val_mean_absolute_error: 10334.2568 - val_mean_absolute_percentage_error: 1387988096.0000\n",
            "Epoch 131/200\n",
            "\u001b[1m8432/8432\u001b[0m \u001b[32m━━━━━━━━━━━━━━━━━━━━\u001b[0m\u001b[37m\u001b[0m \u001b[1m24s\u001b[0m 3ms/step - loss: 280046592.0000 - mean_absolute_error: 10434.9883 - mean_absolute_percentage_error: 2291367680.0000 - val_loss: 278221952.0000 - val_mean_absolute_error: 10446.4277 - val_mean_absolute_percentage_error: 1535814400.0000\n",
            "Epoch 132/200\n",
            "\u001b[1m8432/8432\u001b[0m \u001b[32m━━━━━━━━━━━━━━━━━━━━\u001b[0m\u001b[37m\u001b[0m \u001b[1m41s\u001b[0m 3ms/step - loss: 274812032.0000 - mean_absolute_error: 10444.3408 - mean_absolute_percentage_error: 2161573632.0000 - val_loss: 279123456.0000 - val_mean_absolute_error: 10264.3145 - val_mean_absolute_percentage_error: 1470248320.0000\n",
            "Epoch 133/200\n",
            "\u001b[1m8432/8432\u001b[0m \u001b[32m━━━━━━━━━━━━━━━━━━━━\u001b[0m\u001b[37m\u001b[0m \u001b[1m43s\u001b[0m 3ms/step - loss: 277567424.0000 - mean_absolute_error: 10428.7969 - mean_absolute_percentage_error: 1854925952.0000 - val_loss: 279443424.0000 - val_mean_absolute_error: 10433.3408 - val_mean_absolute_percentage_error: 1536008704.0000\n",
            "Epoch 134/200\n",
            "\u001b[1m8432/8432\u001b[0m \u001b[32m━━━━━━━━━━━━━━━━━━━━\u001b[0m\u001b[37m\u001b[0m \u001b[1m40s\u001b[0m 3ms/step - loss: 269910496.0000 - mean_absolute_error: 10348.2930 - mean_absolute_percentage_error: 1611108736.0000 - val_loss: 278284288.0000 - val_mean_absolute_error: 10341.1201 - val_mean_absolute_percentage_error: 1470171392.0000\n",
            "Epoch 135/200\n",
            "\u001b[1m8432/8432\u001b[0m \u001b[32m━━━━━━━━━━━━━━━━━━━━\u001b[0m\u001b[37m\u001b[0m \u001b[1m26s\u001b[0m 3ms/step - loss: 287237056.0000 - mean_absolute_error: 10524.8818 - mean_absolute_percentage_error: 2001249024.0000 - val_loss: 277907200.0000 - val_mean_absolute_error: 10596.1787 - val_mean_absolute_percentage_error: 1627325568.0000\n",
            "Epoch 136/200\n",
            "\u001b[1m8432/8432\u001b[0m \u001b[32m━━━━━━━━━━━━━━━━━━━━\u001b[0m\u001b[37m\u001b[0m \u001b[1m43s\u001b[0m 3ms/step - loss: 279259392.0000 - mean_absolute_error: 10406.1885 - mean_absolute_percentage_error: 1736880384.0000 - val_loss: 277410144.0000 - val_mean_absolute_error: 10271.5156 - val_mean_absolute_percentage_error: 1506566528.0000\n",
            "Epoch 137/200\n",
            "\u001b[1m8432/8432\u001b[0m \u001b[32m━━━━━━━━━━━━━━━━━━━━\u001b[0m\u001b[37m\u001b[0m \u001b[1m40s\u001b[0m 3ms/step - loss: 276356640.0000 - mean_absolute_error: 10352.2500 - mean_absolute_percentage_error: 1705093376.0000 - val_loss: 277255424.0000 - val_mean_absolute_error: 10569.5039 - val_mean_absolute_percentage_error: 1622425984.0000\n",
            "Epoch 138/200\n",
            "\u001b[1m8432/8432\u001b[0m \u001b[32m━━━━━━━━━━━━━━━━━━━━\u001b[0m\u001b[37m\u001b[0m \u001b[1m42s\u001b[0m 3ms/step - loss: 276682592.0000 - mean_absolute_error: 10410.6270 - mean_absolute_percentage_error: 2537337600.0000 - val_loss: 277192352.0000 - val_mean_absolute_error: 10282.7578 - val_mean_absolute_percentage_error: 1477523584.0000\n",
            "Epoch 139/200\n",
            "\u001b[1m8432/8432\u001b[0m \u001b[32m━━━━━━━━━━━━━━━━━━━━\u001b[0m\u001b[37m\u001b[0m \u001b[1m29s\u001b[0m 3ms/step - loss: 276920000.0000 - mean_absolute_error: 10443.9932 - mean_absolute_percentage_error: 1760993024.0000 - val_loss: 276632864.0000 - val_mean_absolute_error: 10522.8721 - val_mean_absolute_percentage_error: 1611070720.0000\n",
            "Epoch 140/200\n",
            "\u001b[1m8432/8432\u001b[0m \u001b[32m━━━━━━━━━━━━━━━━━━━━\u001b[0m\u001b[37m\u001b[0m \u001b[1m33s\u001b[0m 4ms/step - loss: 285260768.0000 - mean_absolute_error: 10468.4980 - mean_absolute_percentage_error: 2334169088.0000 - val_loss: 275881184.0000 - val_mean_absolute_error: 10365.0674 - val_mean_absolute_percentage_error: 1565845632.0000\n",
            "Epoch 141/200\n",
            "\u001b[1m8432/8432\u001b[0m \u001b[32m━━━━━━━━━━━━━━━━━━━━\u001b[0m\u001b[37m\u001b[0m \u001b[1m34s\u001b[0m 3ms/step - loss: 276172032.0000 - mean_absolute_error: 10413.4629 - mean_absolute_percentage_error: 2300115712.0000 - val_loss: 278457312.0000 - val_mean_absolute_error: 10106.1553 - val_mean_absolute_percentage_error: 1369239424.0000\n",
            "Epoch 142/200\n",
            "\u001b[1m8432/8432\u001b[0m \u001b[32m━━━━━━━━━━━━━━━━━━━━\u001b[0m\u001b[37m\u001b[0m \u001b[1m42s\u001b[0m 3ms/step - loss: 277151648.0000 - mean_absolute_error: 10371.6670 - mean_absolute_percentage_error: 1934421760.0000 - val_loss: 275516960.0000 - val_mean_absolute_error: 10502.4600 - val_mean_absolute_percentage_error: 1629105920.0000\n",
            "Epoch 143/200\n",
            "\u001b[1m8432/8432\u001b[0m \u001b[32m━━━━━━━━━━━━━━━━━━━━\u001b[0m\u001b[37m\u001b[0m \u001b[1m44s\u001b[0m 3ms/step - loss: 271911264.0000 - mean_absolute_error: 10353.7363 - mean_absolute_percentage_error: 2663136512.0000 - val_loss: 275184864.0000 - val_mean_absolute_error: 10539.4756 - val_mean_absolute_percentage_error: 1620452736.0000\n",
            "Epoch 144/200\n",
            "\u001b[1m8432/8432\u001b[0m \u001b[32m━━━━━━━━━━━━━━━━━━━━\u001b[0m\u001b[37m\u001b[0m \u001b[1m27s\u001b[0m 3ms/step - loss: 271848064.0000 - mean_absolute_error: 10358.2803 - mean_absolute_percentage_error: 2686058240.0000 - val_loss: 275705760.0000 - val_mean_absolute_error: 10264.1621 - val_mean_absolute_percentage_error: 1478952704.0000\n",
            "Epoch 145/200\n",
            "\u001b[1m8432/8432\u001b[0m \u001b[32m━━━━━━━━━━━━━━━━━━━━\u001b[0m\u001b[37m\u001b[0m \u001b[1m39s\u001b[0m 3ms/step - loss: 280132384.0000 - mean_absolute_error: 10387.9023 - mean_absolute_percentage_error: 1788304768.0000 - val_loss: 276778624.0000 - val_mean_absolute_error: 10541.3496 - val_mean_absolute_percentage_error: 1607922304.0000\n",
            "Epoch 146/200\n",
            "\u001b[1m8432/8432\u001b[0m \u001b[32m━━━━━━━━━━━━━━━━━━━━\u001b[0m\u001b[37m\u001b[0m \u001b[1m40s\u001b[0m 3ms/step - loss: 278948640.0000 - mean_absolute_error: 10379.7344 - mean_absolute_percentage_error: 1870922752.0000 - val_loss: 276840192.0000 - val_mean_absolute_error: 10184.9189 - val_mean_absolute_percentage_error: 1485991936.0000\n",
            "Epoch 147/200\n",
            "\u001b[1m8432/8432\u001b[0m \u001b[32m━━━━━━━━━━━━━━━━━━━━\u001b[0m\u001b[37m\u001b[0m \u001b[1m27s\u001b[0m 3ms/step - loss: 274860160.0000 - mean_absolute_error: 10388.6152 - mean_absolute_percentage_error: 2319451392.0000 - val_loss: 275401248.0000 - val_mean_absolute_error: 10442.1562 - val_mean_absolute_percentage_error: 1589937536.0000\n",
            "Epoch 148/200\n",
            "\u001b[1m8432/8432\u001b[0m \u001b[32m━━━━━━━━━━━━━━━━━━━━\u001b[0m\u001b[37m\u001b[0m \u001b[1m24s\u001b[0m 3ms/step - loss: 272820128.0000 - mean_absolute_error: 10329.2461 - mean_absolute_percentage_error: 1758579072.0000 - val_loss: 276335584.0000 - val_mean_absolute_error: 10669.4297 - val_mean_absolute_percentage_error: 1682887296.0000\n",
            "Epoch 149/200\n",
            "\u001b[1m8432/8432\u001b[0m \u001b[32m━━━━━━━━━━━━━━━━━━━━\u001b[0m\u001b[37m\u001b[0m \u001b[1m42s\u001b[0m 3ms/step - loss: 272605472.0000 - mean_absolute_error: 10399.3525 - mean_absolute_percentage_error: 1980067968.0000 - val_loss: 273599040.0000 - val_mean_absolute_error: 10430.3408 - val_mean_absolute_percentage_error: 1580080896.0000\n",
            "Epoch 150/200\n",
            "\u001b[1m8432/8432\u001b[0m \u001b[32m━━━━━━━━━━━━━━━━━━━━\u001b[0m\u001b[37m\u001b[0m \u001b[1m40s\u001b[0m 3ms/step - loss: 271748576.0000 - mean_absolute_error: 10343.2852 - mean_absolute_percentage_error: 2356768256.0000 - val_loss: 273990464.0000 - val_mean_absolute_error: 10366.5859 - val_mean_absolute_percentage_error: 1537855488.0000\n",
            "Epoch 151/200\n",
            "\u001b[1m8432/8432\u001b[0m \u001b[32m━━━━━━━━━━━━━━━━━━━━\u001b[0m\u001b[37m\u001b[0m \u001b[1m28s\u001b[0m 3ms/step - loss: 271028960.0000 - mean_absolute_error: 10353.8809 - mean_absolute_percentage_error: 2133523840.0000 - val_loss: 276929696.0000 - val_mean_absolute_error: 10662.5137 - val_mean_absolute_percentage_error: 1669983104.0000\n",
            "Epoch 152/200\n",
            "\u001b[1m8432/8432\u001b[0m \u001b[32m━━━━━━━━━━━━━━━━━━━━\u001b[0m\u001b[37m\u001b[0m \u001b[1m28s\u001b[0m 3ms/step - loss: 273275616.0000 - mean_absolute_error: 10337.7129 - mean_absolute_percentage_error: 1926323328.0000 - val_loss: 285010528.0000 - val_mean_absolute_error: 10505.3467 - val_mean_absolute_percentage_error: 1593339008.0000\n",
            "Epoch 153/200\n",
            "\u001b[1m8432/8432\u001b[0m \u001b[32m━━━━━━━━━━━━━━━━━━━━\u001b[0m\u001b[37m\u001b[0m \u001b[1m27s\u001b[0m 3ms/step - loss: 273494368.0000 - mean_absolute_error: 10385.7402 - mean_absolute_percentage_error: 1966046464.0000 - val_loss: 274234496.0000 - val_mean_absolute_error: 10718.6807 - val_mean_absolute_percentage_error: 1742635136.0000\n",
            "Epoch 154/200\n",
            "\u001b[1m8432/8432\u001b[0m \u001b[32m━━━━━━━━━━━━━━━━━━━━\u001b[0m\u001b[37m\u001b[0m \u001b[1m42s\u001b[0m 3ms/step - loss: 281553248.0000 - mean_absolute_error: 10357.7256 - mean_absolute_percentage_error: 2115185024.0000 - val_loss: 273173472.0000 - val_mean_absolute_error: 10477.4707 - val_mean_absolute_percentage_error: 1654842624.0000\n",
            "Epoch 155/200\n",
            "\u001b[1m8432/8432\u001b[0m \u001b[32m━━━━━━━━━━━━━━━━━━━━\u001b[0m\u001b[37m\u001b[0m \u001b[1m29s\u001b[0m 3ms/step - loss: 278610624.0000 - mean_absolute_error: 10400.9971 - mean_absolute_percentage_error: 1973519872.0000 - val_loss: 273659168.0000 - val_mean_absolute_error: 10346.5996 - val_mean_absolute_percentage_error: 1578853888.0000\n",
            "Epoch 156/200\n",
            "\u001b[1m8432/8432\u001b[0m \u001b[32m━━━━━━━━━━━━━━━━━━━━\u001b[0m\u001b[37m\u001b[0m \u001b[1m28s\u001b[0m 3ms/step - loss: 276857824.0000 - mean_absolute_error: 10405.0674 - mean_absolute_percentage_error: 2579165696.0000 - val_loss: 272144288.0000 - val_mean_absolute_error: 10367.2607 - val_mean_absolute_percentage_error: 1619777536.0000\n",
            "Epoch 157/200\n",
            "\u001b[1m8432/8432\u001b[0m \u001b[32m━━━━━━━━━━━━━━━━━━━━\u001b[0m\u001b[37m\u001b[0m \u001b[1m29s\u001b[0m 3ms/step - loss: 273102656.0000 - mean_absolute_error: 10318.6953 - mean_absolute_percentage_error: 1747146624.0000 - val_loss: 272598560.0000 - val_mean_absolute_error: 10452.4844 - val_mean_absolute_percentage_error: 1598996864.0000\n",
            "Epoch 158/200\n",
            "\u001b[1m8432/8432\u001b[0m \u001b[32m━━━━━━━━━━━━━━━━━━━━\u001b[0m\u001b[37m\u001b[0m \u001b[1m28s\u001b[0m 3ms/step - loss: 280207840.0000 - mean_absolute_error: 10330.8340 - mean_absolute_percentage_error: 2155188480.0000 - val_loss: 271470752.0000 - val_mean_absolute_error: 10345.9082 - val_mean_absolute_percentage_error: 1602014720.0000\n",
            "Epoch 159/200\n",
            "\u001b[1m8432/8432\u001b[0m \u001b[32m━━━━━━━━━━━━━━━━━━━━\u001b[0m\u001b[37m\u001b[0m \u001b[1m37s\u001b[0m 3ms/step - loss: 276183488.0000 - mean_absolute_error: 10359.7744 - mean_absolute_percentage_error: 2123614208.0000 - val_loss: 273279360.0000 - val_mean_absolute_error: 10256.0518 - val_mean_absolute_percentage_error: 1579685376.0000\n",
            "Epoch 160/200\n",
            "\u001b[1m8432/8432\u001b[0m \u001b[32m━━━━━━━━━━━━━━━━━━━━\u001b[0m\u001b[37m\u001b[0m \u001b[1m43s\u001b[0m 3ms/step - loss: 267806336.0000 - mean_absolute_error: 10280.2178 - mean_absolute_percentage_error: 2337615872.0000 - val_loss: 272864320.0000 - val_mean_absolute_error: 10231.8311 - val_mean_absolute_percentage_error: 1519748224.0000\n",
            "Epoch 161/200\n",
            "\u001b[1m8432/8432\u001b[0m \u001b[32m━━━━━━━━━━━━━━━━━━━━\u001b[0m\u001b[37m\u001b[0m \u001b[1m43s\u001b[0m 3ms/step - loss: 276211328.0000 - mean_absolute_error: 10356.0850 - mean_absolute_percentage_error: 3163574016.0000 - val_loss: 271688608.0000 - val_mean_absolute_error: 10215.7656 - val_mean_absolute_percentage_error: 1518581760.0000\n",
            "Epoch 162/200\n",
            "\u001b[1m8432/8432\u001b[0m \u001b[32m━━━━━━━━━━━━━━━━━━━━\u001b[0m\u001b[37m\u001b[0m \u001b[1m41s\u001b[0m 3ms/step - loss: 275648224.0000 - mean_absolute_error: 10327.1709 - mean_absolute_percentage_error: 1954143360.0000 - val_loss: 271815392.0000 - val_mean_absolute_error: 10170.1543 - val_mean_absolute_percentage_error: 1486934784.0000\n",
            "Epoch 163/200\n",
            "\u001b[1m8432/8432\u001b[0m \u001b[32m━━━━━━━━━━━━━━━━━━━━\u001b[0m\u001b[37m\u001b[0m \u001b[1m42s\u001b[0m 3ms/step - loss: 270539552.0000 - mean_absolute_error: 10313.5322 - mean_absolute_percentage_error: 2536490752.0000 - val_loss: 271036256.0000 - val_mean_absolute_error: 10452.1465 - val_mean_absolute_percentage_error: 1666540672.0000\n",
            "Epoch 164/200\n",
            "\u001b[1m8432/8432\u001b[0m \u001b[32m━━━━━━━━━━━━━━━━━━━━\u001b[0m\u001b[37m\u001b[0m \u001b[1m25s\u001b[0m 3ms/step - loss: 272204544.0000 - mean_absolute_error: 10319.1562 - mean_absolute_percentage_error: 2853071360.0000 - val_loss: 271601632.0000 - val_mean_absolute_error: 10504.6191 - val_mean_absolute_percentage_error: 1651341952.0000\n",
            "Epoch 165/200\n",
            "\u001b[1m8432/8432\u001b[0m \u001b[32m━━━━━━━━━━━━━━━━━━━━\u001b[0m\u001b[37m\u001b[0m \u001b[1m28s\u001b[0m 3ms/step - loss: 270482336.0000 - mean_absolute_error: 10280.9131 - mean_absolute_percentage_error: 2641409536.0000 - val_loss: 270246976.0000 - val_mean_absolute_error: 10245.4795 - val_mean_absolute_percentage_error: 1542461312.0000\n",
            "Epoch 166/200\n",
            "\u001b[1m8432/8432\u001b[0m \u001b[32m━━━━━━━━━━━━━━━━━━━━\u001b[0m\u001b[37m\u001b[0m \u001b[1m44s\u001b[0m 4ms/step - loss: 273424480.0000 - mean_absolute_error: 10294.5020 - mean_absolute_percentage_error: 1697284992.0000 - val_loss: 271015168.0000 - val_mean_absolute_error: 10162.1689 - val_mean_absolute_percentage_error: 1478056320.0000\n",
            "Epoch 167/200\n",
            "\u001b[1m8432/8432\u001b[0m \u001b[32m━━━━━━━━━━━━━━━━━━━━\u001b[0m\u001b[37m\u001b[0m \u001b[1m37s\u001b[0m 4ms/step - loss: 272406816.0000 - mean_absolute_error: 10320.9619 - mean_absolute_percentage_error: 1782086016.0000 - val_loss: 270472960.0000 - val_mean_absolute_error: 10489.2363 - val_mean_absolute_percentage_error: 1678203648.0000\n",
            "Epoch 168/200\n",
            "\u001b[1m8432/8432\u001b[0m \u001b[32m━━━━━━━━━━━━━━━━━━━━\u001b[0m\u001b[37m\u001b[0m \u001b[1m47s\u001b[0m 5ms/step - loss: 267818576.0000 - mean_absolute_error: 10252.3662 - mean_absolute_percentage_error: 2084075776.0000 - val_loss: 269441536.0000 - val_mean_absolute_error: 10171.3564 - val_mean_absolute_percentage_error: 1539333888.0000\n",
            "Epoch 169/200\n",
            "\u001b[1m8432/8432\u001b[0m \u001b[32m━━━━━━━━━━━━━━━━━━━━\u001b[0m\u001b[37m\u001b[0m \u001b[1m37s\u001b[0m 4ms/step - loss: 269390272.0000 - mean_absolute_error: 10269.9473 - mean_absolute_percentage_error: 1863672448.0000 - val_loss: 269664224.0000 - val_mean_absolute_error: 10249.4355 - val_mean_absolute_percentage_error: 1610534272.0000\n",
            "Epoch 170/200\n",
            "\u001b[1m8432/8432\u001b[0m \u001b[32m━━━━━━━━━━━━━━━━━━━━\u001b[0m\u001b[37m\u001b[0m \u001b[1m39s\u001b[0m 4ms/step - loss: 273396544.0000 - mean_absolute_error: 10301.4287 - mean_absolute_percentage_error: 2230042624.0000 - val_loss: 269608384.0000 - val_mean_absolute_error: 10473.9004 - val_mean_absolute_percentage_error: 1695709312.0000\n",
            "Epoch 171/200\n",
            "\u001b[1m8432/8432\u001b[0m \u001b[32m━━━━━━━━━━━━━━━━━━━━\u001b[0m\u001b[37m\u001b[0m \u001b[1m31s\u001b[0m 4ms/step - loss: 270367936.0000 - mean_absolute_error: 10271.5498 - mean_absolute_percentage_error: 2329831936.0000 - val_loss: 270509504.0000 - val_mean_absolute_error: 10088.9082 - val_mean_absolute_percentage_error: 1521300608.0000\n",
            "Epoch 172/200\n",
            "\u001b[1m8432/8432\u001b[0m \u001b[32m━━━━━━━━━━━━━━━━━━━━\u001b[0m\u001b[37m\u001b[0m \u001b[1m41s\u001b[0m 4ms/step - loss: 273039872.0000 - mean_absolute_error: 10275.8232 - mean_absolute_percentage_error: 3036780288.0000 - val_loss: 268739648.0000 - val_mean_absolute_error: 10344.5977 - val_mean_absolute_percentage_error: 1650868480.0000\n",
            "Epoch 173/200\n",
            "\u001b[1m8432/8432\u001b[0m \u001b[32m━━━━━━━━━━━━━━━━━━━━\u001b[0m\u001b[37m\u001b[0m \u001b[1m27s\u001b[0m 3ms/step - loss: 272620672.0000 - mean_absolute_error: 10294.9414 - mean_absolute_percentage_error: 1906446848.0000 - val_loss: 269343872.0000 - val_mean_absolute_error: 10163.5781 - val_mean_absolute_percentage_error: 1572797824.0000\n",
            "Epoch 174/200\n",
            "\u001b[1m8432/8432\u001b[0m \u001b[32m━━━━━━━━━━━━━━━━━━━━\u001b[0m\u001b[37m\u001b[0m \u001b[1m25s\u001b[0m 3ms/step - loss: 264064000.0000 - mean_absolute_error: 10265.4082 - mean_absolute_percentage_error: 1891505152.0000 - val_loss: 268661248.0000 - val_mean_absolute_error: 10422.1338 - val_mean_absolute_percentage_error: 1652090112.0000\n",
            "Epoch 175/200\n",
            "\u001b[1m8432/8432\u001b[0m \u001b[32m━━━━━━━━━━━━━━━━━━━━\u001b[0m\u001b[37m\u001b[0m \u001b[1m32s\u001b[0m 4ms/step - loss: 268685024.0000 - mean_absolute_error: 10237.3154 - mean_absolute_percentage_error: 2347650048.0000 - val_loss: 267984512.0000 - val_mean_absolute_error: 10295.7930 - val_mean_absolute_percentage_error: 1614573440.0000\n",
            "Epoch 176/200\n",
            "\u001b[1m8432/8432\u001b[0m \u001b[32m━━━━━━━━━━━━━━━━━━━━\u001b[0m\u001b[37m\u001b[0m \u001b[1m31s\u001b[0m 4ms/step - loss: 269583104.0000 - mean_absolute_error: 10287.6816 - mean_absolute_percentage_error: 2487949312.0000 - val_loss: 268022784.0000 - val_mean_absolute_error: 10355.7764 - val_mean_absolute_percentage_error: 1604776832.0000\n",
            "Epoch 177/200\n",
            "\u001b[1m8432/8432\u001b[0m \u001b[32m━━━━━━━━━━━━━━━━━━━━\u001b[0m\u001b[37m\u001b[0m \u001b[1m31s\u001b[0m 4ms/step - loss: 267913712.0000 - mean_absolute_error: 10239.5156 - mean_absolute_percentage_error: 2202273024.0000 - val_loss: 268401040.0000 - val_mean_absolute_error: 10455.8115 - val_mean_absolute_percentage_error: 1698371584.0000\n",
            "Epoch 178/200\n",
            "\u001b[1m8432/8432\u001b[0m \u001b[32m━━━━━━━━━━━━━━━━━━━━\u001b[0m\u001b[37m\u001b[0m \u001b[1m28s\u001b[0m 3ms/step - loss: 268349136.0000 - mean_absolute_error: 10282.0488 - mean_absolute_percentage_error: 2039059712.0000 - val_loss: 268633600.0000 - val_mean_absolute_error: 10379.5068 - val_mean_absolute_percentage_error: 1633595776.0000\n",
            "Epoch 179/200\n",
            "\u001b[1m8432/8432\u001b[0m \u001b[32m━━━━━━━━━━━━━━━━━━━━\u001b[0m\u001b[37m\u001b[0m \u001b[1m40s\u001b[0m 3ms/step - loss: 260451824.0000 - mean_absolute_error: 10192.3242 - mean_absolute_percentage_error: 1747049216.0000 - val_loss: 271389568.0000 - val_mean_absolute_error: 10427.9346 - val_mean_absolute_percentage_error: 1614440448.0000\n",
            "Epoch 180/200\n",
            "\u001b[1m8432/8432\u001b[0m \u001b[32m━━━━━━━━━━━━━━━━━━━━\u001b[0m\u001b[37m\u001b[0m \u001b[1m28s\u001b[0m 3ms/step - loss: 270237664.0000 - mean_absolute_error: 10243.2529 - mean_absolute_percentage_error: 1730288256.0000 - val_loss: 267684176.0000 - val_mean_absolute_error: 10295.1475 - val_mean_absolute_percentage_error: 1562360448.0000\n",
            "Epoch 181/200\n",
            "\u001b[1m8432/8432\u001b[0m \u001b[32m━━━━━━━━━━━━━━━━━━━━\u001b[0m\u001b[37m\u001b[0m \u001b[1m41s\u001b[0m 3ms/step - loss: 268935008.0000 - mean_absolute_error: 10236.2217 - mean_absolute_percentage_error: 3227020288.0000 - val_loss: 267360512.0000 - val_mean_absolute_error: 10386.3936 - val_mean_absolute_percentage_error: 1704359680.0000\n",
            "Epoch 182/200\n",
            "\u001b[1m8432/8432\u001b[0m \u001b[32m━━━━━━━━━━━━━━━━━━━━\u001b[0m\u001b[37m\u001b[0m \u001b[1m30s\u001b[0m 4ms/step - loss: 269381856.0000 - mean_absolute_error: 10272.9795 - mean_absolute_percentage_error: 2231164416.0000 - val_loss: 268456128.0000 - val_mean_absolute_error: 10499.2666 - val_mean_absolute_percentage_error: 1722751744.0000\n",
            "Epoch 183/200\n",
            "\u001b[1m8432/8432\u001b[0m \u001b[32m━━━━━━━━━━━━━━━━━━━━\u001b[0m\u001b[37m\u001b[0m \u001b[1m28s\u001b[0m 3ms/step - loss: 263549600.0000 - mean_absolute_error: 10207.7490 - mean_absolute_percentage_error: 1556198016.0000 - val_loss: 267535680.0000 - val_mean_absolute_error: 10311.8145 - val_mean_absolute_percentage_error: 1678949760.0000\n",
            "Epoch 184/200\n",
            "\u001b[1m8432/8432\u001b[0m \u001b[32m━━━━━━━━━━━━━━━━━━━━\u001b[0m\u001b[37m\u001b[0m \u001b[1m28s\u001b[0m 3ms/step - loss: 265989856.0000 - mean_absolute_error: 10232.2217 - mean_absolute_percentage_error: 2020717824.0000 - val_loss: 266593648.0000 - val_mean_absolute_error: 10376.4102 - val_mean_absolute_percentage_error: 1624015744.0000\n",
            "Epoch 185/200\n",
            "\u001b[1m8432/8432\u001b[0m \u001b[32m━━━━━━━━━━━━━━━━━━━━\u001b[0m\u001b[37m\u001b[0m \u001b[1m42s\u001b[0m 3ms/step - loss: 264420736.0000 - mean_absolute_error: 10262.8584 - mean_absolute_percentage_error: 2169554944.0000 - val_loss: 266904976.0000 - val_mean_absolute_error: 10193.5898 - val_mean_absolute_percentage_error: 1569859072.0000\n",
            "Epoch 186/200\n",
            "\u001b[1m8432/8432\u001b[0m \u001b[32m━━━━━━━━━━━━━━━━━━━━\u001b[0m\u001b[37m\u001b[0m \u001b[1m28s\u001b[0m 3ms/step - loss: 269711424.0000 - mean_absolute_error: 10248.8525 - mean_absolute_percentage_error: 2318186752.0000 - val_loss: 267470640.0000 - val_mean_absolute_error: 10183.3389 - val_mean_absolute_percentage_error: 1505880192.0000\n",
            "Epoch 187/200\n",
            "\u001b[1m8432/8432\u001b[0m \u001b[32m━━━━━━━━━━━━━━━━━━━━\u001b[0m\u001b[37m\u001b[0m \u001b[1m38s\u001b[0m 3ms/step - loss: 266717424.0000 - mean_absolute_error: 10210.2959 - mean_absolute_percentage_error: 2112414336.0000 - val_loss: 266777776.0000 - val_mean_absolute_error: 10243.1494 - val_mean_absolute_percentage_error: 1573503616.0000\n",
            "Epoch 188/200\n",
            "\u001b[1m8432/8432\u001b[0m \u001b[32m━━━━━━━━━━━━━━━━━━━━\u001b[0m\u001b[37m\u001b[0m \u001b[1m42s\u001b[0m 3ms/step - loss: 262055648.0000 - mean_absolute_error: 10136.7842 - mean_absolute_percentage_error: 2275065344.0000 - val_loss: 265701120.0000 - val_mean_absolute_error: 10109.0664 - val_mean_absolute_percentage_error: 1528637312.0000\n",
            "Epoch 189/200\n",
            "\u001b[1m8432/8432\u001b[0m \u001b[32m━━━━━━━━━━━━━━━━━━━━\u001b[0m\u001b[37m\u001b[0m \u001b[1m28s\u001b[0m 3ms/step - loss: 261004240.0000 - mean_absolute_error: 10169.1074 - mean_absolute_percentage_error: 2352527872.0000 - val_loss: 267771856.0000 - val_mean_absolute_error: 10671.5400 - val_mean_absolute_percentage_error: 1751885824.0000\n",
            "Epoch 190/200\n",
            "\u001b[1m8432/8432\u001b[0m \u001b[32m━━━━━━━━━━━━━━━━━━━━\u001b[0m\u001b[37m\u001b[0m \u001b[1m37s\u001b[0m 3ms/step - loss: 268518176.0000 - mean_absolute_error: 10207.1396 - mean_absolute_percentage_error: 1766697600.0000 - val_loss: 266964160.0000 - val_mean_absolute_error: 10231.0811 - val_mean_absolute_percentage_error: 1578481920.0000\n",
            "Epoch 191/200\n",
            "\u001b[1m8432/8432\u001b[0m \u001b[32m━━━━━━━━━━━━━━━━━━━━\u001b[0m\u001b[37m\u001b[0m \u001b[1m41s\u001b[0m 3ms/step - loss: 263395584.0000 - mean_absolute_error: 10196.8672 - mean_absolute_percentage_error: 2019360512.0000 - val_loss: 268228880.0000 - val_mean_absolute_error: 10562.8330 - val_mean_absolute_percentage_error: 1694275840.0000\n",
            "Epoch 192/200\n",
            "\u001b[1m8432/8432\u001b[0m \u001b[32m━━━━━━━━━━━━━━━━━━━━\u001b[0m\u001b[37m\u001b[0m \u001b[1m42s\u001b[0m 3ms/step - loss: 267600416.0000 - mean_absolute_error: 10175.2637 - mean_absolute_percentage_error: 2447922176.0000 - val_loss: 264804704.0000 - val_mean_absolute_error: 10196.1113 - val_mean_absolute_percentage_error: 1619630336.0000\n",
            "Epoch 193/200\n",
            "\u001b[1m8432/8432\u001b[0m \u001b[32m━━━━━━━━━━━━━━━━━━━━\u001b[0m\u001b[37m\u001b[0m \u001b[1m28s\u001b[0m 3ms/step - loss: 263231312.0000 - mean_absolute_error: 10195.3721 - mean_absolute_percentage_error: 2718403328.0000 - val_loss: 266428928.0000 - val_mean_absolute_error: 10093.0615 - val_mean_absolute_percentage_error: 1449698432.0000\n",
            "Epoch 194/200\n",
            "\u001b[1m8432/8432\u001b[0m \u001b[32m━━━━━━━━━━━━━━━━━━━━\u001b[0m\u001b[37m\u001b[0m \u001b[1m38s\u001b[0m 3ms/step - loss: 263633264.0000 - mean_absolute_error: 10219.6709 - mean_absolute_percentage_error: 2565822464.0000 - val_loss: 264598512.0000 - val_mean_absolute_error: 10117.4639 - val_mean_absolute_percentage_error: 1583986176.0000\n",
            "Epoch 195/200\n",
            "\u001b[1m8432/8432\u001b[0m \u001b[32m━━━━━━━━━━━━━━━━━━━━\u001b[0m\u001b[37m\u001b[0m \u001b[1m28s\u001b[0m 3ms/step - loss: 262068128.0000 - mean_absolute_error: 10161.6787 - mean_absolute_percentage_error: 2315531264.0000 - val_loss: 265468128.0000 - val_mean_absolute_error: 10292.8408 - val_mean_absolute_percentage_error: 1626328192.0000\n",
            "Epoch 196/200\n",
            "\u001b[1m8432/8432\u001b[0m \u001b[32m━━━━━━━━━━━━━━━━━━━━\u001b[0m\u001b[37m\u001b[0m \u001b[1m41s\u001b[0m 3ms/step - loss: 268515488.0000 - mean_absolute_error: 10162.9854 - mean_absolute_percentage_error: 2090297856.0000 - val_loss: 264008400.0000 - val_mean_absolute_error: 10327.7998 - val_mean_absolute_percentage_error: 1668291200.0000\n",
            "Epoch 197/200\n",
            "\u001b[1m8432/8432\u001b[0m \u001b[32m━━━━━━━━━━━━━━━━━━━━\u001b[0m\u001b[37m\u001b[0m \u001b[1m24s\u001b[0m 3ms/step - loss: 262085120.0000 - mean_absolute_error: 10169.4336 - mean_absolute_percentage_error: 2416933376.0000 - val_loss: 263631520.0000 - val_mean_absolute_error: 10183.2354 - val_mean_absolute_percentage_error: 1589914112.0000\n",
            "Epoch 198/200\n",
            "\u001b[1m8432/8432\u001b[0m \u001b[32m━━━━━━━━━━━━━━━━━━━━\u001b[0m\u001b[37m\u001b[0m \u001b[1m29s\u001b[0m 3ms/step - loss: 267698400.0000 - mean_absolute_error: 10166.5713 - mean_absolute_percentage_error: 1831494144.0000 - val_loss: 263113984.0000 - val_mean_absolute_error: 10129.2314 - val_mean_absolute_percentage_error: 1626984064.0000\n",
            "Epoch 199/200\n",
            "\u001b[1m8432/8432\u001b[0m \u001b[32m━━━━━━━━━━━━━━━━━━━━\u001b[0m\u001b[37m\u001b[0m \u001b[1m27s\u001b[0m 3ms/step - loss: 262732928.0000 - mean_absolute_error: 10119.7314 - mean_absolute_percentage_error: 1740385792.0000 - val_loss: 262353712.0000 - val_mean_absolute_error: 10130.5322 - val_mean_absolute_percentage_error: 1608447872.0000\n",
            "Epoch 200/200\n",
            "\u001b[1m8432/8432\u001b[0m \u001b[32m━━━━━━━━━━━━━━━━━━━━\u001b[0m\u001b[37m\u001b[0m \u001b[1m26s\u001b[0m 3ms/step - loss: 268919360.0000 - mean_absolute_error: 10214.4180 - mean_absolute_percentage_error: 2437568512.0000 - val_loss: 262587328.0000 - val_mean_absolute_error: 10133.4775 - val_mean_absolute_percentage_error: 1572028800.0000\n"
          ]
        }
      ]
    },
    {
      "cell_type": "code",
      "source": [
        "result7_df=pd.DataFrame(result7.history)\n",
        "plt.plot(range(1,201),result7_df['loss'],label=\"train_loss\")\n",
        "plt.plot(range(1,201),result7_df['val_loss'],label=\"val_loss\")\n",
        "plt.legend()\n",
        "plt.show()"
      ],
      "metadata": {
        "colab": {
          "base_uri": "https://localhost:8080/",
          "height": 445
        },
        "id": "rlciajFPAIjX",
        "outputId": "54f631c6-c20e-4fd2-be55-070d4012b56c"
      },
      "execution_count": null,
      "outputs": [
        {
          "output_type": "display_data",
          "data": {
            "text/plain": [
              "<Figure size 640x480 with 1 Axes>"
            ],
            "image/png": "[encoded data removed]"
          },
          "metadata": {}
        }
      ]
    },
    {
      "cell_type": "code",
      "source": [
        "result7_df.iloc[-1]"
      ],
      "metadata": {
        "colab": {
          "base_uri": "https://localhost:8080/",
          "height": 272
        },
        "id": "XxkKoa8kAIgh",
        "outputId": "1ddfd385-5a57-4f24-d99b-243abbce974e"
      },
      "execution_count": null,
      "outputs": [
        {
          "output_type": "execute_result",
          "data": {
            "text/plain": [
              "loss                                  2.638294e+08\n",
              "mean_absolute_error                   1.016252e+04\n",
              "mean_absolute_percentage_error        2.142149e+09\n",
              "val_loss                              2.625873e+08\n",
              "val_mean_absolute_error               1.013348e+04\n",
              "val_mean_absolute_percentage_error    1.572029e+09\n",
              "Name: 199, dtype: float64"
            ],
            "text/html": [
              "<div>\n",
              "<style scoped>\n",
              "    .dataframe tbody tr th:only-of-type {\n",
              "        vertical-align: middle;\n",
              "    }\n",
              "\n",
              "    .dataframe tbody tr th {\n",
              "        vertical-align: top;\n",
              "    }\n",
              "\n",
              "    .dataframe thead th {\n",
              "        text-align: right;\n",
              "    }\n",
              "</style>\n",
              "<table border=\"1\" class=\"dataframe\">\n",
              "  <thead>\n",
              "    <tr style=\"text-align: right;\">\n",
              "      <th></th>\n",
              "      <th>199</th>\n",
              "    </tr>\n",
              "  </thead>\n",
              "  <tbody>\n",
              "    <tr>\n",
              "      <th>loss</th>\n",
              "      <td>2.638294e+08</td>\n",
              "    </tr>\n",
              "    <tr>\n",
              "      <th>mean_absolute_error</th>\n",
              "      <td>1.016252e+04</td>\n",
              "    </tr>\n",
              "    <tr>\n",
              "      <th>mean_absolute_percentage_error</th>\n",
              "      <td>2.142149e+09</td>\n",
              "    </tr>\n",
              "    <tr>\n",
              "      <th>val_loss</th>\n",
              "      <td>2.625873e+08</td>\n",
              "    </tr>\n",
              "    <tr>\n",
              "      <th>val_mean_absolute_error</th>\n",
              "      <td>1.013348e+04</td>\n",
              "    </tr>\n",
              "    <tr>\n",
              "      <th>val_mean_absolute_percentage_error</th>\n",
              "      <td>1.572029e+09</td>\n",
              "    </tr>\n",
              "  </tbody>\n",
              "</table>\n",
              "</div><br><label><b>dtype:</b> float64</label>"
            ]
          },
          "metadata": {},
          "execution_count": 23
        }
      ]
    },
    {
      "cell_type": "code",
      "source": [
        "model7.evaluate(x_test_ss, y_test)"
      ],
      "metadata": {
        "colab": {
          "base_uri": "https://localhost:8080/"
        },
        "id": "ZzbdddM0AId8",
        "outputId": "b2864731-c086-47eb-f4ab-7e75b07a4b8e"
      },
      "execution_count": null,
      "outputs": [
        {
          "output_type": "stream",
          "name": "stdout",
          "text": [
            "\u001b[1m2635/2635\u001b[0m \u001b[32m━━━━━━━━━━━━━━━━━━━━\u001b[0m\u001b[37m\u001b[0m \u001b[1m4s\u001b[0m 1ms/step - loss: 415727616000.0000 - mean_absolute_error: 485554.6250 - mean_absolute_percentage_error: 47997894656.0000\n"
          ]
        },
        {
          "output_type": "execute_result",
          "data": {
            "text/plain": [
              "[415841288192.0, 486257.34375, 39950852096.0]"
            ]
          },
          "metadata": {},
          "execution_count": 24
        }
      ]
    },
    {
      "cell_type": "code",
      "source": [
        "pred=[1,1,1,151315,42.31,2.572,4866.2909,24157.0344,376.8238,1187.4454,4158.9236,211.096358,8.106,0,5,2,2010]\n",
        "te=pd.DataFrame(pred).T\n",
        "te_ss=scaler.transform(te)\n",
        "te_df=pd.DataFrame(te_ss)\n",
        "model7.predict(te_df)"
      ],
      "metadata": {
        "colab": {
          "base_uri": "https://localhost:8080/"
        },
        "id": "0w8KQpvoAIa3",
        "outputId": "63a4af23-df2a-4630-c4b1-67e21932d909"
      },
      "execution_count": null,
      "outputs": [
        {
          "output_type": "stream",
          "name": "stderr",
          "text": [
            "/usr/local/lib/python3.10/dist-packages/sklearn/base.py:465: UserWarning: X does not have valid feature names, but StandardScaler was fitted with feature names\n",
            "  warnings.warn(\n"
          ]
        },
        {
          "output_type": "stream",
          "name": "stdout",
          "text": [
            "\u001b[1m1/1\u001b[0m \u001b[32m━━━━━━━━━━━━━━━━━━━━\u001b[0m\u001b[37m\u001b[0m \u001b[1m0s\u001b[0m 184ms/step\n"
          ]
        },
        {
          "output_type": "execute_result",
          "data": {
            "text/plain": [
              "array([[-873730.5]], dtype=float32)"
            ]
          },
          "metadata": {},
          "execution_count": 25
        }
      ]
    },
    {
      "cell_type": "code",
      "source": [],
      "metadata": {
        "id": "8UaodPkjEEgY"
      },
      "execution_count": null,
      "outputs": []
    },
    {
      "cell_type": "code",
      "source": [],
      "metadata": {
        "id": "6Hf2-8sUEEdv"
      },
      "execution_count": null,
      "outputs": []
    },
    {
      "cell_type": "code",
      "source": [],
      "metadata": {
        "id": "iQ64nQ6wEEbA"
      },
      "execution_count": null,
      "outputs": []
    },
    {
      "cell_type": "code",
      "execution_count": null,
      "metadata": {
        "id": "pfR-pbxDCp-j"
      },
      "outputs": [],
      "source": [
        "#model5, no standard scaler"
      ]
    },
    {
      "cell_type": "code",
      "execution_count": null,
      "metadata": {
        "colab": {
          "base_uri": "https://localhost:8080/"
        },
        "id": "7pYyob2y3juc",
        "outputId": "0a859d12-1a9d-44fa-92d0-980f3096d451"
      },
      "outputs": [
        {
          "name": "stderr",
          "output_type": "stream",
          "text": [
            "/usr/local/lib/python3.10/dist-packages/keras/src/layers/activations/leaky_relu.py:41: UserWarning: Argument `alpha` is deprecated. Use `negative_slope` instead.\n",
            "  warnings.warn(\n",
            "/usr/local/lib/python3.10/dist-packages/keras/src/layers/core/dense.py:87: UserWarning: Do not pass an `input_shape`/`input_dim` argument to a layer. When using Sequential models, prefer using an `Input(shape)` object as the first layer in the model instead.\n",
            "  super().__init__(activity_regularizer=activity_regularizer, **kwargs)\n"
          ]
        }
      ],
      "source": [
        "model5=Sequential()\n",
        "\n",
        "model5.add(Dense(64,input_dim=(len(x_train_ss[0])),activation=LeakyReLU(alpha=0.01)))\n",
        "model5.add(Dense(64,input_dim=(len(x_train_ss[0])),activation=LeakyReLU(alpha=0.01)))\n",
        "model5.add(Dense(1))\n",
        "\n",
        "\n",
        "model5.compile(optimizer=\"adam\",loss=\"mean_squared_error\",metrics=[tf.keras.metrics.MeanAbsoluteError(),tf.keras.metrics.MeanAbsolutePercentageError()])"
      ]
    },
    {
      "cell_type": "code",
      "execution_count": null,
      "metadata": {
        "colab": {
          "base_uri": "https://localhost:8080/"
        },
        "id": "ANX0U8He3jpu",
        "outputId": "4897d7af-6c33-46e3-97fb-95dd7ed4951b"
      },
      "outputs": [
        {
          "name": "stdout",
          "output_type": "stream",
          "text": [
            "Epoch 1/100\n",
            "\u001b[1m8432/8432\u001b[0m \u001b[32m━━━━━━━━━━━━━━━━━━━━\u001b[0m\u001b[37m\u001b[0m \u001b[1m23s\u001b[0m 3ms/step - loss: 491243392.0000 - mean_absolute_error: 14514.8867 - mean_absolute_percentage_error: 2936228352.0000 - val_loss: 475396640.0000 - val_mean_absolute_error: 14556.7627 - val_mean_absolute_percentage_error: 2530521600.0000\n",
            "Epoch 2/100\n",
            "\u001b[1m8432/8432\u001b[0m \u001b[32m━━━━━━━━━━━━━━━━━━━━\u001b[0m\u001b[37m\u001b[0m \u001b[1m40s\u001b[0m 2ms/step - loss: 491810304.0000 - mean_absolute_error: 14558.1172 - mean_absolute_percentage_error: 2815233792.0000 - val_loss: 471181216.0000 - val_mean_absolute_error: 14645.3262 - val_mean_absolute_percentage_error: 2610499840.0000\n",
            "Epoch 3/100\n",
            "\u001b[1m8432/8432\u001b[0m \u001b[32m━━━━━━━━━━━━━━━━━━━━\u001b[0m\u001b[37m\u001b[0m \u001b[1m18s\u001b[0m 2ms/step - loss: 480664352.0000 - mean_absolute_error: 14457.0781 - mean_absolute_percentage_error: 3536593920.0000 - val_loss: 464729440.0000 - val_mean_absolute_error: 14219.2402 - val_mean_absolute_percentage_error: 2498132480.0000\n",
            "Epoch 4/100\n",
            "\u001b[1m8432/8432\u001b[0m \u001b[32m━━━━━━━━━━━━━━━━━━━━\u001b[0m\u001b[37m\u001b[0m \u001b[1m22s\u001b[0m 2ms/step - loss: 483325216.0000 - mean_absolute_error: 14423.1807 - mean_absolute_percentage_error: 3562613760.0000 - val_loss: 464013600.0000 - val_mean_absolute_error: 13719.8564 - val_mean_absolute_percentage_error: 2298012160.0000\n",
            "Epoch 5/100\n",
            "\u001b[1m8432/8432\u001b[0m \u001b[32m━━━━━━━━━━━━━━━━━━━━\u001b[0m\u001b[37m\u001b[0m \u001b[1m22s\u001b[0m 2ms/step - loss: 473237696.0000 - mean_absolute_error: 14354.8389 - mean_absolute_percentage_error: 3089377024.0000 - val_loss: 457613792.0000 - val_mean_absolute_error: 14379.3467 - val_mean_absolute_percentage_error: 2680228352.0000\n",
            "Epoch 6/100\n",
            "\u001b[1m8432/8432\u001b[0m \u001b[32m━━━━━━━━━━━━━━━━━━━━\u001b[0m\u001b[37m\u001b[0m \u001b[1m18s\u001b[0m 2ms/step - loss: 463885184.0000 - mean_absolute_error: 14170.6240 - mean_absolute_percentage_error: 3313859840.0000 - val_loss: 437553728.0000 - val_mean_absolute_error: 14024.8457 - val_mean_absolute_percentage_error: 2417610752.0000\n",
            "Epoch 7/100\n",
            "\u001b[1m8432/8432\u001b[0m \u001b[32m━━━━━━━━━━━━━━━━━━━━\u001b[0m\u001b[37m\u001b[0m \u001b[1m23s\u001b[0m 2ms/step - loss: 441360672.0000 - mean_absolute_error: 13722.7617 - mean_absolute_percentage_error: 3170902272.0000 - val_loss: 420638176.0000 - val_mean_absolute_error: 13277.9932 - val_mean_absolute_percentage_error: 2038176512.0000\n",
            "Epoch 8/100\n",
            "\u001b[1m8432/8432\u001b[0m \u001b[32m━━━━━━━━━━━━━━━━━━━━\u001b[0m\u001b[37m\u001b[0m \u001b[1m39s\u001b[0m 2ms/step - loss: 436503008.0000 - mean_absolute_error: 13466.3213 - mean_absolute_percentage_error: 2580460032.0000 - val_loss: 405913376.0000 - val_mean_absolute_error: 12794.2988 - val_mean_absolute_percentage_error: 1706085760.0000\n",
            "Epoch 9/100\n",
            "\u001b[1m8432/8432\u001b[0m \u001b[32m━━━━━━━━━━━━━━━━━━━━\u001b[0m\u001b[37m\u001b[0m \u001b[1m21s\u001b[0m 3ms/step - loss: 421617088.0000 - mean_absolute_error: 13214.6729 - mean_absolute_percentage_error: 2518857216.0000 - val_loss: 414789152.0000 - val_mean_absolute_error: 13163.6182 - val_mean_absolute_percentage_error: 1895113472.0000\n",
            "Epoch 10/100\n",
            "\u001b[1m8432/8432\u001b[0m \u001b[32m━━━━━━━━━━━━━━━━━━━━\u001b[0m\u001b[37m\u001b[0m \u001b[1m18s\u001b[0m 2ms/step - loss: 425549792.0000 - mean_absolute_error: 13149.4238 - mean_absolute_percentage_error: 2579545600.0000 - val_loss: 406211040.0000 - val_mean_absolute_error: 12251.8154 - val_mean_absolute_percentage_error: 1488374016.0000\n",
            "Epoch 11/100\n",
            "\u001b[1m8432/8432\u001b[0m \u001b[32m━━━━━━━━━━━━━━━━━━━━\u001b[0m\u001b[37m\u001b[0m \u001b[1m23s\u001b[0m 2ms/step - loss: 421827552.0000 - mean_absolute_error: 13084.1514 - mean_absolute_percentage_error: 2146354432.0000 - val_loss: 397339392.0000 - val_mean_absolute_error: 12395.3184 - val_mean_absolute_percentage_error: 1601005184.0000\n",
            "Epoch 12/100\n",
            "\u001b[1m8432/8432\u001b[0m \u001b[32m━━━━━━━━━━━━━━━━━━━━\u001b[0m\u001b[37m\u001b[0m \u001b[1m18s\u001b[0m 2ms/step - loss: 418664032.0000 - mean_absolute_error: 13027.4619 - mean_absolute_percentage_error: 1771175808.0000 - val_loss: 405034784.0000 - val_mean_absolute_error: 13388.9561 - val_mean_absolute_percentage_error: 2100660864.0000\n",
            "Epoch 13/100\n",
            "\u001b[1m8432/8432\u001b[0m \u001b[32m━━━━━━━━━━━━━━━━━━━━\u001b[0m\u001b[37m\u001b[0m \u001b[1m21s\u001b[0m 2ms/step - loss: 424550272.0000 - mean_absolute_error: 12919.1846 - mean_absolute_percentage_error: 2144468992.0000 - val_loss: 389092224.0000 - val_mean_absolute_error: 12760.8223 - val_mean_absolute_percentage_error: 1813457408.0000\n",
            "Epoch 14/100\n",
            "\u001b[1m8432/8432\u001b[0m \u001b[32m━━━━━━━━━━━━━━━━━━━━\u001b[0m\u001b[37m\u001b[0m \u001b[1m18s\u001b[0m 2ms/step - loss: 410006752.0000 - mean_absolute_error: 12771.5625 - mean_absolute_percentage_error: 2341584384.0000 - val_loss: 392296352.0000 - val_mean_absolute_error: 13133.4473 - val_mean_absolute_percentage_error: 2003082496.0000\n",
            "Epoch 15/100\n",
            "\u001b[1m8432/8432\u001b[0m \u001b[32m━━━━━━━━━━━━━━━━━━━━\u001b[0m\u001b[37m\u001b[0m \u001b[1m21s\u001b[0m 2ms/step - loss: 416269568.0000 - mean_absolute_error: 12744.3105 - mean_absolute_percentage_error: 2164852480.0000 - val_loss: 410989216.0000 - val_mean_absolute_error: 12721.1787 - val_mean_absolute_percentage_error: 1960503168.0000\n",
            "Epoch 16/100\n",
            "\u001b[1m8432/8432\u001b[0m \u001b[32m━━━━━━━━━━━━━━━━━━━━\u001b[0m\u001b[37m\u001b[0m \u001b[1m18s\u001b[0m 2ms/step - loss: 406817248.0000 - mean_absolute_error: 12728.4502 - mean_absolute_percentage_error: 1715629312.0000 - val_loss: 451100832.0000 - val_mean_absolute_error: 13959.3096 - val_mean_absolute_percentage_error: 1687088768.0000\n",
            "Epoch 17/100\n",
            "\u001b[1m8432/8432\u001b[0m \u001b[32m━━━━━━━━━━━━━━━━━━━━\u001b[0m\u001b[37m\u001b[0m \u001b[1m18s\u001b[0m 2ms/step - loss: 411303136.0000 - mean_absolute_error: 12710.0283 - mean_absolute_percentage_error: 2190914816.0000 - val_loss: 383440768.0000 - val_mean_absolute_error: 12399.6592 - val_mean_absolute_percentage_error: 1804900224.0000\n",
            "Epoch 18/100\n",
            "\u001b[1m8432/8432\u001b[0m \u001b[32m━━━━━━━━━━━━━━━━━━━━\u001b[0m\u001b[37m\u001b[0m \u001b[1m21s\u001b[0m 2ms/step - loss: 400605344.0000 - mean_absolute_error: 12658.7021 - mean_absolute_percentage_error: 2298723072.0000 - val_loss: 390442336.0000 - val_mean_absolute_error: 11858.2852 - val_mean_absolute_percentage_error: 1734403200.0000\n",
            "Epoch 19/100\n",
            "\u001b[1m8432/8432\u001b[0m \u001b[32m━━━━━━━━━━━━━━━━━━━━\u001b[0m\u001b[37m\u001b[0m \u001b[1m18s\u001b[0m 2ms/step - loss: 403800000.0000 - mean_absolute_error: 12590.6602 - mean_absolute_percentage_error: 2665067776.0000 - val_loss: 401467232.0000 - val_mean_absolute_error: 12614.6836 - val_mean_absolute_percentage_error: 1909817472.0000\n",
            "Epoch 20/100\n",
            "\u001b[1m8432/8432\u001b[0m \u001b[32m━━━━━━━━━━━━━━━━━━━━\u001b[0m\u001b[37m\u001b[0m \u001b[1m21s\u001b[0m 2ms/step - loss: 388642592.0000 - mean_absolute_error: 12417.5596 - mean_absolute_percentage_error: 2476087296.0000 - val_loss: 373890432.0000 - val_mean_absolute_error: 12360.0771 - val_mean_absolute_percentage_error: 1970869504.0000\n",
            "Epoch 21/100\n",
            "\u001b[1m8432/8432\u001b[0m \u001b[32m━━━━━━━━━━━━━━━━━━━━\u001b[0m\u001b[37m\u001b[0m \u001b[1m23s\u001b[0m 2ms/step - loss: 394496128.0000 - mean_absolute_error: 12479.4111 - mean_absolute_percentage_error: 2497383680.0000 - val_loss: 391419840.0000 - val_mean_absolute_error: 12378.6504 - val_mean_absolute_percentage_error: 1937399168.0000\n",
            "Epoch 22/100\n",
            "\u001b[1m8432/8432\u001b[0m \u001b[32m━━━━━━━━━━━━━━━━━━━━\u001b[0m\u001b[37m\u001b[0m \u001b[1m18s\u001b[0m 2ms/step - loss: 398288128.0000 - mean_absolute_error: 12434.9023 - mean_absolute_percentage_error: 2530432512.0000 - val_loss: 383051936.0000 - val_mean_absolute_error: 12709.4609 - val_mean_absolute_percentage_error: 1997829120.0000\n",
            "Epoch 23/100\n",
            "\u001b[1m8432/8432\u001b[0m \u001b[32m━━━━━━━━━━━━━━━━━━━━\u001b[0m\u001b[37m\u001b[0m \u001b[1m18s\u001b[0m 2ms/step - loss: 395157632.0000 - mean_absolute_error: 12478.7617 - mean_absolute_percentage_error: 2324412928.0000 - val_loss: 375109536.0000 - val_mean_absolute_error: 11954.5859 - val_mean_absolute_percentage_error: 1995899776.0000\n",
            "Epoch 24/100\n",
            "\u001b[1m8432/8432\u001b[0m \u001b[32m━━━━━━━━━━━━━━━━━━━━\u001b[0m\u001b[37m\u001b[0m \u001b[1m21s\u001b[0m 2ms/step - loss: 399112256.0000 - mean_absolute_error: 12511.5908 - mean_absolute_percentage_error: 3007344128.0000 - val_loss: 407161152.0000 - val_mean_absolute_error: 12677.8232 - val_mean_absolute_percentage_error: 1748038016.0000\n",
            "Epoch 25/100\n",
            "\u001b[1m8432/8432\u001b[0m \u001b[32m━━━━━━━━━━━━━━━━━━━━\u001b[0m\u001b[37m\u001b[0m \u001b[1m18s\u001b[0m 2ms/step - loss: 382370688.0000 - mean_absolute_error: 12237.6299 - mean_absolute_percentage_error: 2362239744.0000 - val_loss: 418500448.0000 - val_mean_absolute_error: 13415.3867 - val_mean_absolute_percentage_error: 2371416064.0000\n",
            "Epoch 26/100\n",
            "\u001b[1m8432/8432\u001b[0m \u001b[32m━━━━━━━━━━━━━━━━━━━━\u001b[0m\u001b[37m\u001b[0m \u001b[1m18s\u001b[0m 2ms/step - loss: 394018368.0000 - mean_absolute_error: 12395.4219 - mean_absolute_percentage_error: 2097369472.0000 - val_loss: 376223616.0000 - val_mean_absolute_error: 11853.6289 - val_mean_absolute_percentage_error: 1930284800.0000\n",
            "Epoch 27/100\n",
            "\u001b[1m8432/8432\u001b[0m \u001b[32m━━━━━━━━━━━━━━━━━━━━\u001b[0m\u001b[37m\u001b[0m \u001b[1m23s\u001b[0m 3ms/step - loss: 394480928.0000 - mean_absolute_error: 12328.7588 - mean_absolute_percentage_error: 1747068672.0000 - val_loss: 371497536.0000 - val_mean_absolute_error: 11935.0967 - val_mean_absolute_percentage_error: 1915832576.0000\n",
            "Epoch 28/100\n",
            "\u001b[1m8432/8432\u001b[0m \u001b[32m━━━━━━━━━━━━━━━━━━━━\u001b[0m\u001b[37m\u001b[0m \u001b[1m40s\u001b[0m 2ms/step - loss: 395739840.0000 - mean_absolute_error: 12387.3643 - mean_absolute_percentage_error: 2397203968.0000 - val_loss: 376090432.0000 - val_mean_absolute_error: 12028.7109 - val_mean_absolute_percentage_error: 1951457408.0000\n",
            "Epoch 29/100\n",
            "\u001b[1m8432/8432\u001b[0m \u001b[32m━━━━━━━━━━━━━━━━━━━━\u001b[0m\u001b[37m\u001b[0m \u001b[1m18s\u001b[0m 2ms/step - loss: 387434784.0000 - mean_absolute_error: 12220.9697 - mean_absolute_percentage_error: 2764694272.0000 - val_loss: 368099424.0000 - val_mean_absolute_error: 12087.3115 - val_mean_absolute_percentage_error: 2006161408.0000\n",
            "Epoch 30/100\n",
            "\u001b[1m8432/8432\u001b[0m \u001b[32m━━━━━━━━━━━━━━━━━━━━\u001b[0m\u001b[37m\u001b[0m \u001b[1m21s\u001b[0m 2ms/step - loss: 389622432.0000 - mean_absolute_error: 12254.3613 - mean_absolute_percentage_error: 1972115328.0000 - val_loss: 390493728.0000 - val_mean_absolute_error: 12436.6777 - val_mean_absolute_percentage_error: 1941397760.0000\n",
            "Epoch 31/100\n",
            "\u001b[1m8432/8432\u001b[0m \u001b[32m━━━━━━━━━━━━━━━━━━━━\u001b[0m\u001b[37m\u001b[0m \u001b[1m21s\u001b[0m 2ms/step - loss: 389050656.0000 - mean_absolute_error: 12199.7266 - mean_absolute_percentage_error: 2158448640.0000 - val_loss: 380717152.0000 - val_mean_absolute_error: 12595.3105 - val_mean_absolute_percentage_error: 1959754880.0000\n",
            "Epoch 32/100\n",
            "\u001b[1m8432/8432\u001b[0m \u001b[32m━━━━━━━━━━━━━━━━━━━━\u001b[0m\u001b[37m\u001b[0m \u001b[1m42s\u001b[0m 3ms/step - loss: 388181280.0000 - mean_absolute_error: 12169.1484 - mean_absolute_percentage_error: 2592390656.0000 - val_loss: 431226880.0000 - val_mean_absolute_error: 13622.4102 - val_mean_absolute_percentage_error: 2108590208.0000\n",
            "Epoch 33/100\n",
            "\u001b[1m8432/8432\u001b[0m \u001b[32m━━━━━━━━━━━━━━━━━━━━\u001b[0m\u001b[37m\u001b[0m \u001b[1m41s\u001b[0m 3ms/step - loss: 383312768.0000 - mean_absolute_error: 12141.2188 - mean_absolute_percentage_error: 2684747008.0000 - val_loss: 362517120.0000 - val_mean_absolute_error: 11907.5732 - val_mean_absolute_percentage_error: 1802898176.0000\n",
            "Epoch 34/100\n",
            "\u001b[1m8432/8432\u001b[0m \u001b[32m━━━━━━━━━━━━━━━━━━━━\u001b[0m\u001b[37m\u001b[0m \u001b[1m38s\u001b[0m 2ms/step - loss: 378332256.0000 - mean_absolute_error: 12046.5449 - mean_absolute_percentage_error: 2382021632.0000 - val_loss: 360750880.0000 - val_mean_absolute_error: 12239.5537 - val_mean_absolute_percentage_error: 2026789376.0000\n",
            "Epoch 35/100\n",
            "\u001b[1m8432/8432\u001b[0m \u001b[32m━━━━━━━━━━━━━━━━━━━━\u001b[0m\u001b[37m\u001b[0m \u001b[1m20s\u001b[0m 2ms/step - loss: 377427008.0000 - mean_absolute_error: 12079.7998 - mean_absolute_percentage_error: 1857988608.0000 - val_loss: 354983328.0000 - val_mean_absolute_error: 11309.6943 - val_mean_absolute_percentage_error: 1866742528.0000\n",
            "Epoch 36/100\n",
            "\u001b[1m8432/8432\u001b[0m \u001b[32m━━━━━━━━━━━━━━━━━━━━\u001b[0m\u001b[37m\u001b[0m \u001b[1m20s\u001b[0m 2ms/step - loss: 379729152.0000 - mean_absolute_error: 12034.0977 - mean_absolute_percentage_error: 1988204160.0000 - val_loss: 355088896.0000 - val_mean_absolute_error: 11838.1260 - val_mean_absolute_percentage_error: 2050722176.0000\n",
            "Epoch 37/100\n",
            "\u001b[1m8432/8432\u001b[0m \u001b[32m━━━━━━━━━━━━━━━━━━━━\u001b[0m\u001b[37m\u001b[0m \u001b[1m21s\u001b[0m 3ms/step - loss: 375265568.0000 - mean_absolute_error: 12006.0508 - mean_absolute_percentage_error: 2044021248.0000 - val_loss: 345614304.0000 - val_mean_absolute_error: 11477.8252 - val_mean_absolute_percentage_error: 1905328896.0000\n",
            "Epoch 38/100\n",
            "\u001b[1m8432/8432\u001b[0m \u001b[32m━━━━━━━━━━━━━━━━━━━━\u001b[0m\u001b[37m\u001b[0m \u001b[1m18s\u001b[0m 2ms/step - loss: 367502400.0000 - mean_absolute_error: 11907.9590 - mean_absolute_percentage_error: 2279589120.0000 - val_loss: 368609440.0000 - val_mean_absolute_error: 12299.1289 - val_mean_absolute_percentage_error: 1893272832.0000\n",
            "Epoch 39/100\n",
            "\u001b[1m8432/8432\u001b[0m \u001b[32m━━━━━━━━━━━━━━━━━━━━\u001b[0m\u001b[37m\u001b[0m \u001b[1m18s\u001b[0m 2ms/step - loss: 374569888.0000 - mean_absolute_error: 11947.8975 - mean_absolute_percentage_error: 2678788352.0000 - val_loss: 363016224.0000 - val_mean_absolute_error: 11445.5098 - val_mean_absolute_percentage_error: 1873374464.0000\n",
            "Epoch 40/100\n",
            "\u001b[1m8432/8432\u001b[0m \u001b[32m━━━━━━━━━━━━━━━━━━━━\u001b[0m\u001b[37m\u001b[0m \u001b[1m25s\u001b[0m 3ms/step - loss: 381848896.0000 - mean_absolute_error: 12010.7236 - mean_absolute_percentage_error: 2094200704.0000 - val_loss: 367049024.0000 - val_mean_absolute_error: 12118.7646 - val_mean_absolute_percentage_error: 2220461056.0000\n",
            "Epoch 41/100\n",
            "\u001b[1m8432/8432\u001b[0m \u001b[32m━━━━━━━━━━━━━━━━━━━━\u001b[0m\u001b[37m\u001b[0m \u001b[1m41s\u001b[0m 3ms/step - loss: 370079648.0000 - mean_absolute_error: 11959.4082 - mean_absolute_percentage_error: 2589075456.0000 - val_loss: 345234624.0000 - val_mean_absolute_error: 11461.3184 - val_mean_absolute_percentage_error: 1719901696.0000\n",
            "Epoch 42/100\n",
            "\u001b[1m8432/8432\u001b[0m \u001b[32m━━━━━━━━━━━━━━━━━━━━\u001b[0m\u001b[37m\u001b[0m \u001b[1m19s\u001b[0m 2ms/step - loss: 369090400.0000 - mean_absolute_error: 11928.8438 - mean_absolute_percentage_error: 1996886400.0000 - val_loss: 377868032.0000 - val_mean_absolute_error: 12109.1289 - val_mean_absolute_percentage_error: 1950706688.0000\n",
            "Epoch 43/100\n",
            "\u001b[1m8432/8432\u001b[0m \u001b[32m━━━━━━━━━━━━━━━━━━━━\u001b[0m\u001b[37m\u001b[0m \u001b[1m18s\u001b[0m 2ms/step - loss: 369521536.0000 - mean_absolute_error: 11871.8604 - mean_absolute_percentage_error: 1753523584.0000 - val_loss: 345573632.0000 - val_mean_absolute_error: 11503.3027 - val_mean_absolute_percentage_error: 1960124672.0000\n",
            "Epoch 44/100\n",
            "\u001b[1m8432/8432\u001b[0m \u001b[32m━━━━━━━━━━━━━━━━━━━━\u001b[0m\u001b[37m\u001b[0m \u001b[1m21s\u001b[0m 3ms/step - loss: 367613184.0000 - mean_absolute_error: 11884.0566 - mean_absolute_percentage_error: 1965030400.0000 - val_loss: 350111456.0000 - val_mean_absolute_error: 11197.6338 - val_mean_absolute_percentage_error: 1676150144.0000\n",
            "Epoch 45/100\n",
            "\u001b[1m8432/8432\u001b[0m \u001b[32m━━━━━━━━━━━━━━━━━━━━\u001b[0m\u001b[37m\u001b[0m \u001b[1m18s\u001b[0m 2ms/step - loss: 363125504.0000 - mean_absolute_error: 11831.1826 - mean_absolute_percentage_error: 2154823936.0000 - val_loss: 358481984.0000 - val_mean_absolute_error: 11660.5020 - val_mean_absolute_percentage_error: 2003878144.0000\n",
            "Epoch 46/100\n",
            "\u001b[1m8432/8432\u001b[0m \u001b[32m━━━━━━━━━━━━━━━━━━━━\u001b[0m\u001b[37m\u001b[0m \u001b[1m20s\u001b[0m 2ms/step - loss: 372106080.0000 - mean_absolute_error: 12021.1611 - mean_absolute_percentage_error: 1799241472.0000 - val_loss: 342787520.0000 - val_mean_absolute_error: 11426.3086 - val_mean_absolute_percentage_error: 1792215552.0000\n",
            "Epoch 47/100\n",
            "\u001b[1m8432/8432\u001b[0m \u001b[32m━━━━━━━━━━━━━━━━━━━━\u001b[0m\u001b[37m\u001b[0m \u001b[1m21s\u001b[0m 2ms/step - loss: 367594752.0000 - mean_absolute_error: 11822.9717 - mean_absolute_percentage_error: 2247753984.0000 - val_loss: 348149056.0000 - val_mean_absolute_error: 12258.7998 - val_mean_absolute_percentage_error: 1740573952.0000\n",
            "Epoch 48/100\n",
            "\u001b[1m8432/8432\u001b[0m \u001b[32m━━━━━━━━━━━━━━━━━━━━\u001b[0m\u001b[37m\u001b[0m \u001b[1m20s\u001b[0m 2ms/step - loss: 379557024.0000 - mean_absolute_error: 11966.2715 - mean_absolute_percentage_error: 2706172416.0000 - val_loss: 360853632.0000 - val_mean_absolute_error: 11742.5039 - val_mean_absolute_percentage_error: 1629323648.0000\n",
            "Epoch 49/100\n",
            "\u001b[1m8432/8432\u001b[0m \u001b[32m━━━━━━━━━━━━━━━━━━━━\u001b[0m\u001b[37m\u001b[0m \u001b[1m19s\u001b[0m 2ms/step - loss: 361741920.0000 - mean_absolute_error: 11794.5137 - mean_absolute_percentage_error: 2341547520.0000 - val_loss: 344664480.0000 - val_mean_absolute_error: 11671.5664 - val_mean_absolute_percentage_error: 1682807040.0000\n",
            "Epoch 50/100\n",
            "\u001b[1m8432/8432\u001b[0m \u001b[32m━━━━━━━━━━━━━━━━━━━━\u001b[0m\u001b[37m\u001b[0m \u001b[1m20s\u001b[0m 2ms/step - loss: 368375264.0000 - mean_absolute_error: 11901.9102 - mean_absolute_percentage_error: 1879536128.0000 - val_loss: 349231200.0000 - val_mean_absolute_error: 11119.5186 - val_mean_absolute_percentage_error: 1721307904.0000\n",
            "Epoch 51/100\n",
            "\u001b[1m8432/8432\u001b[0m \u001b[32m━━━━━━━━━━━━━━━━━━━━\u001b[0m\u001b[37m\u001b[0m \u001b[1m20s\u001b[0m 2ms/step - loss: 370085344.0000 - mean_absolute_error: 11858.3799 - mean_absolute_percentage_error: 2724212224.0000 - val_loss: 334559712.0000 - val_mean_absolute_error: 11291.6924 - val_mean_absolute_percentage_error: 1725126272.0000\n",
            "Epoch 52/100\n",
            "\u001b[1m8432/8432\u001b[0m \u001b[32m━━━━━━━━━━━━━━━━━━━━\u001b[0m\u001b[37m\u001b[0m \u001b[1m22s\u001b[0m 2ms/step - loss: 369567424.0000 - mean_absolute_error: 11891.1172 - mean_absolute_percentage_error: 2019497344.0000 - val_loss: 332429696.0000 - val_mean_absolute_error: 11624.2646 - val_mean_absolute_percentage_error: 1728898944.0000\n",
            "Epoch 53/100\n",
            "\u001b[1m8432/8432\u001b[0m \u001b[32m━━━━━━━━━━━━━━━━━━━━\u001b[0m\u001b[37m\u001b[0m \u001b[1m20s\u001b[0m 2ms/step - loss: 360178272.0000 - mean_absolute_error: 11717.2070 - mean_absolute_percentage_error: 1905288192.0000 - val_loss: 349963904.0000 - val_mean_absolute_error: 11636.9307 - val_mean_absolute_percentage_error: 1756366208.0000\n",
            "Epoch 54/100\n",
            "\u001b[1m8432/8432\u001b[0m \u001b[32m━━━━━━━━━━━━━━━━━━━━\u001b[0m\u001b[37m\u001b[0m \u001b[1m19s\u001b[0m 2ms/step - loss: 368262016.0000 - mean_absolute_error: 11750.9443 - mean_absolute_percentage_error: 2545750784.0000 - val_loss: 349617824.0000 - val_mean_absolute_error: 11695.5586 - val_mean_absolute_percentage_error: 1600046720.0000\n",
            "Epoch 55/100\n",
            "\u001b[1m8432/8432\u001b[0m \u001b[32m━━━━━━━━━━━━━━━━━━━━\u001b[0m\u001b[37m\u001b[0m \u001b[1m20s\u001b[0m 2ms/step - loss: 370763968.0000 - mean_absolute_error: 11867.1211 - mean_absolute_percentage_error: 2084065408.0000 - val_loss: 484683456.0000 - val_mean_absolute_error: 14500.9434 - val_mean_absolute_percentage_error: 2183294976.0000\n",
            "Epoch 56/100\n",
            "\u001b[1m8432/8432\u001b[0m \u001b[32m━━━━━━━━━━━━━━━━━━━━\u001b[0m\u001b[37m\u001b[0m \u001b[1m18s\u001b[0m 2ms/step - loss: 362211072.0000 - mean_absolute_error: 11789.2490 - mean_absolute_percentage_error: 2735718656.0000 - val_loss: 340222016.0000 - val_mean_absolute_error: 11392.4062 - val_mean_absolute_percentage_error: 1715008512.0000\n",
            "Epoch 57/100\n",
            "\u001b[1m8432/8432\u001b[0m \u001b[32m━━━━━━━━━━━━━━━━━━━━\u001b[0m\u001b[37m\u001b[0m \u001b[1m21s\u001b[0m 2ms/step - loss: 355081184.0000 - mean_absolute_error: 11632.3369 - mean_absolute_percentage_error: 1879296512.0000 - val_loss: 320762496.0000 - val_mean_absolute_error: 11332.5049 - val_mean_absolute_percentage_error: 1846270848.0000\n",
            "Epoch 58/100\n",
            "\u001b[1m8432/8432\u001b[0m \u001b[32m━━━━━━━━━━━━━━━━━━━━\u001b[0m\u001b[37m\u001b[0m \u001b[1m19s\u001b[0m 2ms/step - loss: 361596832.0000 - mean_absolute_error: 11703.7490 - mean_absolute_percentage_error: 2050041216.0000 - val_loss: 412146656.0000 - val_mean_absolute_error: 12941.7305 - val_mean_absolute_percentage_error: 1730480640.0000\n",
            "Epoch 59/100\n",
            "\u001b[1m8432/8432\u001b[0m \u001b[32m━━━━━━━━━━━━━━━━━━━━\u001b[0m\u001b[37m\u001b[0m \u001b[1m20s\u001b[0m 2ms/step - loss: 362321440.0000 - mean_absolute_error: 11703.7871 - mean_absolute_percentage_error: 1374580096.0000 - val_loss: 353111040.0000 - val_mean_absolute_error: 11219.5410 - val_mean_absolute_percentage_error: 1718449024.0000\n",
            "Epoch 60/100\n",
            "\u001b[1m8432/8432\u001b[0m \u001b[32m━━━━━━━━━━━━━━━━━━━━\u001b[0m\u001b[37m\u001b[0m \u001b[1m23s\u001b[0m 3ms/step - loss: 357418880.0000 - mean_absolute_error: 11720.9160 - mean_absolute_percentage_error: 1868066432.0000 - val_loss: 333031744.0000 - val_mean_absolute_error: 11000.2871 - val_mean_absolute_percentage_error: 1531187072.0000\n",
            "Epoch 61/100\n",
            "\u001b[1m8432/8432\u001b[0m \u001b[32m━━━━━━━━━━━━━━━━━━━━\u001b[0m\u001b[37m\u001b[0m \u001b[1m19s\u001b[0m 2ms/step - loss: 353088320.0000 - mean_absolute_error: 11607.9209 - mean_absolute_percentage_error: 1895484032.0000 - val_loss: 344208352.0000 - val_mean_absolute_error: 11663.7295 - val_mean_absolute_percentage_error: 1666826368.0000\n",
            "Epoch 62/100\n",
            "\u001b[1m8432/8432\u001b[0m \u001b[32m━━━━━━━━━━━━━━━━━━━━\u001b[0m\u001b[37m\u001b[0m \u001b[1m18s\u001b[0m 2ms/step - loss: 351805664.0000 - mean_absolute_error: 11658.4629 - mean_absolute_percentage_error: 2268653824.0000 - val_loss: 379544544.0000 - val_mean_absolute_error: 11898.8857 - val_mean_absolute_percentage_error: 1573587328.0000\n",
            "Epoch 63/100\n",
            "\u001b[1m8432/8432\u001b[0m \u001b[32m━━━━━━━━━━━━━━━━━━━━\u001b[0m\u001b[37m\u001b[0m \u001b[1m24s\u001b[0m 3ms/step - loss: 363501376.0000 - mean_absolute_error: 11756.7617 - mean_absolute_percentage_error: 2004030592.0000 - val_loss: 350459648.0000 - val_mean_absolute_error: 11890.6992 - val_mean_absolute_percentage_error: 1624938112.0000\n",
            "Epoch 64/100\n",
            "\u001b[1m8432/8432\u001b[0m \u001b[32m━━━━━━━━━━━━━━━━━━━━\u001b[0m\u001b[37m\u001b[0m \u001b[1m19s\u001b[0m 2ms/step - loss: 357387872.0000 - mean_absolute_error: 11628.6992 - mean_absolute_percentage_error: 2245032960.0000 - val_loss: 338001184.0000 - val_mean_absolute_error: 11896.3594 - val_mean_absolute_percentage_error: 1994129280.0000\n",
            "Epoch 65/100\n",
            "\u001b[1m8432/8432\u001b[0m \u001b[32m━━━━━━━━━━━━━━━━━━━━\u001b[0m\u001b[37m\u001b[0m \u001b[1m20s\u001b[0m 2ms/step - loss: 356631584.0000 - mean_absolute_error: 11583.4248 - mean_absolute_percentage_error: 1897679104.0000 - val_loss: 341700480.0000 - val_mean_absolute_error: 11109.8828 - val_mean_absolute_percentage_error: 1349348096.0000\n",
            "Epoch 66/100\n",
            "\u001b[1m8432/8432\u001b[0m \u001b[32m━━━━━━━━━━━━━━━━━━━━\u001b[0m\u001b[37m\u001b[0m \u001b[1m21s\u001b[0m 2ms/step - loss: 355641056.0000 - mean_absolute_error: 11673.6270 - mean_absolute_percentage_error: 1735084416.0000 - val_loss: 344531872.0000 - val_mean_absolute_error: 11726.5176 - val_mean_absolute_percentage_error: 1725956352.0000\n",
            "Epoch 67/100\n",
            "\u001b[1m8432/8432\u001b[0m \u001b[32m━━━━━━━━━━━━━━━━━━━━\u001b[0m\u001b[37m\u001b[0m \u001b[1m21s\u001b[0m 2ms/step - loss: 362362368.0000 - mean_absolute_error: 11611.2217 - mean_absolute_percentage_error: 2418446848.0000 - val_loss: 334006848.0000 - val_mean_absolute_error: 11202.8672 - val_mean_absolute_percentage_error: 1710411904.0000\n",
            "Epoch 68/100\n",
            "\u001b[1m8432/8432\u001b[0m \u001b[32m━━━━━━━━━━━━━━━━━━━━\u001b[0m\u001b[37m\u001b[0m \u001b[1m22s\u001b[0m 3ms/step - loss: 370014304.0000 - mean_absolute_error: 11886.2031 - mean_absolute_percentage_error: 1916425600.0000 - val_loss: 424221824.0000 - val_mean_absolute_error: 12864.3105 - val_mean_absolute_percentage_error: 2338661376.0000\n",
            "Epoch 69/100\n",
            "\u001b[1m8432/8432\u001b[0m \u001b[32m━━━━━━━━━━━━━━━━━━━━\u001b[0m\u001b[37m\u001b[0m \u001b[1m19s\u001b[0m 2ms/step - loss: 363112992.0000 - mean_absolute_error: 11738.5020 - mean_absolute_percentage_error: 2656619776.0000 - val_loss: 316575008.0000 - val_mean_absolute_error: 11441.4736 - val_mean_absolute_percentage_error: 1791016832.0000\n",
            "Epoch 70/100\n",
            "\u001b[1m8432/8432\u001b[0m \u001b[32m━━━━━━━━━━━━━━━━━━━━\u001b[0m\u001b[37m\u001b[0m \u001b[1m20s\u001b[0m 2ms/step - loss: 352760832.0000 - mean_absolute_error: 11601.8027 - mean_absolute_percentage_error: 1837650304.0000 - val_loss: 345183744.0000 - val_mean_absolute_error: 11940.8076 - val_mean_absolute_percentage_error: 1843834368.0000\n",
            "Epoch 71/100\n",
            "\u001b[1m8432/8432\u001b[0m \u001b[32m━━━━━━━━━━━━━━━━━━━━\u001b[0m\u001b[37m\u001b[0m \u001b[1m21s\u001b[0m 2ms/step - loss: 355393856.0000 - mean_absolute_error: 11629.1719 - mean_absolute_percentage_error: 2690409728.0000 - val_loss: 349585664.0000 - val_mean_absolute_error: 11898.2705 - val_mean_absolute_percentage_error: 1794326272.0000\n",
            "Epoch 72/100\n",
            "\u001b[1m8432/8432\u001b[0m \u001b[32m━━━━━━━━━━━━━━━━━━━━\u001b[0m\u001b[37m\u001b[0m \u001b[1m20s\u001b[0m 2ms/step - loss: 365507488.0000 - mean_absolute_error: 11811.9658 - mean_absolute_percentage_error: 1574186752.0000 - val_loss: 360404800.0000 - val_mean_absolute_error: 11711.8164 - val_mean_absolute_percentage_error: 1587139584.0000\n",
            "Epoch 73/100\n",
            "\u001b[1m8432/8432\u001b[0m \u001b[32m━━━━━━━━━━━━━━━━━━━━\u001b[0m\u001b[37m\u001b[0m \u001b[1m24s\u001b[0m 3ms/step - loss: 372884928.0000 - mean_absolute_error: 11768.5840 - mean_absolute_percentage_error: 2130238848.0000 - val_loss: 355600832.0000 - val_mean_absolute_error: 11530.2842 - val_mean_absolute_percentage_error: 1688906880.0000\n",
            "Epoch 74/100\n",
            "\u001b[1m8432/8432\u001b[0m \u001b[32m━━━━━━━━━━━━━━━━━━━━\u001b[0m\u001b[37m\u001b[0m \u001b[1m42s\u001b[0m 3ms/step - loss: 356718592.0000 - mean_absolute_error: 11708.0518 - mean_absolute_percentage_error: 1814035456.0000 - val_loss: 337221184.0000 - val_mean_absolute_error: 10855.5684 - val_mean_absolute_percentage_error: 1220670080.0000\n",
            "Epoch 75/100\n",
            "\u001b[1m8432/8432\u001b[0m \u001b[32m━━━━━━━━━━━━━━━━━━━━\u001b[0m\u001b[37m\u001b[0m \u001b[1m20s\u001b[0m 2ms/step - loss: 365991424.0000 - mean_absolute_error: 11761.9580 - mean_absolute_percentage_error: 2099087744.0000 - val_loss: 352712672.0000 - val_mean_absolute_error: 11632.3242 - val_mean_absolute_percentage_error: 2162789632.0000\n",
            "Epoch 76/100\n",
            "\u001b[1m8432/8432\u001b[0m \u001b[32m━━━━━━━━━━━━━━━━━━━━\u001b[0m\u001b[37m\u001b[0m \u001b[1m20s\u001b[0m 2ms/step - loss: 359910368.0000 - mean_absolute_error: 11726.5986 - mean_absolute_percentage_error: 1910731008.0000 - val_loss: 342928512.0000 - val_mean_absolute_error: 11213.2217 - val_mean_absolute_percentage_error: 1838183296.0000\n",
            "Epoch 77/100\n",
            "\u001b[1m8432/8432\u001b[0m \u001b[32m━━━━━━━━━━━━━━━━━━━━\u001b[0m\u001b[37m\u001b[0m \u001b[1m22s\u001b[0m 3ms/step - loss: 362792928.0000 - mean_absolute_error: 11718.8818 - mean_absolute_percentage_error: 2125392896.0000 - val_loss: 339639360.0000 - val_mean_absolute_error: 11564.6309 - val_mean_absolute_percentage_error: 1753687808.0000\n",
            "Epoch 78/100\n",
            "\u001b[1m8432/8432\u001b[0m \u001b[32m━━━━━━━━━━━━━━━━━━━━\u001b[0m\u001b[37m\u001b[0m \u001b[1m20s\u001b[0m 2ms/step - loss: 361021952.0000 - mean_absolute_error: 11693.7803 - mean_absolute_percentage_error: 3049068544.0000 - val_loss: 387003008.0000 - val_mean_absolute_error: 11739.1504 - val_mean_absolute_percentage_error: 2264914944.0000\n",
            "Epoch 79/100\n",
            "\u001b[1m8432/8432\u001b[0m \u001b[32m━━━━━━━━━━━━━━━━━━━━\u001b[0m\u001b[37m\u001b[0m \u001b[1m23s\u001b[0m 3ms/step - loss: 357143776.0000 - mean_absolute_error: 11651.9766 - mean_absolute_percentage_error: 1850260992.0000 - val_loss: 398961920.0000 - val_mean_absolute_error: 12316.4756 - val_mean_absolute_percentage_error: 2352665600.0000\n",
            "Epoch 80/100\n",
            "\u001b[1m8432/8432\u001b[0m \u001b[32m━━━━━━━━━━━━━━━━━━━━\u001b[0m\u001b[37m\u001b[0m \u001b[1m20s\u001b[0m 2ms/step - loss: 357003264.0000 - mean_absolute_error: 11677.4951 - mean_absolute_percentage_error: 2814081536.0000 - val_loss: 330545440.0000 - val_mean_absolute_error: 11525.4893 - val_mean_absolute_percentage_error: 1757555328.0000\n",
            "Epoch 81/100\n",
            "\u001b[1m8432/8432\u001b[0m \u001b[32m━━━━━━━━━━━━━━━━━━━━\u001b[0m\u001b[37m\u001b[0m \u001b[1m20s\u001b[0m 2ms/step - loss: 356928288.0000 - mean_absolute_error: 11662.7949 - mean_absolute_percentage_error: 2038503680.0000 - val_loss: 334112928.0000 - val_mean_absolute_error: 11617.6953 - val_mean_absolute_percentage_error: 1943810432.0000\n",
            "Epoch 82/100\n",
            "\u001b[1m8432/8432\u001b[0m \u001b[32m━━━━━━━━━━━━━━━━━━━━\u001b[0m\u001b[37m\u001b[0m \u001b[1m24s\u001b[0m 3ms/step - loss: 359272672.0000 - mean_absolute_error: 11659.0039 - mean_absolute_percentage_error: 2549366016.0000 - val_loss: 397289856.0000 - val_mean_absolute_error: 12738.2949 - val_mean_absolute_percentage_error: 2454983424.0000\n",
            "Epoch 83/100\n",
            "\u001b[1m8432/8432\u001b[0m \u001b[32m━━━━━━━━━━━━━━━━━━━━\u001b[0m\u001b[37m\u001b[0m \u001b[1m19s\u001b[0m 2ms/step - loss: 354133216.0000 - mean_absolute_error: 11567.8662 - mean_absolute_percentage_error: 2302062336.0000 - val_loss: 320876224.0000 - val_mean_absolute_error: 10917.4121 - val_mean_absolute_percentage_error: 1650442880.0000\n",
            "Epoch 84/100\n",
            "\u001b[1m8432/8432\u001b[0m \u001b[32m━━━━━━━━━━━━━━━━━━━━\u001b[0m\u001b[37m\u001b[0m \u001b[1m23s\u001b[0m 3ms/step - loss: 360145152.0000 - mean_absolute_error: 11669.9121 - mean_absolute_percentage_error: 2251060224.0000 - val_loss: 388178752.0000 - val_mean_absolute_error: 12130.5869 - val_mean_absolute_percentage_error: 1529693312.0000\n",
            "Epoch 85/100\n",
            "\u001b[1m8432/8432\u001b[0m \u001b[32m━━━━━━━━━━━━━━━━━━━━\u001b[0m\u001b[37m\u001b[0m \u001b[1m20s\u001b[0m 2ms/step - loss: 355551296.0000 - mean_absolute_error: 11575.9160 - mean_absolute_percentage_error: 2113853568.0000 - val_loss: 321783456.0000 - val_mean_absolute_error: 11494.2686 - val_mean_absolute_percentage_error: 1867966464.0000\n",
            "Epoch 86/100\n",
            "\u001b[1m8432/8432\u001b[0m \u001b[32m━━━━━━━━━━━━━━━━━━━━\u001b[0m\u001b[37m\u001b[0m \u001b[1m19s\u001b[0m 2ms/step - loss: 347975616.0000 - mean_absolute_error: 11524.4053 - mean_absolute_percentage_error: 1908402688.0000 - val_loss: 342471904.0000 - val_mean_absolute_error: 11358.2031 - val_mean_absolute_percentage_error: 1756206336.0000\n",
            "Epoch 87/100\n",
            "\u001b[1m8432/8432\u001b[0m \u001b[32m━━━━━━━━━━━━━━━━━━━━\u001b[0m\u001b[37m\u001b[0m \u001b[1m23s\u001b[0m 3ms/step - loss: 352156288.0000 - mean_absolute_error: 11527.0977 - mean_absolute_percentage_error: 2663623424.0000 - val_loss: 328527072.0000 - val_mean_absolute_error: 11603.9424 - val_mean_absolute_percentage_error: 1867975424.0000\n",
            "Epoch 88/100\n",
            "\u001b[1m8432/8432\u001b[0m \u001b[32m━━━━━━━━━━━━━━━━━━━━\u001b[0m\u001b[37m\u001b[0m \u001b[1m37s\u001b[0m 2ms/step - loss: 347213120.0000 - mean_absolute_error: 11530.1895 - mean_absolute_percentage_error: 2330557184.0000 - val_loss: 328391968.0000 - val_mean_absolute_error: 11079.4619 - val_mean_absolute_percentage_error: 1571491456.0000\n",
            "Epoch 89/100\n",
            "\u001b[1m8432/8432\u001b[0m \u001b[32m━━━━━━━━━━━━━━━━━━━━\u001b[0m\u001b[37m\u001b[0m \u001b[1m21s\u001b[0m 2ms/step - loss: 355847488.0000 - mean_absolute_error: 11585.3652 - mean_absolute_percentage_error: 1786235392.0000 - val_loss: 323008480.0000 - val_mean_absolute_error: 10668.1230 - val_mean_absolute_percentage_error: 1265954688.0000\n",
            "Epoch 90/100\n",
            "\u001b[1m8432/8432\u001b[0m \u001b[32m━━━━━━━━━━━━━━━━━━━━\u001b[0m\u001b[37m\u001b[0m \u001b[1m19s\u001b[0m 2ms/step - loss: 352259712.0000 - mean_absolute_error: 11554.0342 - mean_absolute_percentage_error: 3028184576.0000 - val_loss: 318897344.0000 - val_mean_absolute_error: 11225.3564 - val_mean_absolute_percentage_error: 1552987648.0000\n",
            "Epoch 91/100\n",
            "\u001b[1m8432/8432\u001b[0m \u001b[32m━━━━━━━━━━━━━━━━━━━━\u001b[0m\u001b[37m\u001b[0m \u001b[1m21s\u001b[0m 2ms/step - loss: 348026624.0000 - mean_absolute_error: 11560.0479 - mean_absolute_percentage_error: 1625217152.0000 - val_loss: 313402368.0000 - val_mean_absolute_error: 10704.9375 - val_mean_absolute_percentage_error: 1261796736.0000\n",
            "Epoch 92/100\n",
            "\u001b[1m8432/8432\u001b[0m \u001b[32m━━━━━━━━━━━━━━━━━━━━\u001b[0m\u001b[37m\u001b[0m \u001b[1m21s\u001b[0m 2ms/step - loss: 345494656.0000 - mean_absolute_error: 11411.9004 - mean_absolute_percentage_error: 2299886848.0000 - val_loss: 354703808.0000 - val_mean_absolute_error: 11240.1289 - val_mean_absolute_percentage_error: 1937849344.0000\n",
            "Epoch 93/100\n",
            "\u001b[1m8432/8432\u001b[0m \u001b[32m━━━━━━━━━━━━━━━━━━━━\u001b[0m\u001b[37m\u001b[0m \u001b[1m20s\u001b[0m 2ms/step - loss: 350566656.0000 - mean_absolute_error: 11526.4219 - mean_absolute_percentage_error: 2666741504.0000 - val_loss: 326284032.0000 - val_mean_absolute_error: 10845.6816 - val_mean_absolute_percentage_error: 1439464832.0000\n",
            "Epoch 94/100\n",
            "\u001b[1m8432/8432\u001b[0m \u001b[32m━━━━━━━━━━━━━━━━━━━━\u001b[0m\u001b[37m\u001b[0m \u001b[1m20s\u001b[0m 2ms/step - loss: 348139744.0000 - mean_absolute_error: 11500.5234 - mean_absolute_percentage_error: 2175873536.0000 - val_loss: 328328320.0000 - val_mean_absolute_error: 11196.1221 - val_mean_absolute_percentage_error: 1593487104.0000\n",
            "Epoch 95/100\n",
            "\u001b[1m8432/8432\u001b[0m \u001b[32m━━━━━━━━━━━━━━━━━━━━\u001b[0m\u001b[37m\u001b[0m \u001b[1m21s\u001b[0m 2ms/step - loss: 345579328.0000 - mean_absolute_error: 11424.5205 - mean_absolute_percentage_error: 1782091648.0000 - val_loss: 309643520.0000 - val_mean_absolute_error: 10814.4121 - val_mean_absolute_percentage_error: 1586595968.0000\n",
            "Epoch 96/100\n",
            "\u001b[1m8432/8432\u001b[0m \u001b[32m━━━━━━━━━━━━━━━━━━━━\u001b[0m\u001b[37m\u001b[0m \u001b[1m21s\u001b[0m 2ms/step - loss: 340628032.0000 - mean_absolute_error: 11428.7910 - mean_absolute_percentage_error: 1349499392.0000 - val_loss: 343174304.0000 - val_mean_absolute_error: 11315.1377 - val_mean_absolute_percentage_error: 1444540416.0000\n",
            "Epoch 97/100\n",
            "\u001b[1m8432/8432\u001b[0m \u001b[32m━━━━━━━━━━━━━━━━━━━━\u001b[0m\u001b[37m\u001b[0m \u001b[1m40s\u001b[0m 2ms/step - loss: 347364384.0000 - mean_absolute_error: 11441.4346 - mean_absolute_percentage_error: 1964632320.0000 - val_loss: 316944384.0000 - val_mean_absolute_error: 11058.8398 - val_mean_absolute_percentage_error: 1536822272.0000\n",
            "Epoch 98/100\n",
            "\u001b[1m8432/8432\u001b[0m \u001b[32m━━━━━━━━━━━━━━━━━━━━\u001b[0m\u001b[37m\u001b[0m \u001b[1m22s\u001b[0m 3ms/step - loss: 355322432.0000 - mean_absolute_error: 11569.4580 - mean_absolute_percentage_error: 2016898560.0000 - val_loss: 342455744.0000 - val_mean_absolute_error: 10836.3799 - val_mean_absolute_percentage_error: 1445618432.0000\n",
            "Epoch 99/100\n",
            "\u001b[1m8432/8432\u001b[0m \u001b[32m━━━━━━━━━━━━━━━━━━━━\u001b[0m\u001b[37m\u001b[0m \u001b[1m20s\u001b[0m 2ms/step - loss: 357065312.0000 - mean_absolute_error: 11625.5166 - mean_absolute_percentage_error: 2147930880.0000 - val_loss: 344249056.0000 - val_mean_absolute_error: 11368.7510 - val_mean_absolute_percentage_error: 1492044288.0000\n",
            "Epoch 100/100\n",
            "\u001b[1m8432/8432\u001b[0m \u001b[32m━━━━━━━━━━━━━━━━━━━━\u001b[0m\u001b[37m\u001b[0m \u001b[1m20s\u001b[0m 2ms/step - loss: 357165536.0000 - mean_absolute_error: 11657.4551 - mean_absolute_percentage_error: 1784036992.0000 - val_loss: 406483680.0000 - val_mean_absolute_error: 12446.8330 - val_mean_absolute_percentage_error: 2245378816.0000\n"
          ]
        }
      ],
      "source": [
        "result5=model5.fit(x_train,y_train,epochs=100,validation_split=0.2,batch_size=32)"
      ]
    },
    {
      "cell_type": "code",
      "execution_count": null,
      "metadata": {
        "id": "oFu9FGB635_X"
      },
      "outputs": [],
      "source": [
        "result5_df=pd.DataFrame(result5.history)"
      ]
    },
    {
      "cell_type": "code",
      "execution_count": null,
      "metadata": {
        "colab": {
          "base_uri": "https://localhost:8080/",
          "height": 445
        },
        "id": "J4r6kI9I3580",
        "outputId": "efaff8ec-2487-48fe-897d-8fc52569f173"
      },
      "outputs": [
        {
          "data": {
            "image/png": "[encoded data removed]",
            "text/plain": [
              "<Figure size 640x480 with 1 Axes>"
            ]
          },
          "metadata": {},
          "output_type": "display_data"
        }
      ],
      "source": [
        "plt.plot(range(1,101),result5_df['loss'],label=\"train_loss\")\n",
        "plt.plot(range(1,101),result5_df['val_loss'],label=\"val_loss\")\n",
        "plt.legend()\n",
        "plt.show()"
      ]
    },
    {
      "cell_type": "code",
      "execution_count": null,
      "metadata": {
        "id": "RdhwLw_W3558"
      },
      "outputs": [],
      "source": [
        "result5.iloc[-1]"
      ]
    },
    {
      "cell_type": "code",
      "execution_count": null,
      "metadata": {
        "id": "h2KckqdB4UyF"
      },
      "outputs": [],
      "source": [
        "model5.evaluate(x_test, y_test)"
      ]
    },
    {
      "cell_type": "code",
      "execution_count": null,
      "metadata": {
        "id": "33bBLAOVCJtE"
      },
      "outputs": [],
      "source": []
    },
    {
      "cell_type": "code",
      "execution_count": 24,
      "metadata": {
        "id": "jHXocD3Xgj1b"
      },
      "outputs": [],
      "source": []
    },
    {
      "cell_type": "code",
      "execution_count": null,
      "metadata": {
        "id": "Y59Axp8_DERU"
      },
      "outputs": [],
      "source": [
        "###dropout"
      ]
    },
    {
      "cell_type": "code",
      "execution_count": null,
      "metadata": {
        "colab": {
          "base_uri": "https://localhost:8080/"
        },
        "id": "aq_ENvoADEjH",
        "outputId": "f31b4d3e-f671-4972-8e8a-14a1d2fc40bd"
      },
      "outputs": [
        {
          "metadata": {
            "tags": null
          },
          "name": "stderr",
          "output_type": "stream",
          "text": [
            "/usr/local/lib/python3.10/dist-packages/keras/src/layers/activations/leaky_relu.py:41: UserWarning: Argument `alpha` is deprecated. Use `negative_slope` instead.\n",
            "  warnings.warn(\n",
            "/usr/local/lib/python3.10/dist-packages/keras/src/layers/core/dense.py:87: UserWarning: Do not pass an `input_shape`/`input_dim` argument to a layer. When using Sequential models, prefer using an `Input(shape)` object as the first layer in the model instead.\n",
            "  super().__init__(activity_regularizer=activity_regularizer, **kwargs)\n"
          ]
        },
        {
          "output_type": "stream",
          "name": "stdout",
          "text": [
            "Epoch 1/100\n",
            "\u001b[1m8432/8432\u001b[0m \u001b[32m━━━━━━━━━━━━━━━━━━━━\u001b[0m\u001b[37m\u001b[0m \u001b[1m29s\u001b[0m 3ms/step - loss: 477482880.0000 - mean_absolute_error: 14085.1025 - mean_absolute_percentage_error: 2128059392.0000 - val_loss: 414586720.0000 - val_mean_absolute_error: 12502.8916 - val_mean_absolute_percentage_error: 2614962176.0000\n",
            "Epoch 2/100\n",
            "\u001b[1m8432/8432\u001b[0m \u001b[32m━━━━━━━━━━━━━━━━━━━━\u001b[0m\u001b[37m\u001b[0m \u001b[1m44s\u001b[0m 4ms/step - loss: 393065536.0000 - mean_absolute_error: 12379.1875 - mean_absolute_percentage_error: 1474578432.0000 - val_loss: 398642496.0000 - val_mean_absolute_error: 12221.3008 - val_mean_absolute_percentage_error: 2404356864.0000\n",
            "Epoch 3/100\n",
            "\u001b[1m8432/8432\u001b[0m \u001b[32m━━━━━━━━━━━━━━━━━━━━\u001b[0m\u001b[37m\u001b[0m \u001b[1m40s\u001b[0m 3ms/step - loss: 378591744.0000 - mean_absolute_error: 12119.4512 - mean_absolute_percentage_error: 1683837440.0000 - val_loss: 391721184.0000 - val_mean_absolute_error: 12115.4863 - val_mean_absolute_percentage_error: 2457815040.0000\n",
            "Epoch 4/100\n",
            "\u001b[1m8432/8432\u001b[0m \u001b[32m━━━━━━━━━━━━━━━━━━━━\u001b[0m\u001b[37m\u001b[0m \u001b[1m25s\u001b[0m 3ms/step - loss: 372125184.0000 - mean_absolute_error: 11985.8193 - mean_absolute_percentage_error: 1838165760.0000 - val_loss: 387708864.0000 - val_mean_absolute_error: 11873.2969 - val_mean_absolute_percentage_error: 2310224384.0000\n",
            "Epoch 5/100\n",
            "\u001b[1m8432/8432\u001b[0m \u001b[32m━━━━━━━━━━━━━━━━━━━━\u001b[0m\u001b[37m\u001b[0m \u001b[1m28s\u001b[0m 3ms/step - loss: 368153696.0000 - mean_absolute_error: 11873.0469 - mean_absolute_percentage_error: 1387706368.0000 - val_loss: 383534112.0000 - val_mean_absolute_error: 11764.0918 - val_mean_absolute_percentage_error: 2396643328.0000\n",
            "Epoch 6/100\n",
            "\u001b[1m8432/8432\u001b[0m \u001b[32m━━━━━━━━━━━━━━━━━━━━\u001b[0m\u001b[37m\u001b[0m \u001b[1m31s\u001b[0m 4ms/step - loss: 362798016.0000 - mean_absolute_error: 11767.7578 - mean_absolute_percentage_error: 2194159872.0000 - val_loss: 375821920.0000 - val_mean_absolute_error: 11911.0000 - val_mean_absolute_percentage_error: 2461716224.0000\n",
            "Epoch 7/100\n",
            "\u001b[1m8432/8432\u001b[0m \u001b[32m━━━━━━━━━━━━━━━━━━━━\u001b[0m\u001b[37m\u001b[0m \u001b[1m40s\u001b[0m 4ms/step - loss: 355933120.0000 - mean_absolute_error: 11612.8350 - mean_absolute_percentage_error: 1769144832.0000 - val_loss: 365126432.0000 - val_mean_absolute_error: 11857.0928 - val_mean_absolute_percentage_error: 2527536384.0000\n",
            "Epoch 8/100\n",
            "\u001b[1m8432/8432\u001b[0m \u001b[32m━━━━━━━━━━━━━━━━━━━━\u001b[0m\u001b[37m\u001b[0m \u001b[1m36s\u001b[0m 3ms/step - loss: 340482816.0000 - mean_absolute_error: 11400.6846 - mean_absolute_percentage_error: 2091472896.0000 - val_loss: 344848320.0000 - val_mean_absolute_error: 11154.1553 - val_mean_absolute_percentage_error: 2073709056.0000\n",
            "Epoch 9/100\n",
            "\u001b[1m8432/8432\u001b[0m \u001b[32m━━━━━━━━━━━━━━━━━━━━\u001b[0m\u001b[37m\u001b[0m \u001b[1m43s\u001b[0m 3ms/step - loss: 324518592.0000 - mean_absolute_error: 11097.4131 - mean_absolute_percentage_error: 2039862656.0000 - val_loss: 313629504.0000 - val_mean_absolute_error: 10929.3369 - val_mean_absolute_percentage_error: 2183180544.0000\n",
            "Epoch 10/100\n",
            "\u001b[1m8432/8432\u001b[0m \u001b[32m━━━━━━━━━━━━━━━━━━━━\u001b[0m\u001b[37m\u001b[0m \u001b[1m34s\u001b[0m 4ms/step - loss: 293054304.0000 - mean_absolute_error: 10738.5732 - mean_absolute_percentage_error: 1917780096.0000 - val_loss: 286096480.0000 - val_mean_absolute_error: 10237.0830 - val_mean_absolute_percentage_error: 1993822720.0000\n",
            "Epoch 11/100\n",
            "\u001b[1m8432/8432\u001b[0m \u001b[32m━━━━━━━━━━━━━━━━━━━━\u001b[0m\u001b[37m\u001b[0m \u001b[1m36s\u001b[0m 3ms/step - loss: 272887360.0000 - mean_absolute_error: 10292.4121 - mean_absolute_percentage_error: 1791232896.0000 - val_loss: 283756576.0000 - val_mean_absolute_error: 10560.5957 - val_mean_absolute_percentage_error: 2590856192.0000\n",
            "Epoch 12/100\n",
            "\u001b[1m8432/8432\u001b[0m \u001b[32m━━━━━━━━━━━━━━━━━━━━\u001b[0m\u001b[37m\u001b[0m \u001b[1m40s\u001b[0m 3ms/step - loss: 260744272.0000 - mean_absolute_error: 10085.1328 - mean_absolute_percentage_error: 1975053440.0000 - val_loss: 279264896.0000 - val_mean_absolute_error: 9954.3770 - val_mean_absolute_percentage_error: 1852440576.0000\n",
            "Epoch 13/100\n",
            "\u001b[1m8432/8432\u001b[0m \u001b[32m━━━━━━━━━━━━━━━━━━━━\u001b[0m\u001b[37m\u001b[0m \u001b[1m28s\u001b[0m 3ms/step - loss: 256983120.0000 - mean_absolute_error: 9982.6514 - mean_absolute_percentage_error: 2705644032.0000 - val_loss: 275380928.0000 - val_mean_absolute_error: 9725.3652 - val_mean_absolute_percentage_error: 1887418112.0000\n",
            "Epoch 14/100\n",
            "\u001b[1m8432/8432\u001b[0m \u001b[32m━━━━━━━━━━━━━━━━━━━━\u001b[0m\u001b[37m\u001b[0m \u001b[1m40s\u001b[0m 3ms/step - loss: 250127968.0000 - mean_absolute_error: 9868.2627 - mean_absolute_percentage_error: 1398077696.0000 - val_loss: 262288256.0000 - val_mean_absolute_error: 9991.0654 - val_mean_absolute_percentage_error: 2381463296.0000\n",
            "Epoch 15/100\n",
            "\u001b[1m8432/8432\u001b[0m \u001b[32m━━━━━━━━━━━━━━━━━━━━\u001b[0m\u001b[37m\u001b[0m \u001b[1m28s\u001b[0m 3ms/step - loss: 249891296.0000 - mean_absolute_error: 9815.2539 - mean_absolute_percentage_error: 1306653952.0000 - val_loss: 268384784.0000 - val_mean_absolute_error: 9687.7744 - val_mean_absolute_percentage_error: 1795803392.0000\n",
            "Epoch 16/100\n",
            "\u001b[1m8432/8432\u001b[0m \u001b[32m━━━━━━━━━━━━━━━━━━━━\u001b[0m\u001b[37m\u001b[0m \u001b[1m42s\u001b[0m 3ms/step - loss: 247883520.0000 - mean_absolute_error: 9768.3359 - mean_absolute_percentage_error: 1800630272.0000 - val_loss: 255899920.0000 - val_mean_absolute_error: 9632.6514 - val_mean_absolute_percentage_error: 2010307456.0000\n",
            "Epoch 17/100\n",
            "\u001b[1m8432/8432\u001b[0m \u001b[32m━━━━━━━━━━━━━━━━━━━━\u001b[0m\u001b[37m\u001b[0m \u001b[1m31s\u001b[0m 4ms/step - loss: 240814368.0000 - mean_absolute_error: 9641.1484 - mean_absolute_percentage_error: 1734827648.0000 - val_loss: 260281856.0000 - val_mean_absolute_error: 10158.0850 - val_mean_absolute_percentage_error: 2327405312.0000\n",
            "Epoch 18/100\n",
            "\u001b[1m8432/8432\u001b[0m \u001b[32m━━━━━━━━━━━━━━━━━━━━\u001b[0m\u001b[37m\u001b[0m \u001b[1m31s\u001b[0m 4ms/step - loss: 240722624.0000 - mean_absolute_error: 9606.0303 - mean_absolute_percentage_error: 1459606144.0000 - val_loss: 256948864.0000 - val_mean_absolute_error: 9648.9434 - val_mean_absolute_percentage_error: 1900804352.0000\n",
            "Epoch 19/100\n",
            "\u001b[1m8432/8432\u001b[0m \u001b[32m━━━━━━━━━━━━━━━━━━━━\u001b[0m\u001b[37m\u001b[0m \u001b[1m40s\u001b[0m 4ms/step - loss: 236130128.0000 - mean_absolute_error: 9560.8457 - mean_absolute_percentage_error: 1314359680.0000 - val_loss: 245675408.0000 - val_mean_absolute_error: 9472.6436 - val_mean_absolute_percentage_error: 2077465984.0000\n",
            "Epoch 20/100\n",
            "\u001b[1m8432/8432\u001b[0m \u001b[32m━━━━━━━━━━━━━━━━━━━━\u001b[0m\u001b[37m\u001b[0m \u001b[1m40s\u001b[0m 3ms/step - loss: 227575200.0000 - mean_absolute_error: 9433.9355 - mean_absolute_percentage_error: 1786135296.0000 - val_loss: 237751936.0000 - val_mean_absolute_error: 9294.9834 - val_mean_absolute_percentage_error: 1992519168.0000\n",
            "Epoch 21/100\n",
            "\u001b[1m8432/8432\u001b[0m \u001b[32m━━━━━━━━━━━━━━━━━━━━\u001b[0m\u001b[37m\u001b[0m \u001b[1m30s\u001b[0m 4ms/step - loss: 226994800.0000 - mean_absolute_error: 9344.1875 - mean_absolute_percentage_error: 1349719040.0000 - val_loss: 238986896.0000 - val_mean_absolute_error: 9495.3984 - val_mean_absolute_percentage_error: 1928822656.0000\n",
            "Epoch 22/100\n",
            "\u001b[1m8432/8432\u001b[0m \u001b[32m━━━━━━━━━━━━━━━━━━━━\u001b[0m\u001b[37m\u001b[0m \u001b[1m41s\u001b[0m 4ms/step - loss: 220749728.0000 - mean_absolute_error: 9257.9248 - mean_absolute_percentage_error: 1034494400.0000 - val_loss: 233102528.0000 - val_mean_absolute_error: 9336.2529 - val_mean_absolute_percentage_error: 1957764352.0000\n",
            "Epoch 23/100\n",
            "\u001b[1m8432/8432\u001b[0m \u001b[32m━━━━━━━━━━━━━━━━━━━━\u001b[0m\u001b[37m\u001b[0m \u001b[1m44s\u001b[0m 4ms/step - loss: 220082272.0000 - mean_absolute_error: 9168.9131 - mean_absolute_percentage_error: 1703821952.0000 - val_loss: 233571824.0000 - val_mean_absolute_error: 9034.9414 - val_mean_absolute_percentage_error: 1673909504.0000\n",
            "Epoch 24/100\n",
            "\u001b[1m8432/8432\u001b[0m \u001b[32m━━━━━━━━━━━━━━━━━━━━\u001b[0m\u001b[37m\u001b[0m \u001b[1m31s\u001b[0m 4ms/step - loss: 218035648.0000 - mean_absolute_error: 9079.5449 - mean_absolute_percentage_error: 1029215488.0000 - val_loss: 233866512.0000 - val_mean_absolute_error: 9090.1699 - val_mean_absolute_percentage_error: 1870626176.0000\n",
            "Epoch 25/100\n",
            "\u001b[1m8432/8432\u001b[0m \u001b[32m━━━━━━━━━━━━━━━━━━━━\u001b[0m\u001b[37m\u001b[0m \u001b[1m32s\u001b[0m 4ms/step - loss: 209615408.0000 - mean_absolute_error: 8936.7061 - mean_absolute_percentage_error: 1591933824.0000 - val_loss: 229522032.0000 - val_mean_absolute_error: 8986.0459 - val_mean_absolute_percentage_error: 1916139520.0000\n",
            "Epoch 26/100\n",
            "\u001b[1m8432/8432\u001b[0m \u001b[32m━━━━━━━━━━━━━━━━━━━━\u001b[0m\u001b[37m\u001b[0m \u001b[1m28s\u001b[0m 3ms/step - loss: 213356320.0000 - mean_absolute_error: 8980.7393 - mean_absolute_percentage_error: 1100645760.0000 - val_loss: 227195104.0000 - val_mean_absolute_error: 9087.0039 - val_mean_absolute_percentage_error: 2026301696.0000\n",
            "Epoch 27/100\n",
            "\u001b[1m8432/8432\u001b[0m \u001b[32m━━━━━━━━━━━━━━━━━━━━\u001b[0m\u001b[37m\u001b[0m \u001b[1m46s\u001b[0m 4ms/step - loss: 207368640.0000 - mean_absolute_error: 8834.6426 - mean_absolute_percentage_error: 953745856.0000 - val_loss: 218433088.0000 - val_mean_absolute_error: 8702.2246 - val_mean_absolute_percentage_error: 1695452544.0000\n",
            "Epoch 28/100\n",
            "\u001b[1m8432/8432\u001b[0m \u001b[32m━━━━━━━━━━━━━━━━━━━━\u001b[0m\u001b[37m\u001b[0m \u001b[1m31s\u001b[0m 4ms/step - loss: 200564032.0000 - mean_absolute_error: 8747.4473 - mean_absolute_percentage_error: 1143724288.0000 - val_loss: 213908544.0000 - val_mean_absolute_error: 9051.3047 - val_mean_absolute_percentage_error: 2071591680.0000\n",
            "Epoch 29/100\n",
            "\u001b[1m8432/8432\u001b[0m \u001b[32m━━━━━━━━━━━━━━━━━━━━\u001b[0m\u001b[37m\u001b[0m \u001b[1m30s\u001b[0m 4ms/step - loss: 199033520.0000 - mean_absolute_error: 8668.2676 - mean_absolute_percentage_error: 2509920512.0000 - val_loss: 208643920.0000 - val_mean_absolute_error: 8646.0752 - val_mean_absolute_percentage_error: 1670713600.0000\n",
            "Epoch 30/100\n",
            "\u001b[1m8432/8432\u001b[0m \u001b[32m━━━━━━━━━━━━━━━━━━━━\u001b[0m\u001b[37m\u001b[0m \u001b[1m30s\u001b[0m 3ms/step - loss: 194795344.0000 - mean_absolute_error: 8589.0801 - mean_absolute_percentage_error: 878531200.0000 - val_loss: 204822384.0000 - val_mean_absolute_error: 8518.3350 - val_mean_absolute_percentage_error: 1616230272.0000\n",
            "Epoch 31/100\n",
            "\u001b[1m8432/8432\u001b[0m \u001b[32m━━━━━━━━━━━━━━━━━━━━\u001b[0m\u001b[37m\u001b[0m \u001b[1m41s\u001b[0m 3ms/step - loss: 192113008.0000 - mean_absolute_error: 8515.8545 - mean_absolute_percentage_error: 1107951744.0000 - val_loss: 201652736.0000 - val_mean_absolute_error: 8412.3945 - val_mean_absolute_percentage_error: 1746219392.0000\n",
            "Epoch 32/100\n",
            "\u001b[1m8432/8432\u001b[0m \u001b[32m━━━━━━━━━━━━━━━━━━━━\u001b[0m\u001b[37m\u001b[0m \u001b[1m43s\u001b[0m 4ms/step - loss: 197450800.0000 - mean_absolute_error: 8508.9600 - mean_absolute_percentage_error: 1192362240.0000 - val_loss: 200843408.0000 - val_mean_absolute_error: 8419.8594 - val_mean_absolute_percentage_error: 1723571328.0000\n",
            "Epoch 33/100\n",
            "\u001b[1m8432/8432\u001b[0m \u001b[32m━━━━━━━━━━━━━━━━━━━━\u001b[0m\u001b[37m\u001b[0m \u001b[1m34s\u001b[0m 4ms/step - loss: 187101072.0000 - mean_absolute_error: 8411.2041 - mean_absolute_percentage_error: 756577344.0000 - val_loss: 201031824.0000 - val_mean_absolute_error: 8488.9297 - val_mean_absolute_percentage_error: 1941087744.0000\n",
            "Epoch 34/100\n",
            "\u001b[1m8432/8432\u001b[0m \u001b[32m━━━━━━━━━━━━━━━━━━━━\u001b[0m\u001b[37m\u001b[0m \u001b[1m37s\u001b[0m 4ms/step - loss: 181955856.0000 - mean_absolute_error: 8335.2891 - mean_absolute_percentage_error: 1605907968.0000 - val_loss: 196187440.0000 - val_mean_absolute_error: 8419.4512 - val_mean_absolute_percentage_error: 1766763648.0000\n",
            "Epoch 35/100\n",
            "\u001b[1m8432/8432\u001b[0m \u001b[32m━━━━━━━━━━━━━━━━━━━━\u001b[0m\u001b[37m\u001b[0m \u001b[1m44s\u001b[0m 4ms/step - loss: 185969168.0000 - mean_absolute_error: 8370.6494 - mean_absolute_percentage_error: 1033665024.0000 - val_loss: 192147056.0000 - val_mean_absolute_error: 8286.4619 - val_mean_absolute_percentage_error: 1805176704.0000\n",
            "Epoch 36/100\n",
            "\u001b[1m8432/8432\u001b[0m \u001b[32m━━━━━━━━━━━━━━━━━━━━\u001b[0m\u001b[37m\u001b[0m \u001b[1m40s\u001b[0m 4ms/step - loss: 178346880.0000 - mean_absolute_error: 8252.6562 - mean_absolute_percentage_error: 1184272896.0000 - val_loss: 190044960.0000 - val_mean_absolute_error: 8330.8691 - val_mean_absolute_percentage_error: 1915172608.0000\n",
            "Epoch 37/100\n",
            "\u001b[1m8432/8432\u001b[0m \u001b[32m━━━━━━━━━━━━━━━━━━━━\u001b[0m\u001b[37m\u001b[0m \u001b[1m39s\u001b[0m 4ms/step - loss: 175308944.0000 - mean_absolute_error: 8196.9512 - mean_absolute_percentage_error: 1347327616.0000 - val_loss: 197565792.0000 - val_mean_absolute_error: 8572.0381 - val_mean_absolute_percentage_error: 1874183552.0000\n",
            "Epoch 38/100\n",
            "\u001b[1m8432/8432\u001b[0m \u001b[32m━━━━━━━━━━━━━━━━━━━━\u001b[0m\u001b[37m\u001b[0m \u001b[1m30s\u001b[0m 4ms/step - loss: 176611664.0000 - mean_absolute_error: 8207.9912 - mean_absolute_percentage_error: 1264226688.0000 - val_loss: 197568736.0000 - val_mean_absolute_error: 8377.7100 - val_mean_absolute_percentage_error: 1909130496.0000\n",
            "Epoch 39/100\n",
            "\u001b[1m8432/8432\u001b[0m \u001b[32m━━━━━━━━━━━━━━━━━━━━\u001b[0m\u001b[37m\u001b[0m \u001b[1m33s\u001b[0m 4ms/step - loss: 177929248.0000 - mean_absolute_error: 8196.3896 - mean_absolute_percentage_error: 1643346816.0000 - val_loss: 197456720.0000 - val_mean_absolute_error: 8280.1689 - val_mean_absolute_percentage_error: 1920256384.0000\n",
            "Epoch 40/100\n",
            "\u001b[1m8432/8432\u001b[0m \u001b[32m━━━━━━━━━━━━━━━━━━━━\u001b[0m\u001b[37m\u001b[0m \u001b[1m37s\u001b[0m 4ms/step - loss: 174735392.0000 - mean_absolute_error: 8138.7983 - mean_absolute_percentage_error: 1443626752.0000 - val_loss: 186926944.0000 - val_mean_absolute_error: 8185.8325 - val_mean_absolute_percentage_error: 1940257408.0000\n",
            "Epoch 41/100\n",
            "\u001b[1m8432/8432\u001b[0m \u001b[32m━━━━━━━━━━━━━━━━━━━━\u001b[0m\u001b[37m\u001b[0m \u001b[1m31s\u001b[0m 4ms/step - loss: 171435808.0000 - mean_absolute_error: 8095.4766 - mean_absolute_percentage_error: 1593158656.0000 - val_loss: 189918848.0000 - val_mean_absolute_error: 8106.4731 - val_mean_absolute_percentage_error: 1660253312.0000\n",
            "Epoch 42/100\n",
            "\u001b[1m8432/8432\u001b[0m \u001b[32m━━━━━━━━━━━━━━━━━━━━\u001b[0m\u001b[37m\u001b[0m \u001b[1m44s\u001b[0m 4ms/step - loss: 172217168.0000 - mean_absolute_error: 8077.8105 - mean_absolute_percentage_error: 1651685504.0000 - val_loss: 175570208.0000 - val_mean_absolute_error: 7930.9531 - val_mean_absolute_percentage_error: 2002419712.0000\n",
            "Epoch 43/100\n",
            "\u001b[1m8432/8432\u001b[0m \u001b[32m━━━━━━━━━━━━━━━━━━━━\u001b[0m\u001b[37m\u001b[0m \u001b[1m40s\u001b[0m 4ms/step - loss: 165104400.0000 - mean_absolute_error: 7987.9189 - mean_absolute_percentage_error: 1207934592.0000 - val_loss: 185261056.0000 - val_mean_absolute_error: 8198.5332 - val_mean_absolute_percentage_error: 2103703552.0000\n",
            "Epoch 44/100\n",
            "\u001b[1m8432/8432\u001b[0m \u001b[32m━━━━━━━━━━━━━━━━━━━━\u001b[0m\u001b[37m\u001b[0m \u001b[1m29s\u001b[0m 3ms/step - loss: 168336864.0000 - mean_absolute_error: 7991.2178 - mean_absolute_percentage_error: 1848709504.0000 - val_loss: 176860848.0000 - val_mean_absolute_error: 7807.8701 - val_mean_absolute_percentage_error: 1949081728.0000\n",
            "Epoch 45/100\n",
            "\u001b[1m8432/8432\u001b[0m \u001b[32m━━━━━━━━━━━━━━━━━━━━\u001b[0m\u001b[37m\u001b[0m \u001b[1m45s\u001b[0m 4ms/step - loss: 166488832.0000 - mean_absolute_error: 7898.0894 - mean_absolute_percentage_error: 1183541120.0000 - val_loss: 196206720.0000 - val_mean_absolute_error: 8061.7417 - val_mean_absolute_percentage_error: 1916620032.0000\n",
            "Epoch 46/100\n",
            "\u001b[1m8432/8432\u001b[0m \u001b[32m━━━━━━━━━━━━━━━━━━━━\u001b[0m\u001b[37m\u001b[0m \u001b[1m41s\u001b[0m 4ms/step - loss: 164856096.0000 - mean_absolute_error: 7884.2212 - mean_absolute_percentage_error: 1024266496.0000 - val_loss: 173902368.0000 - val_mean_absolute_error: 7711.1147 - val_mean_absolute_percentage_error: 1901092992.0000\n",
            "Epoch 47/100\n",
            "\u001b[1m8432/8432\u001b[0m \u001b[32m━━━━━━━━━━━━━━━━━━━━\u001b[0m\u001b[37m\u001b[0m \u001b[1m40s\u001b[0m 4ms/step - loss: 164029584.0000 - mean_absolute_error: 7826.8350 - mean_absolute_percentage_error: 1166996480.0000 - val_loss: 190307664.0000 - val_mean_absolute_error: 8206.2412 - val_mean_absolute_percentage_error: 2016708992.0000\n",
            "Epoch 48/100\n",
            "\u001b[1m8432/8432\u001b[0m \u001b[32m━━━━━━━━━━━━━━━━━━━━\u001b[0m\u001b[37m\u001b[0m \u001b[1m34s\u001b[0m 4ms/step - loss: 163008704.0000 - mean_absolute_error: 7801.0547 - mean_absolute_percentage_error: 1331871744.0000 - val_loss: 165719312.0000 - val_mean_absolute_error: 7752.3599 - val_mean_absolute_percentage_error: 2267064064.0000\n",
            "Epoch 49/100\n",
            "\u001b[1m8432/8432\u001b[0m \u001b[32m━━━━━━━━━━━━━━━━━━━━\u001b[0m\u001b[37m\u001b[0m \u001b[1m32s\u001b[0m 4ms/step - loss: 159953232.0000 - mean_absolute_error: 7719.3491 - mean_absolute_percentage_error: 1013286848.0000 - val_loss: 178087696.0000 - val_mean_absolute_error: 7825.5513 - val_mean_absolute_percentage_error: 2255837952.0000\n",
            "Epoch 50/100\n",
            "\u001b[1m8432/8432\u001b[0m \u001b[32m━━━━━━━━━━━━━━━━━━━━\u001b[0m\u001b[37m\u001b[0m \u001b[1m41s\u001b[0m 4ms/step - loss: 158866208.0000 - mean_absolute_error: 7672.9990 - mean_absolute_percentage_error: 1567003904.0000 - val_loss: 180677712.0000 - val_mean_absolute_error: 7956.0234 - val_mean_absolute_percentage_error: 2131336448.0000\n",
            "Epoch 51/100\n",
            "\u001b[1m8432/8432\u001b[0m \u001b[32m━━━━━━━━━━━━━━━━━━━━\u001b[0m\u001b[37m\u001b[0m \u001b[1m35s\u001b[0m 4ms/step - loss: 156244800.0000 - mean_absolute_error: 7663.2095 - mean_absolute_percentage_error: 1729160064.0000 - val_loss: 173816512.0000 - val_mean_absolute_error: 7884.6396 - val_mean_absolute_percentage_error: 2278685952.0000\n",
            "Epoch 52/100\n",
            "\u001b[1m8432/8432\u001b[0m \u001b[32m━━━━━━━━━━━━━━━━━━━━\u001b[0m\u001b[37m\u001b[0m \u001b[1m38s\u001b[0m 4ms/step - loss: 154778672.0000 - mean_absolute_error: 7635.4121 - mean_absolute_percentage_error: 1099874944.0000 - val_loss: 170804512.0000 - val_mean_absolute_error: 7991.4219 - val_mean_absolute_percentage_error: 2411143168.0000\n",
            "Epoch 53/100\n",
            "\u001b[1m8432/8432\u001b[0m \u001b[32m━━━━━━━━━━━━━━━━━━━━\u001b[0m\u001b[37m\u001b[0m \u001b[1m42s\u001b[0m 4ms/step - loss: 155879040.0000 - mean_absolute_error: 7634.2246 - mean_absolute_percentage_error: 1263352832.0000 - val_loss: 192065360.0000 - val_mean_absolute_error: 7899.3232 - val_mean_absolute_percentage_error: 1959453440.0000\n",
            "Epoch 54/100\n",
            "\u001b[1m8432/8432\u001b[0m \u001b[32m━━━━━━━━━━━━━━━━━━━━\u001b[0m\u001b[37m\u001b[0m \u001b[1m37s\u001b[0m 4ms/step - loss: 150935088.0000 - mean_absolute_error: 7564.2368 - mean_absolute_percentage_error: 1058322432.0000 - val_loss: 162410944.0000 - val_mean_absolute_error: 7685.5381 - val_mean_absolute_percentage_error: 2225977600.0000\n",
            "Epoch 55/100\n",
            "\u001b[1m8432/8432\u001b[0m \u001b[32m━━━━━━━━━━━━━━━━━━━━\u001b[0m\u001b[37m\u001b[0m \u001b[1m30s\u001b[0m 4ms/step - loss: 151968352.0000 - mean_absolute_error: 7553.2231 - mean_absolute_percentage_error: 1421147136.0000 - val_loss: 161755136.0000 - val_mean_absolute_error: 7537.1733 - val_mean_absolute_percentage_error: 2019723264.0000\n",
            "Epoch 56/100\n",
            "\u001b[1m8432/8432\u001b[0m \u001b[32m━━━━━━━━━━━━━━━━━━━━\u001b[0m\u001b[37m\u001b[0m \u001b[1m41s\u001b[0m 4ms/step - loss: 150551696.0000 - mean_absolute_error: 7498.3472 - mean_absolute_percentage_error: 1416321024.0000 - val_loss: 166113696.0000 - val_mean_absolute_error: 7526.4004 - val_mean_absolute_percentage_error: 1902524544.0000\n",
            "Epoch 57/100\n",
            "\u001b[1m8432/8432\u001b[0m \u001b[32m━━━━━━━━━━━━━━━━━━━━\u001b[0m\u001b[37m\u001b[0m \u001b[1m30s\u001b[0m 4ms/step - loss: 152780832.0000 - mean_absolute_error: 7520.1753 - mean_absolute_percentage_error: 1321047296.0000 - val_loss: 172880672.0000 - val_mean_absolute_error: 7599.9775 - val_mean_absolute_percentage_error: 1983010432.0000\n",
            "Epoch 58/100\n",
            "\u001b[1m8432/8432\u001b[0m \u001b[32m━━━━━━━━━━━━━━━━━━━━\u001b[0m\u001b[37m\u001b[0m \u001b[1m43s\u001b[0m 4ms/step - loss: 149229968.0000 - mean_absolute_error: 7495.5146 - mean_absolute_percentage_error: 1363624576.0000 - val_loss: 157734896.0000 - val_mean_absolute_error: 7431.0015 - val_mean_absolute_percentage_error: 2348341248.0000\n",
            "Epoch 59/100\n",
            "\u001b[1m8432/8432\u001b[0m \u001b[32m━━━━━━━━━━━━━━━━━━━━\u001b[0m\u001b[37m\u001b[0m \u001b[1m41s\u001b[0m 4ms/step - loss: 147315984.0000 - mean_absolute_error: 7431.7944 - mean_absolute_percentage_error: 929523904.0000 - val_loss: 159979344.0000 - val_mean_absolute_error: 7523.5132 - val_mean_absolute_percentage_error: 2116327424.0000\n",
            "Epoch 60/100\n",
            "\u001b[1m8432/8432\u001b[0m \u001b[32m━━━━━━━━━━━━━━━━━━━━\u001b[0m\u001b[37m\u001b[0m \u001b[1m33s\u001b[0m 4ms/step - loss: 147872080.0000 - mean_absolute_error: 7420.6372 - mean_absolute_percentage_error: 1663979136.0000 - val_loss: 163413440.0000 - val_mean_absolute_error: 7380.9243 - val_mean_absolute_percentage_error: 2352742400.0000\n",
            "Epoch 61/100\n",
            "\u001b[1m8432/8432\u001b[0m \u001b[32m━━━━━━━━━━━━━━━━━━━━\u001b[0m\u001b[37m\u001b[0m \u001b[1m41s\u001b[0m 4ms/step - loss: 149991808.0000 - mean_absolute_error: 7435.3594 - mean_absolute_percentage_error: 2285564672.0000 - val_loss: 162298416.0000 - val_mean_absolute_error: 7432.3062 - val_mean_absolute_percentage_error: 2112006784.0000\n",
            "Epoch 62/100\n",
            "\u001b[1m8432/8432\u001b[0m \u001b[32m━━━━━━━━━━━━━━━━━━━━\u001b[0m\u001b[37m\u001b[0m \u001b[1m31s\u001b[0m 4ms/step - loss: 151602832.0000 - mean_absolute_error: 7470.9429 - mean_absolute_percentage_error: 1366165120.0000 - val_loss: 166310544.0000 - val_mean_absolute_error: 7447.5439 - val_mean_absolute_percentage_error: 2298316544.0000\n",
            "Epoch 63/100\n",
            "\u001b[1m8432/8432\u001b[0m \u001b[32m━━━━━━━━━━━━━━━━━━━━\u001b[0m\u001b[37m\u001b[0m \u001b[1m32s\u001b[0m 4ms/step - loss: 147046160.0000 - mean_absolute_error: 7372.4507 - mean_absolute_percentage_error: 1074842112.0000 - val_loss: 157561024.0000 - val_mean_absolute_error: 7378.4487 - val_mean_absolute_percentage_error: 2035391872.0000\n",
            "Epoch 64/100\n",
            "\u001b[1m8432/8432\u001b[0m \u001b[32m━━━━━━━━━━━━━━━━━━━━\u001b[0m\u001b[37m\u001b[0m \u001b[1m42s\u001b[0m 4ms/step - loss: 148753328.0000 - mean_absolute_error: 7374.2080 - mean_absolute_percentage_error: 2121473408.0000 - val_loss: 165757120.0000 - val_mean_absolute_error: 7492.8052 - val_mean_absolute_percentage_error: 2149772800.0000\n",
            "Epoch 65/100\n",
            "\u001b[1m8432/8432\u001b[0m \u001b[32m━━━━━━━━━━━━━━━━━━━━\u001b[0m\u001b[37m\u001b[0m \u001b[1m36s\u001b[0m 4ms/step - loss: 146986640.0000 - mean_absolute_error: 7335.5752 - mean_absolute_percentage_error: 1879077120.0000 - val_loss: 154059760.0000 - val_mean_absolute_error: 7304.1201 - val_mean_absolute_percentage_error: 2420666112.0000\n",
            "Epoch 66/100\n",
            "\u001b[1m8432/8432\u001b[0m \u001b[32m━━━━━━━━━━━━━━━━━━━━\u001b[0m\u001b[37m\u001b[0m \u001b[1m38s\u001b[0m 4ms/step - loss: 147200688.0000 - mean_absolute_error: 7351.9453 - mean_absolute_percentage_error: 1913179264.0000 - val_loss: 181562720.0000 - val_mean_absolute_error: 7734.7217 - val_mean_absolute_percentage_error: 2113298688.0000\n",
            "Epoch 67/100\n",
            "\u001b[1m8432/8432\u001b[0m \u001b[32m━━━━━━━━━━━━━━━━━━━━\u001b[0m\u001b[37m\u001b[0m \u001b[1m38s\u001b[0m 4ms/step - loss: 149520304.0000 - mean_absolute_error: 7401.0220 - mean_absolute_percentage_error: 1807861376.0000 - val_loss: 157577728.0000 - val_mean_absolute_error: 7390.5171 - val_mean_absolute_percentage_error: 2505887232.0000\n",
            "Epoch 68/100\n",
            "\u001b[1m8432/8432\u001b[0m \u001b[32m━━━━━━━━━━━━━━━━━━━━\u001b[0m\u001b[37m\u001b[0m \u001b[1m42s\u001b[0m 4ms/step - loss: 146370112.0000 - mean_absolute_error: 7302.0698 - mean_absolute_percentage_error: 1271722624.0000 - val_loss: 162450080.0000 - val_mean_absolute_error: 7327.7817 - val_mean_absolute_percentage_error: 2183550464.0000\n",
            "Epoch 69/100\n",
            "\u001b[1m8432/8432\u001b[0m \u001b[32m━━━━━━━━━━━━━━━━━━━━\u001b[0m\u001b[37m\u001b[0m \u001b[1m44s\u001b[0m 4ms/step - loss: 143761120.0000 - mean_absolute_error: 7242.6309 - mean_absolute_percentage_error: 1671653120.0000 - val_loss: 148326112.0000 - val_mean_absolute_error: 7063.0024 - val_mean_absolute_percentage_error: 2069842048.0000\n",
            "Epoch 70/100\n",
            "\u001b[1m8432/8432\u001b[0m \u001b[32m━━━━━━━━━━━━━━━━━━━━\u001b[0m\u001b[37m\u001b[0m \u001b[1m36s\u001b[0m 4ms/step - loss: 145475232.0000 - mean_absolute_error: 7236.3281 - mean_absolute_percentage_error: 1733759744.0000 - val_loss: 150252000.0000 - val_mean_absolute_error: 7237.4233 - val_mean_absolute_percentage_error: 2120820224.0000\n",
            "Epoch 71/100\n",
            "\u001b[1m8432/8432\u001b[0m \u001b[32m━━━━━━━━━━━━━━━━━━━━\u001b[0m\u001b[37m\u001b[0m \u001b[1m42s\u001b[0m 5ms/step - loss: 140942208.0000 - mean_absolute_error: 7189.9111 - mean_absolute_percentage_error: 1322439808.0000 - val_loss: 154171312.0000 - val_mean_absolute_error: 7277.9961 - val_mean_absolute_percentage_error: 2175294208.0000\n",
            "Epoch 72/100\n",
            "\u001b[1m8432/8432\u001b[0m \u001b[32m━━━━━━━━━━━━━━━━━━━━\u001b[0m\u001b[37m\u001b[0m \u001b[1m35s\u001b[0m 4ms/step - loss: 142861904.0000 - mean_absolute_error: 7207.8320 - mean_absolute_percentage_error: 1718012160.0000 - val_loss: 160977392.0000 - val_mean_absolute_error: 7312.5054 - val_mean_absolute_percentage_error: 2350161920.0000\n",
            "Epoch 73/100\n",
            "\u001b[1m8432/8432\u001b[0m \u001b[32m━━━━━━━━━━━━━━━━━━━━\u001b[0m\u001b[37m\u001b[0m \u001b[1m34s\u001b[0m 4ms/step - loss: 141118112.0000 - mean_absolute_error: 7167.6333 - mean_absolute_percentage_error: 1482120960.0000 - val_loss: 163373232.0000 - val_mean_absolute_error: 7391.4604 - val_mean_absolute_percentage_error: 2206487552.0000\n",
            "Epoch 74/100\n",
            "\u001b[1m8432/8432\u001b[0m \u001b[32m━━━━━━━━━━━━━━━━━━━━\u001b[0m\u001b[37m\u001b[0m \u001b[1m41s\u001b[0m 4ms/step - loss: 140132112.0000 - mean_absolute_error: 7142.1934 - mean_absolute_percentage_error: 1459759104.0000 - val_loss: 148276256.0000 - val_mean_absolute_error: 7064.5415 - val_mean_absolute_percentage_error: 2097864576.0000\n",
            "Epoch 75/100\n",
            "\u001b[1m8432/8432\u001b[0m \u001b[32m━━━━━━━━━━━━━━━━━━━━\u001b[0m\u001b[37m\u001b[0m \u001b[1m33s\u001b[0m 4ms/step - loss: 142844224.0000 - mean_absolute_error: 7161.2852 - mean_absolute_percentage_error: 1322165504.0000 - val_loss: 149344272.0000 - val_mean_absolute_error: 7031.4229 - val_mean_absolute_percentage_error: 1994959360.0000\n",
            "Epoch 76/100\n",
            "\u001b[1m8432/8432\u001b[0m \u001b[32m━━━━━━━━━━━━━━━━━━━━\u001b[0m\u001b[37m\u001b[0m \u001b[1m43s\u001b[0m 4ms/step - loss: 141436352.0000 - mean_absolute_error: 7090.2207 - mean_absolute_percentage_error: 907897920.0000 - val_loss: 152559296.0000 - val_mean_absolute_error: 7091.4868 - val_mean_absolute_percentage_error: 2502503424.0000\n",
            "Epoch 77/100\n",
            "\u001b[1m8432/8432\u001b[0m \u001b[32m━━━━━━━━━━━━━━━━━━━━\u001b[0m\u001b[37m\u001b[0m \u001b[1m33s\u001b[0m 4ms/step - loss: 140379520.0000 - mean_absolute_error: 7079.7104 - mean_absolute_percentage_error: 1472353664.0000 - val_loss: 142045888.0000 - val_mean_absolute_error: 6825.1377 - val_mean_absolute_percentage_error: 2302799104.0000\n",
            "Epoch 78/100\n",
            "\u001b[1m8432/8432\u001b[0m \u001b[32m━━━━━━━━━━━━━━━━━━━━\u001b[0m\u001b[37m\u001b[0m \u001b[1m36s\u001b[0m 4ms/step - loss: 132797552.0000 - mean_absolute_error: 6985.0029 - mean_absolute_percentage_error: 1539615744.0000 - val_loss: 145848432.0000 - val_mean_absolute_error: 6992.6831 - val_mean_absolute_percentage_error: 2150160128.0000\n",
            "Epoch 79/100\n",
            "\u001b[1m8432/8432\u001b[0m \u001b[32m━━━━━━━━━━━━━━━━━━━━\u001b[0m\u001b[37m\u001b[0m \u001b[1m38s\u001b[0m 4ms/step - loss: 134967440.0000 - mean_absolute_error: 6983.6104 - mean_absolute_percentage_error: 1552720256.0000 - val_loss: 159778544.0000 - val_mean_absolute_error: 7205.8608 - val_mean_absolute_percentage_error: 2283202304.0000\n",
            "Epoch 80/100\n",
            "\u001b[1m8432/8432\u001b[0m \u001b[32m━━━━━━━━━━━━━━━━━━━━\u001b[0m\u001b[37m\u001b[0m \u001b[1m32s\u001b[0m 4ms/step - loss: 135936960.0000 - mean_absolute_error: 7001.4790 - mean_absolute_percentage_error: 1306247552.0000 - val_loss: 140310672.0000 - val_mean_absolute_error: 6932.6138 - val_mean_absolute_percentage_error: 2333552384.0000\n",
            "Epoch 81/100\n",
            "\u001b[1m8432/8432\u001b[0m \u001b[32m━━━━━━━━━━━━━━━━━━━━\u001b[0m\u001b[37m\u001b[0m \u001b[1m35s\u001b[0m 4ms/step - loss: 137336976.0000 - mean_absolute_error: 6980.3506 - mean_absolute_percentage_error: 1132812544.0000 - val_loss: 167615152.0000 - val_mean_absolute_error: 7220.3940 - val_mean_absolute_percentage_error: 1824760064.0000\n",
            "Epoch 82/100\n",
            "\u001b[1m8432/8432\u001b[0m \u001b[32m━━━━━━━━━━━━━━━━━━━━\u001b[0m\u001b[37m\u001b[0m \u001b[1m41s\u001b[0m 4ms/step - loss: 134583280.0000 - mean_absolute_error: 6918.2876 - mean_absolute_percentage_error: 1441458560.0000 - val_loss: 139591408.0000 - val_mean_absolute_error: 6902.4233 - val_mean_absolute_percentage_error: 2257856512.0000\n",
            "Epoch 83/100\n",
            "\u001b[1m8432/8432\u001b[0m \u001b[32m━━━━━━━━━━━━━━━━━━━━\u001b[0m\u001b[37m\u001b[0m \u001b[1m36s\u001b[0m 4ms/step - loss: 134445344.0000 - mean_absolute_error: 6899.1484 - mean_absolute_percentage_error: 1367815680.0000 - val_loss: 142905136.0000 - val_mean_absolute_error: 6932.5220 - val_mean_absolute_percentage_error: 2237125120.0000\n",
            "Epoch 84/100\n",
            "\u001b[1m8432/8432\u001b[0m \u001b[32m━━━━━━━━━━━━━━━━━━━━\u001b[0m\u001b[37m\u001b[0m \u001b[1m37s\u001b[0m 4ms/step - loss: 130812120.0000 - mean_absolute_error: 6882.5894 - mean_absolute_percentage_error: 1156629760.0000 - val_loss: 147274864.0000 - val_mean_absolute_error: 6775.5039 - val_mean_absolute_percentage_error: 1994705024.0000\n",
            "Epoch 85/100\n",
            "\u001b[1m8432/8432\u001b[0m \u001b[32m━━━━━━━━━━━━━━━━━━━━\u001b[0m\u001b[37m\u001b[0m \u001b[1m42s\u001b[0m 4ms/step - loss: 135851136.0000 - mean_absolute_error: 6897.6821 - mean_absolute_percentage_error: 1540182656.0000 - val_loss: 134607152.0000 - val_mean_absolute_error: 6639.3242 - val_mean_absolute_percentage_error: 2177885184.0000\n",
            "Epoch 86/100\n",
            "\u001b[1m8432/8432\u001b[0m \u001b[32m━━━━━━━━━━━━━━━━━━━━\u001b[0m\u001b[37m\u001b[0m \u001b[1m32s\u001b[0m 4ms/step - loss: 129101272.0000 - mean_absolute_error: 6805.1333 - mean_absolute_percentage_error: 1236026240.0000 - val_loss: 139587456.0000 - val_mean_absolute_error: 6808.7690 - val_mean_absolute_percentage_error: 2091449216.0000\n",
            "Epoch 87/100\n",
            "\u001b[1m8432/8432\u001b[0m \u001b[32m━━━━━━━━━━━━━━━━━━━━\u001b[0m\u001b[37m\u001b[0m \u001b[1m45s\u001b[0m 4ms/step - loss: 132801272.0000 - mean_absolute_error: 6863.3154 - mean_absolute_percentage_error: 1691368448.0000 - val_loss: 133719648.0000 - val_mean_absolute_error: 6723.1299 - val_mean_absolute_percentage_error: 2000689536.0000\n",
            "Epoch 88/100\n",
            "\u001b[1m8432/8432\u001b[0m \u001b[32m━━━━━━━━━━━━━━━━━━━━\u001b[0m\u001b[37m\u001b[0m \u001b[1m39s\u001b[0m 4ms/step - loss: 128787312.0000 - mean_absolute_error: 6811.6680 - mean_absolute_percentage_error: 1378360064.0000 - val_loss: 146133792.0000 - val_mean_absolute_error: 7003.0967 - val_mean_absolute_percentage_error: 2236145920.0000\n",
            "Epoch 89/100\n",
            "\u001b[1m8432/8432\u001b[0m \u001b[32m━━━━━━━━━━━━━━━━━━━━\u001b[0m\u001b[37m\u001b[0m \u001b[1m41s\u001b[0m 4ms/step - loss: 127880632.0000 - mean_absolute_error: 6757.2642 - mean_absolute_percentage_error: 1106359680.0000 - val_loss: 140590640.0000 - val_mean_absolute_error: 6704.6748 - val_mean_absolute_percentage_error: 2047349888.0000\n",
            "Epoch 90/100\n",
            "\u001b[1m8432/8432\u001b[0m \u001b[32m━━━━━━━━━━━━━━━━━━━━\u001b[0m\u001b[37m\u001b[0m \u001b[1m40s\u001b[0m 4ms/step - loss: 125699416.0000 - mean_absolute_error: 6717.9604 - mean_absolute_percentage_error: 1368158848.0000 - val_loss: 140371232.0000 - val_mean_absolute_error: 6848.2490 - val_mean_absolute_percentage_error: 2217090560.0000\n",
            "Epoch 91/100\n",
            "\u001b[1m8432/8432\u001b[0m \u001b[32m━━━━━━━━━━━━━━━━━━━━\u001b[0m\u001b[37m\u001b[0m \u001b[1m32s\u001b[0m 4ms/step - loss: 130817464.0000 - mean_absolute_error: 6770.5605 - mean_absolute_percentage_error: 1650641152.0000 - val_loss: 139232640.0000 - val_mean_absolute_error: 6678.4463 - val_mean_absolute_percentage_error: 2039138688.0000\n",
            "Epoch 92/100\n",
            "\u001b[1m8432/8432\u001b[0m \u001b[32m━━━━━━━━━━━━━━━━━━━━\u001b[0m\u001b[37m\u001b[0m \u001b[1m32s\u001b[0m 4ms/step - loss: 126203024.0000 - mean_absolute_error: 6718.4097 - mean_absolute_percentage_error: 2043713152.0000 - val_loss: 141804656.0000 - val_mean_absolute_error: 6702.0889 - val_mean_absolute_percentage_error: 1983718272.0000\n",
            "Epoch 93/100\n",
            "\u001b[1m8432/8432\u001b[0m \u001b[32m━━━━━━━━━━━━━━━━━━━━\u001b[0m\u001b[37m\u001b[0m \u001b[1m35s\u001b[0m 4ms/step - loss: 127146944.0000 - mean_absolute_error: 6723.1821 - mean_absolute_percentage_error: 1676295168.0000 - val_loss: 131900432.0000 - val_mean_absolute_error: 6666.5947 - val_mean_absolute_percentage_error: 2276292608.0000\n",
            "Epoch 94/100\n",
            "\u001b[1m8432/8432\u001b[0m \u001b[32m━━━━━━━━━━━━━━━━━━━━\u001b[0m\u001b[37m\u001b[0m \u001b[1m36s\u001b[0m 4ms/step - loss: 123132120.0000 - mean_absolute_error: 6642.0493 - mean_absolute_percentage_error: 1403367808.0000 - val_loss: 136419632.0000 - val_mean_absolute_error: 6716.2817 - val_mean_absolute_percentage_error: 2299881728.0000\n",
            "Epoch 95/100\n",
            "\u001b[1m8432/8432\u001b[0m \u001b[32m━━━━━━━━━━━━━━━━━━━━\u001b[0m\u001b[37m\u001b[0m \u001b[1m34s\u001b[0m 4ms/step - loss: 130445176.0000 - mean_absolute_error: 6742.5254 - mean_absolute_percentage_error: 1260272384.0000 - val_loss: 133707168.0000 - val_mean_absolute_error: 6638.8354 - val_mean_absolute_percentage_error: 2508807680.0000\n",
            "Epoch 96/100\n",
            "\u001b[1m8432/8432\u001b[0m \u001b[32m━━━━━━━━━━━━━━━━━━━━\u001b[0m\u001b[37m\u001b[0m \u001b[1m42s\u001b[0m 4ms/step - loss: 126780256.0000 - mean_absolute_error: 6672.9800 - mean_absolute_percentage_error: 1873682944.0000 - val_loss: 132107536.0000 - val_mean_absolute_error: 6612.5825 - val_mean_absolute_percentage_error: 2196346112.0000\n",
            "Epoch 97/100\n",
            "\u001b[1m8432/8432\u001b[0m \u001b[32m━━━━━━━━━━━━━━━━━━━━\u001b[0m\u001b[37m\u001b[0m \u001b[1m40s\u001b[0m 4ms/step - loss: 123820840.0000 - mean_absolute_error: 6608.5825 - mean_absolute_percentage_error: 1479668608.0000 - val_loss: 128447528.0000 - val_mean_absolute_error: 6566.0728 - val_mean_absolute_percentage_error: 2167713280.0000\n",
            "Epoch 98/100\n",
            "\u001b[1m8432/8432\u001b[0m \u001b[32m━━━━━━━━━━━━━━━━━━━━\u001b[0m\u001b[37m\u001b[0m \u001b[1m43s\u001b[0m 4ms/step - loss: 123424752.0000 - mean_absolute_error: 6597.2671 - mean_absolute_percentage_error: 1485236992.0000 - val_loss: 132200824.0000 - val_mean_absolute_error: 6488.5864 - val_mean_absolute_percentage_error: 2066442496.0000\n",
            "Epoch 99/100\n",
            "\u001b[1m8432/8432\u001b[0m \u001b[32m━━━━━━━━━━━━━━━━━━━━\u001b[0m\u001b[37m\u001b[0m \u001b[1m35s\u001b[0m 4ms/step - loss: 122402632.0000 - mean_absolute_error: 6570.7319 - mean_absolute_percentage_error: 1475266176.0000 - val_loss: 134399312.0000 - val_mean_absolute_error: 6622.6890 - val_mean_absolute_percentage_error: 2152916992.0000\n",
            "Epoch 100/100\n",
            "\u001b[1m8432/8432\u001b[0m \u001b[32m━━━━━━━━━━━━━━━━━━━━\u001b[0m\u001b[37m\u001b[0m \u001b[1m39s\u001b[0m 5ms/step - loss: 122964704.0000 - mean_absolute_error: 6571.6025 - mean_absolute_percentage_error: 1019963136.0000 - val_loss: 133914064.0000 - val_mean_absolute_error: 6623.4927 - val_mean_absolute_percentage_error: 2204054528.0000\n"
          ]
        }
      ],
      "source": [
        "model2=Sequential()\n",
        "\n",
        "model2.add(Dense(64,input_dim=(len(x_train_ss[0])),activation=LeakyReLU(alpha=0.01)))\n",
        "#model2.add(Dropout(0.2))\n",
        "model2.add(Dense(32,input_dim=(len(x_train_ss[0])),activation=LeakyReLU(alpha=0.01)))\n",
        "#model2.add(Dropout(0.1))\n",
        "model2.add(Dense(32,input_dim=(len(x_train_ss[0])),activation=LeakyReLU(alpha=0.01)))\n",
        "model2.add(Dense(8,input_dim=(len(x_train_ss[0])),activation=LeakyReLU(alpha=0.01)))\n",
        "model2.add(Dense(1)) #output layer\n",
        "\n",
        "model2.compile(optimizer=\"adam\",loss=\"mean_squared_error\",metrics=[tf.keras.metrics.MeanAbsoluteError(),tf.keras.metrics.MeanAbsolutePercentageError()])\n",
        "result=model2.fit(x_train_df,y_train,epochs=100,validation_split=0.2,batch_size=32)\n"
      ]
    },
    {
      "cell_type": "code",
      "execution_count": null,
      "metadata": {
        "colab": {
          "base_uri": "https://localhost:8080/",
          "height": 445
        },
        "id": "OgsGzZQREaRg",
        "outputId": "79483767-e8ac-4664-9c3b-0cb8990543fe"
      },
      "outputs": [
        {
          "output_type": "display_data",
          "data": {
            "text/plain": [
              "<Figure size 640x480 with 1 Axes>"
            ],
            "image/png": "[encoded data removed]"
          },
          "metadata": {}
        }
      ],
      "source": [
        "result_df=pd.DataFrame(result.history)\n",
        "plt.plot(range(1,101),result_df['loss'],label=\"train_loss\")\n",
        "plt.plot(range(1,101),result_df['val_loss'],label=\"val_loss\")\n",
        "plt.legend()\n",
        "plt.show()"
      ]
    },
    {
      "cell_type": "code",
      "execution_count": null,
      "metadata": {
        "id": "2PNdMOiIELas"
      },
      "outputs": [],
      "source": [
        "#sigmoid"
      ]
    },
    {
      "cell_type": "code",
      "source": [],
      "metadata": {
        "id": "EPPVXGfbREY_"
      },
      "execution_count": null,
      "outputs": []
    },
    {
      "cell_type": "code",
      "execution_count": 25,
      "metadata": {
        "colab": {
          "base_uri": "https://localhost:8080/"
        },
        "id": "VFN-gZTvELXl",
        "outputId": "efb9244d-e577-4f87-c771-d2bd40222d32"
      },
      "outputs": [
        {
          "output_type": "stream",
          "name": "stderr",
          "text": [
            "/usr/local/lib/python3.10/dist-packages/keras/src/layers/core/dense.py:87: UserWarning: Do not pass an `input_shape`/`input_dim` argument to a layer. When using Sequential models, prefer using an `Input(shape)` object as the first layer in the model instead.\n",
            "  super().__init__(activity_regularizer=activity_regularizer, **kwargs)\n"
          ]
        }
      ],
      "source": [
        "scaler_mm=MinMaxScaler()\n",
        "scaler_mm.fit(x_train)\n",
        "x_train_scaler_mm=scaler_mm.transform(x_train)\n",
        "x_test_scaler_mm=scaler_mm.transform(x_test)\n",
        "x_train_df_mm=pd.DataFrame(x_train_scaler_mm,columns=x_train.columns)\n",
        "x_test_df_mm=pd.DataFrame(x_test_scaler_mm,columns=x_test.columns)\n",
        "\n",
        "model_sig=Sequential()\n",
        "\n",
        "\n",
        "model_sig.add(Dense(64,input_dim=(len(x_train_scaler_mm[0])),activation=\"sigmoid\"))\n",
        "model_sig.add(Dense(32,input_dim=(len(x_train_scaler_mm[0])),activation=\"sigmoid\"))\n",
        "model_sig.add(Dense(8,input_dim=(len(x_train_scaler_mm[0])),activation=\"sigmoid\"))\n",
        "\n",
        "model_sig.add(Dense(1))\n",
        "\n",
        "model_sig.compile(optimizer=\"adam\",loss=\"mean_squared_error\",metrics=[tf.keras.metrics.MeanAbsoluteError(),tf.keras.metrics.MeanAbsolutePercentageError()])"
      ]
    },
    {
      "cell_type": "code",
      "execution_count": 26,
      "metadata": {
        "colab": {
          "base_uri": "https://localhost:8080/"
        },
        "id": "V2-zqi8VEepr",
        "outputId": "2b4e13cb-8244-464f-c2ff-e73fcc706c08"
      },
      "outputs": [
        {
          "output_type": "stream",
          "name": "stdout",
          "text": [
            "Epoch 1/100\n",
            "\u001b[1m8432/8432\u001b[0m \u001b[32m━━━━━━━━━━━━━━━━━━━━\u001b[0m\u001b[37m\u001b[0m \u001b[1m23s\u001b[0m 3ms/step - loss: 769949568.0000 - mean_absolute_error: 15919.5615 - mean_absolute_percentage_error: 3631609.0000 - val_loss: 772753024.0000 - val_mean_absolute_error: 15986.8418 - val_mean_absolute_percentage_error: 6252254.5000\n",
            "Epoch 2/100\n",
            "\u001b[1m8432/8432\u001b[0m \u001b[32m━━━━━━━━━━━━━━━━━━━━\u001b[0m\u001b[37m\u001b[0m \u001b[1m23s\u001b[0m 3ms/step - loss: 760482176.0000 - mean_absolute_error: 15855.0713 - mean_absolute_percentage_error: 16817064.0000 - val_loss: 770927872.0000 - val_mean_absolute_error: 15936.3281 - val_mean_absolute_percentage_error: 12190584.0000\n",
            "Epoch 3/100\n",
            "\u001b[1m8432/8432\u001b[0m \u001b[32m━━━━━━━━━━━━━━━━━━━━\u001b[0m\u001b[37m\u001b[0m \u001b[1m27s\u001b[0m 3ms/step - loss: 758251264.0000 - mean_absolute_error: 15750.7764 - mean_absolute_percentage_error: 22576396.0000 - val_loss: 768612352.0000 - val_mean_absolute_error: 15874.3721 - val_mean_absolute_percentage_error: 19750190.0000\n",
            "Epoch 4/100\n",
            "\u001b[1m8432/8432\u001b[0m \u001b[32m━━━━━━━━━━━━━━━━━━━━\u001b[0m\u001b[37m\u001b[0m \u001b[1m30s\u001b[0m 4ms/step - loss: 753019584.0000 - mean_absolute_error: 15759.4375 - mean_absolute_percentage_error: 43151356.0000 - val_loss: 766288832.0000 - val_mean_absolute_error: 15813.8779 - val_mean_absolute_percentage_error: 27371266.0000\n",
            "Epoch 5/100\n",
            "\u001b[1m8432/8432\u001b[0m \u001b[32m━━━━━━━━━━━━━━━━━━━━\u001b[0m\u001b[37m\u001b[0m \u001b[1m37s\u001b[0m 3ms/step - loss: 759933184.0000 - mean_absolute_error: 15676.9971 - mean_absolute_percentage_error: 61620872.0000 - val_loss: 763974464.0000 - val_mean_absolute_error: 15755.1016 - val_mean_absolute_percentage_error: 35001892.0000\n",
            "Epoch 6/100\n",
            "\u001b[1m8432/8432\u001b[0m \u001b[32m━━━━━━━━━━━━━━━━━━━━\u001b[0m\u001b[37m\u001b[0m \u001b[1m35s\u001b[0m 2ms/step - loss: 754868480.0000 - mean_absolute_error: 15640.3047 - mean_absolute_percentage_error: 72801168.0000 - val_loss: 761670848.0000 - val_mean_absolute_error: 15697.9062 - val_mean_absolute_percentage_error: 42627964.0000\n",
            "Epoch 7/100\n",
            "\u001b[1m8432/8432\u001b[0m \u001b[32m━━━━━━━━━━━━━━━━━━━━\u001b[0m\u001b[37m\u001b[0m \u001b[1m19s\u001b[0m 2ms/step - loss: 753937280.0000 - mean_absolute_error: 15575.6553 - mean_absolute_percentage_error: 89514864.0000 - val_loss: 759382272.0000 - val_mean_absolute_error: 15642.1221 - val_mean_absolute_percentage_error: 50244448.0000\n",
            "Epoch 8/100\n",
            "\u001b[1m8432/8432\u001b[0m \u001b[32m━━━━━━━━━━━━━━━━━━━━\u001b[0m\u001b[37m\u001b[0m \u001b[1m22s\u001b[0m 3ms/step - loss: 746900032.0000 - mean_absolute_error: 15523.3457 - mean_absolute_percentage_error: 104583728.0000 - val_loss: 757104000.0000 - val_mean_absolute_error: 15587.6787 - val_mean_absolute_percentage_error: 57857388.0000\n",
            "Epoch 9/100\n",
            "\u001b[1m8432/8432\u001b[0m \u001b[32m━━━━━━━━━━━━━━━━━━━━\u001b[0m\u001b[37m\u001b[0m \u001b[1m42s\u001b[0m 3ms/step - loss: 749275072.0000 - mean_absolute_error: 15452.5107 - mean_absolute_percentage_error: 114924248.0000 - val_loss: 754835392.0000 - val_mean_absolute_error: 15534.3271 - val_mean_absolute_percentage_error: 65478832.0000\n",
            "Epoch 10/100\n",
            "\u001b[1m8432/8432\u001b[0m \u001b[32m━━━━━━━━━━━━━━━━━━━━\u001b[0m\u001b[37m\u001b[0m \u001b[1m38s\u001b[0m 2ms/step - loss: 749865216.0000 - mean_absolute_error: 15452.3057 - mean_absolute_percentage_error: 140892064.0000 - val_loss: 752580672.0000 - val_mean_absolute_error: 15482.1416 - val_mean_absolute_percentage_error: 73087904.0000\n",
            "Epoch 11/100\n",
            "\u001b[1m8432/8432\u001b[0m \u001b[32m━━━━━━━━━━━━━━━━━━━━\u001b[0m\u001b[37m\u001b[0m \u001b[1m23s\u001b[0m 3ms/step - loss: 741164160.0000 - mean_absolute_error: 15352.9766 - mean_absolute_percentage_error: 154721152.0000 - val_loss: 750336384.0000 - val_mean_absolute_error: 15430.9785 - val_mean_absolute_percentage_error: 80697976.0000\n",
            "Epoch 12/100\n",
            "\u001b[1m8432/8432\u001b[0m \u001b[32m━━━━━━━━━━━━━━━━━━━━\u001b[0m\u001b[37m\u001b[0m \u001b[1m42s\u001b[0m 3ms/step - loss: 739021120.0000 - mean_absolute_error: 15294.4043 - mean_absolute_percentage_error: 145998720.0000 - val_loss: 748104960.0000 - val_mean_absolute_error: 15380.8545 - val_mean_absolute_percentage_error: 88302680.0000\n",
            "Epoch 13/100\n",
            "\u001b[1m8432/8432\u001b[0m \u001b[32m━━━━━━━━━━━━━━━━━━━━\u001b[0m\u001b[37m\u001b[0m \u001b[1m20s\u001b[0m 2ms/step - loss: 734071872.0000 - mean_absolute_error: 15210.1709 - mean_absolute_percentage_error: 152829952.0000 - val_loss: 745880064.0000 - val_mean_absolute_error: 15331.5977 - val_mean_absolute_percentage_error: 95916384.0000\n",
            "Epoch 14/100\n",
            "\u001b[1m8432/8432\u001b[0m \u001b[32m━━━━━━━━━━━━━━━━━━━━\u001b[0m\u001b[37m\u001b[0m \u001b[1m22s\u001b[0m 3ms/step - loss: 737116160.0000 - mean_absolute_error: 15194.1484 - mean_absolute_percentage_error: 174640768.0000 - val_loss: 743671552.0000 - val_mean_absolute_error: 15283.4482 - val_mean_absolute_percentage_error: 103516000.0000\n",
            "Epoch 15/100\n",
            "\u001b[1m8432/8432\u001b[0m \u001b[32m━━━━━━━━━━━━━━━━━━━━\u001b[0m\u001b[37m\u001b[0m \u001b[1m20s\u001b[0m 2ms/step - loss: 724394816.0000 - mean_absolute_error: 15099.0391 - mean_absolute_percentage_error: 196004784.0000 - val_loss: 741474944.0000 - val_mean_absolute_error: 15236.1797 - val_mean_absolute_percentage_error: 111111160.0000\n",
            "Epoch 16/100\n",
            "\u001b[1m8432/8432\u001b[0m \u001b[32m━━━━━━━━━━━━━━━━━━━━\u001b[0m\u001b[37m\u001b[0m \u001b[1m20s\u001b[0m 2ms/step - loss: 726755008.0000 - mean_absolute_error: 15061.1240 - mean_absolute_percentage_error: 206192752.0000 - val_loss: 739288384.0000 - val_mean_absolute_error: 15189.7549 - val_mean_absolute_percentage_error: 118712104.0000\n",
            "Epoch 17/100\n",
            "\u001b[1m8432/8432\u001b[0m \u001b[32m━━━━━━━━━━━━━━━━━━━━\u001b[0m\u001b[37m\u001b[0m \u001b[1m23s\u001b[0m 3ms/step - loss: 736342400.0000 - mean_absolute_error: 15124.2686 - mean_absolute_percentage_error: 236005824.0000 - val_loss: 737115072.0000 - val_mean_absolute_error: 15144.2461 - val_mean_absolute_percentage_error: 126297456.0000\n",
            "Epoch 18/100\n",
            "\u001b[1m8432/8432\u001b[0m \u001b[32m━━━━━━━━━━━━━━━━━━━━\u001b[0m\u001b[37m\u001b[0m \u001b[1m40s\u001b[0m 3ms/step - loss: 729598720.0000 - mean_absolute_error: 15002.5244 - mean_absolute_percentage_error: 246768016.0000 - val_loss: 734947200.0000 - val_mean_absolute_error: 15099.4072 - val_mean_absolute_percentage_error: 133901376.0000\n",
            "Epoch 19/100\n",
            "\u001b[1m8432/8432\u001b[0m \u001b[32m━━━━━━━━━━━━━━━━━━━━\u001b[0m\u001b[37m\u001b[0m \u001b[1m20s\u001b[0m 2ms/step - loss: 725588544.0000 - mean_absolute_error: 14978.3252 - mean_absolute_percentage_error: 176044064.0000 - val_loss: 732791936.0000 - val_mean_absolute_error: 15055.2861 - val_mean_absolute_percentage_error: 141497392.0000\n",
            "Epoch 20/100\n",
            "\u001b[1m8432/8432\u001b[0m \u001b[32m━━━━━━━━━━━━━━━━━━━━\u001b[0m\u001b[37m\u001b[0m \u001b[1m20s\u001b[0m 2ms/step - loss: 728426816.0000 - mean_absolute_error: 14958.6670 - mean_absolute_percentage_error: 286918976.0000 - val_loss: 730649088.0000 - val_mean_absolute_error: 15011.9258 - val_mean_absolute_percentage_error: 149092352.0000\n",
            "Epoch 21/100\n",
            "\u001b[1m8432/8432\u001b[0m \u001b[32m━━━━━━━━━━━━━━━━━━━━\u001b[0m\u001b[37m\u001b[0m \u001b[1m21s\u001b[0m 2ms/step - loss: 710713856.0000 - mean_absolute_error: 14780.5664 - mean_absolute_percentage_error: 184075120.0000 - val_loss: 728517056.0000 - val_mean_absolute_error: 14969.3320 - val_mean_absolute_percentage_error: 156682480.0000\n",
            "Epoch 22/100\n",
            "\u001b[1m8432/8432\u001b[0m \u001b[32m━━━━━━━━━━━━━━━━━━━━\u001b[0m\u001b[37m\u001b[0m \u001b[1m42s\u001b[0m 3ms/step - loss: 715180160.0000 - mean_absolute_error: 14774.2979 - mean_absolute_percentage_error: 276547104.0000 - val_loss: 726399296.0000 - val_mean_absolute_error: 14927.5693 - val_mean_absolute_percentage_error: 164268288.0000\n",
            "Epoch 23/100\n",
            "\u001b[1m8432/8432\u001b[0m \u001b[32m━━━━━━━━━━━━━━━━━━━━\u001b[0m\u001b[37m\u001b[0m \u001b[1m39s\u001b[0m 2ms/step - loss: 720175296.0000 - mean_absolute_error: 14825.0996 - mean_absolute_percentage_error: 346538880.0000 - val_loss: 724295680.0000 - val_mean_absolute_error: 14886.6514 - val_mean_absolute_percentage_error: 171836224.0000\n",
            "Epoch 24/100\n",
            "\u001b[1m8432/8432\u001b[0m \u001b[32m━━━━━━━━━━━━━━━━━━━━\u001b[0m\u001b[37m\u001b[0m \u001b[1m24s\u001b[0m 3ms/step - loss: 717276352.0000 - mean_absolute_error: 14742.6270 - mean_absolute_percentage_error: 338538912.0000 - val_loss: 722198656.0000 - val_mean_absolute_error: 14846.3838 - val_mean_absolute_percentage_error: 179415296.0000\n",
            "Epoch 25/100\n",
            "\u001b[1m8432/8432\u001b[0m \u001b[32m━━━━━━━━━━━━━━━━━━━━\u001b[0m\u001b[37m\u001b[0m \u001b[1m20s\u001b[0m 2ms/step - loss: 725999680.0000 - mean_absolute_error: 14836.6045 - mean_absolute_percentage_error: 393044896.0000 - val_loss: 720114624.0000 - val_mean_absolute_error: 14806.8799 - val_mean_absolute_percentage_error: 186991696.0000\n",
            "Epoch 26/100\n",
            "\u001b[1m8432/8432\u001b[0m \u001b[32m━━━━━━━━━━━━━━━━━━━━\u001b[0m\u001b[37m\u001b[0m \u001b[1m23s\u001b[0m 3ms/step - loss: 703386176.0000 - mean_absolute_error: 14634.6875 - mean_absolute_percentage_error: 438336608.0000 - val_loss: 718042304.0000 - val_mean_absolute_error: 14768.1250 - val_mean_absolute_percentage_error: 194560400.0000\n",
            "Epoch 27/100\n",
            "\u001b[1m8432/8432\u001b[0m \u001b[32m━━━━━━━━━━━━━━━━━━━━\u001b[0m\u001b[37m\u001b[0m \u001b[1m36s\u001b[0m 2ms/step - loss: 700000576.0000 - mean_absolute_error: 14624.2246 - mean_absolute_percentage_error: 331572096.0000 - val_loss: 715977728.0000 - val_mean_absolute_error: 14730.0781 - val_mean_absolute_percentage_error: 202139056.0000\n",
            "Epoch 28/100\n",
            "\u001b[1m8432/8432\u001b[0m \u001b[32m━━━━━━━━━━━━━━━━━━━━\u001b[0m\u001b[37m\u001b[0m \u001b[1m21s\u001b[0m 2ms/step - loss: 714770240.0000 - mean_absolute_error: 14636.3135 - mean_absolute_percentage_error: 436499072.0000 - val_loss: 713927616.0000 - val_mean_absolute_error: 14692.7197 - val_mean_absolute_percentage_error: 209705600.0000\n",
            "Epoch 29/100\n",
            "\u001b[1m8432/8432\u001b[0m \u001b[32m━━━━━━━━━━━━━━━━━━━━\u001b[0m\u001b[37m\u001b[0m \u001b[1m20s\u001b[0m 2ms/step - loss: 709832256.0000 - mean_absolute_error: 14609.4199 - mean_absolute_percentage_error: 386983936.0000 - val_loss: 711894144.0000 - val_mean_absolute_error: 14656.0762 - val_mean_absolute_percentage_error: 217252640.0000\n",
            "Epoch 30/100\n",
            "\u001b[1m8432/8432\u001b[0m \u001b[32m━━━━━━━━━━━━━━━━━━━━\u001b[0m\u001b[37m\u001b[0m \u001b[1m22s\u001b[0m 2ms/step - loss: 700695552.0000 - mean_absolute_error: 14529.7812 - mean_absolute_percentage_error: 436857216.0000 - val_loss: 709866624.0000 - val_mean_absolute_error: 14620.0029 - val_mean_absolute_percentage_error: 224814848.0000\n",
            "Epoch 31/100\n",
            "\u001b[1m8432/8432\u001b[0m \u001b[32m━━━━━━━━━━━━━━━━━━━━\u001b[0m\u001b[37m\u001b[0m \u001b[1m20s\u001b[0m 2ms/step - loss: 700318080.0000 - mean_absolute_error: 14472.2529 - mean_absolute_percentage_error: 558466304.0000 - val_loss: 707851008.0000 - val_mean_absolute_error: 14584.6279 - val_mean_absolute_percentage_error: 232368160.0000\n",
            "Epoch 32/100\n",
            "\u001b[1m8432/8432\u001b[0m \u001b[32m━━━━━━━━━━━━━━━━━━━━\u001b[0m\u001b[37m\u001b[0m \u001b[1m18s\u001b[0m 2ms/step - loss: 706087552.0000 - mean_absolute_error: 14494.3359 - mean_absolute_percentage_error: 472946656.0000 - val_loss: 705850816.0000 - val_mean_absolute_error: 14549.9219 - val_mean_absolute_percentage_error: 239912592.0000\n",
            "Epoch 33/100\n",
            "\u001b[1m8432/8432\u001b[0m \u001b[32m━━━━━━━━━━━━━━━━━━━━\u001b[0m\u001b[37m\u001b[0m \u001b[1m19s\u001b[0m 2ms/step - loss: 688243328.0000 - mean_absolute_error: 14339.3125 - mean_absolute_percentage_error: 359902720.0000 - val_loss: 703853632.0000 - val_mean_absolute_error: 14515.7422 - val_mean_absolute_percentage_error: 247474128.0000\n",
            "Epoch 34/100\n",
            "\u001b[1m8432/8432\u001b[0m \u001b[32m━━━━━━━━━━━━━━━━━━━━\u001b[0m\u001b[37m\u001b[0m \u001b[1m19s\u001b[0m 2ms/step - loss: 700839360.0000 - mean_absolute_error: 14454.6699 - mean_absolute_percentage_error: 546851648.0000 - val_loss: 701874944.0000 - val_mean_absolute_error: 14482.3047 - val_mean_absolute_percentage_error: 255012320.0000\n",
            "Epoch 35/100\n",
            "\u001b[1m8432/8432\u001b[0m \u001b[32m━━━━━━━━━━━━━━━━━━━━\u001b[0m\u001b[37m\u001b[0m \u001b[1m20s\u001b[0m 2ms/step - loss: 694191936.0000 - mean_absolute_error: 14330.3750 - mean_absolute_percentage_error: 476951680.0000 - val_loss: 699902400.0000 - val_mean_absolute_error: 14449.4219 - val_mean_absolute_percentage_error: 262563984.0000\n",
            "Epoch 36/100\n",
            "\u001b[1m8432/8432\u001b[0m \u001b[32m━━━━━━━━━━━━━━━━━━━━\u001b[0m\u001b[37m\u001b[0m \u001b[1m23s\u001b[0m 2ms/step - loss: 690544320.0000 - mean_absolute_error: 14341.7676 - mean_absolute_percentage_error: 455106784.0000 - val_loss: 697948416.0000 - val_mean_absolute_error: 14417.3721 - val_mean_absolute_percentage_error: 270090496.0000\n",
            "Epoch 37/100\n",
            "\u001b[1m8432/8432\u001b[0m \u001b[32m━━━━━━━━━━━━━━━━━━━━\u001b[0m\u001b[37m\u001b[0m \u001b[1m41s\u001b[0m 3ms/step - loss: 681811968.0000 - mean_absolute_error: 14224.5186 - mean_absolute_percentage_error: 483118944.0000 - val_loss: 695999936.0000 - val_mean_absolute_error: 14385.8301 - val_mean_absolute_percentage_error: 277632256.0000\n",
            "Epoch 38/100\n",
            "\u001b[1m8432/8432\u001b[0m \u001b[32m━━━━━━━━━━━━━━━━━━━━\u001b[0m\u001b[37m\u001b[0m \u001b[1m18s\u001b[0m 2ms/step - loss: 680060160.0000 - mean_absolute_error: 14190.7588 - mean_absolute_percentage_error: 584459968.0000 - val_loss: 694065088.0000 - val_mean_absolute_error: 14354.9521 - val_mean_absolute_percentage_error: 285161920.0000\n",
            "Epoch 39/100\n",
            "\u001b[1m8432/8432\u001b[0m \u001b[32m━━━━━━━━━━━━━━━━━━━━\u001b[0m\u001b[37m\u001b[0m \u001b[1m19s\u001b[0m 2ms/step - loss: 684467520.0000 - mean_absolute_error: 14189.6777 - mean_absolute_percentage_error: 611147328.0000 - val_loss: 692140416.0000 - val_mean_absolute_error: 14324.7207 - val_mean_absolute_percentage_error: 292695200.0000\n",
            "Epoch 40/100\n",
            "\u001b[1m8432/8432\u001b[0m \u001b[32m━━━━━━━━━━━━━━━━━━━━\u001b[0m\u001b[37m\u001b[0m \u001b[1m23s\u001b[0m 3ms/step - loss: 685423872.0000 - mean_absolute_error: 14196.3164 - mean_absolute_percentage_error: 606500864.0000 - val_loss: 690227136.0000 - val_mean_absolute_error: 14295.1523 - val_mean_absolute_percentage_error: 300220416.0000\n",
            "Epoch 41/100\n",
            "\u001b[1m8432/8432\u001b[0m \u001b[32m━━━━━━━━━━━━━━━━━━━━\u001b[0m\u001b[37m\u001b[0m \u001b[1m18s\u001b[0m 2ms/step - loss: 690732352.0000 - mean_absolute_error: 14252.8975 - mean_absolute_percentage_error: 825214400.0000 - val_loss: 688327552.0000 - val_mean_absolute_error: 14266.2158 - val_mean_absolute_percentage_error: 307739424.0000\n",
            "Epoch 42/100\n",
            "\u001b[1m8432/8432\u001b[0m \u001b[32m━━━━━━━━━━━━━━━━━━━━\u001b[0m\u001b[37m\u001b[0m \u001b[1m20s\u001b[0m 2ms/step - loss: 672025856.0000 - mean_absolute_error: 14052.6650 - mean_absolute_percentage_error: 420785440.0000 - val_loss: 686436416.0000 - val_mean_absolute_error: 14237.8779 - val_mean_absolute_percentage_error: 315262336.0000\n",
            "Epoch 43/100\n",
            "\u001b[1m8432/8432\u001b[0m \u001b[32m━━━━━━━━━━━━━━━━━━━━\u001b[0m\u001b[37m\u001b[0m \u001b[1m22s\u001b[0m 3ms/step - loss: 666505216.0000 - mean_absolute_error: 14042.8555 - mean_absolute_percentage_error: 726377792.0000 - val_loss: 684559808.0000 - val_mean_absolute_error: 14210.1260 - val_mean_absolute_percentage_error: 322773120.0000\n",
            "Epoch 44/100\n",
            "\u001b[1m8432/8432\u001b[0m \u001b[32m━━━━━━━━━━━━━━━━━━━━\u001b[0m\u001b[37m\u001b[0m \u001b[1m40s\u001b[0m 3ms/step - loss: 680074624.0000 - mean_absolute_error: 14098.9600 - mean_absolute_percentage_error: 677009152.0000 - val_loss: 682693184.0000 - val_mean_absolute_error: 14183.0645 - val_mean_absolute_percentage_error: 330281504.0000\n",
            "Epoch 45/100\n",
            "\u001b[1m8432/8432\u001b[0m \u001b[32m━━━━━━━━━━━━━━━━━━━━\u001b[0m\u001b[37m\u001b[0m \u001b[1m39s\u001b[0m 2ms/step - loss: 674552576.0000 - mean_absolute_error: 14070.7969 - mean_absolute_percentage_error: 678266368.0000 - val_loss: 680838912.0000 - val_mean_absolute_error: 14156.5234 - val_mean_absolute_percentage_error: 337787072.0000\n",
            "Epoch 46/100\n",
            "\u001b[1m8432/8432\u001b[0m \u001b[32m━━━━━━━━━━━━━━━━━━━━\u001b[0m\u001b[37m\u001b[0m \u001b[1m20s\u001b[0m 2ms/step - loss: 672994816.0000 - mean_absolute_error: 14068.7012 - mean_absolute_percentage_error: 830332224.0000 - val_loss: 678991168.0000 - val_mean_absolute_error: 14130.5283 - val_mean_absolute_percentage_error: 345300192.0000\n",
            "Epoch 47/100\n",
            "\u001b[1m8432/8432\u001b[0m \u001b[32m━━━━━━━━━━━━━━━━━━━━\u001b[0m\u001b[37m\u001b[0m \u001b[1m19s\u001b[0m 2ms/step - loss: 670926656.0000 - mean_absolute_error: 13993.5576 - mean_absolute_percentage_error: 518293056.0000 - val_loss: 677158336.0000 - val_mean_absolute_error: 14105.0762 - val_mean_absolute_percentage_error: 352803360.0000\n",
            "Epoch 48/100\n",
            "\u001b[1m8432/8432\u001b[0m \u001b[32m━━━━━━━━━━━━━━━━━━━━\u001b[0m\u001b[37m\u001b[0m \u001b[1m24s\u001b[0m 3ms/step - loss: 668550016.0000 - mean_absolute_error: 13975.7637 - mean_absolute_percentage_error: 823149696.0000 - val_loss: 675336768.0000 - val_mean_absolute_error: 14080.2686 - val_mean_absolute_percentage_error: 360299296.0000\n",
            "Epoch 49/100\n",
            "\u001b[1m8432/8432\u001b[0m \u001b[32m━━━━━━━━━━━━━━━━━━━━\u001b[0m\u001b[37m\u001b[0m \u001b[1m38s\u001b[0m 2ms/step - loss: 673796160.0000 - mean_absolute_error: 14009.2217 - mean_absolute_percentage_error: 599420864.0000 - val_loss: 673527360.0000 - val_mean_absolute_error: 14056.0303 - val_mean_absolute_percentage_error: 367789344.0000\n",
            "Epoch 50/100\n",
            "\u001b[1m8432/8432\u001b[0m \u001b[32m━━━━━━━━━━━━━━━━━━━━\u001b[0m\u001b[37m\u001b[0m \u001b[1m20s\u001b[0m 2ms/step - loss: 654819008.0000 - mean_absolute_error: 13870.8877 - mean_absolute_percentage_error: 764025984.0000 - val_loss: 671728128.0000 - val_mean_absolute_error: 14032.3857 - val_mean_absolute_percentage_error: 375279488.0000\n",
            "Epoch 51/100\n",
            "\u001b[1m8432/8432\u001b[0m \u001b[32m━━━━━━━━━━━━━━━━━━━━\u001b[0m\u001b[37m\u001b[0m \u001b[1m19s\u001b[0m 2ms/step - loss: 662105792.0000 - mean_absolute_error: 13853.2432 - mean_absolute_percentage_error: 759033536.0000 - val_loss: 669939264.0000 - val_mean_absolute_error: 14009.2412 - val_mean_absolute_percentage_error: 382772544.0000\n",
            "Epoch 52/100\n",
            "\u001b[1m8432/8432\u001b[0m \u001b[32m━━━━━━━━━━━━━━━━━━━━\u001b[0m\u001b[37m\u001b[0m \u001b[1m21s\u001b[0m 2ms/step - loss: 659016256.0000 - mean_absolute_error: 13879.7617 - mean_absolute_percentage_error: 643970432.0000 - val_loss: 668164032.0000 - val_mean_absolute_error: 13986.6865 - val_mean_absolute_percentage_error: 390249536.0000\n",
            "Epoch 53/100\n",
            "\u001b[1m8432/8432\u001b[0m \u001b[32m━━━━━━━━━━━━━━━━━━━━\u001b[0m\u001b[37m\u001b[0m \u001b[1m20s\u001b[0m 2ms/step - loss: 656586048.0000 - mean_absolute_error: 13844.2539 - mean_absolute_percentage_error: 885855616.0000 - val_loss: 666402816.0000 - val_mean_absolute_error: 13964.6709 - val_mean_absolute_percentage_error: 397715712.0000\n",
            "Epoch 54/100\n",
            "\u001b[1m8432/8432\u001b[0m \u001b[32m━━━━━━━━━━━━━━━━━━━━\u001b[0m\u001b[37m\u001b[0m \u001b[1m21s\u001b[0m 2ms/step - loss: 656379456.0000 - mean_absolute_error: 13838.6484 - mean_absolute_percentage_error: 903030336.0000 - val_loss: 664649856.0000 - val_mean_absolute_error: 13943.2676 - val_mean_absolute_percentage_error: 405181568.0000\n",
            "Epoch 55/100\n",
            "\u001b[1m8432/8432\u001b[0m \u001b[32m━━━━━━━━━━━━━━━━━━━━\u001b[0m\u001b[37m\u001b[0m \u001b[1m22s\u001b[0m 2ms/step - loss: 659268416.0000 - mean_absolute_error: 13844.6533 - mean_absolute_percentage_error: 843298944.0000 - val_loss: 662907392.0000 - val_mean_absolute_error: 13922.3203 - val_mean_absolute_percentage_error: 412654688.0000\n",
            "Epoch 56/100\n",
            "\u001b[1m8432/8432\u001b[0m \u001b[32m━━━━━━━━━━━━━━━━━━━━\u001b[0m\u001b[37m\u001b[0m \u001b[1m19s\u001b[0m 2ms/step - loss: 655917440.0000 - mean_absolute_error: 13762.6045 - mean_absolute_percentage_error: 757999808.0000 - val_loss: 661174592.0000 - val_mean_absolute_error: 13901.8906 - val_mean_absolute_percentage_error: 420124096.0000\n",
            "Epoch 57/100\n",
            "\u001b[1m8432/8432\u001b[0m \u001b[32m━━━━━━━━━━━━━━━━━━━━\u001b[0m\u001b[37m\u001b[0m \u001b[1m19s\u001b[0m 2ms/step - loss: 655779776.0000 - mean_absolute_error: 13814.2002 - mean_absolute_percentage_error: 879477760.0000 - val_loss: 659458048.0000 - val_mean_absolute_error: 13882.0107 - val_mean_absolute_percentage_error: 427572096.0000\n",
            "Epoch 58/100\n",
            "\u001b[1m8432/8432\u001b[0m \u001b[32m━━━━━━━━━━━━━━━━━━━━\u001b[0m\u001b[37m\u001b[0m \u001b[1m22s\u001b[0m 2ms/step - loss: 652005952.0000 - mean_absolute_error: 13783.9355 - mean_absolute_percentage_error: 957490240.0000 - val_loss: 657750720.0000 - val_mean_absolute_error: 13862.6426 - val_mean_absolute_percentage_error: 435025024.0000\n",
            "Epoch 59/100\n",
            "\u001b[1m8432/8432\u001b[0m \u001b[32m━━━━━━━━━━━━━━━━━━━━\u001b[0m\u001b[37m\u001b[0m \u001b[1m19s\u001b[0m 2ms/step - loss: 649454464.0000 - mean_absolute_error: 13774.8047 - mean_absolute_percentage_error: 830264192.0000 - val_loss: 656056128.0000 - val_mean_absolute_error: 13843.7734 - val_mean_absolute_percentage_error: 442466592.0000\n",
            "Epoch 60/100\n",
            "\u001b[1m8432/8432\u001b[0m \u001b[32m━━━━━━━━━━━━━━━━━━━━\u001b[0m\u001b[37m\u001b[0m \u001b[1m19s\u001b[0m 2ms/step - loss: 651068736.0000 - mean_absolute_error: 13705.4043 - mean_absolute_percentage_error: 824223552.0000 - val_loss: 654372416.0000 - val_mean_absolute_error: 13825.3857 - val_mean_absolute_percentage_error: 449905376.0000\n",
            "Epoch 61/100\n",
            "\u001b[1m8432/8432\u001b[0m \u001b[32m━━━━━━━━━━━━━━━━━━━━\u001b[0m\u001b[37m\u001b[0m \u001b[1m21s\u001b[0m 3ms/step - loss: 635014656.0000 - mean_absolute_error: 13633.5088 - mean_absolute_percentage_error: 770042432.0000 - val_loss: 652698560.0000 - val_mean_absolute_error: 13807.5508 - val_mean_absolute_percentage_error: 457346656.0000\n",
            "Epoch 62/100\n",
            "\u001b[1m8432/8432\u001b[0m \u001b[32m━━━━━━━━━━━━━━━━━━━━\u001b[0m\u001b[37m\u001b[0m \u001b[1m19s\u001b[0m 2ms/step - loss: 646186112.0000 - mean_absolute_error: 13662.7275 - mean_absolute_percentage_error: 712775168.0000 - val_loss: 651037632.0000 - val_mean_absolute_error: 13790.2373 - val_mean_absolute_percentage_error: 464777536.0000\n",
            "Epoch 63/100\n",
            "\u001b[1m8432/8432\u001b[0m \u001b[32m━━━━━━━━━━━━━━━━━━━━\u001b[0m\u001b[37m\u001b[0m \u001b[1m19s\u001b[0m 2ms/step - loss: 644892288.0000 - mean_absolute_error: 13704.3535 - mean_absolute_percentage_error: 991271424.0000 - val_loss: 649384832.0000 - val_mean_absolute_error: 13773.3584 - val_mean_absolute_percentage_error: 472217248.0000\n",
            "Epoch 64/100\n",
            "\u001b[1m8432/8432\u001b[0m \u001b[32m━━━━━━━━━━━━━━━━━━━━\u001b[0m\u001b[37m\u001b[0m \u001b[1m22s\u001b[0m 3ms/step - loss: 650620544.0000 - mean_absolute_error: 13709.3262 - mean_absolute_percentage_error: 1047155904.0000 - val_loss: 647747968.0000 - val_mean_absolute_error: 13757.0508 - val_mean_absolute_percentage_error: 479631264.0000\n",
            "Epoch 65/100\n",
            "\u001b[1m8432/8432\u001b[0m \u001b[32m━━━━━━━━━━━━━━━━━━━━\u001b[0m\u001b[37m\u001b[0m \u001b[1m19s\u001b[0m 2ms/step - loss: 635368576.0000 - mean_absolute_error: 13642.3047 - mean_absolute_percentage_error: 731620736.0000 - val_loss: 646118528.0000 - val_mean_absolute_error: 13741.2012 - val_mean_absolute_percentage_error: 487055008.0000\n",
            "Epoch 66/100\n",
            "\u001b[1m8432/8432\u001b[0m \u001b[32m━━━━━━━━━━━━━━━━━━━━\u001b[0m\u001b[37m\u001b[0m \u001b[1m19s\u001b[0m 2ms/step - loss: 634853184.0000 - mean_absolute_error: 13633.0107 - mean_absolute_percentage_error: 818469952.0000 - val_loss: 644502208.0000 - val_mean_absolute_error: 13725.8184 - val_mean_absolute_percentage_error: 494466336.0000\n",
            "Epoch 67/100\n",
            "\u001b[1m8432/8432\u001b[0m \u001b[32m━━━━━━━━━━━━━━━━━━━━\u001b[0m\u001b[37m\u001b[0m \u001b[1m24s\u001b[0m 3ms/step - loss: 638456640.0000 - mean_absolute_error: 13560.9648 - mean_absolute_percentage_error: 711613888.0000 - val_loss: 642895040.0000 - val_mean_absolute_error: 13710.8154 - val_mean_absolute_percentage_error: 501888576.0000\n",
            "Epoch 68/100\n",
            "\u001b[1m8432/8432\u001b[0m \u001b[32m━━━━━━━━━━━━━━━━━━━━\u001b[0m\u001b[37m\u001b[0m \u001b[1m19s\u001b[0m 2ms/step - loss: 643535104.0000 - mean_absolute_error: 13634.6084 - mean_absolute_percentage_error: 1178804352.0000 - val_loss: 641302016.0000 - val_mean_absolute_error: 13696.2939 - val_mean_absolute_percentage_error: 509284192.0000\n",
            "Epoch 69/100\n",
            "\u001b[1m8432/8432\u001b[0m \u001b[32m━━━━━━━━━━━━━━━━━━━━\u001b[0m\u001b[37m\u001b[0m \u001b[1m20s\u001b[0m 2ms/step - loss: 622120128.0000 - mean_absolute_error: 13527.4258 - mean_absolute_percentage_error: 941542784.0000 - val_loss: 639721472.0000 - val_mean_absolute_error: 13682.1943 - val_mean_absolute_percentage_error: 516671552.0000\n",
            "Epoch 70/100\n",
            "\u001b[1m8432/8432\u001b[0m \u001b[32m━━━━━━━━━━━━━━━━━━━━\u001b[0m\u001b[37m\u001b[0m \u001b[1m21s\u001b[0m 2ms/step - loss: 628221568.0000 - mean_absolute_error: 13543.1621 - mean_absolute_percentage_error: 912205760.0000 - val_loss: 638148480.0000 - val_mean_absolute_error: 13668.5732 - val_mean_absolute_percentage_error: 524076096.0000\n",
            "Epoch 71/100\n",
            "\u001b[1m8432/8432\u001b[0m \u001b[32m━━━━━━━━━━━━━━━━━━━━\u001b[0m\u001b[37m\u001b[0m \u001b[1m20s\u001b[0m 2ms/step - loss: 622831232.0000 - mean_absolute_error: 13505.4727 - mean_absolute_percentage_error: 765739200.0000 - val_loss: 636586496.0000 - val_mean_absolute_error: 13655.4062 - val_mean_absolute_percentage_error: 531473088.0000\n",
            "Epoch 72/100\n",
            "\u001b[1m8432/8432\u001b[0m \u001b[32m━━━━━━━━━━━━━━━━━━━━\u001b[0m\u001b[37m\u001b[0m \u001b[1m22s\u001b[0m 3ms/step - loss: 621738368.0000 - mean_absolute_error: 13515.6914 - mean_absolute_percentage_error: 991029312.0000 - val_loss: 635040128.0000 - val_mean_absolute_error: 13642.7305 - val_mean_absolute_percentage_error: 538841664.0000\n",
            "Epoch 73/100\n",
            "\u001b[1m8432/8432\u001b[0m \u001b[32m━━━━━━━━━━━━━━━━━━━━\u001b[0m\u001b[37m\u001b[0m \u001b[1m20s\u001b[0m 2ms/step - loss: 628368960.0000 - mean_absolute_error: 13490.1455 - mean_absolute_percentage_error: 1018450304.0000 - val_loss: 633502208.0000 - val_mean_absolute_error: 13630.4570 - val_mean_absolute_percentage_error: 546227776.0000\n",
            "Epoch 74/100\n",
            "\u001b[1m8432/8432\u001b[0m \u001b[32m━━━━━━━━━━━━━━━━━━━━\u001b[0m\u001b[37m\u001b[0m \u001b[1m20s\u001b[0m 2ms/step - loss: 624333120.0000 - mean_absolute_error: 13503.0557 - mean_absolute_percentage_error: 1365272576.0000 - val_loss: 631978880.0000 - val_mean_absolute_error: 13618.6748 - val_mean_absolute_percentage_error: 553576704.0000\n",
            "Epoch 75/100\n",
            "\u001b[1m8432/8432\u001b[0m \u001b[32m━━━━━━━━━━━━━━━━━━━━\u001b[0m\u001b[37m\u001b[0m \u001b[1m22s\u001b[0m 2ms/step - loss: 623348416.0000 - mean_absolute_error: 13502.0713 - mean_absolute_percentage_error: 990402624.0000 - val_loss: 630465792.0000 - val_mean_absolute_error: 13607.3164 - val_mean_absolute_percentage_error: 560933760.0000\n",
            "Epoch 76/100\n",
            "\u001b[1m8432/8432\u001b[0m \u001b[32m━━━━━━━━━━━━━━━━━━━━\u001b[0m\u001b[37m\u001b[0m \u001b[1m19s\u001b[0m 2ms/step - loss: 625893760.0000 - mean_absolute_error: 13549.8809 - mean_absolute_percentage_error: 1231940736.0000 - val_loss: 628964736.0000 - val_mean_absolute_error: 13596.3857 - val_mean_absolute_percentage_error: 568276288.0000\n",
            "Epoch 77/100\n",
            "\u001b[1m8432/8432\u001b[0m \u001b[32m━━━━━━━━━━━━━━━━━━━━\u001b[0m\u001b[37m\u001b[0m \u001b[1m19s\u001b[0m 2ms/step - loss: 621689984.0000 - mean_absolute_error: 13487.8682 - mean_absolute_percentage_error: 1018403392.0000 - val_loss: 627475264.0000 - val_mean_absolute_error: 13585.8184 - val_mean_absolute_percentage_error: 575616064.0000\n",
            "Epoch 78/100\n",
            "\u001b[1m8432/8432\u001b[0m \u001b[32m━━━━━━━━━━━━━━━━━━━━\u001b[0m\u001b[37m\u001b[0m \u001b[1m21s\u001b[0m 2ms/step - loss: 620660160.0000 - mean_absolute_error: 13470.6143 - mean_absolute_percentage_error: 1616578560.0000 - val_loss: 625990976.0000 - val_mean_absolute_error: 13575.5967 - val_mean_absolute_percentage_error: 582979264.0000\n",
            "Epoch 79/100\n",
            "\u001b[1m8432/8432\u001b[0m \u001b[32m━━━━━━━━━━━━━━━━━━━━\u001b[0m\u001b[37m\u001b[0m \u001b[1m19s\u001b[0m 2ms/step - loss: 620278272.0000 - mean_absolute_error: 13482.7842 - mean_absolute_percentage_error: 1135309440.0000 - val_loss: 624521600.0000 - val_mean_absolute_error: 13565.8203 - val_mean_absolute_percentage_error: 590312320.0000\n",
            "Epoch 80/100\n",
            "\u001b[1m8432/8432\u001b[0m \u001b[32m━━━━━━━━━━━━━━━━━━━━\u001b[0m\u001b[37m\u001b[0m \u001b[1m19s\u001b[0m 2ms/step - loss: 617013504.0000 - mean_absolute_error: 13443.4082 - mean_absolute_percentage_error: 1289946240.0000 - val_loss: 623062848.0000 - val_mean_absolute_error: 13556.3887 - val_mean_absolute_percentage_error: 597653824.0000\n",
            "Epoch 81/100\n",
            "\u001b[1m8432/8432\u001b[0m \u001b[32m━━━━━━━━━━━━━━━━━━━━\u001b[0m\u001b[37m\u001b[0m \u001b[1m21s\u001b[0m 2ms/step - loss: 618823360.0000 - mean_absolute_error: 13424.7002 - mean_absolute_percentage_error: 1139635072.0000 - val_loss: 621615296.0000 - val_mean_absolute_error: 13547.3682 - val_mean_absolute_percentage_error: 604978176.0000\n",
            "Epoch 82/100\n",
            "\u001b[1m8432/8432\u001b[0m \u001b[32m━━━━━━━━━━━━━━━━━━━━\u001b[0m\u001b[37m\u001b[0m \u001b[1m19s\u001b[0m 2ms/step - loss: 619163008.0000 - mean_absolute_error: 13372.2646 - mean_absolute_percentage_error: 1428703360.0000 - val_loss: 620179072.0000 - val_mean_absolute_error: 13538.7744 - val_mean_absolute_percentage_error: 612302720.0000\n",
            "Epoch 83/100\n",
            "\u001b[1m8432/8432\u001b[0m \u001b[32m━━━━━━━━━━━━━━━━━━━━\u001b[0m\u001b[37m\u001b[0m \u001b[1m24s\u001b[0m 3ms/step - loss: 617787904.0000 - mean_absolute_error: 13415.2900 - mean_absolute_percentage_error: 1255264256.0000 - val_loss: 618757504.0000 - val_mean_absolute_error: 13530.5713 - val_mean_absolute_percentage_error: 619599296.0000\n",
            "Epoch 84/100\n",
            "\u001b[1m8432/8432\u001b[0m \u001b[32m━━━━━━━━━━━━━━━━━━━━\u001b[0m\u001b[37m\u001b[0m \u001b[1m41s\u001b[0m 3ms/step - loss: 620401152.0000 - mean_absolute_error: 13455.7041 - mean_absolute_percentage_error: 1326996864.0000 - val_loss: 617348224.0000 - val_mean_absolute_error: 13522.7344 - val_mean_absolute_percentage_error: 626881984.0000\n",
            "Epoch 85/100\n",
            "\u001b[1m8432/8432\u001b[0m \u001b[32m━━━━━━━━━━━━━━━━━━━━\u001b[0m\u001b[37m\u001b[0m \u001b[1m19s\u001b[0m 2ms/step - loss: 606113472.0000 - mean_absolute_error: 13420.0674 - mean_absolute_percentage_error: 1262559744.0000 - val_loss: 615947584.0000 - val_mean_absolute_error: 13515.2373 - val_mean_absolute_percentage_error: 634174144.0000\n",
            "Epoch 86/100\n",
            "\u001b[1m8432/8432\u001b[0m \u001b[32m━━━━━━━━━━━━━━━━━━━━\u001b[0m\u001b[37m\u001b[0m \u001b[1m19s\u001b[0m 2ms/step - loss: 603576832.0000 - mean_absolute_error: 13318.8516 - mean_absolute_percentage_error: 1095697792.0000 - val_loss: 614558016.0000 - val_mean_absolute_error: 13508.0156 - val_mean_absolute_percentage_error: 641459584.0000\n",
            "Epoch 87/100\n",
            "\u001b[1m8432/8432\u001b[0m \u001b[32m━━━━━━━━━━━━━━━━━━━━\u001b[0m\u001b[37m\u001b[0m \u001b[1m22s\u001b[0m 2ms/step - loss: 615840768.0000 - mean_absolute_error: 13449.7256 - mean_absolute_percentage_error: 969870784.0000 - val_loss: 613183936.0000 - val_mean_absolute_error: 13501.1855 - val_mean_absolute_percentage_error: 648716416.0000\n",
            "Epoch 88/100\n",
            "\u001b[1m8432/8432\u001b[0m \u001b[32m━━━━━━━━━━━━━━━━━━━━\u001b[0m\u001b[37m\u001b[0m \u001b[1m40s\u001b[0m 2ms/step - loss: 604074112.0000 - mean_absolute_error: 13363.9189 - mean_absolute_percentage_error: 1141270784.0000 - val_loss: 611816256.0000 - val_mean_absolute_error: 13494.6826 - val_mean_absolute_percentage_error: 655986432.0000\n",
            "Epoch 89/100\n",
            "\u001b[1m8432/8432\u001b[0m \u001b[32m━━━━━━━━━━━━━━━━━━━━\u001b[0m\u001b[37m\u001b[0m \u001b[1m20s\u001b[0m 2ms/step - loss: 610207552.0000 - mean_absolute_error: 13387.8135 - mean_absolute_percentage_error: 1220278656.0000 - val_loss: 610460992.0000 - val_mean_absolute_error: 13488.5527 - val_mean_absolute_percentage_error: 663245696.0000\n",
            "Epoch 90/100\n",
            "\u001b[1m8432/8432\u001b[0m \u001b[32m━━━━━━━━━━━━━━━━━━━━\u001b[0m\u001b[37m\u001b[0m \u001b[1m20s\u001b[0m 2ms/step - loss: 593414336.0000 - mean_absolute_error: 13270.3262 - mean_absolute_percentage_error: 1442521088.0000 - val_loss: 609116480.0000 - val_mean_absolute_error: 13482.7510 - val_mean_absolute_percentage_error: 670497664.0000\n",
            "Epoch 91/100\n",
            "\u001b[1m8432/8432\u001b[0m \u001b[32m━━━━━━━━━━━━━━━━━━━━\u001b[0m\u001b[37m\u001b[0m \u001b[1m22s\u001b[0m 3ms/step - loss: 595290048.0000 - mean_absolute_error: 13373.3643 - mean_absolute_percentage_error: 1510575360.0000 - val_loss: 607784000.0000 - val_mean_absolute_error: 13477.2988 - val_mean_absolute_percentage_error: 677739712.0000\n",
            "Epoch 92/100\n",
            "\u001b[1m8432/8432\u001b[0m \u001b[32m━━━━━━━━━━━━━━━━━━━━\u001b[0m\u001b[37m\u001b[0m \u001b[1m19s\u001b[0m 2ms/step - loss: 596650880.0000 - mean_absolute_error: 13329.0312 - mean_absolute_percentage_error: 1429001344.0000 - val_loss: 606461824.0000 - val_mean_absolute_error: 13472.1504 - val_mean_absolute_percentage_error: 684975104.0000\n",
            "Epoch 93/100\n",
            "\u001b[1m8432/8432\u001b[0m \u001b[32m━━━━━━━━━━━━━━━━━━━━\u001b[0m\u001b[37m\u001b[0m \u001b[1m19s\u001b[0m 2ms/step - loss: 592520320.0000 - mean_absolute_error: 13346.4404 - mean_absolute_percentage_error: 1529206656.0000 - val_loss: 605151744.0000 - val_mean_absolute_error: 13467.3936 - val_mean_absolute_percentage_error: 692206400.0000\n",
            "Epoch 94/100\n",
            "\u001b[1m8432/8432\u001b[0m \u001b[32m━━━━━━━━━━━━━━━━━━━━\u001b[0m\u001b[37m\u001b[0m \u001b[1m24s\u001b[0m 3ms/step - loss: 600272960.0000 - mean_absolute_error: 13388.2705 - mean_absolute_percentage_error: 1054592000.0000 - val_loss: 603852480.0000 - val_mean_absolute_error: 13462.9756 - val_mean_absolute_percentage_error: 699425536.0000\n",
            "Epoch 95/100\n",
            "\u001b[1m8432/8432\u001b[0m \u001b[32m━━━━━━━━━━━━━━━━━━━━\u001b[0m\u001b[37m\u001b[0m \u001b[1m19s\u001b[0m 2ms/step - loss: 600654720.0000 - mean_absolute_error: 13399.6562 - mean_absolute_percentage_error: 1168198912.0000 - val_loss: 602563712.0000 - val_mean_absolute_error: 13458.8672 - val_mean_absolute_percentage_error: 706638336.0000\n",
            "Epoch 96/100\n",
            "\u001b[1m8432/8432\u001b[0m \u001b[32m━━━━━━━━━━━━━━━━━━━━\u001b[0m\u001b[37m\u001b[0m \u001b[1m21s\u001b[0m 2ms/step - loss: 600299072.0000 - mean_absolute_error: 13372.1543 - mean_absolute_percentage_error: 1165651840.0000 - val_loss: 601288512.0000 - val_mean_absolute_error: 13455.1006 - val_mean_absolute_percentage_error: 713835968.0000\n",
            "Epoch 97/100\n",
            "\u001b[1m8432/8432\u001b[0m \u001b[32m━━━━━━━━━━━━━━━━━━━━\u001b[0m\u001b[37m\u001b[0m \u001b[1m21s\u001b[0m 2ms/step - loss: 604879872.0000 - mean_absolute_error: 13409.1338 - mean_absolute_percentage_error: 1429189504.0000 - val_loss: 600021056.0000 - val_mean_absolute_error: 13451.6592 - val_mean_absolute_percentage_error: 721040320.0000\n",
            "Epoch 98/100\n",
            "\u001b[1m8432/8432\u001b[0m \u001b[32m━━━━━━━━━━━━━━━━━━━━\u001b[0m\u001b[37m\u001b[0m \u001b[1m19s\u001b[0m 2ms/step - loss: 601209664.0000 - mean_absolute_error: 13400.5410 - mean_absolute_percentage_error: 1355731712.0000 - val_loss: 598770752.0000 - val_mean_absolute_error: 13448.5771 - val_mean_absolute_percentage_error: 728201344.0000\n",
            "Epoch 99/100\n",
            "\u001b[1m8432/8432\u001b[0m \u001b[32m━━━━━━━━━━━━━━━━━━━━\u001b[0m\u001b[37m\u001b[0m \u001b[1m20s\u001b[0m 2ms/step - loss: 593073728.0000 - mean_absolute_error: 13331.0547 - mean_absolute_percentage_error: 1419976320.0000 - val_loss: 597522496.0000 - val_mean_absolute_error: 13445.8496 - val_mean_absolute_percentage_error: 735396608.0000\n",
            "Epoch 100/100\n",
            "\u001b[1m8432/8432\u001b[0m \u001b[32m━━━━━━━━━━━━━━━━━━━━\u001b[0m\u001b[37m\u001b[0m \u001b[1m21s\u001b[0m 2ms/step - loss: 593594240.0000 - mean_absolute_error: 13312.3135 - mean_absolute_percentage_error: 1409141120.0000 - val_loss: 596295104.0000 - val_mean_absolute_error: 13443.4727 - val_mean_absolute_percentage_error: 742541120.0000\n"
          ]
        }
      ],
      "source": [
        "result_sig=model_sig.fit(x_train_df_mm,y_train,epochs=100,validation_split=0.2,batch_size=32)"
      ]
    },
    {
      "cell_type": "code",
      "execution_count": 27,
      "metadata": {
        "colab": {
          "base_uri": "https://localhost:8080/",
          "height": 445
        },
        "id": "0V1EnoebFTW-",
        "outputId": "cec45444-07c5-45ee-f3b1-e62cb51c34a7"
      },
      "outputs": [
        {
          "output_type": "display_data",
          "data": {
            "text/plain": [
              "<Figure size 640x480 with 1 Axes>"
            ],
            "image/png": "[encoded data removed]"
          },
          "metadata": {}
        }
      ],
      "source": [
        "result_sig_df=pd.DataFrame(result_sig.history)\n",
        "plt.plot(range(1,101),result_sig_df['loss'],label=\"train_loss\")\n",
        "plt.plot(range(1,101),result_sig_df['val_loss'],label=\"val_loss\")\n",
        "plt.legend()\n",
        "plt.show()"
      ]
    },
    {
      "cell_type": "code",
      "source": [
        "result_sig_df.iloc[-1]"
      ],
      "metadata": {
        "colab": {
          "base_uri": "https://localhost:8080/",
          "height": 272
        },
        "id": "WanpbP5FkMvX",
        "outputId": "cca4448b-e8c8-4c93-a5f9-c47d2f99b109"
      },
      "execution_count": null,
      "outputs": [
        {
          "output_type": "execute_result",
          "data": {
            "text/plain": [
              "loss                                  5.134689e+08\n",
              "mean_absolute_error                   1.509421e+04\n",
              "mean_absolute_percentage_error        3.007992e+09\n",
              "val_loss                              5.166761e+08\n",
              "val_mean_absolute_error               1.517904e+04\n",
              "val_mean_absolute_percentage_error    2.358894e+09\n",
              "Name: 99, dtype: float64"
            ],
            "text/html": [
              "<div>\n",
              "<style scoped>\n",
              "    .dataframe tbody tr th:only-of-type {\n",
              "        vertical-align: middle;\n",
              "    }\n",
              "\n",
              "    .dataframe tbody tr th {\n",
              "        vertical-align: top;\n",
              "    }\n",
              "\n",
              "    .dataframe thead th {\n",
              "        text-align: right;\n",
              "    }\n",
              "</style>\n",
              "<table border=\"1\" class=\"dataframe\">\n",
              "  <thead>\n",
              "    <tr style=\"text-align: right;\">\n",
              "      <th></th>\n",
              "      <th>99</th>\n",
              "    </tr>\n",
              "  </thead>\n",
              "  <tbody>\n",
              "    <tr>\n",
              "      <th>loss</th>\n",
              "      <td>5.134689e+08</td>\n",
              "    </tr>\n",
              "    <tr>\n",
              "      <th>mean_absolute_error</th>\n",
              "      <td>1.509421e+04</td>\n",
              "    </tr>\n",
              "    <tr>\n",
              "      <th>mean_absolute_percentage_error</th>\n",
              "      <td>3.007992e+09</td>\n",
              "    </tr>\n",
              "    <tr>\n",
              "      <th>val_loss</th>\n",
              "      <td>5.166761e+08</td>\n",
              "    </tr>\n",
              "    <tr>\n",
              "      <th>val_mean_absolute_error</th>\n",
              "      <td>1.517904e+04</td>\n",
              "    </tr>\n",
              "    <tr>\n",
              "      <th>val_mean_absolute_percentage_error</th>\n",
              "      <td>2.358894e+09</td>\n",
              "    </tr>\n",
              "  </tbody>\n",
              "</table>\n",
              "</div><br><label><b>dtype:</b> float64</label>"
            ]
          },
          "metadata": {},
          "execution_count": 74
        }
      ]
    },
    {
      "cell_type": "code",
      "execution_count": null,
      "metadata": {
        "colab": {
          "base_uri": "https://localhost:8080/"
        },
        "id": "UY8UOPMGFTSe",
        "outputId": "30ec6919-c298-4ebb-bc40-6397b82ca11a"
      },
      "outputs": [
        {
          "output_type": "stream",
          "name": "stderr",
          "text": [
            "/usr/local/lib/python3.10/dist-packages/sklearn/base.py:465: UserWarning: X does not have valid feature names, but MinMaxScaler was fitted with feature names\n",
            "  warnings.warn(\n"
          ]
        },
        {
          "output_type": "stream",
          "name": "stdout",
          "text": [
            "\u001b[1m1/1\u001b[0m \u001b[32m━━━━━━━━━━━━━━━━━━━━\u001b[0m\u001b[37m\u001b[0m \u001b[1m0s\u001b[0m 60ms/step\n"
          ]
        },
        {
          "output_type": "execute_result",
          "data": {
            "text/plain": [
              "array([[-0.41732907]], dtype=float32)"
            ]
          },
          "metadata": {},
          "execution_count": 38
        }
      ],
      "source": [
        "pred=[1,20,2,151320,47,3,4870,24160,380,1190,4158,220,8,0,5,2,2012]\n",
        "#pred=[1,1,1,151315,42.31,2.572,4866.2909,24157.0344,376.8238,1187.4454,4158.9236,211.096358,8.106,0,5,2,2010]\n",
        "te=pd.DataFrame(pred).T\n",
        "te_ss=scaler_mm.transform(te)\n",
        "te_df=pd.DataFrame(te_ss, columns=x_train_df.columns)\n",
        "#te = np.array(te, dtype=np.float32)\n",
        "model_sig.predict(te)\n"
      ]
    },
    {
      "cell_type": "code",
      "execution_count": null,
      "metadata": {
        "id": "4Fs9F052NSOc"
      },
      "outputs": [],
      "source": []
    },
    {
      "cell_type": "code",
      "execution_count": null,
      "metadata": {
        "id": "ZmB2Em-1YWrU"
      },
      "outputs": [],
      "source": [
        "# skewed dataset"
      ]
    },
    {
      "cell_type": "code",
      "execution_count": null,
      "metadata": {
        "id": "_VU9jxNPYBEg"
      },
      "outputs": [],
      "source": [
        "sales_skew=pd.read_csv('/content/final_project_skewed.csv')"
      ]
    },
    {
      "cell_type": "code",
      "execution_count": null,
      "metadata": {
        "id": "1zN_xBbnYPnk"
      },
      "outputs": [],
      "source": [
        "xs=sales_skew.drop('Weekly_Sales_sqrt', axis=1)\n",
        "ys=sales_skew['Weekly_Sales_sqrt']"
      ]
    },
    {
      "cell_type": "code",
      "execution_count": null,
      "metadata": {
        "id": "_tmQ_dDGYT5W"
      },
      "outputs": [],
      "source": [
        "xs_train,xs_test,ys_train,ys_test=train_test_split(xs,ys,test_size=0.2)"
      ]
    },
    {
      "cell_type": "code",
      "execution_count": null,
      "metadata": {
        "id": "GtKwyD7vYcgs"
      },
      "outputs": [],
      "source": [
        "scaler=StandardScaler().fit(xs_train)\n",
        "xs_train_ss=scaler.transform(xs_train)\n",
        "xs_test_ss=scaler.transform(xs_test)"
      ]
    },
    {
      "cell_type": "code",
      "execution_count": null,
      "metadata": {
        "id": "HNh9iUfBYceE"
      },
      "outputs": [],
      "source": [
        "xs_train_df=pd.DataFrame(xs_train_ss,columns=xs_train.columns)\n",
        "xs_test_df=pd.DataFrame(xs_test_ss,columns=xs_test.columns)"
      ]
    },
    {
      "cell_type": "code",
      "execution_count": null,
      "metadata": {
        "colab": {
          "base_uri": "https://localhost:8080/"
        },
        "id": "FSWo5EnaYcbP",
        "outputId": "3e2a7d50-a05a-4da8-f6a0-06bcca2e08da"
      },
      "outputs": [
        {
          "output_type": "stream",
          "name": "stderr",
          "text": [
            "/usr/local/lib/python3.10/dist-packages/keras/src/layers/activations/leaky_relu.py:41: UserWarning: Argument `alpha` is deprecated. Use `negative_slope` instead.\n",
            "  warnings.warn(\n",
            "/usr/local/lib/python3.10/dist-packages/keras/src/layers/core/dense.py:87: UserWarning: Do not pass an `input_shape`/`input_dim` argument to a layer. When using Sequential models, prefer using an `Input(shape)` object as the first layer in the model instead.\n",
            "  super().__init__(activity_regularizer=activity_regularizer, **kwargs)\n"
          ]
        }
      ],
      "source": [
        "model_sk=Sequential()\n",
        "\n",
        "model_sk.add(Dense(64,input_shape=(xs_train_df.shape[1],),activation=LeakyReLU(alpha=0.01)))\n",
        "model_sk.add(Dense(64,input_shape=(xs_train_df.shape[1],),activation=LeakyReLU(alpha=0.01)))\n",
        "\n",
        "\n",
        "model_sk.add(Dense(1))\n",
        "\n",
        "model_sk.compile(optimizer=\"adam\",loss=\"mean_squared_error\",metrics=[tf.keras.metrics.MeanAbsoluteError(),tf.keras.metrics.MeanAbsolutePercentageError()])"
      ]
    },
    {
      "cell_type": "code",
      "execution_count": null,
      "metadata": {
        "colab": {
          "base_uri": "https://localhost:8080/"
        },
        "id": "7Jo788RUYp6L",
        "outputId": "e87bbe4b-c2f4-4e6f-9d3f-b18a5d8332f7"
      },
      "outputs": [
        {
          "output_type": "stream",
          "name": "stdout",
          "text": [
            "Epoch 1/100\n",
            "\u001b[1m8432/8432\u001b[0m \u001b[32m━━━━━━━━━━━━━━━━━━━━\u001b[0m\u001b[37m\u001b[0m \u001b[1m31s\u001b[0m 3ms/step - loss: 21322.7793 - mean_absolute_error: 110.2159 - mean_absolute_percentage_error: 66936428.0000 - val_loss: 15348.6719 - val_mean_absolute_error: 93.4848 - val_mean_absolute_percentage_error: 89417816.0000\n",
            "Epoch 2/100\n",
            "\u001b[1m8432/8432\u001b[0m \u001b[32m━━━━━━━━━━━━━━━━━━━━\u001b[0m\u001b[37m\u001b[0m \u001b[1m39s\u001b[0m 3ms/step - loss: 15255.8584 - mean_absolute_error: 91.8997 - mean_absolute_percentage_error: 66907032.0000 - val_loss: 14548.4951 - val_mean_absolute_error: 90.2228 - val_mean_absolute_percentage_error: 84151640.0000\n",
            "Epoch 3/100\n",
            "\u001b[1m8432/8432\u001b[0m \u001b[32m━━━━━━━━━━━━━━━━━━━━\u001b[0m\u001b[37m\u001b[0m \u001b[1m22s\u001b[0m 3ms/step - loss: 14381.7607 - mean_absolute_error: 89.2089 - mean_absolute_percentage_error: 77197016.0000 - val_loss: 13872.5586 - val_mean_absolute_error: 86.7818 - val_mean_absolute_percentage_error: 77955976.0000\n",
            "Epoch 4/100\n",
            "\u001b[1m8432/8432\u001b[0m \u001b[32m━━━━━━━━━━━━━━━━━━━━\u001b[0m\u001b[37m\u001b[0m \u001b[1m27s\u001b[0m 3ms/step - loss: 13926.5146 - mean_absolute_error: 87.6614 - mean_absolute_percentage_error: 66520856.0000 - val_loss: 13398.4297 - val_mean_absolute_error: 85.8893 - val_mean_absolute_percentage_error: 78634760.0000\n",
            "Epoch 5/100\n",
            "\u001b[1m8432/8432\u001b[0m \u001b[32m━━━━━━━━━━━━━━━━━━━━\u001b[0m\u001b[37m\u001b[0m \u001b[1m40s\u001b[0m 3ms/step - loss: 13359.8398 - mean_absolute_error: 86.0620 - mean_absolute_percentage_error: 55375908.0000 - val_loss: 13129.9062 - val_mean_absolute_error: 85.5413 - val_mean_absolute_percentage_error: 79158544.0000\n",
            "Epoch 6/100\n",
            "\u001b[1m8432/8432\u001b[0m \u001b[32m━━━━━━━━━━━━━━━━━━━━\u001b[0m\u001b[37m\u001b[0m \u001b[1m43s\u001b[0m 3ms/step - loss: 13207.2324 - mean_absolute_error: 85.5893 - mean_absolute_percentage_error: 71982032.0000 - val_loss: 12975.2383 - val_mean_absolute_error: 85.4885 - val_mean_absolute_percentage_error: 79483904.0000\n",
            "Epoch 7/100\n",
            "\u001b[1m8432/8432\u001b[0m \u001b[32m━━━━━━━━━━━━━━━━━━━━\u001b[0m\u001b[37m\u001b[0m \u001b[1m41s\u001b[0m 3ms/step - loss: 13018.8701 - mean_absolute_error: 84.9698 - mean_absolute_percentage_error: 54520108.0000 - val_loss: 12874.3457 - val_mean_absolute_error: 84.1431 - val_mean_absolute_percentage_error: 73910504.0000\n",
            "Epoch 8/100\n",
            "\u001b[1m8432/8432\u001b[0m \u001b[32m━━━━━━━━━━━━━━━━━━━━\u001b[0m\u001b[37m\u001b[0m \u001b[1m41s\u001b[0m 3ms/step - loss: 12854.9033 - mean_absolute_error: 84.5279 - mean_absolute_percentage_error: 52747416.0000 - val_loss: 12675.7227 - val_mean_absolute_error: 84.3194 - val_mean_absolute_percentage_error: 77675560.0000\n",
            "Epoch 9/100\n",
            "\u001b[1m8432/8432\u001b[0m \u001b[32m━━━━━━━━━━━━━━━━━━━━\u001b[0m\u001b[37m\u001b[0m \u001b[1m38s\u001b[0m 3ms/step - loss: 12717.2002 - mean_absolute_error: 84.1912 - mean_absolute_percentage_error: 58115684.0000 - val_loss: 12678.7480 - val_mean_absolute_error: 85.0145 - val_mean_absolute_percentage_error: 82338784.0000\n",
            "Epoch 10/100\n",
            "\u001b[1m8432/8432\u001b[0m \u001b[32m━━━━━━━━━━━━━━━━━━━━\u001b[0m\u001b[37m\u001b[0m \u001b[1m24s\u001b[0m 3ms/step - loss: 12562.8789 - mean_absolute_error: 83.6666 - mean_absolute_percentage_error: 53583488.0000 - val_loss: 12441.4209 - val_mean_absolute_error: 83.9024 - val_mean_absolute_percentage_error: 78782960.0000\n",
            "Epoch 11/100\n",
            "\u001b[1m8432/8432\u001b[0m \u001b[32m━━━━━━━━━━━━━━━━━━━━\u001b[0m\u001b[37m\u001b[0m \u001b[1m29s\u001b[0m 3ms/step - loss: 12457.8936 - mean_absolute_error: 83.3452 - mean_absolute_percentage_error: 60260668.0000 - val_loss: 12316.6816 - val_mean_absolute_error: 83.0744 - val_mean_absolute_percentage_error: 76835136.0000\n",
            "Epoch 12/100\n",
            "\u001b[1m8432/8432\u001b[0m \u001b[32m━━━━━━━━━━━━━━━━━━━━\u001b[0m\u001b[37m\u001b[0m \u001b[1m41s\u001b[0m 3ms/step - loss: 12254.6543 - mean_absolute_error: 82.7081 - mean_absolute_percentage_error: 43331840.0000 - val_loss: 12106.9111 - val_mean_absolute_error: 81.8629 - val_mean_absolute_percentage_error: 77302224.0000\n",
            "Epoch 13/100\n",
            "\u001b[1m8432/8432\u001b[0m \u001b[32m━━━━━━━━━━━━━━━━━━━━\u001b[0m\u001b[37m\u001b[0m \u001b[1m32s\u001b[0m 4ms/step - loss: 12180.0752 - mean_absolute_error: 82.4436 - mean_absolute_percentage_error: 62003456.0000 - val_loss: 11974.0195 - val_mean_absolute_error: 81.6171 - val_mean_absolute_percentage_error: 76172216.0000\n",
            "Epoch 14/100\n",
            "\u001b[1m8432/8432\u001b[0m \u001b[32m━━━━━━━━━━━━━━━━━━━━\u001b[0m\u001b[37m\u001b[0m \u001b[1m30s\u001b[0m 4ms/step - loss: 11969.7725 - mean_absolute_error: 81.8050 - mean_absolute_percentage_error: 63917692.0000 - val_loss: 11746.2246 - val_mean_absolute_error: 80.8875 - val_mean_absolute_percentage_error: 77734640.0000\n",
            "Epoch 15/100\n",
            "\u001b[1m8432/8432\u001b[0m \u001b[32m━━━━━━━━━━━━━━━━━━━━\u001b[0m\u001b[37m\u001b[0m \u001b[1m39s\u001b[0m 3ms/step - loss: 11755.7607 - mean_absolute_error: 81.2294 - mean_absolute_percentage_error: 59669492.0000 - val_loss: 11547.8721 - val_mean_absolute_error: 80.5113 - val_mean_absolute_percentage_error: 75762616.0000\n",
            "Epoch 16/100\n",
            "\u001b[1m8432/8432\u001b[0m \u001b[32m━━━━━━━━━━━━━━━━━━━━\u001b[0m\u001b[37m\u001b[0m \u001b[1m25s\u001b[0m 3ms/step - loss: 11496.1670 - mean_absolute_error: 80.1256 - mean_absolute_percentage_error: 66763936.0000 - val_loss: 11369.3379 - val_mean_absolute_error: 80.0557 - val_mean_absolute_percentage_error: 78980224.0000\n",
            "Epoch 17/100\n",
            "\u001b[1m8432/8432\u001b[0m \u001b[32m━━━━━━━━━━━━━━━━━━━━\u001b[0m\u001b[37m\u001b[0m \u001b[1m29s\u001b[0m 3ms/step - loss: 11353.4229 - mean_absolute_error: 79.5930 - mean_absolute_percentage_error: 73316768.0000 - val_loss: 11275.3877 - val_mean_absolute_error: 78.4440 - val_mean_absolute_percentage_error: 73155240.0000\n",
            "Epoch 18/100\n",
            "\u001b[1m8432/8432\u001b[0m \u001b[32m━━━━━━━━━━━━━━━━━━━━\u001b[0m\u001b[37m\u001b[0m \u001b[1m27s\u001b[0m 3ms/step - loss: 11203.8408 - mean_absolute_error: 78.9992 - mean_absolute_percentage_error: 50191540.0000 - val_loss: 11090.8223 - val_mean_absolute_error: 77.7433 - val_mean_absolute_percentage_error: 74035816.0000\n",
            "Epoch 19/100\n",
            "\u001b[1m8432/8432\u001b[0m \u001b[32m━━━━━━━━━━━━━━━━━━━━\u001b[0m\u001b[37m\u001b[0m \u001b[1m42s\u001b[0m 3ms/step - loss: 11100.0283 - mean_absolute_error: 78.5897 - mean_absolute_percentage_error: 57987728.0000 - val_loss: 10944.0625 - val_mean_absolute_error: 77.5120 - val_mean_absolute_percentage_error: 74954384.0000\n",
            "Epoch 20/100\n",
            "\u001b[1m8432/8432\u001b[0m \u001b[32m━━━━━━━━━━━━━━━━━━━━\u001b[0m\u001b[37m\u001b[0m \u001b[1m41s\u001b[0m 3ms/step - loss: 10906.9082 - mean_absolute_error: 77.9143 - mean_absolute_percentage_error: 57021236.0000 - val_loss: 10731.4883 - val_mean_absolute_error: 76.9422 - val_mean_absolute_percentage_error: 76847608.0000\n",
            "Epoch 21/100\n",
            "\u001b[1m8432/8432\u001b[0m \u001b[32m━━━━━━━━━━━━━━━━━━━━\u001b[0m\u001b[37m\u001b[0m \u001b[1m40s\u001b[0m 3ms/step - loss: 10695.8975 - mean_absolute_error: 77.0888 - mean_absolute_percentage_error: 60994376.0000 - val_loss: 10644.7051 - val_mean_absolute_error: 76.3653 - val_mean_absolute_percentage_error: 74905744.0000\n",
            "Epoch 22/100\n",
            "\u001b[1m8432/8432\u001b[0m \u001b[32m━━━━━━━━━━━━━━━━━━━━\u001b[0m\u001b[37m\u001b[0m \u001b[1m29s\u001b[0m 3ms/step - loss: 10617.4150 - mean_absolute_error: 76.7265 - mean_absolute_percentage_error: 64779836.0000 - val_loss: 10719.0010 - val_mean_absolute_error: 78.4083 - val_mean_absolute_percentage_error: 83120400.0000\n",
            "Epoch 23/100\n",
            "\u001b[1m8432/8432\u001b[0m \u001b[32m━━━━━━━━━━━━━━━━━━━━\u001b[0m\u001b[37m\u001b[0m \u001b[1m39s\u001b[0m 3ms/step - loss: 10511.4463 - mean_absolute_error: 76.0508 - mean_absolute_percentage_error: 64879792.0000 - val_loss: 10345.5674 - val_mean_absolute_error: 75.9176 - val_mean_absolute_percentage_error: 79517152.0000\n",
            "Epoch 24/100\n",
            "\u001b[1m8432/8432\u001b[0m \u001b[32m━━━━━━━━━━━━━━━━━━━━\u001b[0m\u001b[37m\u001b[0m \u001b[1m27s\u001b[0m 3ms/step - loss: 10225.5752 - mean_absolute_error: 75.2106 - mean_absolute_percentage_error: 58860280.0000 - val_loss: 10177.5928 - val_mean_absolute_error: 74.9003 - val_mean_absolute_percentage_error: 75462088.0000\n",
            "Epoch 25/100\n",
            "\u001b[1m8432/8432\u001b[0m \u001b[32m━━━━━━━━━━━━━━━━━━━━\u001b[0m\u001b[37m\u001b[0m \u001b[1m25s\u001b[0m 3ms/step - loss: 10136.5566 - mean_absolute_error: 74.7891 - mean_absolute_percentage_error: 57754336.0000 - val_loss: 10062.3145 - val_mean_absolute_error: 74.6462 - val_mean_absolute_percentage_error: 77743120.0000\n",
            "Epoch 26/100\n",
            "\u001b[1m8432/8432\u001b[0m \u001b[32m━━━━━━━━━━━━━━━━━━━━\u001b[0m\u001b[37m\u001b[0m \u001b[1m43s\u001b[0m 3ms/step - loss: 10033.9785 - mean_absolute_error: 74.4910 - mean_absolute_percentage_error: 54979432.0000 - val_loss: 9939.0039 - val_mean_absolute_error: 73.9548 - val_mean_absolute_percentage_error: 73987200.0000\n",
            "Epoch 27/100\n",
            "\u001b[1m8432/8432\u001b[0m \u001b[32m━━━━━━━━━━━━━━━━━━━━\u001b[0m\u001b[37m\u001b[0m \u001b[1m39s\u001b[0m 3ms/step - loss: 9958.3809 - mean_absolute_error: 74.2301 - mean_absolute_percentage_error: 55084420.0000 - val_loss: 9881.4512 - val_mean_absolute_error: 74.6348 - val_mean_absolute_percentage_error: 79198384.0000\n",
            "Epoch 28/100\n",
            "\u001b[1m8432/8432\u001b[0m \u001b[32m━━━━━━━━━━━━━━━━━━━━\u001b[0m\u001b[37m\u001b[0m \u001b[1m45s\u001b[0m 3ms/step - loss: 9776.8203 - mean_absolute_error: 73.6386 - mean_absolute_percentage_error: 59839468.0000 - val_loss: 9691.5938 - val_mean_absolute_error: 73.6856 - val_mean_absolute_percentage_error: 78688008.0000\n",
            "Epoch 29/100\n",
            "\u001b[1m8432/8432\u001b[0m \u001b[32m━━━━━━━━━━━━━━━━━━━━\u001b[0m\u001b[37m\u001b[0m \u001b[1m27s\u001b[0m 3ms/step - loss: 9634.6191 - mean_absolute_error: 73.1542 - mean_absolute_percentage_error: 55404096.0000 - val_loss: 9839.3994 - val_mean_absolute_error: 74.8852 - val_mean_absolute_percentage_error: 81971024.0000\n",
            "Epoch 30/100\n",
            "\u001b[1m8432/8432\u001b[0m \u001b[32m━━━━━━━━━━━━━━━━━━━━\u001b[0m\u001b[37m\u001b[0m \u001b[1m27s\u001b[0m 3ms/step - loss: 9470.2227 - mean_absolute_error: 72.5518 - mean_absolute_percentage_error: 63574360.0000 - val_loss: 9605.5547 - val_mean_absolute_error: 72.2166 - val_mean_absolute_percentage_error: 68378176.0000\n",
            "Epoch 31/100\n",
            "\u001b[1m8432/8432\u001b[0m \u001b[32m━━━━━━━━━━━━━━━━━━━━\u001b[0m\u001b[37m\u001b[0m \u001b[1m40s\u001b[0m 3ms/step - loss: 9468.1240 - mean_absolute_error: 72.3815 - mean_absolute_percentage_error: 56848164.0000 - val_loss: 9373.9482 - val_mean_absolute_error: 72.4764 - val_mean_absolute_percentage_error: 79132944.0000\n",
            "Epoch 32/100\n",
            "\u001b[1m8432/8432\u001b[0m \u001b[32m━━━━━━━━━━━━━━━━━━━━\u001b[0m\u001b[37m\u001b[0m \u001b[1m24s\u001b[0m 3ms/step - loss: 9355.9766 - mean_absolute_error: 72.0966 - mean_absolute_percentage_error: 54462096.0000 - val_loss: 9221.7012 - val_mean_absolute_error: 71.4746 - val_mean_absolute_percentage_error: 75652360.0000\n",
            "Epoch 33/100\n",
            "\u001b[1m8432/8432\u001b[0m \u001b[32m━━━━━━━━━━━━━━━━━━━━\u001b[0m\u001b[37m\u001b[0m \u001b[1m40s\u001b[0m 3ms/step - loss: 9242.5791 - mean_absolute_error: 71.5332 - mean_absolute_percentage_error: 54249760.0000 - val_loss: 9539.0078 - val_mean_absolute_error: 73.7934 - val_mean_absolute_percentage_error: 81031472.0000\n",
            "Epoch 34/100\n",
            "\u001b[1m8432/8432\u001b[0m \u001b[32m━━━━━━━━━━━━━━━━━━━━\u001b[0m\u001b[37m\u001b[0m \u001b[1m27s\u001b[0m 3ms/step - loss: 9161.4414 - mean_absolute_error: 71.3753 - mean_absolute_percentage_error: 64924672.0000 - val_loss: 9197.4209 - val_mean_absolute_error: 70.3685 - val_mean_absolute_percentage_error: 68172376.0000\n",
            "Epoch 35/100\n",
            "\u001b[1m8432/8432\u001b[0m \u001b[32m━━━━━━━━━━━━━━━━━━━━\u001b[0m\u001b[37m\u001b[0m \u001b[1m40s\u001b[0m 3ms/step - loss: 9073.4766 - mean_absolute_error: 70.9304 - mean_absolute_percentage_error: 64688284.0000 - val_loss: 9221.1611 - val_mean_absolute_error: 72.6529 - val_mean_absolute_percentage_error: 81547768.0000\n",
            "Epoch 36/100\n",
            "\u001b[1m8432/8432\u001b[0m \u001b[32m━━━━━━━━━━━━━━━━━━━━\u001b[0m\u001b[37m\u001b[0m \u001b[1m38s\u001b[0m 3ms/step - loss: 8970.7998 - mean_absolute_error: 70.7212 - mean_absolute_percentage_error: 62694336.0000 - val_loss: 8898.8789 - val_mean_absolute_error: 69.9220 - val_mean_absolute_percentage_error: 73626720.0000\n",
            "Epoch 37/100\n",
            "\u001b[1m8432/8432\u001b[0m \u001b[32m━━━━━━━━━━━━━━━━━━━━\u001b[0m\u001b[37m\u001b[0m \u001b[1m26s\u001b[0m 3ms/step - loss: 8909.6494 - mean_absolute_error: 70.4907 - mean_absolute_percentage_error: 63744008.0000 - val_loss: 8862.2100 - val_mean_absolute_error: 70.5302 - val_mean_absolute_percentage_error: 75597136.0000\n",
            "Epoch 38/100\n",
            "\u001b[1m8432/8432\u001b[0m \u001b[32m━━━━━━━━━━━━━━━━━━━━\u001b[0m\u001b[37m\u001b[0m \u001b[1m42s\u001b[0m 3ms/step - loss: 8827.8926 - mean_absolute_error: 70.1738 - mean_absolute_percentage_error: 54958764.0000 - val_loss: 8781.9795 - val_mean_absolute_error: 70.4488 - val_mean_absolute_percentage_error: 78997248.0000\n",
            "Epoch 39/100\n",
            "\u001b[1m8432/8432\u001b[0m \u001b[32m━━━━━━━━━━━━━━━━━━━━\u001b[0m\u001b[37m\u001b[0m \u001b[1m38s\u001b[0m 3ms/step - loss: 8729.9297 - mean_absolute_error: 69.7161 - mean_absolute_percentage_error: 61935300.0000 - val_loss: 8637.2539 - val_mean_absolute_error: 69.6882 - val_mean_absolute_percentage_error: 77331368.0000\n",
            "Epoch 40/100\n",
            "\u001b[1m8432/8432\u001b[0m \u001b[32m━━━━━━━━━━━━━━━━━━━━\u001b[0m\u001b[37m\u001b[0m \u001b[1m45s\u001b[0m 3ms/step - loss: 8630.2109 - mean_absolute_error: 69.4481 - mean_absolute_percentage_error: 51273772.0000 - val_loss: 8581.2559 - val_mean_absolute_error: 69.3882 - val_mean_absolute_percentage_error: 75032184.0000\n",
            "Epoch 41/100\n",
            "\u001b[1m8432/8432\u001b[0m \u001b[32m━━━━━━━━━━━━━━━━━━━━\u001b[0m\u001b[37m\u001b[0m \u001b[1m25s\u001b[0m 3ms/step - loss: 8572.3545 - mean_absolute_error: 69.2514 - mean_absolute_percentage_error: 70526592.0000 - val_loss: 8711.9541 - val_mean_absolute_error: 69.5850 - val_mean_absolute_percentage_error: 71576808.0000\n",
            "Epoch 42/100\n",
            "\u001b[1m8432/8432\u001b[0m \u001b[32m━━━━━━━━━━━━━━━━━━━━\u001b[0m\u001b[37m\u001b[0m \u001b[1m31s\u001b[0m 4ms/step - loss: 8475.4424 - mean_absolute_error: 68.9165 - mean_absolute_percentage_error: 56185160.0000 - val_loss: 8545.9922 - val_mean_absolute_error: 69.5172 - val_mean_absolute_percentage_error: 77966608.0000\n",
            "Epoch 43/100\n",
            "\u001b[1m8432/8432\u001b[0m \u001b[32m━━━━━━━━━━━━━━━━━━━━\u001b[0m\u001b[37m\u001b[0m \u001b[1m43s\u001b[0m 4ms/step - loss: 8398.0498 - mean_absolute_error: 68.6653 - mean_absolute_percentage_error: 53499844.0000 - val_loss: 8425.9053 - val_mean_absolute_error: 68.6860 - val_mean_absolute_percentage_error: 74773560.0000\n",
            "Epoch 44/100\n",
            "\u001b[1m8432/8432\u001b[0m \u001b[32m━━━━━━━━━━━━━━━━━━━━\u001b[0m\u001b[37m\u001b[0m \u001b[1m40s\u001b[0m 4ms/step - loss: 8355.4629 - mean_absolute_error: 68.5834 - mean_absolute_percentage_error: 49977820.0000 - val_loss: 8507.9941 - val_mean_absolute_error: 69.7024 - val_mean_absolute_percentage_error: 79109600.0000\n",
            "Epoch 45/100\n",
            "\u001b[1m8432/8432\u001b[0m \u001b[32m━━━━━━━━━━━━━━━━━━━━\u001b[0m\u001b[37m\u001b[0m \u001b[1m38s\u001b[0m 4ms/step - loss: 8315.1484 - mean_absolute_error: 68.3689 - mean_absolute_percentage_error: 60900992.0000 - val_loss: 8237.6602 - val_mean_absolute_error: 68.3367 - val_mean_absolute_percentage_error: 73940248.0000\n",
            "Epoch 46/100\n",
            "\u001b[1m8432/8432\u001b[0m \u001b[32m━━━━━━━━━━━━━━━━━━━━\u001b[0m\u001b[37m\u001b[0m \u001b[1m43s\u001b[0m 4ms/step - loss: 8231.6582 - mean_absolute_error: 68.2481 - mean_absolute_percentage_error: 66518604.0000 - val_loss: 8538.3047 - val_mean_absolute_error: 68.6373 - val_mean_absolute_percentage_error: 67554544.0000\n",
            "Epoch 47/100\n",
            "\u001b[1m8432/8432\u001b[0m \u001b[32m━━━━━━━━━━━━━━━━━━━━\u001b[0m\u001b[37m\u001b[0m \u001b[1m43s\u001b[0m 4ms/step - loss: 8204.4355 - mean_absolute_error: 68.0519 - mean_absolute_percentage_error: 55445228.0000 - val_loss: 8373.4531 - val_mean_absolute_error: 67.7939 - val_mean_absolute_percentage_error: 68234392.0000\n",
            "Epoch 48/100\n",
            "\u001b[1m8432/8432\u001b[0m \u001b[32m━━━━━━━━━━━━━━━━━━━━\u001b[0m\u001b[37m\u001b[0m \u001b[1m33s\u001b[0m 4ms/step - loss: 8141.0039 - mean_absolute_error: 67.8158 - mean_absolute_percentage_error: 72276576.0000 - val_loss: 8241.0117 - val_mean_absolute_error: 68.5469 - val_mean_absolute_percentage_error: 74213216.0000\n",
            "Epoch 49/100\n",
            "\u001b[1m8432/8432\u001b[0m \u001b[32m━━━━━━━━━━━━━━━━━━━━\u001b[0m\u001b[37m\u001b[0m \u001b[1m32s\u001b[0m 4ms/step - loss: 8059.2891 - mean_absolute_error: 67.6682 - mean_absolute_percentage_error: 48845028.0000 - val_loss: 8097.2192 - val_mean_absolute_error: 67.3491 - val_mean_absolute_percentage_error: 71671920.0000\n",
            "Epoch 50/100\n",
            "\u001b[1m8432/8432\u001b[0m \u001b[32m━━━━━━━━━━━━━━━━━━━━\u001b[0m\u001b[37m\u001b[0m \u001b[1m37s\u001b[0m 3ms/step - loss: 8055.1362 - mean_absolute_error: 67.5667 - mean_absolute_percentage_error: 70793328.0000 - val_loss: 8107.5405 - val_mean_absolute_error: 67.8274 - val_mean_absolute_percentage_error: 73637736.0000\n",
            "Epoch 51/100\n",
            "\u001b[1m8432/8432\u001b[0m \u001b[32m━━━━━━━━━━━━━━━━━━━━\u001b[0m\u001b[37m\u001b[0m \u001b[1m25s\u001b[0m 3ms/step - loss: 8024.5659 - mean_absolute_error: 67.4025 - mean_absolute_percentage_error: 67201592.0000 - val_loss: 8065.9785 - val_mean_absolute_error: 67.9046 - val_mean_absolute_percentage_error: 76002840.0000\n",
            "Epoch 52/100\n",
            "\u001b[1m8432/8432\u001b[0m \u001b[32m━━━━━━━━━━━━━━━━━━━━\u001b[0m\u001b[37m\u001b[0m \u001b[1m40s\u001b[0m 3ms/step - loss: 8023.4575 - mean_absolute_error: 67.4305 - mean_absolute_percentage_error: 48471528.0000 - val_loss: 8087.6084 - val_mean_absolute_error: 67.6336 - val_mean_absolute_percentage_error: 73654000.0000\n",
            "Epoch 53/100\n",
            "\u001b[1m8432/8432\u001b[0m \u001b[32m━━━━━━━━━━━━━━━━━━━━\u001b[0m\u001b[37m\u001b[0m \u001b[1m41s\u001b[0m 3ms/step - loss: 7978.5674 - mean_absolute_error: 67.2450 - mean_absolute_percentage_error: 61070872.0000 - val_loss: 7979.5557 - val_mean_absolute_error: 67.6053 - val_mean_absolute_percentage_error: 78237456.0000\n",
            "Epoch 54/100\n",
            "\u001b[1m8432/8432\u001b[0m \u001b[32m━━━━━━━━━━━━━━━━━━━━\u001b[0m\u001b[37m\u001b[0m \u001b[1m43s\u001b[0m 3ms/step - loss: 7951.3130 - mean_absolute_error: 67.0686 - mean_absolute_percentage_error: 71517848.0000 - val_loss: 8171.4834 - val_mean_absolute_error: 67.0690 - val_mean_absolute_percentage_error: 68647800.0000\n",
            "Epoch 55/100\n",
            "\u001b[1m8432/8432\u001b[0m \u001b[32m━━━━━━━━━━━━━━━━━━━━\u001b[0m\u001b[37m\u001b[0m \u001b[1m29s\u001b[0m 3ms/step - loss: 7915.1133 - mean_absolute_error: 66.9164 - mean_absolute_percentage_error: 48095892.0000 - val_loss: 7999.9214 - val_mean_absolute_error: 67.4451 - val_mean_absolute_percentage_error: 75759328.0000\n",
            "Epoch 56/100\n",
            "\u001b[1m8432/8432\u001b[0m \u001b[32m━━━━━━━━━━━━━━━━━━━━\u001b[0m\u001b[37m\u001b[0m \u001b[1m33s\u001b[0m 4ms/step - loss: 7968.5659 - mean_absolute_error: 67.1012 - mean_absolute_percentage_error: 66311104.0000 - val_loss: 8055.5288 - val_mean_absolute_error: 66.8316 - val_mean_absolute_percentage_error: 69891096.0000\n",
            "Epoch 57/100\n",
            "\u001b[1m8432/8432\u001b[0m \u001b[32m━━━━━━━━━━━━━━━━━━━━\u001b[0m\u001b[37m\u001b[0m \u001b[1m24s\u001b[0m 3ms/step - loss: 7944.7524 - mean_absolute_error: 66.9427 - mean_absolute_percentage_error: 57811436.0000 - val_loss: 7901.3926 - val_mean_absolute_error: 66.7967 - val_mean_absolute_percentage_error: 73640272.0000\n",
            "Epoch 58/100\n",
            "\u001b[1m8432/8432\u001b[0m \u001b[32m━━━━━━━━━━━━━━━━━━━━\u001b[0m\u001b[37m\u001b[0m \u001b[1m30s\u001b[0m 4ms/step - loss: 7856.3877 - mean_absolute_error: 66.6413 - mean_absolute_percentage_error: 58317872.0000 - val_loss: 8050.4355 - val_mean_absolute_error: 67.4401 - val_mean_absolute_percentage_error: 70278064.0000\n",
            "Epoch 59/100\n",
            "\u001b[1m8432/8432\u001b[0m \u001b[32m━━━━━━━━━━━━━━━━━━━━\u001b[0m\u001b[37m\u001b[0m \u001b[1m30s\u001b[0m 4ms/step - loss: 7872.0835 - mean_absolute_error: 66.7325 - mean_absolute_percentage_error: 54728920.0000 - val_loss: 8020.1304 - val_mean_absolute_error: 66.7689 - val_mean_absolute_percentage_error: 65867580.0000\n",
            "Epoch 60/100\n",
            "\u001b[1m8432/8432\u001b[0m \u001b[32m━━━━━━━━━━━━━━━━━━━━\u001b[0m\u001b[37m\u001b[0m \u001b[1m42s\u001b[0m 4ms/step - loss: 7880.0020 - mean_absolute_error: 66.6541 - mean_absolute_percentage_error: 58868028.0000 - val_loss: 7881.9697 - val_mean_absolute_error: 66.4626 - val_mean_absolute_percentage_error: 72235704.0000\n",
            "Epoch 61/100\n",
            "\u001b[1m8432/8432\u001b[0m \u001b[32m━━━━━━━━━━━━━━━━━━━━\u001b[0m\u001b[37m\u001b[0m \u001b[1m30s\u001b[0m 4ms/step - loss: 7874.7598 - mean_absolute_error: 66.4821 - mean_absolute_percentage_error: 58159924.0000 - val_loss: 7969.1982 - val_mean_absolute_error: 66.2432 - val_mean_absolute_percentage_error: 70098208.0000\n",
            "Epoch 62/100\n",
            "\u001b[1m8432/8432\u001b[0m \u001b[32m━━━━━━━━━━━━━━━━━━━━\u001b[0m\u001b[37m\u001b[0m \u001b[1m32s\u001b[0m 4ms/step - loss: 7779.9414 - mean_absolute_error: 66.1486 - mean_absolute_percentage_error: 68737744.0000 - val_loss: 7910.6226 - val_mean_absolute_error: 66.2951 - val_mean_absolute_percentage_error: 67440480.0000\n",
            "Epoch 63/100\n",
            "\u001b[1m8432/8432\u001b[0m \u001b[32m━━━━━━━━━━━━━━━━━━━━\u001b[0m\u001b[37m\u001b[0m \u001b[1m30s\u001b[0m 4ms/step - loss: 7870.6724 - mean_absolute_error: 66.5081 - mean_absolute_percentage_error: 44635412.0000 - val_loss: 7912.8555 - val_mean_absolute_error: 67.0719 - val_mean_absolute_percentage_error: 76054928.0000\n",
            "Epoch 64/100\n",
            "\u001b[1m8432/8432\u001b[0m \u001b[32m━━━━━━━━━━━━━━━━━━━━\u001b[0m\u001b[37m\u001b[0m \u001b[1m28s\u001b[0m 3ms/step - loss: 7738.2588 - mean_absolute_error: 66.0497 - mean_absolute_percentage_error: 53545072.0000 - val_loss: 7778.3975 - val_mean_absolute_error: 65.8066 - val_mean_absolute_percentage_error: 70958656.0000\n",
            "Epoch 65/100\n",
            "\u001b[1m8432/8432\u001b[0m \u001b[32m━━━━━━━━━━━━━━━━━━━━\u001b[0m\u001b[37m\u001b[0m \u001b[1m40s\u001b[0m 3ms/step - loss: 7735.4873 - mean_absolute_error: 65.9137 - mean_absolute_percentage_error: 67252648.0000 - val_loss: 8061.0444 - val_mean_absolute_error: 68.0009 - val_mean_absolute_percentage_error: 78523320.0000\n",
            "Epoch 66/100\n",
            "\u001b[1m8432/8432\u001b[0m \u001b[32m━━━━━━━━━━━━━━━━━━━━\u001b[0m\u001b[37m\u001b[0m \u001b[1m28s\u001b[0m 3ms/step - loss: 7742.4668 - mean_absolute_error: 65.8383 - mean_absolute_percentage_error: 58424672.0000 - val_loss: 8197.9277 - val_mean_absolute_error: 66.9097 - val_mean_absolute_percentage_error: 67550848.0000\n",
            "Epoch 67/100\n",
            "\u001b[1m8432/8432\u001b[0m \u001b[32m━━━━━━━━━━━━━━━━━━━━\u001b[0m\u001b[37m\u001b[0m \u001b[1m29s\u001b[0m 3ms/step - loss: 7715.6704 - mean_absolute_error: 65.6205 - mean_absolute_percentage_error: 60407804.0000 - val_loss: 7660.4478 - val_mean_absolute_error: 65.1417 - val_mean_absolute_percentage_error: 69404592.0000\n",
            "Epoch 68/100\n",
            "\u001b[1m8432/8432\u001b[0m \u001b[32m━━━━━━━━━━━━━━━━━━━━\u001b[0m\u001b[37m\u001b[0m \u001b[1m27s\u001b[0m 3ms/step - loss: 7657.8047 - mean_absolute_error: 65.4684 - mean_absolute_percentage_error: 70279888.0000 - val_loss: 7712.3198 - val_mean_absolute_error: 65.5781 - val_mean_absolute_percentage_error: 72632856.0000\n",
            "Epoch 69/100\n",
            "\u001b[1m8432/8432\u001b[0m \u001b[32m━━━━━━━━━━━━━━━━━━━━\u001b[0m\u001b[37m\u001b[0m \u001b[1m41s\u001b[0m 3ms/step - loss: 7657.0923 - mean_absolute_error: 65.5133 - mean_absolute_percentage_error: 61617760.0000 - val_loss: 7635.0747 - val_mean_absolute_error: 65.1875 - val_mean_absolute_percentage_error: 72695960.0000\n",
            "Epoch 70/100\n",
            "\u001b[1m8432/8432\u001b[0m \u001b[32m━━━━━━━━━━━━━━━━━━━━\u001b[0m\u001b[37m\u001b[0m \u001b[1m24s\u001b[0m 3ms/step - loss: 7588.0938 - mean_absolute_error: 65.1498 - mean_absolute_percentage_error: 68537056.0000 - val_loss: 7767.9160 - val_mean_absolute_error: 65.3050 - val_mean_absolute_percentage_error: 67316216.0000\n",
            "Epoch 71/100\n",
            "\u001b[1m8432/8432\u001b[0m \u001b[32m━━━━━━━━━━━━━━━━━━━━\u001b[0m\u001b[37m\u001b[0m \u001b[1m42s\u001b[0m 3ms/step - loss: 7588.4170 - mean_absolute_error: 65.1628 - mean_absolute_percentage_error: 58455944.0000 - val_loss: 7575.4971 - val_mean_absolute_error: 64.4670 - val_mean_absolute_percentage_error: 69922136.0000\n",
            "Epoch 72/100\n",
            "\u001b[1m8432/8432\u001b[0m \u001b[32m━━━━━━━━━━━━━━━━━━━━\u001b[0m\u001b[37m\u001b[0m \u001b[1m28s\u001b[0m 3ms/step - loss: 7552.8989 - mean_absolute_error: 64.9475 - mean_absolute_percentage_error: 60813100.0000 - val_loss: 7565.5957 - val_mean_absolute_error: 65.0415 - val_mean_absolute_percentage_error: 74551120.0000\n",
            "Epoch 73/100\n",
            "\u001b[1m8432/8432\u001b[0m \u001b[32m━━━━━━━━━━━━━━━━━━━━\u001b[0m\u001b[37m\u001b[0m \u001b[1m42s\u001b[0m 3ms/step - loss: 7543.7329 - mean_absolute_error: 64.7819 - mean_absolute_percentage_error: 70622696.0000 - val_loss: 7649.7441 - val_mean_absolute_error: 64.8464 - val_mean_absolute_percentage_error: 69251400.0000\n",
            "Epoch 74/100\n",
            "\u001b[1m8432/8432\u001b[0m \u001b[32m━━━━━━━━━━━━━━━━━━━━\u001b[0m\u001b[37m\u001b[0m \u001b[1m24s\u001b[0m 3ms/step - loss: 7535.2896 - mean_absolute_error: 64.8682 - mean_absolute_percentage_error: 64540468.0000 - val_loss: 7955.3691 - val_mean_absolute_error: 65.8735 - val_mean_absolute_percentage_error: 69306992.0000\n",
            "Epoch 75/100\n",
            "\u001b[1m8432/8432\u001b[0m \u001b[32m━━━━━━━━━━━━━━━━━━━━\u001b[0m\u001b[37m\u001b[0m \u001b[1m27s\u001b[0m 3ms/step - loss: 7547.6587 - mean_absolute_error: 64.9136 - mean_absolute_percentage_error: 57934868.0000 - val_loss: 7646.4053 - val_mean_absolute_error: 65.8018 - val_mean_absolute_percentage_error: 76136312.0000\n",
            "Epoch 76/100\n",
            "\u001b[1m8432/8432\u001b[0m \u001b[32m━━━━━━━━━━━━━━━━━━━━\u001b[0m\u001b[37m\u001b[0m \u001b[1m42s\u001b[0m 3ms/step - loss: 7499.7612 - mean_absolute_error: 64.6392 - mean_absolute_percentage_error: 65837132.0000 - val_loss: 7528.6494 - val_mean_absolute_error: 64.4752 - val_mean_absolute_percentage_error: 71330496.0000\n",
            "Epoch 77/100\n",
            "\u001b[1m8432/8432\u001b[0m \u001b[32m━━━━━━━━━━━━━━━━━━━━\u001b[0m\u001b[37m\u001b[0m \u001b[1m38s\u001b[0m 3ms/step - loss: 7511.2666 - mean_absolute_error: 64.5877 - mean_absolute_percentage_error: 62020676.0000 - val_loss: 7524.8999 - val_mean_absolute_error: 64.3151 - val_mean_absolute_percentage_error: 69529328.0000\n",
            "Epoch 78/100\n",
            "\u001b[1m8432/8432\u001b[0m \u001b[32m━━━━━━━━━━━━━━━━━━━━\u001b[0m\u001b[37m\u001b[0m \u001b[1m27s\u001b[0m 3ms/step - loss: 7498.9146 - mean_absolute_error: 64.7433 - mean_absolute_percentage_error: 50314004.0000 - val_loss: 7606.7568 - val_mean_absolute_error: 64.8298 - val_mean_absolute_percentage_error: 70009760.0000\n",
            "Epoch 79/100\n",
            "\u001b[1m8432/8432\u001b[0m \u001b[32m━━━━━━━━━━━━━━━━━━━━\u001b[0m\u001b[37m\u001b[0m \u001b[1m27s\u001b[0m 3ms/step - loss: 7489.8662 - mean_absolute_error: 64.4831 - mean_absolute_percentage_error: 70134872.0000 - val_loss: 7486.6206 - val_mean_absolute_error: 64.3129 - val_mean_absolute_percentage_error: 72784096.0000\n",
            "Epoch 80/100\n",
            "\u001b[1m8432/8432\u001b[0m \u001b[32m━━━━━━━━━━━━━━━━━━━━\u001b[0m\u001b[37m\u001b[0m \u001b[1m30s\u001b[0m 4ms/step - loss: 7465.4648 - mean_absolute_error: 64.4069 - mean_absolute_percentage_error: 57551248.0000 - val_loss: 7484.4229 - val_mean_absolute_error: 64.0857 - val_mean_absolute_percentage_error: 71296192.0000\n",
            "Epoch 81/100\n",
            "\u001b[1m8432/8432\u001b[0m \u001b[32m━━━━━━━━━━━━━━━━━━━━\u001b[0m\u001b[37m\u001b[0m \u001b[1m36s\u001b[0m 3ms/step - loss: 7443.8706 - mean_absolute_error: 64.3535 - mean_absolute_percentage_error: 60500464.0000 - val_loss: 7530.2319 - val_mean_absolute_error: 64.0161 - val_mean_absolute_percentage_error: 66455968.0000\n",
            "Epoch 82/100\n",
            "\u001b[1m8432/8432\u001b[0m \u001b[32m━━━━━━━━━━━━━━━━━━━━\u001b[0m\u001b[37m\u001b[0m \u001b[1m29s\u001b[0m 3ms/step - loss: 7470.7266 - mean_absolute_error: 64.4771 - mean_absolute_percentage_error: 59982628.0000 - val_loss: 7602.3569 - val_mean_absolute_error: 63.9885 - val_mean_absolute_percentage_error: 64319384.0000\n",
            "Epoch 83/100\n",
            "\u001b[1m8432/8432\u001b[0m \u001b[32m━━━━━━━━━━━━━━━━━━━━\u001b[0m\u001b[37m\u001b[0m \u001b[1m39s\u001b[0m 3ms/step - loss: 7432.5864 - mean_absolute_error: 64.2146 - mean_absolute_percentage_error: 52499004.0000 - val_loss: 7605.3696 - val_mean_absolute_error: 65.4500 - val_mean_absolute_percentage_error: 77592656.0000\n",
            "Epoch 84/100\n",
            "\u001b[1m8432/8432\u001b[0m \u001b[32m━━━━━━━━━━━━━━━━━━━━\u001b[0m\u001b[37m\u001b[0m \u001b[1m25s\u001b[0m 3ms/step - loss: 7398.7666 - mean_absolute_error: 64.0553 - mean_absolute_percentage_error: 55486924.0000 - val_loss: 7797.4932 - val_mean_absolute_error: 65.6246 - val_mean_absolute_percentage_error: 66269128.0000\n",
            "Epoch 85/100\n",
            "\u001b[1m8432/8432\u001b[0m \u001b[32m━━━━━━━━━━━━━━━━━━━━\u001b[0m\u001b[37m\u001b[0m \u001b[1m27s\u001b[0m 3ms/step - loss: 7461.9375 - mean_absolute_error: 64.3200 - mean_absolute_percentage_error: 70147544.0000 - val_loss: 7644.1675 - val_mean_absolute_error: 64.6293 - val_mean_absolute_percentage_error: 69397176.0000\n",
            "Epoch 86/100\n",
            "\u001b[1m8432/8432\u001b[0m \u001b[32m━━━━━━━━━━━━━━━━━━━━\u001b[0m\u001b[37m\u001b[0m \u001b[1m27s\u001b[0m 3ms/step - loss: 7354.1475 - mean_absolute_error: 63.7670 - mean_absolute_percentage_error: 61715436.0000 - val_loss: 7463.6182 - val_mean_absolute_error: 64.3164 - val_mean_absolute_percentage_error: 69948312.0000\n",
            "Epoch 87/100\n",
            "\u001b[1m8432/8432\u001b[0m \u001b[32m━━━━━━━━━━━━━━━━━━━━\u001b[0m\u001b[37m\u001b[0m \u001b[1m39s\u001b[0m 3ms/step - loss: 7405.3555 - mean_absolute_error: 64.0409 - mean_absolute_percentage_error: 59596548.0000 - val_loss: 7406.9863 - val_mean_absolute_error: 63.6942 - val_mean_absolute_percentage_error: 68859376.0000\n",
            "Epoch 88/100\n",
            "\u001b[1m8432/8432\u001b[0m \u001b[32m━━━━━━━━━━━━━━━━━━━━\u001b[0m\u001b[37m\u001b[0m \u001b[1m31s\u001b[0m 4ms/step - loss: 7414.1758 - mean_absolute_error: 63.9527 - mean_absolute_percentage_error: 51425036.0000 - val_loss: 7478.3018 - val_mean_absolute_error: 63.6993 - val_mean_absolute_percentage_error: 66103180.0000\n",
            "Epoch 89/100\n",
            "\u001b[1m8432/8432\u001b[0m \u001b[32m━━━━━━━━━━━━━━━━━━━━\u001b[0m\u001b[37m\u001b[0m \u001b[1m28s\u001b[0m 3ms/step - loss: 7345.1577 - mean_absolute_error: 63.8366 - mean_absolute_percentage_error: 58055748.0000 - val_loss: 7410.5171 - val_mean_absolute_error: 64.4086 - val_mean_absolute_percentage_error: 74432072.0000\n",
            "Epoch 90/100\n",
            "\u001b[1m8432/8432\u001b[0m \u001b[32m━━━━━━━━━━━━━━━━━━━━\u001b[0m\u001b[37m\u001b[0m \u001b[1m42s\u001b[0m 3ms/step - loss: 7313.8130 - mean_absolute_error: 63.6304 - mean_absolute_percentage_error: 54071452.0000 - val_loss: 7425.8921 - val_mean_absolute_error: 63.6612 - val_mean_absolute_percentage_error: 66463260.0000\n",
            "Epoch 91/100\n",
            "\u001b[1m8432/8432\u001b[0m \u001b[32m━━━━━━━━━━━━━━━━━━━━\u001b[0m\u001b[37m\u001b[0m \u001b[1m43s\u001b[0m 4ms/step - loss: 7307.1113 - mean_absolute_error: 63.5947 - mean_absolute_percentage_error: 52282632.0000 - val_loss: 7279.7676 - val_mean_absolute_error: 63.2448 - val_mean_absolute_percentage_error: 69351488.0000\n",
            "Epoch 92/100\n",
            "\u001b[1m8432/8432\u001b[0m \u001b[32m━━━━━━━━━━━━━━━━━━━━\u001b[0m\u001b[37m\u001b[0m \u001b[1m30s\u001b[0m 4ms/step - loss: 7327.1670 - mean_absolute_error: 63.5847 - mean_absolute_percentage_error: 63101856.0000 - val_loss: 7417.1895 - val_mean_absolute_error: 63.3385 - val_mean_absolute_percentage_error: 65621976.0000\n",
            "Epoch 93/100\n",
            "\u001b[1m8432/8432\u001b[0m \u001b[32m━━━━━━━━━━━━━━━━━━━━\u001b[0m\u001b[37m\u001b[0m \u001b[1m34s\u001b[0m 4ms/step - loss: 7339.3354 - mean_absolute_error: 63.5698 - mean_absolute_percentage_error: 64730292.0000 - val_loss: 7411.7109 - val_mean_absolute_error: 64.0471 - val_mean_absolute_percentage_error: 73279112.0000\n",
            "Epoch 94/100\n",
            "\u001b[1m8432/8432\u001b[0m \u001b[32m━━━━━━━━━━━━━━━━━━━━\u001b[0m\u001b[37m\u001b[0m \u001b[1m35s\u001b[0m 4ms/step - loss: 7325.2046 - mean_absolute_error: 63.4795 - mean_absolute_percentage_error: 55347760.0000 - val_loss: 7395.2603 - val_mean_absolute_error: 63.6463 - val_mean_absolute_percentage_error: 68979800.0000\n",
            "Epoch 95/100\n",
            "\u001b[1m8432/8432\u001b[0m \u001b[32m━━━━━━━━━━━━━━━━━━━━\u001b[0m\u001b[37m\u001b[0m \u001b[1m40s\u001b[0m 5ms/step - loss: 7303.5171 - mean_absolute_error: 63.4689 - mean_absolute_percentage_error: 56077744.0000 - val_loss: 7412.0361 - val_mean_absolute_error: 63.3947 - val_mean_absolute_percentage_error: 63647552.0000\n",
            "Epoch 96/100\n",
            "\u001b[1m8432/8432\u001b[0m \u001b[32m━━━━━━━━━━━━━━━━━━━━\u001b[0m\u001b[37m\u001b[0m \u001b[1m37s\u001b[0m 4ms/step - loss: 7244.9165 - mean_absolute_error: 63.1511 - mean_absolute_percentage_error: 59330320.0000 - val_loss: 7414.9448 - val_mean_absolute_error: 63.4549 - val_mean_absolute_percentage_error: 65252164.0000\n",
            "Epoch 97/100\n",
            "\u001b[1m8432/8432\u001b[0m \u001b[32m━━━━━━━━━━━━━━━━━━━━\u001b[0m\u001b[37m\u001b[0m \u001b[1m36s\u001b[0m 4ms/step - loss: 7263.2422 - mean_absolute_error: 63.2827 - mean_absolute_percentage_error: 60309020.0000 - val_loss: 7442.0811 - val_mean_absolute_error: 63.3595 - val_mean_absolute_percentage_error: 64526604.0000\n",
            "Epoch 98/100\n",
            "\u001b[1m8432/8432\u001b[0m \u001b[32m━━━━━━━━━━━━━━━━━━━━\u001b[0m\u001b[37m\u001b[0m \u001b[1m34s\u001b[0m 4ms/step - loss: 7231.8926 - mean_absolute_error: 63.2234 - mean_absolute_percentage_error: 47289760.0000 - val_loss: 7278.2021 - val_mean_absolute_error: 63.4306 - val_mean_absolute_percentage_error: 69092960.0000\n",
            "Epoch 99/100\n",
            "\u001b[1m8432/8432\u001b[0m \u001b[32m━━━━━━━━━━━━━━━━━━━━\u001b[0m\u001b[37m\u001b[0m \u001b[1m33s\u001b[0m 4ms/step - loss: 7226.0210 - mean_absolute_error: 63.1383 - mean_absolute_percentage_error: 71550000.0000 - val_loss: 7400.3784 - val_mean_absolute_error: 63.0711 - val_mean_absolute_percentage_error: 62255604.0000\n",
            "Epoch 100/100\n",
            "\u001b[1m8432/8432\u001b[0m \u001b[32m━━━━━━━━━━━━━━━━━━━━\u001b[0m\u001b[37m\u001b[0m \u001b[1m41s\u001b[0m 4ms/step - loss: 7181.6421 - mean_absolute_error: 62.9695 - mean_absolute_percentage_error: 63809088.0000 - val_loss: 7248.2202 - val_mean_absolute_error: 63.0364 - val_mean_absolute_percentage_error: 69395688.0000\n"
          ]
        }
      ],
      "source": [
        "result_s=model_sk.fit(xs_train_df,ys_train,epochs=100,validation_split=0.2,batch_size=32)"
      ]
    },
    {
      "cell_type": "code",
      "execution_count": null,
      "metadata": {
        "id": "TeLYJZcvYp3c"
      },
      "outputs": [],
      "source": [
        "result_s_df=pd.DataFrame(result_s.history)"
      ]
    },
    {
      "cell_type": "code",
      "execution_count": null,
      "metadata": {
        "colab": {
          "base_uri": "https://localhost:8080/",
          "height": 430
        },
        "id": "4jIgtm63YwuY",
        "outputId": "118bbcce-8d22-475c-e1cf-5ddca76423e5"
      },
      "outputs": [
        {
          "output_type": "display_data",
          "data": {
            "text/plain": [
              "<Figure size 640x480 with 1 Axes>"
            ],
            "image/png": "[encoded data removed]"
          },
          "metadata": {}
        }
      ],
      "source": [
        "plt.plot(range(1,101),result_s_df['loss'],label=\"train_loss\")\n",
        "plt.plot(range(1,101),result_s_df['val_loss'],label=\"val_loss\")\n",
        "plt.legend()\n",
        "plt.show()"
      ]
    },
    {
      "cell_type": "code",
      "execution_count": null,
      "metadata": {
        "colab": {
          "base_uri": "https://localhost:8080/"
        },
        "id": "_4_dl-avXp65",
        "outputId": "eb36810f-16d9-4780-e0b7-ac1aa5f568c7"
      },
      "outputs": [
        {
          "output_type": "stream",
          "name": "stdout",
          "text": [
            "\u001b[1m1/1\u001b[0m \u001b[32m━━━━━━━━━━━━━━━━━━━━\u001b[0m\u001b[37m\u001b[0m \u001b[1m0s\u001b[0m 114ms/step\n"
          ]
        },
        {
          "output_type": "execute_result",
          "data": {
            "text/plain": [
              "array([[26936474.]], dtype=float32)"
            ]
          },
          "metadata": {},
          "execution_count": 31
        }
      ],
      "source": [
        "model_sk.predict(te)"
      ]
    },
    {
      "cell_type": "code",
      "source": [
        "# from the above trained models, model4 have minimum loss and in ideal point"
      ],
      "metadata": {
        "id": "6QI6G7NRlnFK"
      },
      "execution_count": null,
      "outputs": []
    }
  ],
  "metadata": {
    "colab": {
      "provenance": []
    },
    "kernelspec": {
      "display_name": "Python 3",
      "name": "python3"
    },
    "language_info": {
      "name": "python"
    }
  },
  "nbformat": 4,
  "nbformat_minor": 0
}